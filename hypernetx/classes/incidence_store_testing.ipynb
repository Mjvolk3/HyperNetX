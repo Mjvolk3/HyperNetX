{
 "cells": [
  {
   "cell_type": "markdown",
   "id": "27fc8a9b",
   "metadata": {
    "toc": true
   },
   "source": [
    "<h1>Table of Contents<span class=\"tocSkip\"></span></h1>\n",
    "<div class=\"toc\"><ul class=\"toc-item\"><li><span><a href=\"#Notes\" data-toc-modified-id=\"Notes-1\"><span class=\"toc-item-num\">1&nbsp;&nbsp;</span>Notes</a></span></li></ul></div>"
   ]
  },
  {
   "cell_type": "markdown",
   "id": "3c67cfb1",
   "metadata": {},
   "source": [
    "# Notes\n",
    "\n",
    "going with regular dataframe for a few reasons:\n",
    "* Can have column names to rely on that instead of position.\n",
    "* using multi-indexing requires an additional row of \"data\" which is not needed.\n",
    "* Code is more interpretable.\n",
    "* it seems that it is more difficult to add new multi-indexes."
   ]
  },
  {
   "cell_type": "code",
   "execution_count": 1,
   "id": "6804bc42",
   "metadata": {},
   "outputs": [],
   "source": [
    "#!pytest incidence_store_tests.py"
   ]
  },
  {
   "cell_type": "code",
   "execution_count": 4,
   "id": "adb60be4",
   "metadata": {
    "code_folding": [
     15,
     21,
     30,
     43,
     49,
     62
    ]
   },
   "outputs": [
    {
     "name": "stdout",
     "output_type": "stream",
     "text": [
      "True\n",
      "True\n",
      "True\n",
      "True\n",
      "True\n",
      "True\n"
     ]
    }
   ],
   "source": [
    "import pandas as pd\n",
    "from incidence_store import IncidenceStore\n",
    "\n",
    "def test_iter():\n",
    "    # Test iteration over incidence pairs\n",
    "    data = pd.DataFrame({'nodes': [1, 2, 2, 3], 'edges': [1, 2, 3, 4]})\n",
    "    store = IncidenceStore(data)\n",
    "    expected_pairs = [(1, 1), (2, 2), (2, 3), (3, 4)]\n",
    "    actual_pairs = list(store)\n",
    "\n",
    "    print(len(actual_pairs) == len(expected_pairs))\n",
    "    for i in range(len(actual_pairs)):\n",
    "        print(actual_pairs[i] == expected_pairs[i])\n",
    "test_iter()\n",
    "\n",
    "def test_len():\n",
    "    # Test length of incidence store\n",
    "    data = pd.DataFrame({'nodes': [1, 2, 2, 3], 'edges': [1, 2, 3, 4]})\n",
    "    store = IncidenceStore(data)\n",
    "    print(len(store) == 4)  # Should match the number of unique pairs\n",
    "\n",
    "def test_contains():\n",
    "    # Test if incidence pair exists\n",
    "    data = pd.DataFrame({'nodes': [1, 2, 2, 3], 'edges': [1, 2, 3, 4]})\n",
    "    store = IncidenceStore(data)\n",
    "\n",
    "    assert (1, 1) in store\n",
    "    assert (2, 3) in store\n",
    "    assert (3, 5) not in store  # Non-existent pair\n",
    "\n",
    "def test_neighbors():\n",
    "    # Test getting elements or memberships based on level and key\n",
    "    data = pd.DataFrame({'nodes': [1, 2, 2, 3], 'edges': [1, 2, 3, 4]})\n",
    "    store = IncidenceStore(data)\n",
    "\n",
    "    assert store.neighbors(0, 1) == [1, 2]  # Nodes in edge 1\n",
    "    assert store.neighbors(1, 2) == [2, 3]  # Edges containing node 2\n",
    "    assert store.neighbors(0, 5) == []  # Non-existent edge\n",
    "    assert store.neighbors(2, 9) == []  # Non-existent node\n",
    "\n",
    "    with pytest.raises(ValueError):\n",
    "        store.neighbors(3, 1)  # Invalid level\n",
    "\n",
    "def test_edges():\n",
    "    # Test getting all edges\n",
    "    data = pd.DataFrame({'nodes': [1, 2, 2, 3], 'edges': [1, 2, 3, 4]})\n",
    "    store = IncidenceStore(data)\n",
    "    assert store.edges() == [1, 2, 3, 4]\n",
    "\n",
    "def test_nodes():\n",
    "    # Test getting all nodes\n",
    "    data = pd.DataFrame({'nodes': [1, 2, 2, 3], 'edges': [1, 2, 3, 4]})\n",
    "    store = IncidenceStore(data)\n",
    "    assert store.nodes() == [1, 2, 3]\n",
    "\n",
    "def test_dimensions():\n",
    "    # Test getting number of nodes and edges\n",
    "    data = pd.DataFrame({'nodes': [1, 2, 2, 3], 'edges': [1, 2, 3, 4]})\n",
    "    store = IncidenceStore(data)\n",
    "    print(store.dimensions() == (3, 4))  # (3 unique nodes, 4 unique edges)\n",
    "test_dimensions()\n",
    "\n",
    "def test_restrict_to():\n",
    "    # Test restricting to a subset based on level and items\n",
    "    data = pd.DataFrame({'nodes': [1, 2, 2, 3], 'edges': [1, 2, 3, 4]})\n",
    "    store = IncidenceStore(data)\n",
    "\n",
    "    # Inplace restriction\n",
    "    store.restrict_to(0, [1, 2], inplace=True)\n",
    "    assert store._data.equals(pd.DataFrame({'nodes': [1, 2], 'edges': [1, 2]}))\n",
    "    store = IncidenceStore(data)  # Recreate initial store\n",
    "\n",
    "    # Non-inplace restriction (returns new dataframe)\n",
    "    restricted_df = store.restrict_to(1, [2, 3], inplace=False)\n",
    "    assert not restricted_df.equals(store._data)  # Should be a new dataframe\n",
    "    assert restricted_df.equals(pd.DataFrame({'nodes': [2, 3], 'edges': [2, 3]}))\n",
    "\n",
    "    # Invalid level\n",
    "    with pytest.raises(ValueError):\n",
    "        store.restrict_to(3, [1])  # Invalid level should raise error\n",
    "\n",
    "    # Non-existent items\n",
    "    store = IncidenceStore(data)\n",
    "    restricted_df = store.restrict_to(0, [5], inplace=False)\n",
    "    assert restricted_df.empty  # Empty dataframe as no pairs with item 5\n"
   ]
  },
  {
   "cell_type": "code",
   "execution_count": null,
   "id": "c4b333b3",
   "metadata": {},
   "outputs": [],
   "source": []
  }
 ],
 "metadata": {
  "kernelspec": {
   "display_name": "Python 3 (ipykernel)",
   "language": "python",
   "name": "python3"
  },
  "language_info": {
   "codemirror_mode": {
    "name": "ipython",
    "version": 3
   },
   "file_extension": ".py",
   "mimetype": "text/x-python",
   "name": "python",
   "nbconvert_exporter": "python",
   "pygments_lexer": "ipython3",
   "version": "3.11.5"
  },
  "toc": {
   "base_numbering": 1,
   "nav_menu": {},
   "number_sections": true,
   "sideBar": false,
   "skip_h1_title": false,
   "title_cell": "Table of Contents",
   "title_sidebar": "Contents",
   "toc_cell": true,
   "toc_position": {},
   "toc_section_display": true,
   "toc_window_display": true
  },
  "varInspector": {
   "cols": {
    "lenName": 16,
    "lenType": 16,
    "lenVar": 40
   },
   "kernels_config": {
    "python": {
     "delete_cmd_postfix": "",
     "delete_cmd_prefix": "del ",
     "library": "var_list.py",
     "varRefreshCmd": "print(var_dic_list())"
    },
    "r": {
     "delete_cmd_postfix": ") ",
     "delete_cmd_prefix": "rm(",
     "library": "var_list.r",
     "varRefreshCmd": "cat(var_dic_list()) "
    }
   },
   "types_to_exclude": [
    "module",
    "function",
    "builtin_function_or_method",
    "instance",
    "_Feature"
   ],
   "window_display": false
  }
 },
 "nbformat": 4,
 "nbformat_minor": 5
}
