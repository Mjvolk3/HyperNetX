{
 "cells": [
  {
   "cell_type": "code",
   "execution_count": 17,
   "id": "4f19fd90-bf5b-4669-972b-ebc1c7c18cde",
   "metadata": {
    "ExecuteTime": {
     "end_time": "2024-02-28T20:29:37.789774Z",
     "start_time": "2024-02-28T20:29:37.768450Z"
    }
   },
   "outputs": [],
   "source": [
    "from property_store import PropertyStore\n",
    "import pandas as pd"
   ]
  },
  {
   "cell_type": "code",
   "execution_count": 18,
   "id": "b0c4f4b20bfd82a8",
   "metadata": {
    "ExecuteTime": {
     "end_time": "2024-02-28T20:29:37.802381Z",
     "start_time": "2024-02-28T20:29:37.792950Z"
    },
    "collapsed": false,
    "jupyter": {
     "outputs_hidden": false
    }
   },
   "outputs": [],
   "source": [
    "LEVEL = 'level'\n",
    "ID = 'id'\n",
    "UUID = 'uuid'\n",
    "WEIGHT = 'weight'\n",
    "PROPERTIES = 'misc_properties'\n",
    "PROPERTIES_COLUMNS = [WEIGHT, PROPERTIES]\n",
    "STRENGTH = 'strength'\n",
    "HAIR_COLOR = 'hair_color'\n",
    "INCIDENCES_PROPERTIES_COLUMNS = [WEIGHT, PROPERTIES, STRENGTH, HAIR_COLOR]\n"
   ]
  },
  {
   "cell_type": "code",
   "execution_count": 19,
   "id": "8c21366f6624756b",
   "metadata": {
    "ExecuteTime": {
     "end_time": "2024-02-28T20:29:37.809909Z",
     "start_time": "2024-02-28T20:29:37.804577Z"
    },
    "collapsed": false,
    "jupyter": {
     "outputs_hidden": false
    }
   },
   "outputs": [],
   "source": [
    "edges = ['I', 'L', 'O', 'P', 'R', 'S']\n",
    "\n",
    "nodes = ['A', 'C', 'E', 'K', 'T1', 'T2', 'V']\n",
    "\n",
    "incidences = [('I', 'K'), ('I', 'T2'), ('L', 'C'), ('L', 'E'), ('O', 'T1'), ('O', 'T2'), ('P', 'A'), ('P', 'C'), ('P', 'K'), ('R', 'A'), ('R', 'E'), ('S', 'A'), ('S', 'K'), ('S', 'T2'), ('S', 'V')]"
   ]
  },
  {
   "cell_type": "code",
   "execution_count": 20,
   "id": "73ac534aa8865bd8",
   "metadata": {
    "ExecuteTime": {
     "end_time": "2024-02-28T20:29:37.812280Z",
     "start_time": "2024-02-28T20:29:37.809544Z"
    },
    "collapsed": false,
    "jupyter": {
     "outputs_hidden": false
    }
   },
   "outputs": [],
   "source": [
    "ip_index = pd.MultiIndex.from_tuples(incidences, names=[LEVEL, ID])"
   ]
  },
  {
   "cell_type": "code",
   "execution_count": 21,
   "id": "7073a872bd5fcf69",
   "metadata": {
    "ExecuteTime": {
     "end_time": "2024-02-28T20:30:14.205237Z",
     "start_time": "2024-02-28T20:30:14.197870Z"
    },
    "collapsed": false,
    "jupyter": {
     "outputs_hidden": false
    }
   },
   "outputs": [],
   "source": [
    "# corresponding property store data\n",
    "# uid, weight, properties\n",
    "import uuid\n",
    "edges_data = [(1, {}) for i in edges]\n",
    "nodes_data = [(1, {}) for i in nodes]\n",
    "inc_data = [(1, {}, 42, 'red') for _ in range(len(ip_index))]"
   ]
  },
  {
   "cell_type": "code",
   "execution_count": 22,
   "id": "4d89507e27fb39e1",
   "metadata": {
    "ExecuteTime": {
     "end_time": "2024-02-28T20:32:45.430873Z",
     "start_time": "2024-02-28T20:32:45.426815Z"
    },
    "collapsed": false,
    "jupyter": {
     "outputs_hidden": false
    }
   },
   "outputs": [],
   "source": [
    "# columns should map corresponding fields to the data\n",
    "edges_index = pd.Index(edges, name=ID)\n",
    "edges_df = pd.DataFrame(data=edges_data, index=edges_index, columns=[WEIGHT, PROPERTIES])\n",
    "\n",
    "nodes_index = pd.Index(nodes, name=ID)\n",
    "nodes_df = pd.DataFrame(data=nodes_data, index=nodes_index, columns=PROPERTIES_COLUMNS)\n",
    "\n",
    "incidence_df = pd.DataFrame(data=inc_data, index=ip_index, columns=INCIDENCES_PROPERTIES_COLUMNS)"
   ]
  },
  {
   "cell_type": "code",
   "execution_count": 23,
   "id": "efa09bcdb6fbdba6",
   "metadata": {
    "ExecuteTime": {
     "end_time": "2024-02-28T20:32:45.973643Z",
     "start_time": "2024-02-28T20:32:45.970541Z"
    },
    "collapsed": false,
    "jupyter": {
     "outputs_hidden": false
    }
   },
   "outputs": [
    {
     "data": {
      "text/html": [
       "<div>\n",
       "<style scoped>\n",
       "    .dataframe tbody tr th:only-of-type {\n",
       "        vertical-align: middle;\n",
       "    }\n",
       "\n",
       "    .dataframe tbody tr th {\n",
       "        vertical-align: top;\n",
       "    }\n",
       "\n",
       "    .dataframe thead th {\n",
       "        text-align: right;\n",
       "    }\n",
       "</style>\n",
       "<table border=\"1\" class=\"dataframe\">\n",
       "  <thead>\n",
       "    <tr style=\"text-align: right;\">\n",
       "      <th></th>\n",
       "      <th>weight</th>\n",
       "      <th>misc_properties</th>\n",
       "    </tr>\n",
       "    <tr>\n",
       "      <th>id</th>\n",
       "      <th></th>\n",
       "      <th></th>\n",
       "    </tr>\n",
       "  </thead>\n",
       "  <tbody>\n",
       "    <tr>\n",
       "      <th>I</th>\n",
       "      <td>1</td>\n",
       "      <td>{}</td>\n",
       "    </tr>\n",
       "    <tr>\n",
       "      <th>L</th>\n",
       "      <td>1</td>\n",
       "      <td>{}</td>\n",
       "    </tr>\n",
       "    <tr>\n",
       "      <th>O</th>\n",
       "      <td>1</td>\n",
       "      <td>{}</td>\n",
       "    </tr>\n",
       "    <tr>\n",
       "      <th>P</th>\n",
       "      <td>1</td>\n",
       "      <td>{}</td>\n",
       "    </tr>\n",
       "    <tr>\n",
       "      <th>R</th>\n",
       "      <td>1</td>\n",
       "      <td>{}</td>\n",
       "    </tr>\n",
       "    <tr>\n",
       "      <th>S</th>\n",
       "      <td>1</td>\n",
       "      <td>{}</td>\n",
       "    </tr>\n",
       "  </tbody>\n",
       "</table>\n",
       "</div>"
      ],
      "text/plain": [
       "    weight misc_properties\n",
       "id                        \n",
       "I        1              {}\n",
       "L        1              {}\n",
       "O        1              {}\n",
       "P        1              {}\n",
       "R        1              {}\n",
       "S        1              {}"
      ]
     },
     "execution_count": 23,
     "metadata": {},
     "output_type": "execute_result"
    }
   ],
   "source": [
    "edges_df"
   ]
  },
  {
   "cell_type": "code",
   "execution_count": 24,
   "id": "3f74ad48d04d04ed",
   "metadata": {
    "ExecuteTime": {
     "end_time": "2024-02-28T20:32:59.735723Z",
     "start_time": "2024-02-28T20:32:59.725819Z"
    },
    "collapsed": false,
    "jupyter": {
     "outputs_hidden": false
    }
   },
   "outputs": [
    {
     "data": {
      "text/html": [
       "<div>\n",
       "<style scoped>\n",
       "    .dataframe tbody tr th:only-of-type {\n",
       "        vertical-align: middle;\n",
       "    }\n",
       "\n",
       "    .dataframe tbody tr th {\n",
       "        vertical-align: top;\n",
       "    }\n",
       "\n",
       "    .dataframe thead th {\n",
       "        text-align: right;\n",
       "    }\n",
       "</style>\n",
       "<table border=\"1\" class=\"dataframe\">\n",
       "  <thead>\n",
       "    <tr style=\"text-align: right;\">\n",
       "      <th></th>\n",
       "      <th>weight</th>\n",
       "      <th>misc_properties</th>\n",
       "    </tr>\n",
       "    <tr>\n",
       "      <th>id</th>\n",
       "      <th></th>\n",
       "      <th></th>\n",
       "    </tr>\n",
       "  </thead>\n",
       "  <tbody>\n",
       "    <tr>\n",
       "      <th>A</th>\n",
       "      <td>1</td>\n",
       "      <td>{}</td>\n",
       "    </tr>\n",
       "    <tr>\n",
       "      <th>C</th>\n",
       "      <td>1</td>\n",
       "      <td>{}</td>\n",
       "    </tr>\n",
       "    <tr>\n",
       "      <th>E</th>\n",
       "      <td>1</td>\n",
       "      <td>{}</td>\n",
       "    </tr>\n",
       "    <tr>\n",
       "      <th>K</th>\n",
       "      <td>1</td>\n",
       "      <td>{}</td>\n",
       "    </tr>\n",
       "    <tr>\n",
       "      <th>T1</th>\n",
       "      <td>1</td>\n",
       "      <td>{}</td>\n",
       "    </tr>\n",
       "    <tr>\n",
       "      <th>T2</th>\n",
       "      <td>1</td>\n",
       "      <td>{}</td>\n",
       "    </tr>\n",
       "    <tr>\n",
       "      <th>V</th>\n",
       "      <td>1</td>\n",
       "      <td>{}</td>\n",
       "    </tr>\n",
       "  </tbody>\n",
       "</table>\n",
       "</div>"
      ],
      "text/plain": [
       "    weight misc_properties\n",
       "id                        \n",
       "A        1              {}\n",
       "C        1              {}\n",
       "E        1              {}\n",
       "K        1              {}\n",
       "T1       1              {}\n",
       "T2       1              {}\n",
       "V        1              {}"
      ]
     },
     "execution_count": 24,
     "metadata": {},
     "output_type": "execute_result"
    }
   ],
   "source": [
    "nodes_df"
   ]
  },
  {
   "cell_type": "code",
   "execution_count": 25,
   "id": "89ce63565f417efe",
   "metadata": {
    "ExecuteTime": {
     "end_time": "2024-02-28T20:33:00.613165Z",
     "start_time": "2024-02-28T20:33:00.610691Z"
    },
    "collapsed": false,
    "jupyter": {
     "outputs_hidden": false
    }
   },
   "outputs": [
    {
     "data": {
      "text/html": [
       "<div>\n",
       "<style scoped>\n",
       "    .dataframe tbody tr th:only-of-type {\n",
       "        vertical-align: middle;\n",
       "    }\n",
       "\n",
       "    .dataframe tbody tr th {\n",
       "        vertical-align: top;\n",
       "    }\n",
       "\n",
       "    .dataframe thead th {\n",
       "        text-align: right;\n",
       "    }\n",
       "</style>\n",
       "<table border=\"1\" class=\"dataframe\">\n",
       "  <thead>\n",
       "    <tr style=\"text-align: right;\">\n",
       "      <th></th>\n",
       "      <th></th>\n",
       "      <th>weight</th>\n",
       "      <th>misc_properties</th>\n",
       "      <th>strength</th>\n",
       "      <th>hair_color</th>\n",
       "    </tr>\n",
       "    <tr>\n",
       "      <th>level</th>\n",
       "      <th>id</th>\n",
       "      <th></th>\n",
       "      <th></th>\n",
       "      <th></th>\n",
       "      <th></th>\n",
       "    </tr>\n",
       "  </thead>\n",
       "  <tbody>\n",
       "    <tr>\n",
       "      <th rowspan=\"2\" valign=\"top\">I</th>\n",
       "      <th>K</th>\n",
       "      <td>1</td>\n",
       "      <td>{}</td>\n",
       "      <td>42</td>\n",
       "      <td>red</td>\n",
       "    </tr>\n",
       "    <tr>\n",
       "      <th>T2</th>\n",
       "      <td>1</td>\n",
       "      <td>{}</td>\n",
       "      <td>42</td>\n",
       "      <td>red</td>\n",
       "    </tr>\n",
       "    <tr>\n",
       "      <th rowspan=\"2\" valign=\"top\">L</th>\n",
       "      <th>C</th>\n",
       "      <td>1</td>\n",
       "      <td>{}</td>\n",
       "      <td>42</td>\n",
       "      <td>red</td>\n",
       "    </tr>\n",
       "    <tr>\n",
       "      <th>E</th>\n",
       "      <td>1</td>\n",
       "      <td>{}</td>\n",
       "      <td>42</td>\n",
       "      <td>red</td>\n",
       "    </tr>\n",
       "    <tr>\n",
       "      <th rowspan=\"2\" valign=\"top\">O</th>\n",
       "      <th>T1</th>\n",
       "      <td>1</td>\n",
       "      <td>{}</td>\n",
       "      <td>42</td>\n",
       "      <td>red</td>\n",
       "    </tr>\n",
       "    <tr>\n",
       "      <th>T2</th>\n",
       "      <td>1</td>\n",
       "      <td>{}</td>\n",
       "      <td>42</td>\n",
       "      <td>red</td>\n",
       "    </tr>\n",
       "    <tr>\n",
       "      <th rowspan=\"3\" valign=\"top\">P</th>\n",
       "      <th>A</th>\n",
       "      <td>1</td>\n",
       "      <td>{}</td>\n",
       "      <td>42</td>\n",
       "      <td>red</td>\n",
       "    </tr>\n",
       "    <tr>\n",
       "      <th>C</th>\n",
       "      <td>1</td>\n",
       "      <td>{}</td>\n",
       "      <td>42</td>\n",
       "      <td>red</td>\n",
       "    </tr>\n",
       "    <tr>\n",
       "      <th>K</th>\n",
       "      <td>1</td>\n",
       "      <td>{}</td>\n",
       "      <td>42</td>\n",
       "      <td>red</td>\n",
       "    </tr>\n",
       "    <tr>\n",
       "      <th rowspan=\"2\" valign=\"top\">R</th>\n",
       "      <th>A</th>\n",
       "      <td>1</td>\n",
       "      <td>{}</td>\n",
       "      <td>42</td>\n",
       "      <td>red</td>\n",
       "    </tr>\n",
       "    <tr>\n",
       "      <th>E</th>\n",
       "      <td>1</td>\n",
       "      <td>{}</td>\n",
       "      <td>42</td>\n",
       "      <td>red</td>\n",
       "    </tr>\n",
       "    <tr>\n",
       "      <th rowspan=\"4\" valign=\"top\">S</th>\n",
       "      <th>A</th>\n",
       "      <td>1</td>\n",
       "      <td>{}</td>\n",
       "      <td>42</td>\n",
       "      <td>red</td>\n",
       "    </tr>\n",
       "    <tr>\n",
       "      <th>K</th>\n",
       "      <td>1</td>\n",
       "      <td>{}</td>\n",
       "      <td>42</td>\n",
       "      <td>red</td>\n",
       "    </tr>\n",
       "    <tr>\n",
       "      <th>T2</th>\n",
       "      <td>1</td>\n",
       "      <td>{}</td>\n",
       "      <td>42</td>\n",
       "      <td>red</td>\n",
       "    </tr>\n",
       "    <tr>\n",
       "      <th>V</th>\n",
       "      <td>1</td>\n",
       "      <td>{}</td>\n",
       "      <td>42</td>\n",
       "      <td>red</td>\n",
       "    </tr>\n",
       "  </tbody>\n",
       "</table>\n",
       "</div>"
      ],
      "text/plain": [
       "          weight misc_properties  strength hair_color\n",
       "level id                                             \n",
       "I     K        1              {}        42        red\n",
       "      T2       1              {}        42        red\n",
       "L     C        1              {}        42        red\n",
       "      E        1              {}        42        red\n",
       "O     T1       1              {}        42        red\n",
       "      T2       1              {}        42        red\n",
       "P     A        1              {}        42        red\n",
       "      C        1              {}        42        red\n",
       "      K        1              {}        42        red\n",
       "R     A        1              {}        42        red\n",
       "      E        1              {}        42        red\n",
       "S     A        1              {}        42        red\n",
       "      K        1              {}        42        red\n",
       "      T2       1              {}        42        red\n",
       "      V        1              {}        42        red"
      ]
     },
     "execution_count": 25,
     "metadata": {},
     "output_type": "execute_result"
    }
   ],
   "source": [
    "incidence_df"
   ]
  },
  {
   "cell_type": "code",
   "execution_count": 27,
   "id": "27feff2ba146a0e7",
   "metadata": {
    "ExecuteTime": {
     "start_time": "2024-02-28T20:29:37.869189Z"
    },
    "collapsed": false,
    "jupyter": {
     "outputs_hidden": false
    }
   },
   "outputs": [],
   "source": [
    "edges_ps = PropertyStore(edges_df)"
   ]
  },
  {
   "cell_type": "code",
   "execution_count": 28,
   "id": "a4f9648a93ef2f16",
   "metadata": {
    "ExecuteTime": {
     "start_time": "2024-02-28T20:29:37.870842Z"
    },
    "collapsed": false,
    "jupyter": {
     "outputs_hidden": false
    }
   },
   "outputs": [
    {
     "data": {
      "text/html": [
       "<div>\n",
       "<style scoped>\n",
       "    .dataframe tbody tr th:only-of-type {\n",
       "        vertical-align: middle;\n",
       "    }\n",
       "\n",
       "    .dataframe tbody tr th {\n",
       "        vertical-align: top;\n",
       "    }\n",
       "\n",
       "    .dataframe thead th {\n",
       "        text-align: right;\n",
       "    }\n",
       "</style>\n",
       "<table border=\"1\" class=\"dataframe\">\n",
       "  <thead>\n",
       "    <tr style=\"text-align: right;\">\n",
       "      <th></th>\n",
       "      <th>weight</th>\n",
       "      <th>misc_properties</th>\n",
       "    </tr>\n",
       "    <tr>\n",
       "      <th>id</th>\n",
       "      <th></th>\n",
       "      <th></th>\n",
       "    </tr>\n",
       "  </thead>\n",
       "  <tbody>\n",
       "    <tr>\n",
       "      <th>I</th>\n",
       "      <td>1</td>\n",
       "      <td>{}</td>\n",
       "    </tr>\n",
       "    <tr>\n",
       "      <th>L</th>\n",
       "      <td>1</td>\n",
       "      <td>{}</td>\n",
       "    </tr>\n",
       "    <tr>\n",
       "      <th>O</th>\n",
       "      <td>1</td>\n",
       "      <td>{}</td>\n",
       "    </tr>\n",
       "    <tr>\n",
       "      <th>P</th>\n",
       "      <td>1</td>\n",
       "      <td>{}</td>\n",
       "    </tr>\n",
       "    <tr>\n",
       "      <th>R</th>\n",
       "      <td>1</td>\n",
       "      <td>{}</td>\n",
       "    </tr>\n",
       "    <tr>\n",
       "      <th>S</th>\n",
       "      <td>1</td>\n",
       "      <td>{}</td>\n",
       "    </tr>\n",
       "  </tbody>\n",
       "</table>\n",
       "</div>"
      ],
      "text/plain": [
       "    weight misc_properties\n",
       "id                        \n",
       "I        1              {}\n",
       "L        1              {}\n",
       "O        1              {}\n",
       "P        1              {}\n",
       "R        1              {}\n",
       "S        1              {}"
      ]
     },
     "execution_count": 28,
     "metadata": {},
     "output_type": "execute_result"
    }
   ],
   "source": [
    "edges_ps.properties"
   ]
  },
  {
   "cell_type": "code",
   "execution_count": 30,
   "id": "a28414bb5852fcf5",
   "metadata": {
    "ExecuteTime": {
     "start_time": "2024-02-28T20:29:37.872571Z"
    },
    "collapsed": false,
    "jupyter": {
     "outputs_hidden": false
    }
   },
   "outputs": [
    {
     "data": {
      "text/plain": [
       "{'weight': 1, 'misc_properties': {}}"
      ]
     },
     "execution_count": 30,
     "metadata": {},
     "output_type": "execute_result"
    }
   ],
   "source": [
    "edges_ps.get_properties('R')"
   ]
  },
  {
   "cell_type": "code",
   "execution_count": 31,
   "id": "c3998036009d26a1",
   "metadata": {
    "ExecuteTime": {
     "start_time": "2024-02-28T20:29:37.874264Z"
    },
    "collapsed": false,
    "jupyter": {
     "outputs_hidden": false
    }
   },
   "outputs": [
    {
     "data": {
      "text/plain": [
       "1"
      ]
     },
     "execution_count": 31,
     "metadata": {},
     "output_type": "execute_result"
    }
   ],
   "source": [
    "edges_ps.get_property('R', 'weight')"
   ]
  },
  {
   "cell_type": "code",
   "execution_count": 33,
   "id": "8d95683893a3940",
   "metadata": {
    "ExecuteTime": {
     "start_time": "2024-02-28T20:29:37.875963Z"
    },
    "collapsed": false,
    "jupyter": {
     "outputs_hidden": false
    }
   },
   "outputs": [
    {
     "data": {
      "text/plain": [
       "42"
      ]
     },
     "execution_count": 33,
     "metadata": {},
     "output_type": "execute_result"
    }
   ],
   "source": [
    "edges_ps.set_property('R', 'weight', 42)\n",
    "edges_ps.get_property('R', 'weight')"
   ]
  },
  {
   "cell_type": "code",
   "execution_count": 34,
   "id": "947ef0930d92dab0",
   "metadata": {
    "ExecuteTime": {
     "start_time": "2024-02-28T20:29:37.877Z"
    },
    "collapsed": false,
    "jupyter": {
     "outputs_hidden": false
    }
   },
   "outputs": [
    {
     "data": {
      "text/html": [
       "<div>\n",
       "<style scoped>\n",
       "    .dataframe tbody tr th:only-of-type {\n",
       "        vertical-align: middle;\n",
       "    }\n",
       "\n",
       "    .dataframe tbody tr th {\n",
       "        vertical-align: top;\n",
       "    }\n",
       "\n",
       "    .dataframe thead th {\n",
       "        text-align: right;\n",
       "    }\n",
       "</style>\n",
       "<table border=\"1\" class=\"dataframe\">\n",
       "  <thead>\n",
       "    <tr style=\"text-align: right;\">\n",
       "      <th></th>\n",
       "      <th>weight</th>\n",
       "      <th>misc_properties</th>\n",
       "    </tr>\n",
       "    <tr>\n",
       "      <th>id</th>\n",
       "      <th></th>\n",
       "      <th></th>\n",
       "    </tr>\n",
       "  </thead>\n",
       "  <tbody>\n",
       "    <tr>\n",
       "      <th>I</th>\n",
       "      <td>1</td>\n",
       "      <td>{}</td>\n",
       "    </tr>\n",
       "    <tr>\n",
       "      <th>L</th>\n",
       "      <td>1</td>\n",
       "      <td>{}</td>\n",
       "    </tr>\n",
       "    <tr>\n",
       "      <th>O</th>\n",
       "      <td>1</td>\n",
       "      <td>{}</td>\n",
       "    </tr>\n",
       "    <tr>\n",
       "      <th>P</th>\n",
       "      <td>1</td>\n",
       "      <td>{}</td>\n",
       "    </tr>\n",
       "    <tr>\n",
       "      <th>R</th>\n",
       "      <td>42</td>\n",
       "      <td>{}</td>\n",
       "    </tr>\n",
       "    <tr>\n",
       "      <th>S</th>\n",
       "      <td>1</td>\n",
       "      <td>{}</td>\n",
       "    </tr>\n",
       "  </tbody>\n",
       "</table>\n",
       "</div>"
      ],
      "text/plain": [
       "    weight misc_properties\n",
       "id                        \n",
       "I        1              {}\n",
       "L        1              {}\n",
       "O        1              {}\n",
       "P        1              {}\n",
       "R       42              {}\n",
       "S        1              {}"
      ]
     },
     "execution_count": 34,
     "metadata": {},
     "output_type": "execute_result"
    }
   ],
   "source": [
    "edges_ps.properties"
   ]
  },
  {
   "cell_type": "code",
   "execution_count": 35,
   "id": "428824f774b5df6b",
   "metadata": {
    "ExecuteTime": {
     "start_time": "2024-02-28T20:29:37.877969Z"
    },
    "collapsed": false,
    "jupyter": {
     "outputs_hidden": false
    }
   },
   "outputs": [
    {
     "data": {
      "text/plain": [
       "6"
      ]
     },
     "execution_count": 35,
     "metadata": {},
     "output_type": "execute_result"
    }
   ],
   "source": [
    "len(edges_ps)"
   ]
  },
  {
   "cell_type": "code",
   "execution_count": 36,
   "id": "2109d60d87d65a9e",
   "metadata": {
    "ExecuteTime": {
     "start_time": "2024-02-28T20:29:37.878860Z"
    },
    "collapsed": false,
    "jupyter": {
     "outputs_hidden": false
    }
   },
   "outputs": [
    {
     "data": {
      "text/plain": [
       "{'weight': 42, 'misc_properties': {}}"
      ]
     },
     "execution_count": 36,
     "metadata": {},
     "output_type": "execute_result"
    }
   ],
   "source": [
    "edges_ps['R']"
   ]
  },
  {
   "cell_type": "code",
   "execution_count": 37,
   "id": "f5bb9e8b27e513bd",
   "metadata": {
    "ExecuteTime": {
     "start_time": "2024-02-28T20:29:37.879796Z"
    },
    "collapsed": false,
    "jupyter": {
     "outputs_hidden": false
    }
   },
   "outputs": [
    {
     "data": {
      "text/plain": [
       "{'weight': 42, 'misc_properties': {}}"
      ]
     },
     "execution_count": 37,
     "metadata": {},
     "output_type": "execute_result"
    }
   ],
   "source": [
    "edges_ps.get_properties('R')"
   ]
  },
  {
   "cell_type": "code",
   "execution_count": 38,
   "id": "62ff0373c1ad71b7",
   "metadata": {
    "ExecuteTime": {
     "start_time": "2024-02-28T20:29:37.880725Z"
    },
    "collapsed": false,
    "jupyter": {
     "outputs_hidden": false
    }
   },
   "outputs": [
    {
     "data": {
      "text/plain": [
       "True"
      ]
     },
     "execution_count": 38,
     "metadata": {},
     "output_type": "execute_result"
    }
   ],
   "source": [
    "'R' in edges_ps\n"
   ]
  },
  {
   "cell_type": "code",
   "execution_count": 39,
   "id": "214a822a5d456a9d",
   "metadata": {
    "ExecuteTime": {
     "end_time": "2024-02-28T20:29:37.884044Z",
     "start_time": "2024-02-28T20:29:37.881779Z"
    },
    "collapsed": false,
    "jupyter": {
     "outputs_hidden": false
    }
   },
   "outputs": [
    {
     "data": {
      "text/plain": [
       "False"
      ]
     },
     "execution_count": 39,
     "metadata": {},
     "output_type": "execute_result"
    }
   ],
   "source": [
    "'NEMO' in edges_ps"
   ]
  },
  {
   "cell_type": "code",
   "execution_count": 40,
   "id": "f6af320922fd4226",
   "metadata": {
    "ExecuteTime": {
     "start_time": "2024-02-28T20:29:37.882699Z"
    },
    "collapsed": false,
    "jupyter": {
     "outputs_hidden": false
    }
   },
   "outputs": [
    {
     "name": "stdout",
     "output_type": "stream",
     "text": [
      "I\n",
      "L\n",
      "O\n",
      "P\n",
      "R\n",
      "S\n"
     ]
    }
   ],
   "source": [
    "for uid_property in edges_ps:\n",
    "    print(uid_property)"
   ]
  },
  {
   "cell_type": "code",
   "execution_count": 41,
   "id": "5d5124e2ffcb9c42",
   "metadata": {
    "ExecuteTime": {
     "start_time": "2024-02-28T20:29:37.883728Z"
    },
    "collapsed": false,
    "jupyter": {
     "outputs_hidden": false
    }
   },
   "outputs": [
    {
     "data": {
      "text/plain": [
       "Index(['I', 'L', 'O', 'P', 'R', 'S'], dtype='object', name='id')"
      ]
     },
     "execution_count": 41,
     "metadata": {},
     "output_type": "execute_result"
    }
   ],
   "source": [
    "edges_ps.properties.index"
   ]
  },
  {
   "cell_type": "code",
   "execution_count": 50,
   "id": "4a7c2bbe59a618ba",
   "metadata": {
    "ExecuteTime": {
     "start_time": "2024-02-28T20:29:37.884754Z"
    },
    "collapsed": false,
    "jupyter": {
     "outputs_hidden": false
    }
   },
   "outputs": [
    {
     "data": {
      "text/html": [
       "<div>\n",
       "<style scoped>\n",
       "    .dataframe tbody tr th:only-of-type {\n",
       "        vertical-align: middle;\n",
       "    }\n",
       "\n",
       "    .dataframe tbody tr th {\n",
       "        vertical-align: top;\n",
       "    }\n",
       "\n",
       "    .dataframe thead th {\n",
       "        text-align: right;\n",
       "    }\n",
       "</style>\n",
       "<table border=\"1\" class=\"dataframe\">\n",
       "  <thead>\n",
       "    <tr style=\"text-align: right;\">\n",
       "      <th></th>\n",
       "      <th></th>\n",
       "      <th>weight</th>\n",
       "      <th>misc_properties</th>\n",
       "      <th>strength</th>\n",
       "      <th>hair_color</th>\n",
       "    </tr>\n",
       "    <tr>\n",
       "      <th>level</th>\n",
       "      <th>id</th>\n",
       "      <th></th>\n",
       "      <th></th>\n",
       "      <th></th>\n",
       "      <th></th>\n",
       "    </tr>\n",
       "  </thead>\n",
       "  <tbody>\n",
       "    <tr>\n",
       "      <th rowspan=\"2\" valign=\"top\">I</th>\n",
       "      <th>K</th>\n",
       "      <td>1</td>\n",
       "      <td>{}</td>\n",
       "      <td>42</td>\n",
       "      <td>red</td>\n",
       "    </tr>\n",
       "    <tr>\n",
       "      <th>T2</th>\n",
       "      <td>1</td>\n",
       "      <td>{}</td>\n",
       "      <td>42</td>\n",
       "      <td>red</td>\n",
       "    </tr>\n",
       "    <tr>\n",
       "      <th rowspan=\"2\" valign=\"top\">L</th>\n",
       "      <th>C</th>\n",
       "      <td>1</td>\n",
       "      <td>{}</td>\n",
       "      <td>42</td>\n",
       "      <td>red</td>\n",
       "    </tr>\n",
       "    <tr>\n",
       "      <th>E</th>\n",
       "      <td>1</td>\n",
       "      <td>{}</td>\n",
       "      <td>42</td>\n",
       "      <td>red</td>\n",
       "    </tr>\n",
       "    <tr>\n",
       "      <th rowspan=\"2\" valign=\"top\">O</th>\n",
       "      <th>T1</th>\n",
       "      <td>1</td>\n",
       "      <td>{}</td>\n",
       "      <td>42</td>\n",
       "      <td>red</td>\n",
       "    </tr>\n",
       "    <tr>\n",
       "      <th>T2</th>\n",
       "      <td>1</td>\n",
       "      <td>{}</td>\n",
       "      <td>42</td>\n",
       "      <td>red</td>\n",
       "    </tr>\n",
       "    <tr>\n",
       "      <th rowspan=\"3\" valign=\"top\">P</th>\n",
       "      <th>A</th>\n",
       "      <td>1</td>\n",
       "      <td>{}</td>\n",
       "      <td>42</td>\n",
       "      <td>red</td>\n",
       "    </tr>\n",
       "    <tr>\n",
       "      <th>C</th>\n",
       "      <td>1</td>\n",
       "      <td>{}</td>\n",
       "      <td>42</td>\n",
       "      <td>red</td>\n",
       "    </tr>\n",
       "    <tr>\n",
       "      <th>K</th>\n",
       "      <td>1</td>\n",
       "      <td>{}</td>\n",
       "      <td>42</td>\n",
       "      <td>red</td>\n",
       "    </tr>\n",
       "    <tr>\n",
       "      <th rowspan=\"2\" valign=\"top\">R</th>\n",
       "      <th>A</th>\n",
       "      <td>1</td>\n",
       "      <td>{}</td>\n",
       "      <td>42</td>\n",
       "      <td>red</td>\n",
       "    </tr>\n",
       "    <tr>\n",
       "      <th>E</th>\n",
       "      <td>1</td>\n",
       "      <td>{}</td>\n",
       "      <td>42</td>\n",
       "      <td>red</td>\n",
       "    </tr>\n",
       "    <tr>\n",
       "      <th rowspan=\"4\" valign=\"top\">S</th>\n",
       "      <th>A</th>\n",
       "      <td>1</td>\n",
       "      <td>{}</td>\n",
       "      <td>42</td>\n",
       "      <td>red</td>\n",
       "    </tr>\n",
       "    <tr>\n",
       "      <th>K</th>\n",
       "      <td>1</td>\n",
       "      <td>{}</td>\n",
       "      <td>42</td>\n",
       "      <td>red</td>\n",
       "    </tr>\n",
       "    <tr>\n",
       "      <th>T2</th>\n",
       "      <td>1</td>\n",
       "      <td>{}</td>\n",
       "      <td>42</td>\n",
       "      <td>red</td>\n",
       "    </tr>\n",
       "    <tr>\n",
       "      <th>V</th>\n",
       "      <td>1</td>\n",
       "      <td>{}</td>\n",
       "      <td>42</td>\n",
       "      <td>red</td>\n",
       "    </tr>\n",
       "  </tbody>\n",
       "</table>\n",
       "</div>"
      ],
      "text/plain": [
       "          weight misc_properties  strength hair_color\n",
       "level id                                             \n",
       "I     K        1              {}        42        red\n",
       "      T2       1              {}        42        red\n",
       "L     C        1              {}        42        red\n",
       "      E        1              {}        42        red\n",
       "O     T1       1              {}        42        red\n",
       "      T2       1              {}        42        red\n",
       "P     A        1              {}        42        red\n",
       "      C        1              {}        42        red\n",
       "      K        1              {}        42        red\n",
       "R     A        1              {}        42        red\n",
       "      E        1              {}        42        red\n",
       "S     A        1              {}        42        red\n",
       "      K        1              {}        42        red\n",
       "      T2       1              {}        42        red\n",
       "      V        1              {}        42        red"
      ]
     },
     "execution_count": 50,
     "metadata": {},
     "output_type": "execute_result"
    }
   ],
   "source": [
    "incidence_df"
   ]
  },
  {
   "cell_type": "code",
   "execution_count": 51,
   "id": "a048092e4b628b1c",
   "metadata": {
    "ExecuteTime": {
     "start_time": "2024-02-28T20:29:37.885819Z"
    },
    "collapsed": false,
    "jupyter": {
     "outputs_hidden": false
    }
   },
   "outputs": [],
   "source": [
    "inc_ps = PropertyStore(incidence_df)"
   ]
  },
  {
   "cell_type": "code",
   "execution_count": 52,
   "id": "d94d9e5664364c0c",
   "metadata": {
    "ExecuteTime": {
     "end_time": "2024-02-28T20:29:37.893855Z",
     "start_time": "2024-02-28T20:29:37.886831Z"
    },
    "collapsed": false,
    "jupyter": {
     "outputs_hidden": false
    }
   },
   "outputs": [
    {
     "data": {
      "text/html": [
       "<div>\n",
       "<style scoped>\n",
       "    .dataframe tbody tr th:only-of-type {\n",
       "        vertical-align: middle;\n",
       "    }\n",
       "\n",
       "    .dataframe tbody tr th {\n",
       "        vertical-align: top;\n",
       "    }\n",
       "\n",
       "    .dataframe thead th {\n",
       "        text-align: right;\n",
       "    }\n",
       "</style>\n",
       "<table border=\"1\" class=\"dataframe\">\n",
       "  <thead>\n",
       "    <tr style=\"text-align: right;\">\n",
       "      <th></th>\n",
       "      <th></th>\n",
       "      <th>weight</th>\n",
       "      <th>misc_properties</th>\n",
       "      <th>strength</th>\n",
       "      <th>hair_color</th>\n",
       "    </tr>\n",
       "    <tr>\n",
       "      <th>level</th>\n",
       "      <th>id</th>\n",
       "      <th></th>\n",
       "      <th></th>\n",
       "      <th></th>\n",
       "      <th></th>\n",
       "    </tr>\n",
       "  </thead>\n",
       "  <tbody>\n",
       "    <tr>\n",
       "      <th rowspan=\"2\" valign=\"top\">I</th>\n",
       "      <th>K</th>\n",
       "      <td>1</td>\n",
       "      <td>{}</td>\n",
       "      <td>42</td>\n",
       "      <td>red</td>\n",
       "    </tr>\n",
       "    <tr>\n",
       "      <th>T2</th>\n",
       "      <td>1</td>\n",
       "      <td>{}</td>\n",
       "      <td>42</td>\n",
       "      <td>red</td>\n",
       "    </tr>\n",
       "    <tr>\n",
       "      <th rowspan=\"2\" valign=\"top\">L</th>\n",
       "      <th>C</th>\n",
       "      <td>1</td>\n",
       "      <td>{}</td>\n",
       "      <td>42</td>\n",
       "      <td>red</td>\n",
       "    </tr>\n",
       "    <tr>\n",
       "      <th>E</th>\n",
       "      <td>1</td>\n",
       "      <td>{}</td>\n",
       "      <td>42</td>\n",
       "      <td>red</td>\n",
       "    </tr>\n",
       "    <tr>\n",
       "      <th rowspan=\"2\" valign=\"top\">O</th>\n",
       "      <th>T1</th>\n",
       "      <td>1</td>\n",
       "      <td>{}</td>\n",
       "      <td>42</td>\n",
       "      <td>red</td>\n",
       "    </tr>\n",
       "    <tr>\n",
       "      <th>T2</th>\n",
       "      <td>1</td>\n",
       "      <td>{}</td>\n",
       "      <td>42</td>\n",
       "      <td>red</td>\n",
       "    </tr>\n",
       "    <tr>\n",
       "      <th rowspan=\"3\" valign=\"top\">P</th>\n",
       "      <th>A</th>\n",
       "      <td>1</td>\n",
       "      <td>{}</td>\n",
       "      <td>42</td>\n",
       "      <td>red</td>\n",
       "    </tr>\n",
       "    <tr>\n",
       "      <th>C</th>\n",
       "      <td>1</td>\n",
       "      <td>{}</td>\n",
       "      <td>42</td>\n",
       "      <td>red</td>\n",
       "    </tr>\n",
       "    <tr>\n",
       "      <th>K</th>\n",
       "      <td>1</td>\n",
       "      <td>{}</td>\n",
       "      <td>42</td>\n",
       "      <td>red</td>\n",
       "    </tr>\n",
       "    <tr>\n",
       "      <th rowspan=\"2\" valign=\"top\">R</th>\n",
       "      <th>A</th>\n",
       "      <td>1</td>\n",
       "      <td>{}</td>\n",
       "      <td>42</td>\n",
       "      <td>red</td>\n",
       "    </tr>\n",
       "    <tr>\n",
       "      <th>E</th>\n",
       "      <td>1</td>\n",
       "      <td>{}</td>\n",
       "      <td>42</td>\n",
       "      <td>red</td>\n",
       "    </tr>\n",
       "    <tr>\n",
       "      <th rowspan=\"4\" valign=\"top\">S</th>\n",
       "      <th>A</th>\n",
       "      <td>1</td>\n",
       "      <td>{}</td>\n",
       "      <td>42</td>\n",
       "      <td>red</td>\n",
       "    </tr>\n",
       "    <tr>\n",
       "      <th>K</th>\n",
       "      <td>1</td>\n",
       "      <td>{}</td>\n",
       "      <td>42</td>\n",
       "      <td>red</td>\n",
       "    </tr>\n",
       "    <tr>\n",
       "      <th>T2</th>\n",
       "      <td>1</td>\n",
       "      <td>{}</td>\n",
       "      <td>42</td>\n",
       "      <td>red</td>\n",
       "    </tr>\n",
       "    <tr>\n",
       "      <th>V</th>\n",
       "      <td>1</td>\n",
       "      <td>{}</td>\n",
       "      <td>42</td>\n",
       "      <td>red</td>\n",
       "    </tr>\n",
       "  </tbody>\n",
       "</table>\n",
       "</div>"
      ],
      "text/plain": [
       "          weight misc_properties  strength hair_color\n",
       "level id                                             \n",
       "I     K        1              {}        42        red\n",
       "      T2       1              {}        42        red\n",
       "L     C        1              {}        42        red\n",
       "      E        1              {}        42        red\n",
       "O     T1       1              {}        42        red\n",
       "      T2       1              {}        42        red\n",
       "P     A        1              {}        42        red\n",
       "      C        1              {}        42        red\n",
       "      K        1              {}        42        red\n",
       "R     A        1              {}        42        red\n",
       "      E        1              {}        42        red\n",
       "S     A        1              {}        42        red\n",
       "      K        1              {}        42        red\n",
       "      T2       1              {}        42        red\n",
       "      V        1              {}        42        red"
      ]
     },
     "execution_count": 52,
     "metadata": {},
     "output_type": "execute_result"
    }
   ],
   "source": [
    "inc_ps.properties"
   ]
  },
  {
   "cell_type": "code",
   "execution_count": 55,
   "id": "2c04bc5b7745ed6",
   "metadata": {
    "ExecuteTime": {
     "start_time": "2024-02-28T20:29:37.887853Z"
    },
    "collapsed": false,
    "jupyter": {
     "outputs_hidden": false
    }
   },
   "outputs": [
    {
     "data": {
      "text/plain": [
       "{'weight': 1, 'misc_properties': {}, 'strength': 42, 'hair_color': 'red'}"
      ]
     },
     "execution_count": 55,
     "metadata": {},
     "output_type": "execute_result"
    }
   ],
   "source": [
    "inc_ps.get_properties(('L', 'C'))"
   ]
  },
  {
   "cell_type": "code",
   "execution_count": 56,
   "id": "6ecfec1df0bc900c",
   "metadata": {
    "ExecuteTime": {
     "start_time": "2024-02-28T20:29:37.888906Z"
    },
    "collapsed": false,
    "jupyter": {
     "outputs_hidden": false
    }
   },
   "outputs": [
    {
     "data": {
      "text/plain": [
       "'red'"
      ]
     },
     "execution_count": 56,
     "metadata": {},
     "output_type": "execute_result"
    }
   ],
   "source": [
    "inc_ps.get_property(('L', 'C'), 'hair_color')"
   ]
  },
  {
   "cell_type": "code",
   "execution_count": 57,
   "id": "ae093f997d2818ec",
   "metadata": {
    "ExecuteTime": {
     "start_time": "2024-02-28T20:29:37.889854Z"
    },
    "collapsed": false,
    "jupyter": {
     "outputs_hidden": false
    }
   },
   "outputs": [
    {
     "data": {
      "text/plain": [
       "'green'"
      ]
     },
     "execution_count": 57,
     "metadata": {},
     "output_type": "execute_result"
    }
   ],
   "source": [
    "inc_ps.set_property(('L', 'C'), 'hair_color', 'green')\n",
    "inc_ps.get_property(('L', 'C'), 'hair_color')"
   ]
  },
  {
   "cell_type": "code",
   "execution_count": 58,
   "id": "e97f3c0b1cc74cf5",
   "metadata": {
    "ExecuteTime": {
     "start_time": "2024-02-28T20:29:37.890963Z"
    },
    "collapsed": false,
    "jupyter": {
     "outputs_hidden": false
    }
   },
   "outputs": [
    {
     "data": {
      "text/html": [
       "<div>\n",
       "<style scoped>\n",
       "    .dataframe tbody tr th:only-of-type {\n",
       "        vertical-align: middle;\n",
       "    }\n",
       "\n",
       "    .dataframe tbody tr th {\n",
       "        vertical-align: top;\n",
       "    }\n",
       "\n",
       "    .dataframe thead th {\n",
       "        text-align: right;\n",
       "    }\n",
       "</style>\n",
       "<table border=\"1\" class=\"dataframe\">\n",
       "  <thead>\n",
       "    <tr style=\"text-align: right;\">\n",
       "      <th></th>\n",
       "      <th></th>\n",
       "      <th>weight</th>\n",
       "      <th>misc_properties</th>\n",
       "      <th>strength</th>\n",
       "      <th>hair_color</th>\n",
       "    </tr>\n",
       "    <tr>\n",
       "      <th>level</th>\n",
       "      <th>id</th>\n",
       "      <th></th>\n",
       "      <th></th>\n",
       "      <th></th>\n",
       "      <th></th>\n",
       "    </tr>\n",
       "  </thead>\n",
       "  <tbody>\n",
       "    <tr>\n",
       "      <th rowspan=\"2\" valign=\"top\">I</th>\n",
       "      <th>K</th>\n",
       "      <td>1</td>\n",
       "      <td>{}</td>\n",
       "      <td>42</td>\n",
       "      <td>red</td>\n",
       "    </tr>\n",
       "    <tr>\n",
       "      <th>T2</th>\n",
       "      <td>1</td>\n",
       "      <td>{}</td>\n",
       "      <td>42</td>\n",
       "      <td>red</td>\n",
       "    </tr>\n",
       "    <tr>\n",
       "      <th rowspan=\"2\" valign=\"top\">L</th>\n",
       "      <th>C</th>\n",
       "      <td>1</td>\n",
       "      <td>{}</td>\n",
       "      <td>42</td>\n",
       "      <td>green</td>\n",
       "    </tr>\n",
       "    <tr>\n",
       "      <th>E</th>\n",
       "      <td>1</td>\n",
       "      <td>{}</td>\n",
       "      <td>42</td>\n",
       "      <td>red</td>\n",
       "    </tr>\n",
       "    <tr>\n",
       "      <th rowspan=\"2\" valign=\"top\">O</th>\n",
       "      <th>T1</th>\n",
       "      <td>1</td>\n",
       "      <td>{}</td>\n",
       "      <td>42</td>\n",
       "      <td>red</td>\n",
       "    </tr>\n",
       "    <tr>\n",
       "      <th>T2</th>\n",
       "      <td>1</td>\n",
       "      <td>{}</td>\n",
       "      <td>42</td>\n",
       "      <td>red</td>\n",
       "    </tr>\n",
       "    <tr>\n",
       "      <th rowspan=\"3\" valign=\"top\">P</th>\n",
       "      <th>A</th>\n",
       "      <td>1</td>\n",
       "      <td>{}</td>\n",
       "      <td>42</td>\n",
       "      <td>red</td>\n",
       "    </tr>\n",
       "    <tr>\n",
       "      <th>C</th>\n",
       "      <td>1</td>\n",
       "      <td>{}</td>\n",
       "      <td>42</td>\n",
       "      <td>red</td>\n",
       "    </tr>\n",
       "    <tr>\n",
       "      <th>K</th>\n",
       "      <td>1</td>\n",
       "      <td>{}</td>\n",
       "      <td>42</td>\n",
       "      <td>red</td>\n",
       "    </tr>\n",
       "    <tr>\n",
       "      <th rowspan=\"2\" valign=\"top\">R</th>\n",
       "      <th>A</th>\n",
       "      <td>1</td>\n",
       "      <td>{}</td>\n",
       "      <td>42</td>\n",
       "      <td>red</td>\n",
       "    </tr>\n",
       "    <tr>\n",
       "      <th>E</th>\n",
       "      <td>1</td>\n",
       "      <td>{}</td>\n",
       "      <td>42</td>\n",
       "      <td>red</td>\n",
       "    </tr>\n",
       "    <tr>\n",
       "      <th rowspan=\"4\" valign=\"top\">S</th>\n",
       "      <th>A</th>\n",
       "      <td>1</td>\n",
       "      <td>{}</td>\n",
       "      <td>42</td>\n",
       "      <td>red</td>\n",
       "    </tr>\n",
       "    <tr>\n",
       "      <th>K</th>\n",
       "      <td>1</td>\n",
       "      <td>{}</td>\n",
       "      <td>42</td>\n",
       "      <td>red</td>\n",
       "    </tr>\n",
       "    <tr>\n",
       "      <th>T2</th>\n",
       "      <td>1</td>\n",
       "      <td>{}</td>\n",
       "      <td>42</td>\n",
       "      <td>red</td>\n",
       "    </tr>\n",
       "    <tr>\n",
       "      <th>V</th>\n",
       "      <td>1</td>\n",
       "      <td>{}</td>\n",
       "      <td>42</td>\n",
       "      <td>red</td>\n",
       "    </tr>\n",
       "  </tbody>\n",
       "</table>\n",
       "</div>"
      ],
      "text/plain": [
       "          weight misc_properties  strength hair_color\n",
       "level id                                             \n",
       "I     K        1              {}        42        red\n",
       "      T2       1              {}        42        red\n",
       "L     C        1              {}        42      green\n",
       "      E        1              {}        42        red\n",
       "O     T1       1              {}        42        red\n",
       "      T2       1              {}        42        red\n",
       "P     A        1              {}        42        red\n",
       "      C        1              {}        42        red\n",
       "      K        1              {}        42        red\n",
       "R     A        1              {}        42        red\n",
       "      E        1              {}        42        red\n",
       "S     A        1              {}        42        red\n",
       "      K        1              {}        42        red\n",
       "      T2       1              {}        42        red\n",
       "      V        1              {}        42        red"
      ]
     },
     "execution_count": 58,
     "metadata": {},
     "output_type": "execute_result"
    }
   ],
   "source": [
    "inc_ps.properties"
   ]
  },
  {
   "cell_type": "code",
   "execution_count": 59,
   "id": "46be788a07e18776",
   "metadata": {
    "ExecuteTime": {
     "start_time": "2024-02-28T20:29:37.892164Z"
    },
    "collapsed": false,
    "jupyter": {
     "outputs_hidden": false
    }
   },
   "outputs": [
    {
     "data": {
      "text/plain": [
       "15"
      ]
     },
     "execution_count": 59,
     "metadata": {},
     "output_type": "execute_result"
    }
   ],
   "source": [
    "len(inc_ps)"
   ]
  },
  {
   "cell_type": "code",
   "execution_count": 60,
   "id": "aabe6182c6f74b94",
   "metadata": {
    "ExecuteTime": {
     "start_time": "2024-02-28T20:29:37.893048Z"
    },
    "collapsed": false,
    "jupyter": {
     "outputs_hidden": false
    }
   },
   "outputs": [
    {
     "data": {
      "text/plain": [
       "{'weight': 1, 'misc_properties': {}, 'strength': 42, 'hair_color': 'green'}"
      ]
     },
     "execution_count": 60,
     "metadata": {},
     "output_type": "execute_result"
    }
   ],
   "source": [
    "inc_ps[('L', 'C')]"
   ]
  },
  {
   "cell_type": "code",
   "execution_count": 61,
   "id": "58ee1c61f5180d25",
   "metadata": {
    "ExecuteTime": {
     "end_time": "2024-02-28T20:29:37.894422Z",
     "start_time": "2024-02-28T20:29:37.893896Z"
    },
    "collapsed": false,
    "jupyter": {
     "outputs_hidden": false
    }
   },
   "outputs": [
    {
     "data": {
      "text/plain": [
       "{'weight': 1, 'misc_properties': {}, 'strength': 42, 'hair_color': 'green'}"
      ]
     },
     "execution_count": 61,
     "metadata": {},
     "output_type": "execute_result"
    }
   ],
   "source": [
    "inc_ps.get_properties(('L', 'C'))"
   ]
  },
  {
   "cell_type": "code",
   "execution_count": 62,
   "id": "c23420ac85d15fe0",
   "metadata": {
    "ExecuteTime": {
     "end_time": "2024-02-28T20:29:37.913284Z",
     "start_time": "2024-02-28T20:29:37.894743Z"
    },
    "collapsed": false,
    "jupyter": {
     "outputs_hidden": false
    }
   },
   "outputs": [
    {
     "data": {
      "text/plain": [
       "True"
      ]
     },
     "execution_count": 62,
     "metadata": {},
     "output_type": "execute_result"
    }
   ],
   "source": [
    "('L', 'C') in inc_ps"
   ]
  },
  {
   "cell_type": "code",
   "execution_count": 63,
   "id": "7a1f14c1620e2809",
   "metadata": {
    "ExecuteTime": {
     "end_time": "2024-02-28T20:29:37.934281Z",
     "start_time": "2024-02-28T20:29:37.909403Z"
    },
    "collapsed": false,
    "jupyter": {
     "outputs_hidden": false
    }
   },
   "outputs": [
    {
     "data": {
      "text/plain": [
       "False"
      ]
     },
     "execution_count": 63,
     "metadata": {},
     "output_type": "execute_result"
    }
   ],
   "source": [
    "('NE', 'MO') in inc_ps"
   ]
  },
  {
   "cell_type": "code",
   "execution_count": 64,
   "id": "7570b20087101e83",
   "metadata": {
    "ExecuteTime": {
     "end_time": "2024-02-28T20:29:37.941771Z",
     "start_time": "2024-02-28T20:29:37.936188Z"
    },
    "collapsed": false,
    "jupyter": {
     "outputs_hidden": false
    }
   },
   "outputs": [
    {
     "name": "stdout",
     "output_type": "stream",
     "text": [
      "('I', 'K')\n",
      "('I', 'T2')\n",
      "('L', 'C')\n",
      "('L', 'E')\n",
      "('O', 'T1')\n",
      "('O', 'T2')\n",
      "('P', 'A')\n",
      "('P', 'C')\n",
      "('P', 'K')\n",
      "('R', 'A')\n",
      "('R', 'E')\n",
      "('S', 'A')\n",
      "('S', 'K')\n",
      "('S', 'T2')\n",
      "('S', 'V')\n"
     ]
    }
   ],
   "source": [
    "for uid_property in inc_ps:\n",
    "    print(uid_property)"
   ]
  },
  {
   "cell_type": "code",
   "execution_count": 65,
   "id": "90a3b2ffd651fd91",
   "metadata": {
    "ExecuteTime": {
     "end_time": "2024-02-28T20:29:37.942579Z",
     "start_time": "2024-02-28T20:29:37.940010Z"
    },
    "collapsed": false,
    "jupyter": {
     "outputs_hidden": false
    }
   },
   "outputs": [
    {
     "data": {
      "text/plain": [
       "MultiIndex([('I',  'K'),\n",
       "            ('I', 'T2'),\n",
       "            ('L',  'C'),\n",
       "            ('L',  'E'),\n",
       "            ('O', 'T1'),\n",
       "            ('O', 'T2'),\n",
       "            ('P',  'A'),\n",
       "            ('P',  'C'),\n",
       "            ('P',  'K'),\n",
       "            ('R',  'A'),\n",
       "            ('R',  'E'),\n",
       "            ('S',  'A'),\n",
       "            ('S',  'K'),\n",
       "            ('S', 'T2'),\n",
       "            ('S',  'V')],\n",
       "           names=['level', 'id'])"
      ]
     },
     "execution_count": 65,
     "metadata": {},
     "output_type": "execute_result"
    }
   ],
   "source": [
    "inc_ps.properties.index"
   ]
  },
  {
   "cell_type": "code",
   "execution_count": 68,
   "id": "c4a53079-eb4f-426d-8d7f-2ec6e3de61d9",
   "metadata": {},
   "outputs": [
    {
     "data": {
      "text/plain": [
       "Index(['weight', 'misc_properties'], dtype='object')"
      ]
     },
     "execution_count": 68,
     "metadata": {},
     "output_type": "execute_result"
    }
   ],
   "source": [
    "edges_ps.properties.columns"
   ]
  },
  {
   "cell_type": "code",
   "execution_count": null,
   "id": "3e035c08-9639-4339-a0f2-6eade48cfef3",
   "metadata": {},
   "outputs": [],
   "source": []
  }
 ],
 "metadata": {
  "kernelspec": {
   "display_name": "venv-hnx",
   "language": "python",
   "name": "venv-hnx"
  },
  "language_info": {
   "codemirror_mode": {
    "name": "ipython",
    "version": 3
   },
   "file_extension": ".py",
   "mimetype": "text/x-python",
   "name": "python",
   "nbconvert_exporter": "python",
   "pygments_lexer": "ipython3",
   "version": "3.11.3"
  }
 },
 "nbformat": 4,
 "nbformat_minor": 5
}
