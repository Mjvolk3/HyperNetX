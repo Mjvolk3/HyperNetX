{
 "cells": [
  {
   "cell_type": "code",
   "execution_count": 58,
   "id": "4f19fd90-bf5b-4669-972b-ebc1c7c18cde",
   "metadata": {
    "ExecuteTime": {
     "end_time": "2024-02-28T20:29:37.789774Z",
     "start_time": "2024-02-28T20:29:37.768450Z"
    }
   },
   "outputs": [],
   "source": [
    "from property_store import DataFramePropertyStore\n",
    "import pandas as pd"
   ]
  },
  {
   "cell_type": "code",
   "outputs": [],
   "source": [
    "LEVEL = 'level'\n",
    "ID = 'id'\n",
    "UUID = 'uuid'\n",
    "WEIGHT = 'weight'\n",
    "PROPERTIES = 'misc_properties'\n",
    "PROPERTIES_COLUMNS = [WEIGHT, PROPERTIES]\n",
    "STRENGTH = 'strength'\n",
    "HAIR_COLOR = 'hair_color'\n",
    "INCIDENCES_PROPERTIES_COLUMNS = [WEIGHT, PROPERTIES, STRENGTH, HAIR_COLOR]\n"
   ],
   "metadata": {
    "collapsed": false,
    "ExecuteTime": {
     "end_time": "2024-02-28T20:29:37.802381Z",
     "start_time": "2024-02-28T20:29:37.792950Z"
    }
   },
   "id": "b0c4f4b20bfd82a8",
   "execution_count": 59
  },
  {
   "cell_type": "code",
   "outputs": [],
   "source": [
    "edges = ['I', 'L', 'O', 'P', 'R', 'S']\n",
    "\n",
    "nodes = ['A', 'C', 'E', 'K', 'T1', 'T2', 'V']\n",
    "\n",
    "incidences = [('I', 'K'), ('I', 'T2'), ('L', 'C'), ('L', 'E'), ('O', 'T1'), ('O', 'T2'), ('P', 'A'), ('P', 'C'), ('P', 'K'), ('R', 'A'), ('R', 'E'), ('S', 'A'), ('S', 'K'), ('S', 'T2'), ('S', 'V')]"
   ],
   "metadata": {
    "collapsed": false,
    "ExecuteTime": {
     "end_time": "2024-02-28T20:29:37.809909Z",
     "start_time": "2024-02-28T20:29:37.804577Z"
    }
   },
   "id": "8c21366f6624756b",
   "execution_count": 60
  },
  {
   "cell_type": "code",
   "outputs": [],
   "source": [
    "# edges_index = pd.MultiIndex.from_tuples(edges, names=[LEVEL, ID])\n",
    "# nodes_index = pd.MultiIndex.from_tuples(nodes, names=[LEVEL, ID])\n",
    "ip_index = pd.MultiIndex.from_tuples(incidences, names=[LEVEL, ID])"
   ],
   "metadata": {
    "collapsed": false,
    "ExecuteTime": {
     "end_time": "2024-02-28T20:29:37.812280Z",
     "start_time": "2024-02-28T20:29:37.809544Z"
    }
   },
   "id": "73ac534aa8865bd8",
   "execution_count": 61
  },
  {
   "cell_type": "code",
   "outputs": [],
   "source": [
    "# corresponding property store data\n",
    "# uid, weight, properties\n",
    "import uuid\n",
    "edges_data = [(1, {}) for i in edges]\n",
    "nodes_data = [(1, {}) for i in nodes]\n",
    "inc_data = [(1, {}, 42, 'red') for _ in range(len(ip_index))]"
   ],
   "metadata": {
    "collapsed": false,
    "ExecuteTime": {
     "end_time": "2024-02-28T20:30:14.205237Z",
     "start_time": "2024-02-28T20:30:14.197870Z"
    }
   },
   "id": "7073a872bd5fcf69",
   "execution_count": 68
  },
  {
   "cell_type": "code",
   "outputs": [],
   "source": [
    "# columns should map corresponding fields to the data\n",
    "edges_index = pd.Index(edges, name=ID)\n",
    "edges_df = pd.DataFrame(data=edges_data, index=edges_index, columns=[WEIGHT, PROPERTIES])\n",
    "nodes_index = pd.Index(nodes, name=ID)\n",
    "nodes_df = pd.DataFrame(data=nodes_data, index=nodes_index, columns=PROPERTIES_COLUMNS)\n",
    "incidence_df = pd.DataFrame(data=inc_data, index=ip_index, columns=INCIDENCES_PROPERTIES_COLUMNS)"
   ],
   "metadata": {
    "collapsed": false,
    "ExecuteTime": {
     "end_time": "2024-02-28T20:32:45.430873Z",
     "start_time": "2024-02-28T20:32:45.426815Z"
    }
   },
   "id": "4d89507e27fb39e1",
   "execution_count": 70
  },
  {
   "cell_type": "code",
   "outputs": [
    {
     "data": {
      "text/plain": "    weight misc_properties\nid                        \nI        1              {}\nL        1              {}\nO        1              {}\nP        1              {}\nR        1              {}\nS        1              {}",
      "text/html": "<div>\n<style scoped>\n    .dataframe tbody tr th:only-of-type {\n        vertical-align: middle;\n    }\n\n    .dataframe tbody tr th {\n        vertical-align: top;\n    }\n\n    .dataframe thead th {\n        text-align: right;\n    }\n</style>\n<table border=\"1\" class=\"dataframe\">\n  <thead>\n    <tr style=\"text-align: right;\">\n      <th></th>\n      <th>weight</th>\n      <th>misc_properties</th>\n    </tr>\n    <tr>\n      <th>id</th>\n      <th></th>\n      <th></th>\n    </tr>\n  </thead>\n  <tbody>\n    <tr>\n      <th>I</th>\n      <td>1</td>\n      <td>{}</td>\n    </tr>\n    <tr>\n      <th>L</th>\n      <td>1</td>\n      <td>{}</td>\n    </tr>\n    <tr>\n      <th>O</th>\n      <td>1</td>\n      <td>{}</td>\n    </tr>\n    <tr>\n      <th>P</th>\n      <td>1</td>\n      <td>{}</td>\n    </tr>\n    <tr>\n      <th>R</th>\n      <td>1</td>\n      <td>{}</td>\n    </tr>\n    <tr>\n      <th>S</th>\n      <td>1</td>\n      <td>{}</td>\n    </tr>\n  </tbody>\n</table>\n</div>"
     },
     "execution_count": 71,
     "metadata": {},
     "output_type": "execute_result"
    }
   ],
   "source": [
    "edges_df"
   ],
   "metadata": {
    "collapsed": false,
    "ExecuteTime": {
     "end_time": "2024-02-28T20:32:45.973643Z",
     "start_time": "2024-02-28T20:32:45.970541Z"
    }
   },
   "id": "efa09bcdb6fbdba6",
   "execution_count": 71
  },
  {
   "cell_type": "code",
   "outputs": [
    {
     "data": {
      "text/plain": "    weight misc_properties\nid                        \nA        1              {}\nC        1              {}\nE        1              {}\nK        1              {}\nT1       1              {}\nT2       1              {}\nV        1              {}",
      "text/html": "<div>\n<style scoped>\n    .dataframe tbody tr th:only-of-type {\n        vertical-align: middle;\n    }\n\n    .dataframe tbody tr th {\n        vertical-align: top;\n    }\n\n    .dataframe thead th {\n        text-align: right;\n    }\n</style>\n<table border=\"1\" class=\"dataframe\">\n  <thead>\n    <tr style=\"text-align: right;\">\n      <th></th>\n      <th>weight</th>\n      <th>misc_properties</th>\n    </tr>\n    <tr>\n      <th>id</th>\n      <th></th>\n      <th></th>\n    </tr>\n  </thead>\n  <tbody>\n    <tr>\n      <th>A</th>\n      <td>1</td>\n      <td>{}</td>\n    </tr>\n    <tr>\n      <th>C</th>\n      <td>1</td>\n      <td>{}</td>\n    </tr>\n    <tr>\n      <th>E</th>\n      <td>1</td>\n      <td>{}</td>\n    </tr>\n    <tr>\n      <th>K</th>\n      <td>1</td>\n      <td>{}</td>\n    </tr>\n    <tr>\n      <th>T1</th>\n      <td>1</td>\n      <td>{}</td>\n    </tr>\n    <tr>\n      <th>T2</th>\n      <td>1</td>\n      <td>{}</td>\n    </tr>\n    <tr>\n      <th>V</th>\n      <td>1</td>\n      <td>{}</td>\n    </tr>\n  </tbody>\n</table>\n</div>"
     },
     "execution_count": 72,
     "metadata": {},
     "output_type": "execute_result"
    }
   ],
   "source": [
    "nodes_df"
   ],
   "metadata": {
    "collapsed": false,
    "ExecuteTime": {
     "end_time": "2024-02-28T20:32:59.735723Z",
     "start_time": "2024-02-28T20:32:59.725819Z"
    }
   },
   "id": "3f74ad48d04d04ed",
   "execution_count": 72
  },
  {
   "cell_type": "code",
   "outputs": [
    {
     "data": {
      "text/plain": "          weight misc_properties  strength hair_color\nlevel id                                             \nI     K        1              {}        42        red\n      T2       1              {}        42        red\nL     C        1              {}        42        red\n      E        1              {}        42        red\nO     T1       1              {}        42        red\n      T2       1              {}        42        red\nP     A        1              {}        42        red\n      C        1              {}        42        red\n      K        1              {}        42        red\nR     A        1              {}        42        red\n      E        1              {}        42        red\nS     A        1              {}        42        red\n      K        1              {}        42        red\n      T2       1              {}        42        red\n      V        1              {}        42        red",
      "text/html": "<div>\n<style scoped>\n    .dataframe tbody tr th:only-of-type {\n        vertical-align: middle;\n    }\n\n    .dataframe tbody tr th {\n        vertical-align: top;\n    }\n\n    .dataframe thead th {\n        text-align: right;\n    }\n</style>\n<table border=\"1\" class=\"dataframe\">\n  <thead>\n    <tr style=\"text-align: right;\">\n      <th></th>\n      <th></th>\n      <th>weight</th>\n      <th>misc_properties</th>\n      <th>strength</th>\n      <th>hair_color</th>\n    </tr>\n    <tr>\n      <th>level</th>\n      <th>id</th>\n      <th></th>\n      <th></th>\n      <th></th>\n      <th></th>\n    </tr>\n  </thead>\n  <tbody>\n    <tr>\n      <th rowspan=\"2\" valign=\"top\">I</th>\n      <th>K</th>\n      <td>1</td>\n      <td>{}</td>\n      <td>42</td>\n      <td>red</td>\n    </tr>\n    <tr>\n      <th>T2</th>\n      <td>1</td>\n      <td>{}</td>\n      <td>42</td>\n      <td>red</td>\n    </tr>\n    <tr>\n      <th rowspan=\"2\" valign=\"top\">L</th>\n      <th>C</th>\n      <td>1</td>\n      <td>{}</td>\n      <td>42</td>\n      <td>red</td>\n    </tr>\n    <tr>\n      <th>E</th>\n      <td>1</td>\n      <td>{}</td>\n      <td>42</td>\n      <td>red</td>\n    </tr>\n    <tr>\n      <th rowspan=\"2\" valign=\"top\">O</th>\n      <th>T1</th>\n      <td>1</td>\n      <td>{}</td>\n      <td>42</td>\n      <td>red</td>\n    </tr>\n    <tr>\n      <th>T2</th>\n      <td>1</td>\n      <td>{}</td>\n      <td>42</td>\n      <td>red</td>\n    </tr>\n    <tr>\n      <th rowspan=\"3\" valign=\"top\">P</th>\n      <th>A</th>\n      <td>1</td>\n      <td>{}</td>\n      <td>42</td>\n      <td>red</td>\n    </tr>\n    <tr>\n      <th>C</th>\n      <td>1</td>\n      <td>{}</td>\n      <td>42</td>\n      <td>red</td>\n    </tr>\n    <tr>\n      <th>K</th>\n      <td>1</td>\n      <td>{}</td>\n      <td>42</td>\n      <td>red</td>\n    </tr>\n    <tr>\n      <th rowspan=\"2\" valign=\"top\">R</th>\n      <th>A</th>\n      <td>1</td>\n      <td>{}</td>\n      <td>42</td>\n      <td>red</td>\n    </tr>\n    <tr>\n      <th>E</th>\n      <td>1</td>\n      <td>{}</td>\n      <td>42</td>\n      <td>red</td>\n    </tr>\n    <tr>\n      <th rowspan=\"4\" valign=\"top\">S</th>\n      <th>A</th>\n      <td>1</td>\n      <td>{}</td>\n      <td>42</td>\n      <td>red</td>\n    </tr>\n    <tr>\n      <th>K</th>\n      <td>1</td>\n      <td>{}</td>\n      <td>42</td>\n      <td>red</td>\n    </tr>\n    <tr>\n      <th>T2</th>\n      <td>1</td>\n      <td>{}</td>\n      <td>42</td>\n      <td>red</td>\n    </tr>\n    <tr>\n      <th>V</th>\n      <td>1</td>\n      <td>{}</td>\n      <td>42</td>\n      <td>red</td>\n    </tr>\n  </tbody>\n</table>\n</div>"
     },
     "execution_count": 73,
     "metadata": {},
     "output_type": "execute_result"
    }
   ],
   "source": [
    "incidence_df"
   ],
   "metadata": {
    "collapsed": false,
    "ExecuteTime": {
     "end_time": "2024-02-28T20:33:00.613165Z",
     "start_time": "2024-02-28T20:33:00.610691Z"
    }
   },
   "id": "89ce63565f417efe",
   "execution_count": 73
  },
  {
   "cell_type": "code",
   "outputs": [],
   "source": [
    "edges_ps = DataFramePropertyStore(edges_df)"
   ],
   "metadata": {
    "collapsed": false,
    "ExecuteTime": {
     "start_time": "2024-02-28T20:29:37.869189Z"
    }
   },
   "id": "27feff2ba146a0e7",
   "execution_count": null
  },
  {
   "cell_type": "code",
   "outputs": [],
   "source": [
    "edges_ps.properties"
   ],
   "metadata": {
    "collapsed": false,
    "ExecuteTime": {
     "start_time": "2024-02-28T20:29:37.870842Z"
    }
   },
   "id": "a4f9648a93ef2f16",
   "execution_count": null
  },
  {
   "cell_type": "code",
   "outputs": [],
   "source": [
    "edges_ps.get_properties(('e', 'R'))"
   ],
   "metadata": {
    "collapsed": false,
    "ExecuteTime": {
     "start_time": "2024-02-28T20:29:37.872571Z"
    }
   },
   "id": "a28414bb5852fcf5",
   "execution_count": null
  },
  {
   "cell_type": "code",
   "outputs": [],
   "source": [
    "edges_ps.get_property(('e','R'), 'weight')"
   ],
   "metadata": {
    "collapsed": false,
    "ExecuteTime": {
     "start_time": "2024-02-28T20:29:37.874264Z"
    }
   },
   "id": "c3998036009d26a1",
   "execution_count": null
  },
  {
   "cell_type": "code",
   "outputs": [],
   "source": [
    "edges_ps.set_property(('e','R'), 'weight', 42)\n",
    "edges_ps.get_property(('e','R'), 'weight')"
   ],
   "metadata": {
    "collapsed": false,
    "ExecuteTime": {
     "start_time": "2024-02-28T20:29:37.875963Z"
    }
   },
   "id": "8d95683893a3940",
   "execution_count": null
  },
  {
   "cell_type": "code",
   "outputs": [],
   "source": [
    "edges_ps.properties"
   ],
   "metadata": {
    "collapsed": false,
    "ExecuteTime": {
     "start_time": "2024-02-28T20:29:37.877Z"
    }
   },
   "id": "947ef0930d92dab0",
   "execution_count": null
  },
  {
   "cell_type": "code",
   "outputs": [],
   "source": [
    "len(edges_ps)"
   ],
   "metadata": {
    "collapsed": false,
    "ExecuteTime": {
     "start_time": "2024-02-28T20:29:37.877969Z"
    }
   },
   "id": "428824f774b5df6b",
   "execution_count": null
  },
  {
   "cell_type": "code",
   "outputs": [],
   "source": [
    "edges_ps[('e','R')]"
   ],
   "metadata": {
    "collapsed": false,
    "ExecuteTime": {
     "start_time": "2024-02-28T20:29:37.878860Z"
    }
   },
   "id": "2109d60d87d65a9e",
   "execution_count": null
  },
  {
   "cell_type": "code",
   "outputs": [],
   "source": [
    "edges_ps.get_properties(('e', 'R'))"
   ],
   "metadata": {
    "collapsed": false,
    "ExecuteTime": {
     "start_time": "2024-02-28T20:29:37.879796Z"
    }
   },
   "id": "f5bb9e8b27e513bd",
   "execution_count": null
  },
  {
   "cell_type": "code",
   "outputs": [],
   "source": [
    "('e', 'R') in edges_ps\n"
   ],
   "metadata": {
    "collapsed": false,
    "ExecuteTime": {
     "start_time": "2024-02-28T20:29:37.880725Z"
    }
   },
   "id": "62ff0373c1ad71b7",
   "execution_count": null
  },
  {
   "cell_type": "code",
   "outputs": [],
   "source": [
    "('e', 'NEMO') in edges_ps"
   ],
   "metadata": {
    "collapsed": false,
    "ExecuteTime": {
     "end_time": "2024-02-28T20:29:37.884044Z",
     "start_time": "2024-02-28T20:29:37.881779Z"
    }
   },
   "id": "214a822a5d456a9d",
   "execution_count": null
  },
  {
   "cell_type": "code",
   "outputs": [],
   "source": [
    "for uid_property in edges_ps:\n",
    "    print(uid_property)"
   ],
   "metadata": {
    "collapsed": false,
    "ExecuteTime": {
     "start_time": "2024-02-28T20:29:37.882699Z"
    }
   },
   "id": "f6af320922fd4226",
   "execution_count": null
  },
  {
   "cell_type": "code",
   "outputs": [],
   "source": [
    "edges_ps.properties.index"
   ],
   "metadata": {
    "collapsed": false,
    "ExecuteTime": {
     "start_time": "2024-02-28T20:29:37.883728Z"
    }
   },
   "id": "5d5124e2ffcb9c42",
   "execution_count": null
  },
  {
   "cell_type": "code",
   "outputs": [],
   "source": [
    "incidence_df"
   ],
   "metadata": {
    "collapsed": false,
    "ExecuteTime": {
     "start_time": "2024-02-28T20:29:37.884754Z"
    }
   },
   "id": "4a7c2bbe59a618ba",
   "execution_count": null
  },
  {
   "cell_type": "code",
   "outputs": [],
   "source": [
    "inc_ps = DataFramePropertyStore(incidence_df)"
   ],
   "metadata": {
    "collapsed": false,
    "ExecuteTime": {
     "start_time": "2024-02-28T20:29:37.885819Z"
    }
   },
   "id": "a048092e4b628b1c",
   "execution_count": null
  },
  {
   "cell_type": "code",
   "outputs": [],
   "source": [
    "inc_ps.properties"
   ],
   "metadata": {
    "collapsed": false,
    "ExecuteTime": {
     "end_time": "2024-02-28T20:29:37.893855Z",
     "start_time": "2024-02-28T20:29:37.886831Z"
    }
   },
   "id": "d94d9e5664364c0c",
   "execution_count": null
  },
  {
   "cell_type": "code",
   "outputs": [],
   "source": [
    "inc_ps.get_properties(('L', 'C'))"
   ],
   "metadata": {
    "collapsed": false,
    "ExecuteTime": {
     "start_time": "2024-02-28T20:29:37.887853Z"
    }
   },
   "id": "2c04bc5b7745ed6",
   "execution_count": null
  },
  {
   "cell_type": "code",
   "outputs": [],
   "source": [
    "inc_ps.get_property(('L', 'C'), 'hair_color')"
   ],
   "metadata": {
    "collapsed": false,
    "ExecuteTime": {
     "start_time": "2024-02-28T20:29:37.888906Z"
    }
   },
   "id": "6ecfec1df0bc900c",
   "execution_count": null
  },
  {
   "cell_type": "code",
   "outputs": [],
   "source": [
    "inc_ps.set_property(('L', 'C'), 'hair_color', 'green')\n",
    "inc_ps.get_property(('L', 'C'), 'hair_color')"
   ],
   "metadata": {
    "collapsed": false,
    "ExecuteTime": {
     "start_time": "2024-02-28T20:29:37.889854Z"
    }
   },
   "id": "ae093f997d2818ec",
   "execution_count": null
  },
  {
   "cell_type": "code",
   "outputs": [],
   "source": [
    "inc_ps.properties"
   ],
   "metadata": {
    "collapsed": false,
    "ExecuteTime": {
     "start_time": "2024-02-28T20:29:37.890963Z"
    }
   },
   "id": "e97f3c0b1cc74cf5",
   "execution_count": null
  },
  {
   "cell_type": "code",
   "outputs": [],
   "source": [
    "len(inc_ps)"
   ],
   "metadata": {
    "collapsed": false,
    "ExecuteTime": {
     "start_time": "2024-02-28T20:29:37.892164Z"
    }
   },
   "id": "46be788a07e18776",
   "execution_count": null
  },
  {
   "cell_type": "code",
   "outputs": [],
   "source": [
    "inc_ps[('L', 'C')]"
   ],
   "metadata": {
    "collapsed": false,
    "ExecuteTime": {
     "start_time": "2024-02-28T20:29:37.893048Z"
    }
   },
   "id": "aabe6182c6f74b94",
   "execution_count": null
  },
  {
   "cell_type": "code",
   "outputs": [],
   "source": [
    "inc_ps.get_properties(('L', 'C'))"
   ],
   "metadata": {
    "collapsed": false,
    "ExecuteTime": {
     "end_time": "2024-02-28T20:29:37.894422Z",
     "start_time": "2024-02-28T20:29:37.893896Z"
    }
   },
   "id": "58ee1c61f5180d25",
   "execution_count": null
  },
  {
   "cell_type": "code",
   "outputs": [
    {
     "data": {
      "text/plain": "True"
     },
     "execution_count": 64,
     "metadata": {},
     "output_type": "execute_result"
    }
   ],
   "source": [
    "('L', 'C') in inc_ps"
   ],
   "metadata": {
    "collapsed": false,
    "ExecuteTime": {
     "end_time": "2024-02-28T20:29:37.913284Z",
     "start_time": "2024-02-28T20:29:37.894743Z"
    }
   },
   "id": "c23420ac85d15fe0",
   "execution_count": 64
  },
  {
   "cell_type": "code",
   "outputs": [
    {
     "data": {
      "text/plain": "False"
     },
     "execution_count": 65,
     "metadata": {},
     "output_type": "execute_result"
    }
   ],
   "source": [
    "('NE', 'MO') in inc_ps"
   ],
   "metadata": {
    "collapsed": false,
    "ExecuteTime": {
     "end_time": "2024-02-28T20:29:37.934281Z",
     "start_time": "2024-02-28T20:29:37.909403Z"
    }
   },
   "id": "7a1f14c1620e2809",
   "execution_count": 65
  },
  {
   "cell_type": "code",
   "outputs": [],
   "source": [
    "for uid_property in inc_ps:\n",
    "    print(uid_property)"
   ],
   "metadata": {
    "collapsed": false,
    "ExecuteTime": {
     "end_time": "2024-02-28T20:29:37.941771Z",
     "start_time": "2024-02-28T20:29:37.936188Z"
    }
   },
   "id": "7570b20087101e83",
   "execution_count": 66
  },
  {
   "cell_type": "code",
   "outputs": [
    {
     "data": {
      "text/plain": "MultiIndex([('I',  'K'),\n            ('I', 'T2'),\n            ('L',  'C'),\n            ('L',  'E'),\n            ('O', 'T1'),\n            ('O', 'T2'),\n            ('P',  'A'),\n            ('P',  'C'),\n            ('P',  'K'),\n            ('R',  'A'),\n            ('R',  'E'),\n            ('S',  'A'),\n            ('S',  'K'),\n            ('S', 'T2'),\n            ('S',  'V')],\n           names=['level', 'id'])"
     },
     "execution_count": 67,
     "metadata": {},
     "output_type": "execute_result"
    }
   ],
   "source": [
    "inc_ps.properties.index"
   ],
   "metadata": {
    "collapsed": false,
    "ExecuteTime": {
     "end_time": "2024-02-28T20:29:37.942579Z",
     "start_time": "2024-02-28T20:29:37.940010Z"
    }
   },
   "id": "90a3b2ffd651fd91",
   "execution_count": 67
  }
 ],
 "metadata": {
  "kernelspec": {
   "display_name": "venv-hnx",
   "language": "python",
   "name": "venv-hnx"
  },
  "language_info": {
   "codemirror_mode": {
    "name": "ipython",
    "version": 3
   },
   "file_extension": ".py",
   "mimetype": "text/x-python",
   "name": "python",
   "nbconvert_exporter": "python",
   "pygments_lexer": "ipython3",
   "version": "3.11.3"
  }
 },
 "nbformat": 4,
 "nbformat_minor": 5
}
