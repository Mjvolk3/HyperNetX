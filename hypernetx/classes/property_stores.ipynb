{
 "cells": [
  {
   "cell_type": "code",
   "execution_count": 1,
   "id": "4f19fd90-bf5b-4669-972b-ebc1c7c18cde",
   "metadata": {
    "ExecuteTime": {
     "end_time": "2024-03-12T23:45:02.971128Z",
     "start_time": "2024-03-12T23:45:02.393051Z"
    }
   },
   "outputs": [],
   "source": [
    "from property_store import PropertyStore\n",
    "import pandas as pd"
   ]
  },
  {
   "cell_type": "code",
   "execution_count": 2,
   "id": "b0c4f4b20bfd82a8",
   "metadata": {
    "collapsed": false,
    "ExecuteTime": {
     "end_time": "2024-03-12T23:45:02.975967Z",
     "start_time": "2024-03-12T23:45:02.972113Z"
    }
   },
   "outputs": [],
   "source": [
    "LEVEL = 'level'\n",
    "ID = 'id'\n",
    "WEIGHT = 'weight'\n",
    "PROPERTIES = 'misc_properties'\n",
    "PROPERTIES_COLUMNS = [WEIGHT, PROPERTIES]\n",
    "STRENGTH = 'strength'\n",
    "HAIR_COLOR = 'hair_color'\n",
    "INCIDENCES_PROPERTIES_COLUMNS = [WEIGHT, PROPERTIES, STRENGTH, HAIR_COLOR]\n"
   ]
  },
  {
   "cell_type": "code",
   "execution_count": 3,
   "id": "8c21366f6624756b",
   "metadata": {
    "collapsed": false,
    "ExecuteTime": {
     "end_time": "2024-03-12T23:45:02.976761Z",
     "start_time": "2024-03-12T23:45:02.974479Z"
    }
   },
   "outputs": [],
   "source": [
    "edges = ['I', 'L', 'O', 'P', 'R', 'S']\n",
    "\n",
    "nodes = ['A', 'C', 'E', 'K', 'T1', 'T2', 'V']\n",
    "\n",
    "incidences = [('I', 'K'), ('I', 'T2'), ('L', 'C'), ('L', 'E'), ('O', 'T1'), ('O', 'T2'), ('P', 'A'), ('P', 'C'), ('P', 'K'), ('R', 'A'), ('R', 'E'), ('S', 'A'), ('S', 'K'), ('S', 'T2'), ('S', 'V')]"
   ]
  },
  {
   "cell_type": "code",
   "execution_count": 4,
   "id": "73ac534aa8865bd8",
   "metadata": {
    "collapsed": false,
    "ExecuteTime": {
     "end_time": "2024-03-12T23:45:02.978411Z",
     "start_time": "2024-03-12T23:45:02.976429Z"
    }
   },
   "outputs": [],
   "source": [
    "ip_index = pd.MultiIndex.from_tuples(incidences, names=[LEVEL, ID])"
   ]
  },
  {
   "cell_type": "code",
   "execution_count": 5,
   "id": "7073a872bd5fcf69",
   "metadata": {
    "collapsed": false,
    "ExecuteTime": {
     "end_time": "2024-03-12T23:45:02.982736Z",
     "start_time": "2024-03-12T23:45:02.980366Z"
    }
   },
   "outputs": [],
   "source": [
    "# corresponding property store data\n",
    "# uid, weight, properties\n",
    "import uuid\n",
    "edges_data = [(1, {}) for i in edges]\n",
    "nodes_data = [(1, {}) for i in nodes]\n",
    "inc_data = [(1, {}, 42, 'red') for _ in range(len(ip_index))]"
   ]
  },
  {
   "cell_type": "code",
   "execution_count": 6,
   "id": "4d89507e27fb39e1",
   "metadata": {
    "collapsed": false,
    "ExecuteTime": {
     "end_time": "2024-03-12T23:45:02.986955Z",
     "start_time": "2024-03-12T23:45:02.983145Z"
    }
   },
   "outputs": [],
   "source": [
    "# columns should map corresponding fields to the data\n",
    "edges_index = pd.Index(edges, name=ID)\n",
    "edges_df = pd.DataFrame(data=edges_data, index=edges_index, columns=[WEIGHT, PROPERTIES])\n",
    "\n",
    "nodes_index = pd.Index(nodes, name=ID)\n",
    "nodes_df = pd.DataFrame(data=nodes_data, index=nodes_index, columns=PROPERTIES_COLUMNS)\n",
    "\n",
    "incidence_df = pd.DataFrame(data=inc_data, index=ip_index, columns=INCIDENCES_PROPERTIES_COLUMNS)"
   ]
  },
  {
   "cell_type": "code",
   "execution_count": 7,
   "id": "efa09bcdb6fbdba6",
   "metadata": {
    "collapsed": false,
    "ExecuteTime": {
     "end_time": "2024-03-12T23:45:02.991710Z",
     "start_time": "2024-03-12T23:45:02.986233Z"
    }
   },
   "outputs": [
    {
     "data": {
      "text/plain": "    weight misc_properties\nid                        \nI        1              {}\nL        1              {}\nO        1              {}\nP        1              {}\nR        1              {}\nS        1              {}",
      "text/html": "<div>\n<style scoped>\n    .dataframe tbody tr th:only-of-type {\n        vertical-align: middle;\n    }\n\n    .dataframe tbody tr th {\n        vertical-align: top;\n    }\n\n    .dataframe thead th {\n        text-align: right;\n    }\n</style>\n<table border=\"1\" class=\"dataframe\">\n  <thead>\n    <tr style=\"text-align: right;\">\n      <th></th>\n      <th>weight</th>\n      <th>misc_properties</th>\n    </tr>\n    <tr>\n      <th>id</th>\n      <th></th>\n      <th></th>\n    </tr>\n  </thead>\n  <tbody>\n    <tr>\n      <th>I</th>\n      <td>1</td>\n      <td>{}</td>\n    </tr>\n    <tr>\n      <th>L</th>\n      <td>1</td>\n      <td>{}</td>\n    </tr>\n    <tr>\n      <th>O</th>\n      <td>1</td>\n      <td>{}</td>\n    </tr>\n    <tr>\n      <th>P</th>\n      <td>1</td>\n      <td>{}</td>\n    </tr>\n    <tr>\n      <th>R</th>\n      <td>1</td>\n      <td>{}</td>\n    </tr>\n    <tr>\n      <th>S</th>\n      <td>1</td>\n      <td>{}</td>\n    </tr>\n  </tbody>\n</table>\n</div>"
     },
     "execution_count": 7,
     "metadata": {},
     "output_type": "execute_result"
    }
   ],
   "source": [
    "edges_df"
   ]
  },
  {
   "cell_type": "code",
   "execution_count": 8,
   "id": "3f74ad48d04d04ed",
   "metadata": {
    "collapsed": false,
    "ExecuteTime": {
     "end_time": "2024-03-12T23:45:02.999636Z",
     "start_time": "2024-03-12T23:45:02.992887Z"
    }
   },
   "outputs": [
    {
     "data": {
      "text/plain": "    weight misc_properties\nid                        \nA        1              {}\nC        1              {}\nE        1              {}\nK        1              {}\nT1       1              {}\nT2       1              {}\nV        1              {}",
      "text/html": "<div>\n<style scoped>\n    .dataframe tbody tr th:only-of-type {\n        vertical-align: middle;\n    }\n\n    .dataframe tbody tr th {\n        vertical-align: top;\n    }\n\n    .dataframe thead th {\n        text-align: right;\n    }\n</style>\n<table border=\"1\" class=\"dataframe\">\n  <thead>\n    <tr style=\"text-align: right;\">\n      <th></th>\n      <th>weight</th>\n      <th>misc_properties</th>\n    </tr>\n    <tr>\n      <th>id</th>\n      <th></th>\n      <th></th>\n    </tr>\n  </thead>\n  <tbody>\n    <tr>\n      <th>A</th>\n      <td>1</td>\n      <td>{}</td>\n    </tr>\n    <tr>\n      <th>C</th>\n      <td>1</td>\n      <td>{}</td>\n    </tr>\n    <tr>\n      <th>E</th>\n      <td>1</td>\n      <td>{}</td>\n    </tr>\n    <tr>\n      <th>K</th>\n      <td>1</td>\n      <td>{}</td>\n    </tr>\n    <tr>\n      <th>T1</th>\n      <td>1</td>\n      <td>{}</td>\n    </tr>\n    <tr>\n      <th>T2</th>\n      <td>1</td>\n      <td>{}</td>\n    </tr>\n    <tr>\n      <th>V</th>\n      <td>1</td>\n      <td>{}</td>\n    </tr>\n  </tbody>\n</table>\n</div>"
     },
     "execution_count": 8,
     "metadata": {},
     "output_type": "execute_result"
    }
   ],
   "source": [
    "nodes_df"
   ]
  },
  {
   "cell_type": "code",
   "execution_count": 9,
   "id": "89ce63565f417efe",
   "metadata": {
    "collapsed": false,
    "ExecuteTime": {
     "end_time": "2024-03-12T23:45:03.010032Z",
     "start_time": "2024-03-12T23:45:02.998330Z"
    }
   },
   "outputs": [
    {
     "data": {
      "text/plain": "          weight misc_properties  strength hair_color\nlevel id                                             \nI     K        1              {}        42        red\n      T2       1              {}        42        red\nL     C        1              {}        42        red\n      E        1              {}        42        red\nO     T1       1              {}        42        red\n      T2       1              {}        42        red\nP     A        1              {}        42        red\n      C        1              {}        42        red\n      K        1              {}        42        red\nR     A        1              {}        42        red\n      E        1              {}        42        red\nS     A        1              {}        42        red\n      K        1              {}        42        red\n      T2       1              {}        42        red\n      V        1              {}        42        red",
      "text/html": "<div>\n<style scoped>\n    .dataframe tbody tr th:only-of-type {\n        vertical-align: middle;\n    }\n\n    .dataframe tbody tr th {\n        vertical-align: top;\n    }\n\n    .dataframe thead th {\n        text-align: right;\n    }\n</style>\n<table border=\"1\" class=\"dataframe\">\n  <thead>\n    <tr style=\"text-align: right;\">\n      <th></th>\n      <th></th>\n      <th>weight</th>\n      <th>misc_properties</th>\n      <th>strength</th>\n      <th>hair_color</th>\n    </tr>\n    <tr>\n      <th>level</th>\n      <th>id</th>\n      <th></th>\n      <th></th>\n      <th></th>\n      <th></th>\n    </tr>\n  </thead>\n  <tbody>\n    <tr>\n      <th rowspan=\"2\" valign=\"top\">I</th>\n      <th>K</th>\n      <td>1</td>\n      <td>{}</td>\n      <td>42</td>\n      <td>red</td>\n    </tr>\n    <tr>\n      <th>T2</th>\n      <td>1</td>\n      <td>{}</td>\n      <td>42</td>\n      <td>red</td>\n    </tr>\n    <tr>\n      <th rowspan=\"2\" valign=\"top\">L</th>\n      <th>C</th>\n      <td>1</td>\n      <td>{}</td>\n      <td>42</td>\n      <td>red</td>\n    </tr>\n    <tr>\n      <th>E</th>\n      <td>1</td>\n      <td>{}</td>\n      <td>42</td>\n      <td>red</td>\n    </tr>\n    <tr>\n      <th rowspan=\"2\" valign=\"top\">O</th>\n      <th>T1</th>\n      <td>1</td>\n      <td>{}</td>\n      <td>42</td>\n      <td>red</td>\n    </tr>\n    <tr>\n      <th>T2</th>\n      <td>1</td>\n      <td>{}</td>\n      <td>42</td>\n      <td>red</td>\n    </tr>\n    <tr>\n      <th rowspan=\"3\" valign=\"top\">P</th>\n      <th>A</th>\n      <td>1</td>\n      <td>{}</td>\n      <td>42</td>\n      <td>red</td>\n    </tr>\n    <tr>\n      <th>C</th>\n      <td>1</td>\n      <td>{}</td>\n      <td>42</td>\n      <td>red</td>\n    </tr>\n    <tr>\n      <th>K</th>\n      <td>1</td>\n      <td>{}</td>\n      <td>42</td>\n      <td>red</td>\n    </tr>\n    <tr>\n      <th rowspan=\"2\" valign=\"top\">R</th>\n      <th>A</th>\n      <td>1</td>\n      <td>{}</td>\n      <td>42</td>\n      <td>red</td>\n    </tr>\n    <tr>\n      <th>E</th>\n      <td>1</td>\n      <td>{}</td>\n      <td>42</td>\n      <td>red</td>\n    </tr>\n    <tr>\n      <th rowspan=\"4\" valign=\"top\">S</th>\n      <th>A</th>\n      <td>1</td>\n      <td>{}</td>\n      <td>42</td>\n      <td>red</td>\n    </tr>\n    <tr>\n      <th>K</th>\n      <td>1</td>\n      <td>{}</td>\n      <td>42</td>\n      <td>red</td>\n    </tr>\n    <tr>\n      <th>T2</th>\n      <td>1</td>\n      <td>{}</td>\n      <td>42</td>\n      <td>red</td>\n    </tr>\n    <tr>\n      <th>V</th>\n      <td>1</td>\n      <td>{}</td>\n      <td>42</td>\n      <td>red</td>\n    </tr>\n  </tbody>\n</table>\n</div>"
     },
     "execution_count": 9,
     "metadata": {},
     "output_type": "execute_result"
    }
   ],
   "source": [
    "incidence_df"
   ]
  },
  {
   "cell_type": "code",
   "execution_count": 10,
   "id": "27feff2ba146a0e7",
   "metadata": {
    "collapsed": false,
    "ExecuteTime": {
     "end_time": "2024-03-12T23:45:03.044743Z",
     "start_time": "2024-03-12T23:45:03.000826Z"
    }
   },
   "outputs": [],
   "source": [
    "edges_ps = PropertyStore(edges_df)"
   ]
  },
  {
   "cell_type": "code",
   "execution_count": 11,
   "id": "a4f9648a93ef2f16",
   "metadata": {
    "collapsed": false,
    "ExecuteTime": {
     "end_time": "2024-03-12T23:45:03.094887Z",
     "start_time": "2024-03-12T23:45:03.005073Z"
    }
   },
   "outputs": [
    {
     "data": {
      "text/plain": "    weight misc_properties                                   uid\nid                                                              \nI        1              {}  d5ef0e6e-0ff0-4592-990e-31e4797b6336\nL        1              {}  b78b3b2a-519f-4aa6-9544-e8dd2ee0859a\nO        1              {}  0c2ed6e1-660c-4a69-bb1d-6f9ef9c54f37\nP        1              {}  327b9cf3-72fa-4123-80d7-be48ba3cce7c\nR        1              {}  17bbfa31-31bd-441e-b48b-8fa3fe234fc7\nS        1              {}  2e2321e0-acf8-4640-a0a2-d767536a56b1",
      "text/html": "<div>\n<style scoped>\n    .dataframe tbody tr th:only-of-type {\n        vertical-align: middle;\n    }\n\n    .dataframe tbody tr th {\n        vertical-align: top;\n    }\n\n    .dataframe thead th {\n        text-align: right;\n    }\n</style>\n<table border=\"1\" class=\"dataframe\">\n  <thead>\n    <tr style=\"text-align: right;\">\n      <th></th>\n      <th>weight</th>\n      <th>misc_properties</th>\n      <th>uid</th>\n    </tr>\n    <tr>\n      <th>id</th>\n      <th></th>\n      <th></th>\n      <th></th>\n    </tr>\n  </thead>\n  <tbody>\n    <tr>\n      <th>I</th>\n      <td>1</td>\n      <td>{}</td>\n      <td>d5ef0e6e-0ff0-4592-990e-31e4797b6336</td>\n    </tr>\n    <tr>\n      <th>L</th>\n      <td>1</td>\n      <td>{}</td>\n      <td>b78b3b2a-519f-4aa6-9544-e8dd2ee0859a</td>\n    </tr>\n    <tr>\n      <th>O</th>\n      <td>1</td>\n      <td>{}</td>\n      <td>0c2ed6e1-660c-4a69-bb1d-6f9ef9c54f37</td>\n    </tr>\n    <tr>\n      <th>P</th>\n      <td>1</td>\n      <td>{}</td>\n      <td>327b9cf3-72fa-4123-80d7-be48ba3cce7c</td>\n    </tr>\n    <tr>\n      <th>R</th>\n      <td>1</td>\n      <td>{}</td>\n      <td>17bbfa31-31bd-441e-b48b-8fa3fe234fc7</td>\n    </tr>\n    <tr>\n      <th>S</th>\n      <td>1</td>\n      <td>{}</td>\n      <td>2e2321e0-acf8-4640-a0a2-d767536a56b1</td>\n    </tr>\n  </tbody>\n</table>\n</div>"
     },
     "execution_count": 11,
     "metadata": {},
     "output_type": "execute_result"
    }
   ],
   "source": [
    "edges_ps.properties"
   ]
  },
  {
   "cell_type": "code",
   "execution_count": 12,
   "id": "a28414bb5852fcf5",
   "metadata": {
    "collapsed": false,
    "ExecuteTime": {
     "end_time": "2024-03-12T23:45:03.096051Z",
     "start_time": "2024-03-12T23:45:03.007914Z"
    }
   },
   "outputs": [
    {
     "data": {
      "text/plain": "{'weight': 1,\n 'misc_properties': {},\n 'uid': '17bbfa31-31bd-441e-b48b-8fa3fe234fc7'}"
     },
     "execution_count": 12,
     "metadata": {},
     "output_type": "execute_result"
    }
   ],
   "source": [
    "edges_ps.get_properties('R')"
   ]
  },
  {
   "cell_type": "code",
   "execution_count": 13,
   "id": "c3998036009d26a1",
   "metadata": {
    "collapsed": false,
    "ExecuteTime": {
     "end_time": "2024-03-12T23:45:03.112544Z",
     "start_time": "2024-03-12T23:45:03.029039Z"
    }
   },
   "outputs": [
    {
     "data": {
      "text/plain": "1"
     },
     "execution_count": 13,
     "metadata": {},
     "output_type": "execute_result"
    }
   ],
   "source": [
    "edges_ps.get_property('R', 'weight')"
   ]
  },
  {
   "cell_type": "code",
   "execution_count": 14,
   "id": "8d95683893a3940",
   "metadata": {
    "collapsed": false,
    "ExecuteTime": {
     "end_time": "2024-03-12T23:45:03.113570Z",
     "start_time": "2024-03-12T23:45:03.029258Z"
    }
   },
   "outputs": [
    {
     "data": {
      "text/plain": "42"
     },
     "execution_count": 14,
     "metadata": {},
     "output_type": "execute_result"
    }
   ],
   "source": [
    "edges_ps.set_property('R', 'weight', 42)\n",
    "edges_ps.get_property('R', 'weight')"
   ]
  },
  {
   "cell_type": "code",
   "execution_count": 15,
   "id": "947ef0930d92dab0",
   "metadata": {
    "collapsed": false,
    "ExecuteTime": {
     "end_time": "2024-03-12T23:45:03.113826Z",
     "start_time": "2024-03-12T23:45:03.029338Z"
    }
   },
   "outputs": [
    {
     "data": {
      "text/plain": "    weight misc_properties                                   uid\nid                                                              \nI        1              {}  d5ef0e6e-0ff0-4592-990e-31e4797b6336\nL        1              {}  b78b3b2a-519f-4aa6-9544-e8dd2ee0859a\nO        1              {}  0c2ed6e1-660c-4a69-bb1d-6f9ef9c54f37\nP        1              {}  327b9cf3-72fa-4123-80d7-be48ba3cce7c\nR       42              {}  17bbfa31-31bd-441e-b48b-8fa3fe234fc7\nS        1              {}  2e2321e0-acf8-4640-a0a2-d767536a56b1",
      "text/html": "<div>\n<style scoped>\n    .dataframe tbody tr th:only-of-type {\n        vertical-align: middle;\n    }\n\n    .dataframe tbody tr th {\n        vertical-align: top;\n    }\n\n    .dataframe thead th {\n        text-align: right;\n    }\n</style>\n<table border=\"1\" class=\"dataframe\">\n  <thead>\n    <tr style=\"text-align: right;\">\n      <th></th>\n      <th>weight</th>\n      <th>misc_properties</th>\n      <th>uid</th>\n    </tr>\n    <tr>\n      <th>id</th>\n      <th></th>\n      <th></th>\n      <th></th>\n    </tr>\n  </thead>\n  <tbody>\n    <tr>\n      <th>I</th>\n      <td>1</td>\n      <td>{}</td>\n      <td>d5ef0e6e-0ff0-4592-990e-31e4797b6336</td>\n    </tr>\n    <tr>\n      <th>L</th>\n      <td>1</td>\n      <td>{}</td>\n      <td>b78b3b2a-519f-4aa6-9544-e8dd2ee0859a</td>\n    </tr>\n    <tr>\n      <th>O</th>\n      <td>1</td>\n      <td>{}</td>\n      <td>0c2ed6e1-660c-4a69-bb1d-6f9ef9c54f37</td>\n    </tr>\n    <tr>\n      <th>P</th>\n      <td>1</td>\n      <td>{}</td>\n      <td>327b9cf3-72fa-4123-80d7-be48ba3cce7c</td>\n    </tr>\n    <tr>\n      <th>R</th>\n      <td>42</td>\n      <td>{}</td>\n      <td>17bbfa31-31bd-441e-b48b-8fa3fe234fc7</td>\n    </tr>\n    <tr>\n      <th>S</th>\n      <td>1</td>\n      <td>{}</td>\n      <td>2e2321e0-acf8-4640-a0a2-d767536a56b1</td>\n    </tr>\n  </tbody>\n</table>\n</div>"
     },
     "execution_count": 15,
     "metadata": {},
     "output_type": "execute_result"
    }
   ],
   "source": [
    "edges_ps.properties"
   ]
  },
  {
   "cell_type": "code",
   "execution_count": 16,
   "id": "428824f774b5df6b",
   "metadata": {
    "collapsed": false,
    "ExecuteTime": {
     "end_time": "2024-03-12T23:45:03.114323Z",
     "start_time": "2024-03-12T23:45:03.032003Z"
    }
   },
   "outputs": [
    {
     "data": {
      "text/plain": "6"
     },
     "execution_count": 16,
     "metadata": {},
     "output_type": "execute_result"
    }
   ],
   "source": [
    "len(edges_ps)"
   ]
  },
  {
   "cell_type": "code",
   "execution_count": 17,
   "id": "2109d60d87d65a9e",
   "metadata": {
    "collapsed": false,
    "ExecuteTime": {
     "end_time": "2024-03-12T23:45:03.114810Z",
     "start_time": "2024-03-12T23:45:03.035056Z"
    }
   },
   "outputs": [
    {
     "data": {
      "text/plain": "{'weight': 42,\n 'misc_properties': {},\n 'uid': '17bbfa31-31bd-441e-b48b-8fa3fe234fc7'}"
     },
     "execution_count": 17,
     "metadata": {},
     "output_type": "execute_result"
    }
   ],
   "source": [
    "edges_ps['R']"
   ]
  },
  {
   "cell_type": "code",
   "execution_count": 18,
   "id": "f5bb9e8b27e513bd",
   "metadata": {
    "collapsed": false,
    "ExecuteTime": {
     "end_time": "2024-03-12T23:45:03.115299Z",
     "start_time": "2024-03-12T23:45:03.038025Z"
    }
   },
   "outputs": [
    {
     "data": {
      "text/plain": "{'weight': 42,\n 'misc_properties': {},\n 'uid': '17bbfa31-31bd-441e-b48b-8fa3fe234fc7'}"
     },
     "execution_count": 18,
     "metadata": {},
     "output_type": "execute_result"
    }
   ],
   "source": [
    "edges_ps.get_properties('R')"
   ]
  },
  {
   "cell_type": "code",
   "execution_count": 19,
   "id": "62ff0373c1ad71b7",
   "metadata": {
    "collapsed": false,
    "ExecuteTime": {
     "end_time": "2024-03-12T23:45:03.115763Z",
     "start_time": "2024-03-12T23:45:03.040737Z"
    }
   },
   "outputs": [
    {
     "data": {
      "text/plain": "True"
     },
     "execution_count": 19,
     "metadata": {},
     "output_type": "execute_result"
    }
   ],
   "source": [
    "'R' in edges_ps\n"
   ]
  },
  {
   "cell_type": "code",
   "execution_count": 20,
   "id": "214a822a5d456a9d",
   "metadata": {
    "collapsed": false,
    "ExecuteTime": {
     "end_time": "2024-03-12T23:45:03.116699Z",
     "start_time": "2024-03-12T23:45:03.043347Z"
    }
   },
   "outputs": [
    {
     "data": {
      "text/plain": "False"
     },
     "execution_count": 20,
     "metadata": {},
     "output_type": "execute_result"
    }
   ],
   "source": [
    "'NEMO' in edges_ps"
   ]
  },
  {
   "cell_type": "code",
   "execution_count": 21,
   "id": "f6af320922fd4226",
   "metadata": {
    "collapsed": false,
    "ExecuteTime": {
     "end_time": "2024-03-12T23:45:03.131598Z",
     "start_time": "2024-03-12T23:45:03.045583Z"
    }
   },
   "outputs": [
    {
     "name": "stdout",
     "output_type": "stream",
     "text": [
      "I\n",
      "L\n",
      "O\n",
      "P\n",
      "R\n",
      "S\n"
     ]
    }
   ],
   "source": [
    "for uid_property in edges_ps:\n",
    "    print(uid_property)"
   ]
  },
  {
   "cell_type": "code",
   "execution_count": 22,
   "id": "5d5124e2ffcb9c42",
   "metadata": {
    "collapsed": false,
    "ExecuteTime": {
     "end_time": "2024-03-12T23:45:03.132397Z",
     "start_time": "2024-03-12T23:45:03.047960Z"
    }
   },
   "outputs": [
    {
     "data": {
      "text/plain": "Index(['I', 'L', 'O', 'P', 'R', 'S'], dtype='object', name='id')"
     },
     "execution_count": 22,
     "metadata": {},
     "output_type": "execute_result"
    }
   ],
   "source": [
    "edges_ps.properties.index"
   ]
  },
  {
   "cell_type": "code",
   "execution_count": 23,
   "id": "4a7c2bbe59a618ba",
   "metadata": {
    "collapsed": false,
    "ExecuteTime": {
     "end_time": "2024-03-12T23:45:03.133215Z",
     "start_time": "2024-03-12T23:45:03.052967Z"
    }
   },
   "outputs": [
    {
     "data": {
      "text/plain": "          weight misc_properties  strength hair_color\nlevel id                                             \nI     K        1              {}        42        red\n      T2       1              {}        42        red\nL     C        1              {}        42        red\n      E        1              {}        42        red\nO     T1       1              {}        42        red\n      T2       1              {}        42        red\nP     A        1              {}        42        red\n      C        1              {}        42        red\n      K        1              {}        42        red\nR     A        1              {}        42        red\n      E        1              {}        42        red\nS     A        1              {}        42        red\n      K        1              {}        42        red\n      T2       1              {}        42        red\n      V        1              {}        42        red",
      "text/html": "<div>\n<style scoped>\n    .dataframe tbody tr th:only-of-type {\n        vertical-align: middle;\n    }\n\n    .dataframe tbody tr th {\n        vertical-align: top;\n    }\n\n    .dataframe thead th {\n        text-align: right;\n    }\n</style>\n<table border=\"1\" class=\"dataframe\">\n  <thead>\n    <tr style=\"text-align: right;\">\n      <th></th>\n      <th></th>\n      <th>weight</th>\n      <th>misc_properties</th>\n      <th>strength</th>\n      <th>hair_color</th>\n    </tr>\n    <tr>\n      <th>level</th>\n      <th>id</th>\n      <th></th>\n      <th></th>\n      <th></th>\n      <th></th>\n    </tr>\n  </thead>\n  <tbody>\n    <tr>\n      <th rowspan=\"2\" valign=\"top\">I</th>\n      <th>K</th>\n      <td>1</td>\n      <td>{}</td>\n      <td>42</td>\n      <td>red</td>\n    </tr>\n    <tr>\n      <th>T2</th>\n      <td>1</td>\n      <td>{}</td>\n      <td>42</td>\n      <td>red</td>\n    </tr>\n    <tr>\n      <th rowspan=\"2\" valign=\"top\">L</th>\n      <th>C</th>\n      <td>1</td>\n      <td>{}</td>\n      <td>42</td>\n      <td>red</td>\n    </tr>\n    <tr>\n      <th>E</th>\n      <td>1</td>\n      <td>{}</td>\n      <td>42</td>\n      <td>red</td>\n    </tr>\n    <tr>\n      <th rowspan=\"2\" valign=\"top\">O</th>\n      <th>T1</th>\n      <td>1</td>\n      <td>{}</td>\n      <td>42</td>\n      <td>red</td>\n    </tr>\n    <tr>\n      <th>T2</th>\n      <td>1</td>\n      <td>{}</td>\n      <td>42</td>\n      <td>red</td>\n    </tr>\n    <tr>\n      <th rowspan=\"3\" valign=\"top\">P</th>\n      <th>A</th>\n      <td>1</td>\n      <td>{}</td>\n      <td>42</td>\n      <td>red</td>\n    </tr>\n    <tr>\n      <th>C</th>\n      <td>1</td>\n      <td>{}</td>\n      <td>42</td>\n      <td>red</td>\n    </tr>\n    <tr>\n      <th>K</th>\n      <td>1</td>\n      <td>{}</td>\n      <td>42</td>\n      <td>red</td>\n    </tr>\n    <tr>\n      <th rowspan=\"2\" valign=\"top\">R</th>\n      <th>A</th>\n      <td>1</td>\n      <td>{}</td>\n      <td>42</td>\n      <td>red</td>\n    </tr>\n    <tr>\n      <th>E</th>\n      <td>1</td>\n      <td>{}</td>\n      <td>42</td>\n      <td>red</td>\n    </tr>\n    <tr>\n      <th rowspan=\"4\" valign=\"top\">S</th>\n      <th>A</th>\n      <td>1</td>\n      <td>{}</td>\n      <td>42</td>\n      <td>red</td>\n    </tr>\n    <tr>\n      <th>K</th>\n      <td>1</td>\n      <td>{}</td>\n      <td>42</td>\n      <td>red</td>\n    </tr>\n    <tr>\n      <th>T2</th>\n      <td>1</td>\n      <td>{}</td>\n      <td>42</td>\n      <td>red</td>\n    </tr>\n    <tr>\n      <th>V</th>\n      <td>1</td>\n      <td>{}</td>\n      <td>42</td>\n      <td>red</td>\n    </tr>\n  </tbody>\n</table>\n</div>"
     },
     "execution_count": 23,
     "metadata": {},
     "output_type": "execute_result"
    }
   ],
   "source": [
    "incidence_df"
   ]
  },
  {
   "cell_type": "code",
   "execution_count": 24,
   "id": "a048092e4b628b1c",
   "metadata": {
    "collapsed": false,
    "ExecuteTime": {
     "end_time": "2024-03-12T23:45:03.133724Z",
     "start_time": "2024-03-12T23:45:03.091619Z"
    }
   },
   "outputs": [],
   "source": [
    "inc_ps = PropertyStore(incidence_df)"
   ]
  },
  {
   "cell_type": "code",
   "execution_count": 25,
   "id": "d94d9e5664364c0c",
   "metadata": {
    "collapsed": false,
    "ExecuteTime": {
     "end_time": "2024-03-12T23:45:03.134407Z",
     "start_time": "2024-03-12T23:45:03.091958Z"
    }
   },
   "outputs": [
    {
     "data": {
      "text/plain": "          weight misc_properties  strength hair_color  \\\nlevel id                                                \nI     K        1              {}        42        red   \n      T2       1              {}        42        red   \nL     C        1              {}        42        red   \n      E        1              {}        42        red   \nO     T1       1              {}        42        red   \n      T2       1              {}        42        red   \nP     A        1              {}        42        red   \n      C        1              {}        42        red   \n      K        1              {}        42        red   \nR     A        1              {}        42        red   \n      E        1              {}        42        red   \nS     A        1              {}        42        red   \n      K        1              {}        42        red   \n      T2       1              {}        42        red   \n      V        1              {}        42        red   \n\n                                           uid  \nlevel id                                        \nI     K   a9480e6d-b35d-4e85-aecf-281be8b4416d  \n      T2  746c4626-4bf8-4cac-9175-87609f4b9695  \nL     C   954f8ab7-7b29-42d6-9faf-8076edb46fde  \n      E   56e812d7-5b78-45ba-a71a-5e5a3d14d57d  \nO     T1  ff55771d-872a-4c31-ad1a-a3429f38fdf4  \n      T2  8eba7627-33c1-4ed6-b307-c845733975fc  \nP     A   20d7fc56-b4fe-44db-926e-bb3c15432878  \n      C   e484a40e-92f5-438b-b7fc-69c9a2b3e88e  \n      K   6b579df7-d440-41ab-908b-25e94f880b93  \nR     A   3c057d33-9cae-427e-bfcf-3134e85b3219  \n      E   e110416d-db4b-4a62-9bb6-de9e80221da2  \nS     A   e410791f-3724-41cf-b5d6-10063741d916  \n      K   72c7683b-2022-4360-bb35-0a6fef1ac2a3  \n      T2  f3dab40a-5bf2-4ed7-8be8-d62f4b5da7a5  \n      V   783873d6-f616-4a2d-bfc4-43c7c186dd05  ",
      "text/html": "<div>\n<style scoped>\n    .dataframe tbody tr th:only-of-type {\n        vertical-align: middle;\n    }\n\n    .dataframe tbody tr th {\n        vertical-align: top;\n    }\n\n    .dataframe thead th {\n        text-align: right;\n    }\n</style>\n<table border=\"1\" class=\"dataframe\">\n  <thead>\n    <tr style=\"text-align: right;\">\n      <th></th>\n      <th></th>\n      <th>weight</th>\n      <th>misc_properties</th>\n      <th>strength</th>\n      <th>hair_color</th>\n      <th>uid</th>\n    </tr>\n    <tr>\n      <th>level</th>\n      <th>id</th>\n      <th></th>\n      <th></th>\n      <th></th>\n      <th></th>\n      <th></th>\n    </tr>\n  </thead>\n  <tbody>\n    <tr>\n      <th rowspan=\"2\" valign=\"top\">I</th>\n      <th>K</th>\n      <td>1</td>\n      <td>{}</td>\n      <td>42</td>\n      <td>red</td>\n      <td>a9480e6d-b35d-4e85-aecf-281be8b4416d</td>\n    </tr>\n    <tr>\n      <th>T2</th>\n      <td>1</td>\n      <td>{}</td>\n      <td>42</td>\n      <td>red</td>\n      <td>746c4626-4bf8-4cac-9175-87609f4b9695</td>\n    </tr>\n    <tr>\n      <th rowspan=\"2\" valign=\"top\">L</th>\n      <th>C</th>\n      <td>1</td>\n      <td>{}</td>\n      <td>42</td>\n      <td>red</td>\n      <td>954f8ab7-7b29-42d6-9faf-8076edb46fde</td>\n    </tr>\n    <tr>\n      <th>E</th>\n      <td>1</td>\n      <td>{}</td>\n      <td>42</td>\n      <td>red</td>\n      <td>56e812d7-5b78-45ba-a71a-5e5a3d14d57d</td>\n    </tr>\n    <tr>\n      <th rowspan=\"2\" valign=\"top\">O</th>\n      <th>T1</th>\n      <td>1</td>\n      <td>{}</td>\n      <td>42</td>\n      <td>red</td>\n      <td>ff55771d-872a-4c31-ad1a-a3429f38fdf4</td>\n    </tr>\n    <tr>\n      <th>T2</th>\n      <td>1</td>\n      <td>{}</td>\n      <td>42</td>\n      <td>red</td>\n      <td>8eba7627-33c1-4ed6-b307-c845733975fc</td>\n    </tr>\n    <tr>\n      <th rowspan=\"3\" valign=\"top\">P</th>\n      <th>A</th>\n      <td>1</td>\n      <td>{}</td>\n      <td>42</td>\n      <td>red</td>\n      <td>20d7fc56-b4fe-44db-926e-bb3c15432878</td>\n    </tr>\n    <tr>\n      <th>C</th>\n      <td>1</td>\n      <td>{}</td>\n      <td>42</td>\n      <td>red</td>\n      <td>e484a40e-92f5-438b-b7fc-69c9a2b3e88e</td>\n    </tr>\n    <tr>\n      <th>K</th>\n      <td>1</td>\n      <td>{}</td>\n      <td>42</td>\n      <td>red</td>\n      <td>6b579df7-d440-41ab-908b-25e94f880b93</td>\n    </tr>\n    <tr>\n      <th rowspan=\"2\" valign=\"top\">R</th>\n      <th>A</th>\n      <td>1</td>\n      <td>{}</td>\n      <td>42</td>\n      <td>red</td>\n      <td>3c057d33-9cae-427e-bfcf-3134e85b3219</td>\n    </tr>\n    <tr>\n      <th>E</th>\n      <td>1</td>\n      <td>{}</td>\n      <td>42</td>\n      <td>red</td>\n      <td>e110416d-db4b-4a62-9bb6-de9e80221da2</td>\n    </tr>\n    <tr>\n      <th rowspan=\"4\" valign=\"top\">S</th>\n      <th>A</th>\n      <td>1</td>\n      <td>{}</td>\n      <td>42</td>\n      <td>red</td>\n      <td>e410791f-3724-41cf-b5d6-10063741d916</td>\n    </tr>\n    <tr>\n      <th>K</th>\n      <td>1</td>\n      <td>{}</td>\n      <td>42</td>\n      <td>red</td>\n      <td>72c7683b-2022-4360-bb35-0a6fef1ac2a3</td>\n    </tr>\n    <tr>\n      <th>T2</th>\n      <td>1</td>\n      <td>{}</td>\n      <td>42</td>\n      <td>red</td>\n      <td>f3dab40a-5bf2-4ed7-8be8-d62f4b5da7a5</td>\n    </tr>\n    <tr>\n      <th>V</th>\n      <td>1</td>\n      <td>{}</td>\n      <td>42</td>\n      <td>red</td>\n      <td>783873d6-f616-4a2d-bfc4-43c7c186dd05</td>\n    </tr>\n  </tbody>\n</table>\n</div>"
     },
     "execution_count": 25,
     "metadata": {},
     "output_type": "execute_result"
    }
   ],
   "source": [
    "inc_ps.properties"
   ]
  },
  {
   "cell_type": "code",
   "execution_count": 26,
   "id": "2c04bc5b7745ed6",
   "metadata": {
    "collapsed": false,
    "ExecuteTime": {
     "end_time": "2024-03-12T23:45:03.134901Z",
     "start_time": "2024-03-12T23:45:03.092034Z"
    }
   },
   "outputs": [
    {
     "data": {
      "text/plain": "{'weight': 1,\n 'misc_properties': {},\n 'strength': 42,\n 'hair_color': 'red',\n 'uid': '954f8ab7-7b29-42d6-9faf-8076edb46fde'}"
     },
     "execution_count": 26,
     "metadata": {},
     "output_type": "execute_result"
    }
   ],
   "source": [
    "inc_ps.get_properties(('L', 'C'))"
   ]
  },
  {
   "cell_type": "code",
   "execution_count": 27,
   "id": "6ecfec1df0bc900c",
   "metadata": {
    "collapsed": false,
    "ExecuteTime": {
     "end_time": "2024-03-12T23:45:03.135350Z",
     "start_time": "2024-03-12T23:45:03.092079Z"
    }
   },
   "outputs": [
    {
     "data": {
      "text/plain": "'red'"
     },
     "execution_count": 27,
     "metadata": {},
     "output_type": "execute_result"
    }
   ],
   "source": [
    "inc_ps.get_property(('L', 'C'), 'hair_color')"
   ]
  },
  {
   "cell_type": "code",
   "execution_count": 28,
   "id": "ae093f997d2818ec",
   "metadata": {
    "collapsed": false,
    "ExecuteTime": {
     "end_time": "2024-03-12T23:45:03.135829Z",
     "start_time": "2024-03-12T23:45:03.092245Z"
    }
   },
   "outputs": [
    {
     "data": {
      "text/plain": "'green'"
     },
     "execution_count": 28,
     "metadata": {},
     "output_type": "execute_result"
    }
   ],
   "source": [
    "inc_ps.set_property(('L', 'C'), 'hair_color', 'green')\n",
    "inc_ps.get_property(('L', 'C'), 'hair_color')"
   ]
  },
  {
   "cell_type": "code",
   "execution_count": 29,
   "id": "e97f3c0b1cc74cf5",
   "metadata": {
    "collapsed": false,
    "ExecuteTime": {
     "end_time": "2024-03-12T23:45:03.139929Z",
     "start_time": "2024-03-12T23:45:03.092292Z"
    }
   },
   "outputs": [
    {
     "data": {
      "text/plain": "          weight misc_properties  strength hair_color  \\\nlevel id                                                \nI     K        1              {}        42        red   \n      T2       1              {}        42        red   \nL     C        1              {}        42      green   \n      E        1              {}        42        red   \nO     T1       1              {}        42        red   \n      T2       1              {}        42        red   \nP     A        1              {}        42        red   \n      C        1              {}        42        red   \n      K        1              {}        42        red   \nR     A        1              {}        42        red   \n      E        1              {}        42        red   \nS     A        1              {}        42        red   \n      K        1              {}        42        red   \n      T2       1              {}        42        red   \n      V        1              {}        42        red   \n\n                                           uid  \nlevel id                                        \nI     K   a9480e6d-b35d-4e85-aecf-281be8b4416d  \n      T2  746c4626-4bf8-4cac-9175-87609f4b9695  \nL     C   954f8ab7-7b29-42d6-9faf-8076edb46fde  \n      E   56e812d7-5b78-45ba-a71a-5e5a3d14d57d  \nO     T1  ff55771d-872a-4c31-ad1a-a3429f38fdf4  \n      T2  8eba7627-33c1-4ed6-b307-c845733975fc  \nP     A   20d7fc56-b4fe-44db-926e-bb3c15432878  \n      C   e484a40e-92f5-438b-b7fc-69c9a2b3e88e  \n      K   6b579df7-d440-41ab-908b-25e94f880b93  \nR     A   3c057d33-9cae-427e-bfcf-3134e85b3219  \n      E   e110416d-db4b-4a62-9bb6-de9e80221da2  \nS     A   e410791f-3724-41cf-b5d6-10063741d916  \n      K   72c7683b-2022-4360-bb35-0a6fef1ac2a3  \n      T2  f3dab40a-5bf2-4ed7-8be8-d62f4b5da7a5  \n      V   783873d6-f616-4a2d-bfc4-43c7c186dd05  ",
      "text/html": "<div>\n<style scoped>\n    .dataframe tbody tr th:only-of-type {\n        vertical-align: middle;\n    }\n\n    .dataframe tbody tr th {\n        vertical-align: top;\n    }\n\n    .dataframe thead th {\n        text-align: right;\n    }\n</style>\n<table border=\"1\" class=\"dataframe\">\n  <thead>\n    <tr style=\"text-align: right;\">\n      <th></th>\n      <th></th>\n      <th>weight</th>\n      <th>misc_properties</th>\n      <th>strength</th>\n      <th>hair_color</th>\n      <th>uid</th>\n    </tr>\n    <tr>\n      <th>level</th>\n      <th>id</th>\n      <th></th>\n      <th></th>\n      <th></th>\n      <th></th>\n      <th></th>\n    </tr>\n  </thead>\n  <tbody>\n    <tr>\n      <th rowspan=\"2\" valign=\"top\">I</th>\n      <th>K</th>\n      <td>1</td>\n      <td>{}</td>\n      <td>42</td>\n      <td>red</td>\n      <td>a9480e6d-b35d-4e85-aecf-281be8b4416d</td>\n    </tr>\n    <tr>\n      <th>T2</th>\n      <td>1</td>\n      <td>{}</td>\n      <td>42</td>\n      <td>red</td>\n      <td>746c4626-4bf8-4cac-9175-87609f4b9695</td>\n    </tr>\n    <tr>\n      <th rowspan=\"2\" valign=\"top\">L</th>\n      <th>C</th>\n      <td>1</td>\n      <td>{}</td>\n      <td>42</td>\n      <td>green</td>\n      <td>954f8ab7-7b29-42d6-9faf-8076edb46fde</td>\n    </tr>\n    <tr>\n      <th>E</th>\n      <td>1</td>\n      <td>{}</td>\n      <td>42</td>\n      <td>red</td>\n      <td>56e812d7-5b78-45ba-a71a-5e5a3d14d57d</td>\n    </tr>\n    <tr>\n      <th rowspan=\"2\" valign=\"top\">O</th>\n      <th>T1</th>\n      <td>1</td>\n      <td>{}</td>\n      <td>42</td>\n      <td>red</td>\n      <td>ff55771d-872a-4c31-ad1a-a3429f38fdf4</td>\n    </tr>\n    <tr>\n      <th>T2</th>\n      <td>1</td>\n      <td>{}</td>\n      <td>42</td>\n      <td>red</td>\n      <td>8eba7627-33c1-4ed6-b307-c845733975fc</td>\n    </tr>\n    <tr>\n      <th rowspan=\"3\" valign=\"top\">P</th>\n      <th>A</th>\n      <td>1</td>\n      <td>{}</td>\n      <td>42</td>\n      <td>red</td>\n      <td>20d7fc56-b4fe-44db-926e-bb3c15432878</td>\n    </tr>\n    <tr>\n      <th>C</th>\n      <td>1</td>\n      <td>{}</td>\n      <td>42</td>\n      <td>red</td>\n      <td>e484a40e-92f5-438b-b7fc-69c9a2b3e88e</td>\n    </tr>\n    <tr>\n      <th>K</th>\n      <td>1</td>\n      <td>{}</td>\n      <td>42</td>\n      <td>red</td>\n      <td>6b579df7-d440-41ab-908b-25e94f880b93</td>\n    </tr>\n    <tr>\n      <th rowspan=\"2\" valign=\"top\">R</th>\n      <th>A</th>\n      <td>1</td>\n      <td>{}</td>\n      <td>42</td>\n      <td>red</td>\n      <td>3c057d33-9cae-427e-bfcf-3134e85b3219</td>\n    </tr>\n    <tr>\n      <th>E</th>\n      <td>1</td>\n      <td>{}</td>\n      <td>42</td>\n      <td>red</td>\n      <td>e110416d-db4b-4a62-9bb6-de9e80221da2</td>\n    </tr>\n    <tr>\n      <th rowspan=\"4\" valign=\"top\">S</th>\n      <th>A</th>\n      <td>1</td>\n      <td>{}</td>\n      <td>42</td>\n      <td>red</td>\n      <td>e410791f-3724-41cf-b5d6-10063741d916</td>\n    </tr>\n    <tr>\n      <th>K</th>\n      <td>1</td>\n      <td>{}</td>\n      <td>42</td>\n      <td>red</td>\n      <td>72c7683b-2022-4360-bb35-0a6fef1ac2a3</td>\n    </tr>\n    <tr>\n      <th>T2</th>\n      <td>1</td>\n      <td>{}</td>\n      <td>42</td>\n      <td>red</td>\n      <td>f3dab40a-5bf2-4ed7-8be8-d62f4b5da7a5</td>\n    </tr>\n    <tr>\n      <th>V</th>\n      <td>1</td>\n      <td>{}</td>\n      <td>42</td>\n      <td>red</td>\n      <td>783873d6-f616-4a2d-bfc4-43c7c186dd05</td>\n    </tr>\n  </tbody>\n</table>\n</div>"
     },
     "execution_count": 29,
     "metadata": {},
     "output_type": "execute_result"
    }
   ],
   "source": [
    "inc_ps.properties"
   ]
  },
  {
   "cell_type": "code",
   "execution_count": 30,
   "id": "46be788a07e18776",
   "metadata": {
    "collapsed": false,
    "ExecuteTime": {
     "end_time": "2024-03-12T23:45:03.140565Z",
     "start_time": "2024-03-12T23:45:03.092350Z"
    }
   },
   "outputs": [
    {
     "data": {
      "text/plain": "15"
     },
     "execution_count": 30,
     "metadata": {},
     "output_type": "execute_result"
    }
   ],
   "source": [
    "len(inc_ps)"
   ]
  },
  {
   "cell_type": "code",
   "execution_count": 31,
   "id": "aabe6182c6f74b94",
   "metadata": {
    "collapsed": false,
    "ExecuteTime": {
     "end_time": "2024-03-12T23:45:03.141084Z",
     "start_time": "2024-03-12T23:45:03.092433Z"
    }
   },
   "outputs": [
    {
     "data": {
      "text/plain": "{'weight': 1,\n 'misc_properties': {},\n 'strength': 42,\n 'hair_color': 'green',\n 'uid': '954f8ab7-7b29-42d6-9faf-8076edb46fde'}"
     },
     "execution_count": 31,
     "metadata": {},
     "output_type": "execute_result"
    }
   ],
   "source": [
    "inc_ps[('L', 'C')]"
   ]
  },
  {
   "cell_type": "code",
   "execution_count": 32,
   "id": "58ee1c61f5180d25",
   "metadata": {
    "collapsed": false,
    "ExecuteTime": {
     "end_time": "2024-03-12T23:45:03.142188Z",
     "start_time": "2024-03-12T23:45:03.093355Z"
    }
   },
   "outputs": [
    {
     "data": {
      "text/plain": "{'weight': 1,\n 'misc_properties': {},\n 'strength': 42,\n 'hair_color': 'green',\n 'uid': '954f8ab7-7b29-42d6-9faf-8076edb46fde'}"
     },
     "execution_count": 32,
     "metadata": {},
     "output_type": "execute_result"
    }
   ],
   "source": [
    "inc_ps.get_properties(('L', 'C'))"
   ]
  },
  {
   "cell_type": "code",
   "execution_count": 33,
   "id": "c23420ac85d15fe0",
   "metadata": {
    "collapsed": false,
    "ExecuteTime": {
     "end_time": "2024-03-12T23:45:03.143691Z",
     "start_time": "2024-03-12T23:45:03.095808Z"
    }
   },
   "outputs": [
    {
     "data": {
      "text/plain": "True"
     },
     "execution_count": 33,
     "metadata": {},
     "output_type": "execute_result"
    }
   ],
   "source": [
    "('L', 'C') in inc_ps"
   ]
  },
  {
   "cell_type": "code",
   "execution_count": 34,
   "id": "7a1f14c1620e2809",
   "metadata": {
    "collapsed": false,
    "ExecuteTime": {
     "end_time": "2024-03-12T23:45:03.150148Z",
     "start_time": "2024-03-12T23:45:03.098092Z"
    }
   },
   "outputs": [
    {
     "data": {
      "text/plain": "False"
     },
     "execution_count": 34,
     "metadata": {},
     "output_type": "execute_result"
    }
   ],
   "source": [
    "('NE', 'MO') in inc_ps"
   ]
  },
  {
   "cell_type": "code",
   "execution_count": 35,
   "id": "7570b20087101e83",
   "metadata": {
    "collapsed": false,
    "ExecuteTime": {
     "end_time": "2024-03-12T23:45:03.174304Z",
     "start_time": "2024-03-12T23:45:03.100495Z"
    }
   },
   "outputs": [
    {
     "name": "stdout",
     "output_type": "stream",
     "text": [
      "('I', 'K')\n",
      "('I', 'T2')\n",
      "('L', 'C')\n",
      "('L', 'E')\n",
      "('O', 'T1')\n",
      "('O', 'T2')\n",
      "('P', 'A')\n",
      "('P', 'C')\n",
      "('P', 'K')\n",
      "('R', 'A')\n",
      "('R', 'E')\n",
      "('S', 'A')\n",
      "('S', 'K')\n",
      "('S', 'T2')\n",
      "('S', 'V')\n"
     ]
    }
   ],
   "source": [
    "for uid_property in inc_ps:\n",
    "    print(uid_property)"
   ]
  },
  {
   "cell_type": "code",
   "execution_count": 36,
   "id": "90a3b2ffd651fd91",
   "metadata": {
    "collapsed": false,
    "ExecuteTime": {
     "end_time": "2024-03-12T23:45:03.175722Z",
     "start_time": "2024-03-12T23:45:03.103236Z"
    }
   },
   "outputs": [
    {
     "data": {
      "text/plain": "MultiIndex([('I',  'K'),\n            ('I', 'T2'),\n            ('L',  'C'),\n            ('L',  'E'),\n            ('O', 'T1'),\n            ('O', 'T2'),\n            ('P',  'A'),\n            ('P',  'C'),\n            ('P',  'K'),\n            ('R',  'A'),\n            ('R',  'E'),\n            ('S',  'A'),\n            ('S',  'K'),\n            ('S', 'T2'),\n            ('S',  'V')],\n           names=['level', 'id'])"
     },
     "execution_count": 36,
     "metadata": {},
     "output_type": "execute_result"
    }
   ],
   "source": [
    "inc_ps.properties.index"
   ]
  },
  {
   "cell_type": "code",
   "execution_count": 37,
   "id": "c4a53079-eb4f-426d-8d7f-2ec6e3de61d9",
   "metadata": {
    "ExecuteTime": {
     "end_time": "2024-03-12T23:45:03.176448Z",
     "start_time": "2024-03-12T23:45:03.105878Z"
    }
   },
   "outputs": [
    {
     "data": {
      "text/plain": "Index(['weight', 'misc_properties', 'uid'], dtype='object')"
     },
     "execution_count": 37,
     "metadata": {},
     "output_type": "execute_result"
    }
   ],
   "source": [
    "edges_ps.properties.columns"
   ]
  },
  {
   "cell_type": "code",
   "execution_count": 38,
   "id": "3e035c08-9639-4339-a0f2-6eade48cfef3",
   "metadata": {
    "ExecuteTime": {
     "end_time": "2024-03-12T23:45:03.177675Z",
     "start_time": "2024-03-12T23:45:03.110044Z"
    }
   },
   "outputs": [
    {
     "data": {
      "text/plain": "    weight misc_properties uid\nid                            \nA        1              {}   A\nC        1              {}   C\nE        1              {}   E\nK        1              {}   K\nT1       1              {}  T1\nT2       1              {}  T2\nV        1              {}   V",
      "text/html": "<div>\n<style scoped>\n    .dataframe tbody tr th:only-of-type {\n        vertical-align: middle;\n    }\n\n    .dataframe tbody tr th {\n        vertical-align: top;\n    }\n\n    .dataframe thead th {\n        text-align: right;\n    }\n</style>\n<table border=\"1\" class=\"dataframe\">\n  <thead>\n    <tr style=\"text-align: right;\">\n      <th></th>\n      <th>weight</th>\n      <th>misc_properties</th>\n      <th>uid</th>\n    </tr>\n    <tr>\n      <th>id</th>\n      <th></th>\n      <th></th>\n      <th></th>\n    </tr>\n  </thead>\n  <tbody>\n    <tr>\n      <th>A</th>\n      <td>1</td>\n      <td>{}</td>\n      <td>A</td>\n    </tr>\n    <tr>\n      <th>C</th>\n      <td>1</td>\n      <td>{}</td>\n      <td>C</td>\n    </tr>\n    <tr>\n      <th>E</th>\n      <td>1</td>\n      <td>{}</td>\n      <td>E</td>\n    </tr>\n    <tr>\n      <th>K</th>\n      <td>1</td>\n      <td>{}</td>\n      <td>K</td>\n    </tr>\n    <tr>\n      <th>T1</th>\n      <td>1</td>\n      <td>{}</td>\n      <td>T1</td>\n    </tr>\n    <tr>\n      <th>T2</th>\n      <td>1</td>\n      <td>{}</td>\n      <td>T2</td>\n    </tr>\n    <tr>\n      <th>V</th>\n      <td>1</td>\n      <td>{}</td>\n      <td>V</td>\n    </tr>\n  </tbody>\n</table>\n</div>"
     },
     "execution_count": 38,
     "metadata": {},
     "output_type": "execute_result"
    }
   ],
   "source": [
    "nodes_ps = PropertyStore(nodes_df, index=True)\n",
    "nodes_ps.properties"
   ]
  },
  {
   "cell_type": "code",
   "outputs": [],
   "source": [],
   "metadata": {
    "collapsed": false,
    "ExecuteTime": {
     "end_time": "2024-03-12T23:45:03.179151Z",
     "start_time": "2024-03-12T23:45:03.112166Z"
    }
   },
   "id": "e32fbfed693fdf87",
   "execution_count": 38
  }
 ],
 "metadata": {
  "kernelspec": {
   "display_name": "venv-hnx",
   "language": "python",
   "name": "venv-hnx"
  },
  "language_info": {
   "codemirror_mode": {
    "name": "ipython",
    "version": 3
   },
   "file_extension": ".py",
   "mimetype": "text/x-python",
   "name": "python",
   "nbconvert_exporter": "python",
   "pygments_lexer": "ipython3",
   "version": "3.11.3"
  }
 },
 "nbformat": 4,
 "nbformat_minor": 5
}
