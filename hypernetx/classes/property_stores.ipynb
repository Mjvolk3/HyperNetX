{
 "cells": [
  {
   "cell_type": "code",
   "execution_count": 1,
   "id": "4f19fd90-bf5b-4669-972b-ebc1c7c18cde",
   "metadata": {
    "ExecuteTime": {
     "end_time": "2024-02-23T21:34:11.671644Z",
     "start_time": "2024-02-23T21:34:11.016480Z"
    }
   },
   "outputs": [],
   "source": [
    "from property_store import DataFramePropertyStore\n",
    "import pandas as pd"
   ]
  },
  {
   "cell_type": "code",
   "outputs": [],
   "source": [
    "EDGE_LEVEL = 'e'\n",
    "NODE_LEVEL = 'n'\n",
    "LEVEL = 'level'\n",
    "ID = 'id'\n",
    "UUID = 'uuid'\n",
    "WEIGHT = 'weight'\n",
    "PROPERTIES = 'properties'\n",
    "PROPERTIES_COLUMNS = [WEIGHT, PROPERTIES]\n",
    "STRENGTH = 'strength'\n",
    "HAIR_COLOR = 'hair_color'\n",
    "INCIDENCES_PROPERTIES_COLUMNS = [WEIGHT, PROPERTIES, STRENGTH, HAIR_COLOR]\n"
   ],
   "metadata": {
    "collapsed": false,
    "ExecuteTime": {
     "end_time": "2024-02-23T21:34:11.675565Z",
     "start_time": "2024-02-23T21:34:11.671848Z"
    }
   },
   "id": "b0c4f4b20bfd82a8",
   "execution_count": 2
  },
  {
   "cell_type": "code",
   "outputs": [],
   "source": [
    "edges = ['I', 'L', 'O', 'P', 'R', 'S']\n",
    "edges = [(EDGE_LEVEL, e) for e in edges]\n",
    "\n",
    "nodes = ['A', 'C', 'E', 'K', 'T1', 'T2', 'V']\n",
    "nodes = [(NODE_LEVEL, n) for n in nodes]\n",
    "\n",
    "incidences = [('I', 'K'), ('I', 'T2'), ('L', 'C'), ('L', 'E'), ('O', 'T1'), ('O', 'T2'), ('P', 'A'), ('P', 'C'), ('P', 'K'), ('R', 'A'), ('R', 'E'), ('S', 'A'), ('S', 'K'), ('S', 'T2'), ('S', 'V')]"
   ],
   "metadata": {
    "collapsed": false,
    "ExecuteTime": {
     "end_time": "2024-02-23T21:34:11.679091Z",
     "start_time": "2024-02-23T21:34:11.675300Z"
    }
   },
   "id": "8c21366f6624756b",
   "execution_count": 3
  },
  {
   "cell_type": "code",
   "outputs": [],
   "source": [
    "edges_index = pd.MultiIndex.from_tuples(edges, names=[LEVEL, ID])\n",
    "nodes_index = pd.MultiIndex.from_tuples(nodes, names=[LEVEL, ID])\n",
    "ip_index = pd.MultiIndex.from_tuples(incidences, names=[LEVEL, ID])"
   ],
   "metadata": {
    "collapsed": false,
    "ExecuteTime": {
     "end_time": "2024-02-23T21:34:11.682558Z",
     "start_time": "2024-02-23T21:34:11.678911Z"
    }
   },
   "id": "73ac534aa8865bd8",
   "execution_count": 4
  },
  {
   "cell_type": "code",
   "outputs": [],
   "source": [
    "# corresponding property store data\n",
    "# uid, weight, properties\n",
    "import uuid\n",
    "edges_data = [(1, {}) for _ in range(len(edges_index))]\n",
    "nodes_data = [(1, {}) for _ in range(len(nodes_index))]\n",
    "inc_data = [(1, {}, 42, 'red') for _ in range(len(ip_index))]"
   ],
   "metadata": {
    "collapsed": false,
    "ExecuteTime": {
     "end_time": "2024-02-23T21:34:11.683632Z",
     "start_time": "2024-02-23T21:34:11.681337Z"
    }
   },
   "id": "7073a872bd5fcf69",
   "execution_count": 5
  },
  {
   "cell_type": "code",
   "outputs": [],
   "source": [
    "# columns should map corresponding fields to the data\n",
    "edges_df = pd.DataFrame(data=edges_data, index=edges_index, columns=PROPERTIES_COLUMNS)\n",
    "nodes_df = pd.DataFrame(data=nodes_data, index=nodes_index, columns=PROPERTIES_COLUMNS)\n",
    "incidence_df = pd.DataFrame(data=inc_data, index=ip_index, columns=INCIDENCES_PROPERTIES_COLUMNS)"
   ],
   "metadata": {
    "collapsed": false,
    "ExecuteTime": {
     "end_time": "2024-02-23T21:34:11.687011Z",
     "start_time": "2024-02-23T21:34:11.683254Z"
    }
   },
   "id": "4d89507e27fb39e1",
   "execution_count": 6
  },
  {
   "cell_type": "code",
   "outputs": [
    {
     "data": {
      "text/plain": "          weight properties\nlevel id                   \ne     I        1         {}\n      L        1         {}\n      O        1         {}\n      P        1         {}\n      R        1         {}\n      S        1         {}",
      "text/html": "<div>\n<style scoped>\n    .dataframe tbody tr th:only-of-type {\n        vertical-align: middle;\n    }\n\n    .dataframe tbody tr th {\n        vertical-align: top;\n    }\n\n    .dataframe thead th {\n        text-align: right;\n    }\n</style>\n<table border=\"1\" class=\"dataframe\">\n  <thead>\n    <tr style=\"text-align: right;\">\n      <th></th>\n      <th></th>\n      <th>weight</th>\n      <th>properties</th>\n    </tr>\n    <tr>\n      <th>level</th>\n      <th>id</th>\n      <th></th>\n      <th></th>\n    </tr>\n  </thead>\n  <tbody>\n    <tr>\n      <th rowspan=\"6\" valign=\"top\">e</th>\n      <th>I</th>\n      <td>1</td>\n      <td>{}</td>\n    </tr>\n    <tr>\n      <th>L</th>\n      <td>1</td>\n      <td>{}</td>\n    </tr>\n    <tr>\n      <th>O</th>\n      <td>1</td>\n      <td>{}</td>\n    </tr>\n    <tr>\n      <th>P</th>\n      <td>1</td>\n      <td>{}</td>\n    </tr>\n    <tr>\n      <th>R</th>\n      <td>1</td>\n      <td>{}</td>\n    </tr>\n    <tr>\n      <th>S</th>\n      <td>1</td>\n      <td>{}</td>\n    </tr>\n  </tbody>\n</table>\n</div>"
     },
     "execution_count": 7,
     "metadata": {},
     "output_type": "execute_result"
    }
   ],
   "source": [
    "edges_df"
   ],
   "metadata": {
    "collapsed": false,
    "ExecuteTime": {
     "end_time": "2024-02-23T21:34:11.693883Z",
     "start_time": "2024-02-23T21:34:11.687338Z"
    }
   },
   "id": "efa09bcdb6fbdba6",
   "execution_count": 7
  },
  {
   "cell_type": "code",
   "outputs": [
    {
     "data": {
      "text/plain": "          weight properties\nlevel id                   \nn     A        1         {}\n      C        1         {}\n      E        1         {}\n      K        1         {}\n      T1       1         {}\n      T2       1         {}\n      V        1         {}",
      "text/html": "<div>\n<style scoped>\n    .dataframe tbody tr th:only-of-type {\n        vertical-align: middle;\n    }\n\n    .dataframe tbody tr th {\n        vertical-align: top;\n    }\n\n    .dataframe thead th {\n        text-align: right;\n    }\n</style>\n<table border=\"1\" class=\"dataframe\">\n  <thead>\n    <tr style=\"text-align: right;\">\n      <th></th>\n      <th></th>\n      <th>weight</th>\n      <th>properties</th>\n    </tr>\n    <tr>\n      <th>level</th>\n      <th>id</th>\n      <th></th>\n      <th></th>\n    </tr>\n  </thead>\n  <tbody>\n    <tr>\n      <th rowspan=\"7\" valign=\"top\">n</th>\n      <th>A</th>\n      <td>1</td>\n      <td>{}</td>\n    </tr>\n    <tr>\n      <th>C</th>\n      <td>1</td>\n      <td>{}</td>\n    </tr>\n    <tr>\n      <th>E</th>\n      <td>1</td>\n      <td>{}</td>\n    </tr>\n    <tr>\n      <th>K</th>\n      <td>1</td>\n      <td>{}</td>\n    </tr>\n    <tr>\n      <th>T1</th>\n      <td>1</td>\n      <td>{}</td>\n    </tr>\n    <tr>\n      <th>T2</th>\n      <td>1</td>\n      <td>{}</td>\n    </tr>\n    <tr>\n      <th>V</th>\n      <td>1</td>\n      <td>{}</td>\n    </tr>\n  </tbody>\n</table>\n</div>"
     },
     "execution_count": 8,
     "metadata": {},
     "output_type": "execute_result"
    }
   ],
   "source": [
    "nodes_df"
   ],
   "metadata": {
    "collapsed": false,
    "ExecuteTime": {
     "end_time": "2024-02-23T21:34:11.699794Z",
     "start_time": "2024-02-23T21:34:11.694513Z"
    }
   },
   "id": "3f74ad48d04d04ed",
   "execution_count": 8
  },
  {
   "cell_type": "code",
   "outputs": [
    {
     "data": {
      "text/plain": "          weight properties  strength hair_color\nlevel id                                        \nI     K        1         {}        42        red\n      T2       1         {}        42        red\nL     C        1         {}        42        red\n      E        1         {}        42        red\nO     T1       1         {}        42        red\n      T2       1         {}        42        red\nP     A        1         {}        42        red\n      C        1         {}        42        red\n      K        1         {}        42        red\nR     A        1         {}        42        red\n      E        1         {}        42        red\nS     A        1         {}        42        red\n      K        1         {}        42        red\n      T2       1         {}        42        red\n      V        1         {}        42        red",
      "text/html": "<div>\n<style scoped>\n    .dataframe tbody tr th:only-of-type {\n        vertical-align: middle;\n    }\n\n    .dataframe tbody tr th {\n        vertical-align: top;\n    }\n\n    .dataframe thead th {\n        text-align: right;\n    }\n</style>\n<table border=\"1\" class=\"dataframe\">\n  <thead>\n    <tr style=\"text-align: right;\">\n      <th></th>\n      <th></th>\n      <th>weight</th>\n      <th>properties</th>\n      <th>strength</th>\n      <th>hair_color</th>\n    </tr>\n    <tr>\n      <th>level</th>\n      <th>id</th>\n      <th></th>\n      <th></th>\n      <th></th>\n      <th></th>\n    </tr>\n  </thead>\n  <tbody>\n    <tr>\n      <th rowspan=\"2\" valign=\"top\">I</th>\n      <th>K</th>\n      <td>1</td>\n      <td>{}</td>\n      <td>42</td>\n      <td>red</td>\n    </tr>\n    <tr>\n      <th>T2</th>\n      <td>1</td>\n      <td>{}</td>\n      <td>42</td>\n      <td>red</td>\n    </tr>\n    <tr>\n      <th rowspan=\"2\" valign=\"top\">L</th>\n      <th>C</th>\n      <td>1</td>\n      <td>{}</td>\n      <td>42</td>\n      <td>red</td>\n    </tr>\n    <tr>\n      <th>E</th>\n      <td>1</td>\n      <td>{}</td>\n      <td>42</td>\n      <td>red</td>\n    </tr>\n    <tr>\n      <th rowspan=\"2\" valign=\"top\">O</th>\n      <th>T1</th>\n      <td>1</td>\n      <td>{}</td>\n      <td>42</td>\n      <td>red</td>\n    </tr>\n    <tr>\n      <th>T2</th>\n      <td>1</td>\n      <td>{}</td>\n      <td>42</td>\n      <td>red</td>\n    </tr>\n    <tr>\n      <th rowspan=\"3\" valign=\"top\">P</th>\n      <th>A</th>\n      <td>1</td>\n      <td>{}</td>\n      <td>42</td>\n      <td>red</td>\n    </tr>\n    <tr>\n      <th>C</th>\n      <td>1</td>\n      <td>{}</td>\n      <td>42</td>\n      <td>red</td>\n    </tr>\n    <tr>\n      <th>K</th>\n      <td>1</td>\n      <td>{}</td>\n      <td>42</td>\n      <td>red</td>\n    </tr>\n    <tr>\n      <th rowspan=\"2\" valign=\"top\">R</th>\n      <th>A</th>\n      <td>1</td>\n      <td>{}</td>\n      <td>42</td>\n      <td>red</td>\n    </tr>\n    <tr>\n      <th>E</th>\n      <td>1</td>\n      <td>{}</td>\n      <td>42</td>\n      <td>red</td>\n    </tr>\n    <tr>\n      <th rowspan=\"4\" valign=\"top\">S</th>\n      <th>A</th>\n      <td>1</td>\n      <td>{}</td>\n      <td>42</td>\n      <td>red</td>\n    </tr>\n    <tr>\n      <th>K</th>\n      <td>1</td>\n      <td>{}</td>\n      <td>42</td>\n      <td>red</td>\n    </tr>\n    <tr>\n      <th>T2</th>\n      <td>1</td>\n      <td>{}</td>\n      <td>42</td>\n      <td>red</td>\n    </tr>\n    <tr>\n      <th>V</th>\n      <td>1</td>\n      <td>{}</td>\n      <td>42</td>\n      <td>red</td>\n    </tr>\n  </tbody>\n</table>\n</div>"
     },
     "execution_count": 9,
     "metadata": {},
     "output_type": "execute_result"
    }
   ],
   "source": [
    "incidence_df"
   ],
   "metadata": {
    "collapsed": false,
    "ExecuteTime": {
     "end_time": "2024-02-23T21:34:11.708190Z",
     "start_time": "2024-02-23T21:34:11.699659Z"
    }
   },
   "id": "89ce63565f417efe",
   "execution_count": 9
  },
  {
   "cell_type": "code",
   "outputs": [],
   "source": [
    "edges_ps = DataFramePropertyStore(edges_df)"
   ],
   "metadata": {
    "collapsed": false,
    "ExecuteTime": {
     "end_time": "2024-02-23T21:34:11.731757Z",
     "start_time": "2024-02-23T21:34:11.703257Z"
    }
   },
   "id": "27feff2ba146a0e7",
   "execution_count": 10
  },
  {
   "cell_type": "code",
   "outputs": [
    {
     "data": {
      "text/plain": "          weight properties\nlevel id                   \ne     I        1         {}\n      L        1         {}\n      O        1         {}\n      P        1         {}\n      R        1         {}\n      S        1         {}",
      "text/html": "<div>\n<style scoped>\n    .dataframe tbody tr th:only-of-type {\n        vertical-align: middle;\n    }\n\n    .dataframe tbody tr th {\n        vertical-align: top;\n    }\n\n    .dataframe thead th {\n        text-align: right;\n    }\n</style>\n<table border=\"1\" class=\"dataframe\">\n  <thead>\n    <tr style=\"text-align: right;\">\n      <th></th>\n      <th></th>\n      <th>weight</th>\n      <th>properties</th>\n    </tr>\n    <tr>\n      <th>level</th>\n      <th>id</th>\n      <th></th>\n      <th></th>\n    </tr>\n  </thead>\n  <tbody>\n    <tr>\n      <th rowspan=\"6\" valign=\"top\">e</th>\n      <th>I</th>\n      <td>1</td>\n      <td>{}</td>\n    </tr>\n    <tr>\n      <th>L</th>\n      <td>1</td>\n      <td>{}</td>\n    </tr>\n    <tr>\n      <th>O</th>\n      <td>1</td>\n      <td>{}</td>\n    </tr>\n    <tr>\n      <th>P</th>\n      <td>1</td>\n      <td>{}</td>\n    </tr>\n    <tr>\n      <th>R</th>\n      <td>1</td>\n      <td>{}</td>\n    </tr>\n    <tr>\n      <th>S</th>\n      <td>1</td>\n      <td>{}</td>\n    </tr>\n  </tbody>\n</table>\n</div>"
     },
     "execution_count": 11,
     "metadata": {},
     "output_type": "execute_result"
    }
   ],
   "source": [
    "edges_ps.properties"
   ],
   "metadata": {
    "collapsed": false,
    "ExecuteTime": {
     "end_time": "2024-02-23T21:34:11.738011Z",
     "start_time": "2024-02-23T21:34:11.707137Z"
    }
   },
   "id": "a4f9648a93ef2f16",
   "execution_count": 11
  },
  {
   "cell_type": "code",
   "outputs": [
    {
     "data": {
      "text/plain": "{'weight': 1, 'properties': {}}"
     },
     "execution_count": 12,
     "metadata": {},
     "output_type": "execute_result"
    }
   ],
   "source": [
    "edges_ps.get_properties(('e', 'R'))"
   ],
   "metadata": {
    "collapsed": false,
    "ExecuteTime": {
     "end_time": "2024-02-23T21:34:11.738719Z",
     "start_time": "2024-02-23T21:34:11.709844Z"
    }
   },
   "id": "a28414bb5852fcf5",
   "execution_count": 12
  },
  {
   "cell_type": "code",
   "outputs": [
    {
     "data": {
      "text/plain": "1"
     },
     "execution_count": 13,
     "metadata": {},
     "output_type": "execute_result"
    }
   ],
   "source": [
    "edges_ps.get_property(('e','R'), 'weight')"
   ],
   "metadata": {
    "collapsed": false,
    "ExecuteTime": {
     "end_time": "2024-02-23T21:34:11.739258Z",
     "start_time": "2024-02-23T21:34:11.712203Z"
    }
   },
   "id": "c3998036009d26a1",
   "execution_count": 13
  },
  {
   "cell_type": "code",
   "outputs": [
    {
     "data": {
      "text/plain": "42"
     },
     "execution_count": 14,
     "metadata": {},
     "output_type": "execute_result"
    }
   ],
   "source": [
    "edges_ps.set_property(('e','R'), 'weight', 42)\n",
    "edges_ps.get_property(('e','R'), 'weight')"
   ],
   "metadata": {
    "collapsed": false,
    "ExecuteTime": {
     "end_time": "2024-02-23T21:34:11.763247Z",
     "start_time": "2024-02-23T21:34:11.714904Z"
    }
   },
   "id": "8d95683893a3940",
   "execution_count": 14
  },
  {
   "cell_type": "code",
   "outputs": [
    {
     "data": {
      "text/plain": "          weight properties\nlevel id                   \ne     I        1         {}\n      L        1         {}\n      O        1         {}\n      P        1         {}\n      R       42         {}\n      S        1         {}",
      "text/html": "<div>\n<style scoped>\n    .dataframe tbody tr th:only-of-type {\n        vertical-align: middle;\n    }\n\n    .dataframe tbody tr th {\n        vertical-align: top;\n    }\n\n    .dataframe thead th {\n        text-align: right;\n    }\n</style>\n<table border=\"1\" class=\"dataframe\">\n  <thead>\n    <tr style=\"text-align: right;\">\n      <th></th>\n      <th></th>\n      <th>weight</th>\n      <th>properties</th>\n    </tr>\n    <tr>\n      <th>level</th>\n      <th>id</th>\n      <th></th>\n      <th></th>\n    </tr>\n  </thead>\n  <tbody>\n    <tr>\n      <th rowspan=\"6\" valign=\"top\">e</th>\n      <th>I</th>\n      <td>1</td>\n      <td>{}</td>\n    </tr>\n    <tr>\n      <th>L</th>\n      <td>1</td>\n      <td>{}</td>\n    </tr>\n    <tr>\n      <th>O</th>\n      <td>1</td>\n      <td>{}</td>\n    </tr>\n    <tr>\n      <th>P</th>\n      <td>1</td>\n      <td>{}</td>\n    </tr>\n    <tr>\n      <th>R</th>\n      <td>42</td>\n      <td>{}</td>\n    </tr>\n    <tr>\n      <th>S</th>\n      <td>1</td>\n      <td>{}</td>\n    </tr>\n  </tbody>\n</table>\n</div>"
     },
     "execution_count": 15,
     "metadata": {},
     "output_type": "execute_result"
    }
   ],
   "source": [
    "edges_ps.properties"
   ],
   "metadata": {
    "collapsed": false,
    "ExecuteTime": {
     "end_time": "2024-02-23T21:34:11.763905Z",
     "start_time": "2024-02-23T21:34:11.719510Z"
    }
   },
   "id": "947ef0930d92dab0",
   "execution_count": 15
  },
  {
   "cell_type": "code",
   "outputs": [
    {
     "data": {
      "text/plain": "6"
     },
     "execution_count": 16,
     "metadata": {},
     "output_type": "execute_result"
    }
   ],
   "source": [
    "len(edges_ps)"
   ],
   "metadata": {
    "collapsed": false,
    "ExecuteTime": {
     "end_time": "2024-02-23T21:34:11.764390Z",
     "start_time": "2024-02-23T21:34:11.722294Z"
    }
   },
   "id": "428824f774b5df6b",
   "execution_count": 16
  },
  {
   "cell_type": "code",
   "outputs": [
    {
     "data": {
      "text/plain": "{'weight': 42, 'properties': {}}"
     },
     "execution_count": 17,
     "metadata": {},
     "output_type": "execute_result"
    }
   ],
   "source": [
    "edges_ps[('e','R')]"
   ],
   "metadata": {
    "collapsed": false,
    "ExecuteTime": {
     "end_time": "2024-02-23T21:34:11.764873Z",
     "start_time": "2024-02-23T21:34:11.725028Z"
    }
   },
   "id": "2109d60d87d65a9e",
   "execution_count": 17
  },
  {
   "cell_type": "code",
   "outputs": [
    {
     "data": {
      "text/plain": "{'weight': 42, 'properties': {}}"
     },
     "execution_count": 18,
     "metadata": {},
     "output_type": "execute_result"
    }
   ],
   "source": [
    "edges_ps.get_properties(('e', 'R'))"
   ],
   "metadata": {
    "collapsed": false,
    "ExecuteTime": {
     "end_time": "2024-02-23T21:34:11.765336Z",
     "start_time": "2024-02-23T21:34:11.727890Z"
    }
   },
   "id": "f5bb9e8b27e513bd",
   "execution_count": 18
  },
  {
   "cell_type": "code",
   "outputs": [
    {
     "data": {
      "text/plain": "True"
     },
     "execution_count": 19,
     "metadata": {},
     "output_type": "execute_result"
    }
   ],
   "source": [
    "('e', 'R') in edges_ps\n"
   ],
   "metadata": {
    "collapsed": false,
    "ExecuteTime": {
     "end_time": "2024-02-23T21:34:11.766384Z",
     "start_time": "2024-02-23T21:34:11.730440Z"
    }
   },
   "id": "62ff0373c1ad71b7",
   "execution_count": 19
  },
  {
   "cell_type": "code",
   "outputs": [
    {
     "data": {
      "text/plain": "False"
     },
     "execution_count": 20,
     "metadata": {},
     "output_type": "execute_result"
    }
   ],
   "source": [
    "('e', 'NEMO') in edges_ps"
   ],
   "metadata": {
    "collapsed": false,
    "ExecuteTime": {
     "end_time": "2024-02-23T21:34:11.767320Z",
     "start_time": "2024-02-23T21:34:11.732753Z"
    }
   },
   "id": "214a822a5d456a9d",
   "execution_count": 20
  },
  {
   "cell_type": "code",
   "outputs": [
    {
     "name": "stdout",
     "output_type": "stream",
     "text": [
      "('e', 'I')\n",
      "('e', 'L')\n",
      "('e', 'O')\n",
      "('e', 'P')\n",
      "('e', 'R')\n",
      "('e', 'S')\n"
     ]
    }
   ],
   "source": [
    "for uid_property in edges_ps:\n",
    "    print(uid_property)"
   ],
   "metadata": {
    "collapsed": false,
    "ExecuteTime": {
     "end_time": "2024-02-23T21:34:11.767790Z",
     "start_time": "2024-02-23T21:34:11.734802Z"
    }
   },
   "id": "f6af320922fd4226",
   "execution_count": 21
  },
  {
   "cell_type": "code",
   "outputs": [
    {
     "data": {
      "text/plain": "MultiIndex([('e', 'I'),\n            ('e', 'L'),\n            ('e', 'O'),\n            ('e', 'P'),\n            ('e', 'R'),\n            ('e', 'S')],\n           names=['level', 'id'])"
     },
     "execution_count": 22,
     "metadata": {},
     "output_type": "execute_result"
    }
   ],
   "source": [
    "edges_ps.properties.index"
   ],
   "metadata": {
    "collapsed": false,
    "ExecuteTime": {
     "end_time": "2024-02-23T21:34:11.778717Z",
     "start_time": "2024-02-23T21:34:11.737230Z"
    }
   },
   "id": "5d5124e2ffcb9c42",
   "execution_count": 22
  },
  {
   "cell_type": "code",
   "outputs": [
    {
     "data": {
      "text/plain": "          weight properties  strength hair_color\nlevel id                                        \nI     K        1         {}        42        red\n      T2       1         {}        42        red\nL     C        1         {}        42        red\n      E        1         {}        42        red\nO     T1       1         {}        42        red\n      T2       1         {}        42        red\nP     A        1         {}        42        red\n      C        1         {}        42        red\n      K        1         {}        42        red\nR     A        1         {}        42        red\n      E        1         {}        42        red\nS     A        1         {}        42        red\n      K        1         {}        42        red\n      T2       1         {}        42        red\n      V        1         {}        42        red",
      "text/html": "<div>\n<style scoped>\n    .dataframe tbody tr th:only-of-type {\n        vertical-align: middle;\n    }\n\n    .dataframe tbody tr th {\n        vertical-align: top;\n    }\n\n    .dataframe thead th {\n        text-align: right;\n    }\n</style>\n<table border=\"1\" class=\"dataframe\">\n  <thead>\n    <tr style=\"text-align: right;\">\n      <th></th>\n      <th></th>\n      <th>weight</th>\n      <th>properties</th>\n      <th>strength</th>\n      <th>hair_color</th>\n    </tr>\n    <tr>\n      <th>level</th>\n      <th>id</th>\n      <th></th>\n      <th></th>\n      <th></th>\n      <th></th>\n    </tr>\n  </thead>\n  <tbody>\n    <tr>\n      <th rowspan=\"2\" valign=\"top\">I</th>\n      <th>K</th>\n      <td>1</td>\n      <td>{}</td>\n      <td>42</td>\n      <td>red</td>\n    </tr>\n    <tr>\n      <th>T2</th>\n      <td>1</td>\n      <td>{}</td>\n      <td>42</td>\n      <td>red</td>\n    </tr>\n    <tr>\n      <th rowspan=\"2\" valign=\"top\">L</th>\n      <th>C</th>\n      <td>1</td>\n      <td>{}</td>\n      <td>42</td>\n      <td>red</td>\n    </tr>\n    <tr>\n      <th>E</th>\n      <td>1</td>\n      <td>{}</td>\n      <td>42</td>\n      <td>red</td>\n    </tr>\n    <tr>\n      <th rowspan=\"2\" valign=\"top\">O</th>\n      <th>T1</th>\n      <td>1</td>\n      <td>{}</td>\n      <td>42</td>\n      <td>red</td>\n    </tr>\n    <tr>\n      <th>T2</th>\n      <td>1</td>\n      <td>{}</td>\n      <td>42</td>\n      <td>red</td>\n    </tr>\n    <tr>\n      <th rowspan=\"3\" valign=\"top\">P</th>\n      <th>A</th>\n      <td>1</td>\n      <td>{}</td>\n      <td>42</td>\n      <td>red</td>\n    </tr>\n    <tr>\n      <th>C</th>\n      <td>1</td>\n      <td>{}</td>\n      <td>42</td>\n      <td>red</td>\n    </tr>\n    <tr>\n      <th>K</th>\n      <td>1</td>\n      <td>{}</td>\n      <td>42</td>\n      <td>red</td>\n    </tr>\n    <tr>\n      <th rowspan=\"2\" valign=\"top\">R</th>\n      <th>A</th>\n      <td>1</td>\n      <td>{}</td>\n      <td>42</td>\n      <td>red</td>\n    </tr>\n    <tr>\n      <th>E</th>\n      <td>1</td>\n      <td>{}</td>\n      <td>42</td>\n      <td>red</td>\n    </tr>\n    <tr>\n      <th rowspan=\"4\" valign=\"top\">S</th>\n      <th>A</th>\n      <td>1</td>\n      <td>{}</td>\n      <td>42</td>\n      <td>red</td>\n    </tr>\n    <tr>\n      <th>K</th>\n      <td>1</td>\n      <td>{}</td>\n      <td>42</td>\n      <td>red</td>\n    </tr>\n    <tr>\n      <th>T2</th>\n      <td>1</td>\n      <td>{}</td>\n      <td>42</td>\n      <td>red</td>\n    </tr>\n    <tr>\n      <th>V</th>\n      <td>1</td>\n      <td>{}</td>\n      <td>42</td>\n      <td>red</td>\n    </tr>\n  </tbody>\n</table>\n</div>"
     },
     "execution_count": 23,
     "metadata": {},
     "output_type": "execute_result"
    }
   ],
   "source": [
    "incidence_df"
   ],
   "metadata": {
    "collapsed": false,
    "ExecuteTime": {
     "end_time": "2024-02-23T21:34:11.803565Z",
     "start_time": "2024-02-23T21:34:11.742540Z"
    }
   },
   "id": "4a7c2bbe59a618ba",
   "execution_count": 23
  },
  {
   "cell_type": "code",
   "outputs": [],
   "source": [
    "inc_ps = DataFramePropertyStore(incidence_df)"
   ],
   "metadata": {
    "collapsed": false,
    "ExecuteTime": {
     "end_time": "2024-02-23T21:34:11.804305Z",
     "start_time": "2024-02-23T21:34:11.745121Z"
    }
   },
   "id": "a048092e4b628b1c",
   "execution_count": 24
  },
  {
   "cell_type": "code",
   "outputs": [
    {
     "data": {
      "text/plain": "          weight properties  strength hair_color\nlevel id                                        \nI     K        1         {}        42        red\n      T2       1         {}        42        red\nL     C        1         {}        42        red\n      E        1         {}        42        red\nO     T1       1         {}        42        red\n      T2       1         {}        42        red\nP     A        1         {}        42        red\n      C        1         {}        42        red\n      K        1         {}        42        red\nR     A        1         {}        42        red\n      E        1         {}        42        red\nS     A        1         {}        42        red\n      K        1         {}        42        red\n      T2       1         {}        42        red\n      V        1         {}        42        red",
      "text/html": "<div>\n<style scoped>\n    .dataframe tbody tr th:only-of-type {\n        vertical-align: middle;\n    }\n\n    .dataframe tbody tr th {\n        vertical-align: top;\n    }\n\n    .dataframe thead th {\n        text-align: right;\n    }\n</style>\n<table border=\"1\" class=\"dataframe\">\n  <thead>\n    <tr style=\"text-align: right;\">\n      <th></th>\n      <th></th>\n      <th>weight</th>\n      <th>properties</th>\n      <th>strength</th>\n      <th>hair_color</th>\n    </tr>\n    <tr>\n      <th>level</th>\n      <th>id</th>\n      <th></th>\n      <th></th>\n      <th></th>\n      <th></th>\n    </tr>\n  </thead>\n  <tbody>\n    <tr>\n      <th rowspan=\"2\" valign=\"top\">I</th>\n      <th>K</th>\n      <td>1</td>\n      <td>{}</td>\n      <td>42</td>\n      <td>red</td>\n    </tr>\n    <tr>\n      <th>T2</th>\n      <td>1</td>\n      <td>{}</td>\n      <td>42</td>\n      <td>red</td>\n    </tr>\n    <tr>\n      <th rowspan=\"2\" valign=\"top\">L</th>\n      <th>C</th>\n      <td>1</td>\n      <td>{}</td>\n      <td>42</td>\n      <td>red</td>\n    </tr>\n    <tr>\n      <th>E</th>\n      <td>1</td>\n      <td>{}</td>\n      <td>42</td>\n      <td>red</td>\n    </tr>\n    <tr>\n      <th rowspan=\"2\" valign=\"top\">O</th>\n      <th>T1</th>\n      <td>1</td>\n      <td>{}</td>\n      <td>42</td>\n      <td>red</td>\n    </tr>\n    <tr>\n      <th>T2</th>\n      <td>1</td>\n      <td>{}</td>\n      <td>42</td>\n      <td>red</td>\n    </tr>\n    <tr>\n      <th rowspan=\"3\" valign=\"top\">P</th>\n      <th>A</th>\n      <td>1</td>\n      <td>{}</td>\n      <td>42</td>\n      <td>red</td>\n    </tr>\n    <tr>\n      <th>C</th>\n      <td>1</td>\n      <td>{}</td>\n      <td>42</td>\n      <td>red</td>\n    </tr>\n    <tr>\n      <th>K</th>\n      <td>1</td>\n      <td>{}</td>\n      <td>42</td>\n      <td>red</td>\n    </tr>\n    <tr>\n      <th rowspan=\"2\" valign=\"top\">R</th>\n      <th>A</th>\n      <td>1</td>\n      <td>{}</td>\n      <td>42</td>\n      <td>red</td>\n    </tr>\n    <tr>\n      <th>E</th>\n      <td>1</td>\n      <td>{}</td>\n      <td>42</td>\n      <td>red</td>\n    </tr>\n    <tr>\n      <th rowspan=\"4\" valign=\"top\">S</th>\n      <th>A</th>\n      <td>1</td>\n      <td>{}</td>\n      <td>42</td>\n      <td>red</td>\n    </tr>\n    <tr>\n      <th>K</th>\n      <td>1</td>\n      <td>{}</td>\n      <td>42</td>\n      <td>red</td>\n    </tr>\n    <tr>\n      <th>T2</th>\n      <td>1</td>\n      <td>{}</td>\n      <td>42</td>\n      <td>red</td>\n    </tr>\n    <tr>\n      <th>V</th>\n      <td>1</td>\n      <td>{}</td>\n      <td>42</td>\n      <td>red</td>\n    </tr>\n  </tbody>\n</table>\n</div>"
     },
     "execution_count": 25,
     "metadata": {},
     "output_type": "execute_result"
    }
   ],
   "source": [
    "inc_ps.properties"
   ],
   "metadata": {
    "collapsed": false,
    "ExecuteTime": {
     "end_time": "2024-02-23T21:34:11.805041Z",
     "start_time": "2024-02-23T21:34:11.749728Z"
    }
   },
   "id": "d94d9e5664364c0c",
   "execution_count": 25
  },
  {
   "cell_type": "code",
   "outputs": [
    {
     "data": {
      "text/plain": "{'weight': 1, 'properties': {}, 'strength': 42, 'hair_color': 'red'}"
     },
     "execution_count": 26,
     "metadata": {},
     "output_type": "execute_result"
    }
   ],
   "source": [
    "inc_ps.get_properties(('L', 'C'))"
   ],
   "metadata": {
    "collapsed": false,
    "ExecuteTime": {
     "end_time": "2024-02-23T21:34:11.805548Z",
     "start_time": "2024-02-23T21:34:11.752577Z"
    }
   },
   "id": "2c04bc5b7745ed6",
   "execution_count": 26
  },
  {
   "cell_type": "code",
   "outputs": [
    {
     "data": {
      "text/plain": "'red'"
     },
     "execution_count": 27,
     "metadata": {},
     "output_type": "execute_result"
    }
   ],
   "source": [
    "inc_ps.get_property(('L', 'C'), 'hair_color')"
   ],
   "metadata": {
    "collapsed": false,
    "ExecuteTime": {
     "end_time": "2024-02-23T21:34:11.806059Z",
     "start_time": "2024-02-23T21:34:11.755279Z"
    }
   },
   "id": "6ecfec1df0bc900c",
   "execution_count": 27
  },
  {
   "cell_type": "code",
   "outputs": [
    {
     "data": {
      "text/plain": "'green'"
     },
     "execution_count": 28,
     "metadata": {},
     "output_type": "execute_result"
    }
   ],
   "source": [
    "inc_ps.set_property(('L', 'C'), 'hair_color', 'green')\n",
    "inc_ps.get_property(('L', 'C'), 'hair_color')"
   ],
   "metadata": {
    "collapsed": false,
    "ExecuteTime": {
     "end_time": "2024-02-23T21:34:11.846727Z",
     "start_time": "2024-02-23T21:34:11.761325Z"
    }
   },
   "id": "ae093f997d2818ec",
   "execution_count": 28
  },
  {
   "cell_type": "code",
   "outputs": [
    {
     "data": {
      "text/plain": "          weight properties  strength hair_color\nlevel id                                        \nI     K        1         {}        42        red\n      T2       1         {}        42        red\nL     C        1         {}        42      green\n      E        1         {}        42        red\nO     T1       1         {}        42        red\n      T2       1         {}        42        red\nP     A        1         {}        42        red\n      C        1         {}        42        red\n      K        1         {}        42        red\nR     A        1         {}        42        red\n      E        1         {}        42        red\nS     A        1         {}        42        red\n      K        1         {}        42        red\n      T2       1         {}        42        red\n      V        1         {}        42        red",
      "text/html": "<div>\n<style scoped>\n    .dataframe tbody tr th:only-of-type {\n        vertical-align: middle;\n    }\n\n    .dataframe tbody tr th {\n        vertical-align: top;\n    }\n\n    .dataframe thead th {\n        text-align: right;\n    }\n</style>\n<table border=\"1\" class=\"dataframe\">\n  <thead>\n    <tr style=\"text-align: right;\">\n      <th></th>\n      <th></th>\n      <th>weight</th>\n      <th>properties</th>\n      <th>strength</th>\n      <th>hair_color</th>\n    </tr>\n    <tr>\n      <th>level</th>\n      <th>id</th>\n      <th></th>\n      <th></th>\n      <th></th>\n      <th></th>\n    </tr>\n  </thead>\n  <tbody>\n    <tr>\n      <th rowspan=\"2\" valign=\"top\">I</th>\n      <th>K</th>\n      <td>1</td>\n      <td>{}</td>\n      <td>42</td>\n      <td>red</td>\n    </tr>\n    <tr>\n      <th>T2</th>\n      <td>1</td>\n      <td>{}</td>\n      <td>42</td>\n      <td>red</td>\n    </tr>\n    <tr>\n      <th rowspan=\"2\" valign=\"top\">L</th>\n      <th>C</th>\n      <td>1</td>\n      <td>{}</td>\n      <td>42</td>\n      <td>green</td>\n    </tr>\n    <tr>\n      <th>E</th>\n      <td>1</td>\n      <td>{}</td>\n      <td>42</td>\n      <td>red</td>\n    </tr>\n    <tr>\n      <th rowspan=\"2\" valign=\"top\">O</th>\n      <th>T1</th>\n      <td>1</td>\n      <td>{}</td>\n      <td>42</td>\n      <td>red</td>\n    </tr>\n    <tr>\n      <th>T2</th>\n      <td>1</td>\n      <td>{}</td>\n      <td>42</td>\n      <td>red</td>\n    </tr>\n    <tr>\n      <th rowspan=\"3\" valign=\"top\">P</th>\n      <th>A</th>\n      <td>1</td>\n      <td>{}</td>\n      <td>42</td>\n      <td>red</td>\n    </tr>\n    <tr>\n      <th>C</th>\n      <td>1</td>\n      <td>{}</td>\n      <td>42</td>\n      <td>red</td>\n    </tr>\n    <tr>\n      <th>K</th>\n      <td>1</td>\n      <td>{}</td>\n      <td>42</td>\n      <td>red</td>\n    </tr>\n    <tr>\n      <th rowspan=\"2\" valign=\"top\">R</th>\n      <th>A</th>\n      <td>1</td>\n      <td>{}</td>\n      <td>42</td>\n      <td>red</td>\n    </tr>\n    <tr>\n      <th>E</th>\n      <td>1</td>\n      <td>{}</td>\n      <td>42</td>\n      <td>red</td>\n    </tr>\n    <tr>\n      <th rowspan=\"4\" valign=\"top\">S</th>\n      <th>A</th>\n      <td>1</td>\n      <td>{}</td>\n      <td>42</td>\n      <td>red</td>\n    </tr>\n    <tr>\n      <th>K</th>\n      <td>1</td>\n      <td>{}</td>\n      <td>42</td>\n      <td>red</td>\n    </tr>\n    <tr>\n      <th>T2</th>\n      <td>1</td>\n      <td>{}</td>\n      <td>42</td>\n      <td>red</td>\n    </tr>\n    <tr>\n      <th>V</th>\n      <td>1</td>\n      <td>{}</td>\n      <td>42</td>\n      <td>red</td>\n    </tr>\n  </tbody>\n</table>\n</div>"
     },
     "execution_count": 29,
     "metadata": {},
     "output_type": "execute_result"
    }
   ],
   "source": [
    "inc_ps.properties"
   ],
   "metadata": {
    "collapsed": false,
    "ExecuteTime": {
     "end_time": "2024-02-23T21:34:11.860745Z",
     "start_time": "2024-02-23T21:34:11.766684Z"
    }
   },
   "id": "e97f3c0b1cc74cf5",
   "execution_count": 29
  },
  {
   "cell_type": "code",
   "outputs": [
    {
     "data": {
      "text/plain": "15"
     },
     "execution_count": 30,
     "metadata": {},
     "output_type": "execute_result"
    }
   ],
   "source": [
    "len(inc_ps)"
   ],
   "metadata": {
    "collapsed": false,
    "ExecuteTime": {
     "end_time": "2024-02-23T21:34:11.861295Z",
     "start_time": "2024-02-23T21:34:11.769025Z"
    }
   },
   "id": "46be788a07e18776",
   "execution_count": 30
  },
  {
   "cell_type": "code",
   "outputs": [
    {
     "data": {
      "text/plain": "{'weight': 1, 'properties': {}, 'strength': 42, 'hair_color': 'green'}"
     },
     "execution_count": 31,
     "metadata": {},
     "output_type": "execute_result"
    }
   ],
   "source": [
    "inc_ps[('L', 'C')]"
   ],
   "metadata": {
    "collapsed": false,
    "ExecuteTime": {
     "end_time": "2024-02-23T21:34:11.861792Z",
     "start_time": "2024-02-23T21:34:11.772217Z"
    }
   },
   "id": "aabe6182c6f74b94",
   "execution_count": 31
  },
  {
   "cell_type": "code",
   "outputs": [
    {
     "data": {
      "text/plain": "{'weight': 1, 'properties': {}, 'strength': 42, 'hair_color': 'green'}"
     },
     "execution_count": 32,
     "metadata": {},
     "output_type": "execute_result"
    }
   ],
   "source": [
    "inc_ps.get_properties(('L', 'C'))"
   ],
   "metadata": {
    "collapsed": false,
    "ExecuteTime": {
     "end_time": "2024-02-23T21:34:11.862317Z",
     "start_time": "2024-02-23T21:34:11.774680Z"
    }
   },
   "id": "58ee1c61f5180d25",
   "execution_count": 32
  },
  {
   "cell_type": "code",
   "outputs": [
    {
     "data": {
      "text/plain": "True"
     },
     "execution_count": 33,
     "metadata": {},
     "output_type": "execute_result"
    }
   ],
   "source": [
    "('L', 'C') in inc_ps"
   ],
   "metadata": {
    "collapsed": false,
    "ExecuteTime": {
     "end_time": "2024-02-23T21:34:11.863641Z",
     "start_time": "2024-02-23T21:34:11.777199Z"
    }
   },
   "id": "c23420ac85d15fe0",
   "execution_count": 33
  },
  {
   "cell_type": "code",
   "outputs": [
    {
     "data": {
      "text/plain": "False"
     },
     "execution_count": 34,
     "metadata": {},
     "output_type": "execute_result"
    }
   ],
   "source": [
    "('NE', 'MO') in inc_ps"
   ],
   "metadata": {
    "collapsed": false,
    "ExecuteTime": {
     "end_time": "2024-02-23T21:34:11.867643Z",
     "start_time": "2024-02-23T21:34:11.779452Z"
    }
   },
   "id": "7a1f14c1620e2809",
   "execution_count": 34
  },
  {
   "cell_type": "code",
   "outputs": [
    {
     "name": "stdout",
     "output_type": "stream",
     "text": [
      "('I', 'K')\n",
      "('I', 'T2')\n",
      "('L', 'C')\n",
      "('L', 'E')\n",
      "('O', 'T1')\n",
      "('O', 'T2')\n",
      "('P', 'A')\n",
      "('P', 'C')\n",
      "('P', 'K')\n",
      "('R', 'A')\n",
      "('R', 'E')\n",
      "('S', 'A')\n",
      "('S', 'K')\n",
      "('S', 'T2')\n",
      "('S', 'V')\n"
     ]
    }
   ],
   "source": [
    "for uid_property in inc_ps:\n",
    "    print(uid_property)"
   ],
   "metadata": {
    "collapsed": false,
    "ExecuteTime": {
     "end_time": "2024-02-23T21:34:11.872732Z",
     "start_time": "2024-02-23T21:34:11.781489Z"
    }
   },
   "id": "7570b20087101e83",
   "execution_count": 35
  },
  {
   "cell_type": "code",
   "outputs": [
    {
     "data": {
      "text/plain": "MultiIndex([('I',  'K'),\n            ('I', 'T2'),\n            ('L',  'C'),\n            ('L',  'E'),\n            ('O', 'T1'),\n            ('O', 'T2'),\n            ('P',  'A'),\n            ('P',  'C'),\n            ('P',  'K'),\n            ('R',  'A'),\n            ('R',  'E'),\n            ('S',  'A'),\n            ('S',  'K'),\n            ('S', 'T2'),\n            ('S',  'V')],\n           names=['level', 'id'])"
     },
     "execution_count": 36,
     "metadata": {},
     "output_type": "execute_result"
    }
   ],
   "source": [
    "inc_ps.properties.index"
   ],
   "metadata": {
    "collapsed": false,
    "ExecuteTime": {
     "end_time": "2024-02-23T21:34:11.877145Z",
     "start_time": "2024-02-23T21:34:11.783882Z"
    }
   },
   "id": "90a3b2ffd651fd91",
   "execution_count": 36
  }
 ],
 "metadata": {
  "kernelspec": {
   "display_name": "venv-hnx",
   "language": "python",
   "name": "venv-hnx"
  },
  "language_info": {
   "codemirror_mode": {
    "name": "ipython",
    "version": 3
   },
   "file_extension": ".py",
   "mimetype": "text/x-python",
   "name": "python",
   "nbconvert_exporter": "python",
   "pygments_lexer": "ipython3",
   "version": "3.11.3"
  }
 },
 "nbformat": 4,
 "nbformat_minor": 5
}
