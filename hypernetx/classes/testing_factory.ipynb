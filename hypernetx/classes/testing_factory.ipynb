{
 "cells": [
  {
   "cell_type": "markdown",
   "id": "c371e4d7",
   "metadata": {
    "toc": true
   },
   "source": [
    "<h1>Table of Contents<span class=\"tocSkip\"></span></h1>\n",
    "<div class=\"toc\"><ul class=\"toc-item\"><li><span><a href=\"#iterable-of-iterables-example\" data-toc-modified-id=\"iterable-of-iterables-example-1\"><span class=\"toc-item-num\">1&nbsp;&nbsp;</span>iterable of iterables example</a></span></li><li><span><a href=\"#simple-dictionary\" data-toc-modified-id=\"simple-dictionary-2\"><span class=\"toc-item-num\">2&nbsp;&nbsp;</span>simple dictionary</a></span></li><li><span><a href=\"#complex-dicitonary\" data-toc-modified-id=\"complex-dicitonary-3\"><span class=\"toc-item-num\">3&nbsp;&nbsp;</span>complex dicitonary</a></span></li><li><span><a href=\"#simple-dataframe\" data-toc-modified-id=\"simple-dataframe-4\"><span class=\"toc-item-num\">4&nbsp;&nbsp;</span>simple dataframe</a></span></li><li><span><a href=\"#complex-dataframe\" data-toc-modified-id=\"complex-dataframe-5\"><span class=\"toc-item-num\">5&nbsp;&nbsp;</span>complex dataframe</a></span></li><li><span><a href=\"#meetings-dictionary\" data-toc-modified-id=\"meetings-dictionary-6\"><span class=\"toc-item-num\">6&nbsp;&nbsp;</span>meetings dictionary</a></span></li></ul></div>"
   ]
  },
  {
   "cell_type": "code",
   "execution_count": 2,
   "id": "72589a65",
   "metadata": {},
   "outputs": [],
   "source": [
    "from factory import *"
   ]
  },
  {
   "cell_type": "code",
   "execution_count": 3,
   "id": "e8abfb3d",
   "metadata": {},
   "outputs": [],
   "source": [
    "import pandas as pd\n",
    "import numpy as np"
   ]
  },
  {
   "cell_type": "markdown",
   "id": "ca44245b",
   "metadata": {
    "heading_collapsed": true
   },
   "source": [
    "# iterable of iterables example"
   ]
  },
  {
   "cell_type": "code",
   "execution_count": 4,
   "id": "b0894957",
   "metadata": {
    "hidden": true
   },
   "outputs": [
    {
     "data": {
      "text/plain": [
       "[[1, 1, 2], {1, 2}, {1, 2, 3}]"
      ]
     },
     "metadata": {},
     "output_type": "display_data"
    },
    {
     "data": {
      "text/html": [
       "<div>\n",
       "<style scoped>\n",
       "    .dataframe tbody tr th:only-of-type {\n",
       "        vertical-align: middle;\n",
       "    }\n",
       "\n",
       "    .dataframe tbody tr th {\n",
       "        vertical-align: top;\n",
       "    }\n",
       "\n",
       "    .dataframe thead th {\n",
       "        text-align: right;\n",
       "    }\n",
       "</style>\n",
       "<table border=\"1\" class=\"dataframe\">\n",
       "  <thead>\n",
       "    <tr style=\"text-align: right;\">\n",
       "      <th></th>\n",
       "      <th></th>\n",
       "      <th>weight</th>\n",
       "      <th>misc_properties</th>\n",
       "    </tr>\n",
       "    <tr>\n",
       "      <th>edges</th>\n",
       "      <th>nodes</th>\n",
       "      <th></th>\n",
       "      <th></th>\n",
       "    </tr>\n",
       "  </thead>\n",
       "  <tbody>\n",
       "    <tr>\n",
       "      <th rowspan=\"2\" valign=\"top\">0</th>\n",
       "      <th>1</th>\n",
       "      <td>1.0</td>\n",
       "      <td>{}</td>\n",
       "    </tr>\n",
       "    <tr>\n",
       "      <th>2</th>\n",
       "      <td>1.0</td>\n",
       "      <td>{}</td>\n",
       "    </tr>\n",
       "    <tr>\n",
       "      <th rowspan=\"2\" valign=\"top\">1</th>\n",
       "      <th>1</th>\n",
       "      <td>1.0</td>\n",
       "      <td>{}</td>\n",
       "    </tr>\n",
       "    <tr>\n",
       "      <th>2</th>\n",
       "      <td>1.0</td>\n",
       "      <td>{}</td>\n",
       "    </tr>\n",
       "    <tr>\n",
       "      <th rowspan=\"3\" valign=\"top\">2</th>\n",
       "      <th>1</th>\n",
       "      <td>1.0</td>\n",
       "      <td>{}</td>\n",
       "    </tr>\n",
       "    <tr>\n",
       "      <th>2</th>\n",
       "      <td>1.0</td>\n",
       "      <td>{}</td>\n",
       "    </tr>\n",
       "    <tr>\n",
       "      <th>3</th>\n",
       "      <td>1.0</td>\n",
       "      <td>{}</td>\n",
       "    </tr>\n",
       "  </tbody>\n",
       "</table>\n",
       "</div>"
      ],
      "text/plain": [
       "             weight misc_properties\n",
       "edges nodes                        \n",
       "0     1         1.0              {}\n",
       "      2         1.0              {}\n",
       "1     1         1.0              {}\n",
       "      2         1.0              {}\n",
       "2     1         1.0              {}\n",
       "      2         1.0              {}\n",
       "      3         1.0              {}"
      ]
     },
     "metadata": {},
     "output_type": "display_data"
    },
    {
     "name": "stdout",
     "output_type": "stream",
     "text": [
      "----------------------------------------------------------------------------------------------------\n"
     ]
    }
   ],
   "source": [
    "list_of_iterables = [[1, 1, 2], {1, 2}, {1, 2, 3}]\n",
    "display(list_of_iterables)\n",
    "\n",
    "IPS = list_factory_method(list_of_iterables, level = 2,\n",
    "                          aggregate_by = {'weight': 'sum'})\n",
    "display(IPS)\n",
    "print('-'*100)\n",
    "\n"
   ]
  },
  {
   "cell_type": "markdown",
   "id": "55c657e1",
   "metadata": {
    "heading_collapsed": true
   },
   "source": [
    "# simple dictionary"
   ]
  },
  {
   "cell_type": "code",
   "execution_count": 5,
   "id": "37a4268e",
   "metadata": {
    "hidden": true
   },
   "outputs": [
    {
     "name": "stdout",
     "output_type": "stream",
     "text": [
      "Provided Dataframes\n",
      "----------------------------------------------------------------------------------------------------\n"
     ]
    },
    {
     "data": {
      "text/plain": [
       "{'e1': [1, 2], 'e2': [1, 2], 'e3': [1, 2, 3]}"
      ]
     },
     "metadata": {},
     "output_type": "display_data"
    },
    {
     "name": "stdout",
     "output_type": "stream",
     "text": [
      "\n",
      " \n",
      "Restructured Dataframes using single factory method for property store repeated\n",
      "----------------------------------------------------------------------------------------------------\n"
     ]
    },
    {
     "data": {
      "text/html": [
       "<div>\n",
       "<style scoped>\n",
       "    .dataframe tbody tr th:only-of-type {\n",
       "        vertical-align: middle;\n",
       "    }\n",
       "\n",
       "    .dataframe tbody tr th {\n",
       "        vertical-align: top;\n",
       "    }\n",
       "\n",
       "    .dataframe thead th {\n",
       "        text-align: right;\n",
       "    }\n",
       "</style>\n",
       "<table border=\"1\" class=\"dataframe\">\n",
       "  <thead>\n",
       "    <tr style=\"text-align: right;\">\n",
       "      <th></th>\n",
       "      <th></th>\n",
       "      <th>weight</th>\n",
       "      <th>misc_properties</th>\n",
       "    </tr>\n",
       "    <tr>\n",
       "      <th>edges</th>\n",
       "      <th>nodes</th>\n",
       "      <th></th>\n",
       "      <th></th>\n",
       "    </tr>\n",
       "  </thead>\n",
       "  <tbody>\n",
       "    <tr>\n",
       "      <th rowspan=\"2\" valign=\"top\">e1</th>\n",
       "      <th>1</th>\n",
       "      <td>1.0</td>\n",
       "      <td>{}</td>\n",
       "    </tr>\n",
       "    <tr>\n",
       "      <th>2</th>\n",
       "      <td>1.0</td>\n",
       "      <td>{}</td>\n",
       "    </tr>\n",
       "    <tr>\n",
       "      <th rowspan=\"2\" valign=\"top\">e2</th>\n",
       "      <th>1</th>\n",
       "      <td>1.0</td>\n",
       "      <td>{}</td>\n",
       "    </tr>\n",
       "    <tr>\n",
       "      <th>2</th>\n",
       "      <td>1.0</td>\n",
       "      <td>{}</td>\n",
       "    </tr>\n",
       "    <tr>\n",
       "      <th rowspan=\"3\" valign=\"top\">e3</th>\n",
       "      <th>1</th>\n",
       "      <td>1.0</td>\n",
       "      <td>{}</td>\n",
       "    </tr>\n",
       "    <tr>\n",
       "      <th>2</th>\n",
       "      <td>1.0</td>\n",
       "      <td>{}</td>\n",
       "    </tr>\n",
       "    <tr>\n",
       "      <th>3</th>\n",
       "      <td>1.0</td>\n",
       "      <td>{}</td>\n",
       "    </tr>\n",
       "  </tbody>\n",
       "</table>\n",
       "</div>"
      ],
      "text/plain": [
       "             weight misc_properties\n",
       "edges nodes                        \n",
       "e1    1         1.0              {}\n",
       "      2         1.0              {}\n",
       "e2    1         1.0              {}\n",
       "      2         1.0              {}\n",
       "e3    1         1.0              {}\n",
       "      2         1.0              {}\n",
       "      3         1.0              {}"
      ]
     },
     "metadata": {},
     "output_type": "display_data"
    },
    {
     "name": "stdout",
     "output_type": "stream",
     "text": [
      "----------------------------------------------------------------------------------------------------\n"
     ]
    }
   ],
   "source": [
    "\n",
    "cell_dict = {'e1':[1,2],'e2':[1,2],'e3':[1,2,3]}\n",
    "\n",
    "print('Provided Dataframes')\n",
    "print('-'*100)\n",
    "display(cell_dict)\n",
    "\n",
    "print('\\n \\nRestructured Dataframes using single factory method for property store repeated')\n",
    "print('-'*100)\n",
    "\n",
    "IPS = dict_factory_method(cell_dict, level = 2)\n",
    "\n",
    "display(IPS)\n",
    "print('-'*100)"
   ]
  },
  {
   "cell_type": "markdown",
   "id": "1514b86b",
   "metadata": {
    "heading_collapsed": true
   },
   "source": [
    "# complex dicitonary"
   ]
  },
  {
   "cell_type": "code",
   "execution_count": 6,
   "id": "10a6177e",
   "metadata": {
    "hidden": true
   },
   "outputs": [
    {
     "name": "stdout",
     "output_type": "stream",
     "text": [
      "Provided Dataframes\n",
      "----------------------------------------------------------------------------------------------------\n"
     ]
    },
    {
     "data": {
      "text/plain": [
       "{'e1': {1: {'w': 0.5, 'name': 'related_to'},\n",
       "  2: {'w': 0.1, 'name': 'related_to', 'startdate': '05.13.2020'}},\n",
       " 'e2': {1: {'w': 0.52, 'name': 'owned_by'}, 2: {'w': 0.2}},\n",
       " 'e3': {1: {'w': 0.5, 'name': 'related_to'},\n",
       "  2: {'w': 0.2, 'name': 'owner_of'},\n",
       "  3: {'w': 1, 'type': 'relationship'}}}"
      ]
     },
     "metadata": {},
     "output_type": "display_data"
    },
    {
     "name": "stdout",
     "output_type": "stream",
     "text": [
      "\n",
      " \n",
      "Restructured Dataframes using single factory method for property store repeated\n",
      "----------------------------------------------------------------------------------------------------\n"
     ]
    },
    {
     "data": {
      "text/html": [
       "<div>\n",
       "<style scoped>\n",
       "    .dataframe tbody tr th:only-of-type {\n",
       "        vertical-align: middle;\n",
       "    }\n",
       "\n",
       "    .dataframe tbody tr th {\n",
       "        vertical-align: top;\n",
       "    }\n",
       "\n",
       "    .dataframe thead th {\n",
       "        text-align: right;\n",
       "    }\n",
       "</style>\n",
       "<table border=\"1\" class=\"dataframe\">\n",
       "  <thead>\n",
       "    <tr style=\"text-align: right;\">\n",
       "      <th></th>\n",
       "      <th></th>\n",
       "      <th>weight</th>\n",
       "      <th>misc_properties</th>\n",
       "    </tr>\n",
       "    <tr>\n",
       "      <th>edges</th>\n",
       "      <th>nodes</th>\n",
       "      <th></th>\n",
       "      <th></th>\n",
       "    </tr>\n",
       "  </thead>\n",
       "  <tbody>\n",
       "    <tr>\n",
       "      <th rowspan=\"2\" valign=\"top\">e1</th>\n",
       "      <th>1</th>\n",
       "      <td>0.50</td>\n",
       "      <td>{'name': 'related_to'}</td>\n",
       "    </tr>\n",
       "    <tr>\n",
       "      <th>2</th>\n",
       "      <td>0.10</td>\n",
       "      <td>{'name': 'related_to', 'startdate': '05.13.2020'}</td>\n",
       "    </tr>\n",
       "    <tr>\n",
       "      <th rowspan=\"2\" valign=\"top\">e2</th>\n",
       "      <th>1</th>\n",
       "      <td>0.52</td>\n",
       "      <td>{'name': 'owned_by'}</td>\n",
       "    </tr>\n",
       "    <tr>\n",
       "      <th>2</th>\n",
       "      <td>0.20</td>\n",
       "      <td>{}</td>\n",
       "    </tr>\n",
       "    <tr>\n",
       "      <th rowspan=\"3\" valign=\"top\">e3</th>\n",
       "      <th>1</th>\n",
       "      <td>0.50</td>\n",
       "      <td>{'name': 'related_to'}</td>\n",
       "    </tr>\n",
       "    <tr>\n",
       "      <th>2</th>\n",
       "      <td>0.20</td>\n",
       "      <td>{'name': 'owner_of'}</td>\n",
       "    </tr>\n",
       "    <tr>\n",
       "      <th>3</th>\n",
       "      <td>1.00</td>\n",
       "      <td>{'type': 'relationship'}</td>\n",
       "    </tr>\n",
       "  </tbody>\n",
       "</table>\n",
       "</div>"
      ],
      "text/plain": [
       "             weight                                    misc_properties\n",
       "edges nodes                                                           \n",
       "e1    1        0.50                             {'name': 'related_to'}\n",
       "      2        0.10  {'name': 'related_to', 'startdate': '05.13.2020'}\n",
       "e2    1        0.52                               {'name': 'owned_by'}\n",
       "      2        0.20                                                 {}\n",
       "e3    1        0.50                             {'name': 'related_to'}\n",
       "      2        0.20                               {'name': 'owner_of'}\n",
       "      3        1.00                           {'type': 'relationship'}"
      ]
     },
     "metadata": {},
     "output_type": "display_data"
    },
    {
     "data": {
      "text/html": [
       "<div>\n",
       "<style scoped>\n",
       "    .dataframe tbody tr th:only-of-type {\n",
       "        vertical-align: middle;\n",
       "    }\n",
       "\n",
       "    .dataframe tbody tr th {\n",
       "        vertical-align: top;\n",
       "    }\n",
       "\n",
       "    .dataframe thead th {\n",
       "        text-align: right;\n",
       "    }\n",
       "</style>\n",
       "<table border=\"1\" class=\"dataframe\">\n",
       "  <thead>\n",
       "    <tr style=\"text-align: right;\">\n",
       "      <th></th>\n",
       "      <th>weight</th>\n",
       "      <th>number</th>\n",
       "      <th>misc_properties</th>\n",
       "    </tr>\n",
       "    <tr>\n",
       "      <th>0</th>\n",
       "      <th></th>\n",
       "      <th></th>\n",
       "      <th></th>\n",
       "    </tr>\n",
       "  </thead>\n",
       "  <tbody>\n",
       "    <tr>\n",
       "      <th>e1</th>\n",
       "      <td>1.0</td>\n",
       "      <td>1</td>\n",
       "      <td>{}</td>\n",
       "    </tr>\n",
       "    <tr>\n",
       "      <th>e2</th>\n",
       "      <td>1.0</td>\n",
       "      <td>2</td>\n",
       "      <td>{}</td>\n",
       "    </tr>\n",
       "    <tr>\n",
       "      <th>e3</th>\n",
       "      <td>1.0</td>\n",
       "      <td>3</td>\n",
       "      <td>{}</td>\n",
       "    </tr>\n",
       "  </tbody>\n",
       "</table>\n",
       "</div>"
      ],
      "text/plain": [
       "    weight  number misc_properties\n",
       "0                                 \n",
       "e1     1.0       1              {}\n",
       "e2     1.0       2              {}\n",
       "e3     1.0       3              {}"
      ]
     },
     "metadata": {},
     "output_type": "display_data"
    },
    {
     "data": {
      "text/plain": [
       "None"
      ]
     },
     "metadata": {},
     "output_type": "display_data"
    },
    {
     "name": "stdout",
     "output_type": "stream",
     "text": [
      "----------------------------------------------------------------------------------------------------\n"
     ]
    }
   ],
   "source": [
    "\n",
    "cell_prop_dict = {'e1':{ 1: {'w':0.5, 'name': 'related_to'},\n",
    "                         2: {'w':0.1, 'name': 'related_to','startdate': '05.13.2020'}},\n",
    "                  'e2':{ 1: {'w':0.52, 'name': 'owned_by'},\n",
    "                         2: {'w':0.2}},\n",
    "                  'e3':{ 1: {'w':0.5, 'name': 'related_to'},\n",
    "                         2: {'w':0.2, 'name': 'owner_of'},\n",
    "                         3: {'w':1, 'type': 'relationship'}}}\n",
    "\n",
    "edge_prop_dict = {'e1': {'number': 1},\n",
    "                  'e2': {'number': 2},\n",
    "                  'e3': {'number': 3}}\n",
    "\n",
    "print('Provided Dataframes')\n",
    "print('-'*100)\n",
    "display(cell_prop_dict)\n",
    "\n",
    "print('\\n \\nRestructured Dataframes using single factory method for property store repeated')\n",
    "print('-'*100)\n",
    "\n",
    "IPS = dict_factory_method(cell_prop_dict, level = 2, weight_col = 'w')\n",
    "display(IPS)\n",
    "\n",
    "\n",
    "EPS = dict_factory_method(edge_prop_dict, level = 0)\n",
    "display(EPS)\n",
    "\n",
    "\n",
    "NPS = dict_factory_method(None, level = 1, weight_col = 'w')\n",
    "display(NPS)\n",
    "print('-'*100)"
   ]
  },
  {
   "cell_type": "markdown",
   "id": "76b8565e",
   "metadata": {
    "heading_collapsed": true
   },
   "source": [
    "# simple dataframe"
   ]
  },
  {
   "cell_type": "code",
   "execution_count": 7,
   "id": "6ec431ae",
   "metadata": {
    "hidden": true
   },
   "outputs": [
    {
     "name": "stdout",
     "output_type": "stream",
     "text": [
      "Provided Dataframes\n",
      "----------------------------------------------------------------------------------------------------\n"
     ]
    },
    {
     "data": {
      "text/html": [
       "<div>\n",
       "<style scoped>\n",
       "    .dataframe tbody tr th:only-of-type {\n",
       "        vertical-align: middle;\n",
       "    }\n",
       "\n",
       "    .dataframe tbody tr th {\n",
       "        vertical-align: top;\n",
       "    }\n",
       "\n",
       "    .dataframe thead th {\n",
       "        text-align: right;\n",
       "    }\n",
       "</style>\n",
       "<table border=\"1\" class=\"dataframe\">\n",
       "  <thead>\n",
       "    <tr style=\"text-align: right;\">\n",
       "      <th></th>\n",
       "      <th>e</th>\n",
       "      <th>n</th>\n",
       "    </tr>\n",
       "  </thead>\n",
       "  <tbody>\n",
       "    <tr>\n",
       "      <th>0</th>\n",
       "      <td>a</td>\n",
       "      <td>1</td>\n",
       "    </tr>\n",
       "    <tr>\n",
       "      <th>1</th>\n",
       "      <td>a</td>\n",
       "      <td>1</td>\n",
       "    </tr>\n",
       "    <tr>\n",
       "      <th>2</th>\n",
       "      <td>a</td>\n",
       "      <td>2</td>\n",
       "    </tr>\n",
       "    <tr>\n",
       "      <th>3</th>\n",
       "      <td>b</td>\n",
       "      <td>3</td>\n",
       "    </tr>\n",
       "    <tr>\n",
       "      <th>4</th>\n",
       "      <td>c</td>\n",
       "      <td>2</td>\n",
       "    </tr>\n",
       "    <tr>\n",
       "      <th>5</th>\n",
       "      <td>c</td>\n",
       "      <td>3</td>\n",
       "    </tr>\n",
       "  </tbody>\n",
       "</table>\n",
       "</div>"
      ],
      "text/plain": [
       "   e  n\n",
       "0  a  1\n",
       "1  a  1\n",
       "2  a  2\n",
       "3  b  3\n",
       "4  c  2\n",
       "5  c  3"
      ]
     },
     "metadata": {},
     "output_type": "display_data"
    },
    {
     "name": "stdout",
     "output_type": "stream",
     "text": [
      "\n",
      " \n",
      "Restructured Dataframes using single factory method for property store repeated\n",
      "----------------------------------------------------------------------------------------------------\n"
     ]
    },
    {
     "data": {
      "text/plain": [
       "MultiIndex([('a', 1),\n",
       "            ('a', 2),\n",
       "            ('b', 3),\n",
       "            ('c', 2),\n",
       "            ('c', 3)],\n",
       "           names=['e', 'n'])"
      ]
     },
     "metadata": {},
     "output_type": "display_data"
    },
    {
     "data": {
      "text/html": [
       "<div>\n",
       "<style scoped>\n",
       "    .dataframe tbody tr th:only-of-type {\n",
       "        vertical-align: middle;\n",
       "    }\n",
       "\n",
       "    .dataframe tbody tr th {\n",
       "        vertical-align: top;\n",
       "    }\n",
       "\n",
       "    .dataframe thead th {\n",
       "        text-align: right;\n",
       "    }\n",
       "</style>\n",
       "<table border=\"1\" class=\"dataframe\">\n",
       "  <thead>\n",
       "    <tr style=\"text-align: right;\">\n",
       "      <th></th>\n",
       "      <th></th>\n",
       "      <th>weight</th>\n",
       "      <th>misc_properties</th>\n",
       "    </tr>\n",
       "    <tr>\n",
       "      <th>e</th>\n",
       "      <th>n</th>\n",
       "      <th></th>\n",
       "      <th></th>\n",
       "    </tr>\n",
       "  </thead>\n",
       "  <tbody>\n",
       "    <tr>\n",
       "      <th rowspan=\"2\" valign=\"top\">a</th>\n",
       "      <th>1</th>\n",
       "      <td>1.0</td>\n",
       "      <td>{}</td>\n",
       "    </tr>\n",
       "    <tr>\n",
       "      <th>2</th>\n",
       "      <td>1.0</td>\n",
       "      <td>{}</td>\n",
       "    </tr>\n",
       "    <tr>\n",
       "      <th>b</th>\n",
       "      <th>3</th>\n",
       "      <td>1.0</td>\n",
       "      <td>{}</td>\n",
       "    </tr>\n",
       "    <tr>\n",
       "      <th rowspan=\"2\" valign=\"top\">c</th>\n",
       "      <th>2</th>\n",
       "      <td>1.0</td>\n",
       "      <td>{}</td>\n",
       "    </tr>\n",
       "    <tr>\n",
       "      <th>3</th>\n",
       "      <td>1.0</td>\n",
       "      <td>{}</td>\n",
       "    </tr>\n",
       "  </tbody>\n",
       "</table>\n",
       "</div>"
      ],
      "text/plain": [
       "     weight misc_properties\n",
       "e n                        \n",
       "a 1     1.0              {}\n",
       "  2     1.0              {}\n",
       "b 3     1.0              {}\n",
       "c 2     1.0              {}\n",
       "  3     1.0              {}"
      ]
     },
     "metadata": {},
     "output_type": "display_data"
    },
    {
     "data": {
      "text/plain": [
       "None"
      ]
     },
     "metadata": {},
     "output_type": "display_data"
    },
    {
     "data": {
      "text/plain": [
       "None"
      ]
     },
     "metadata": {},
     "output_type": "display_data"
    },
    {
     "name": "stdout",
     "output_type": "stream",
     "text": [
      "----------------------------------------------------------------------------------------------------\n"
     ]
    }
   ],
   "source": [
    "incidence_dataframe = pd.DataFrame({'e': ['a', 'a', 'a', 'b', 'c', 'c'], \n",
    "                                    'n': [1, 1, 2, 3, 2, 3],})\n",
    "\n",
    "\n",
    "print('Provided Dataframes')\n",
    "print('-'*100)\n",
    "display(incidence_dataframe)\n",
    "\n",
    "\n",
    "\n",
    "print('\\n \\nRestructured Dataframes using single factory method for property store repeated')\n",
    "print('-'*100)\n",
    "\n",
    "\n",
    "\n",
    "IPS = dataframe_factory_method(incidence_dataframe, level = 2,\n",
    "                               uid_cols = ['e', 'n'],\n",
    "                               aggregate_by = {'weight': 'sum'},)\n",
    "IS = IPS.index\n",
    "\n",
    "display(IS)\n",
    "display(IPS)\n",
    "\n",
    "EPS = dataframe_factory_method(None, level = 0)\n",
    "display(EPS)\n",
    "\n",
    "NPS = dataframe_factory_method(None, level = 1, uid_cols = ['nodes'])\n",
    "display(NPS)\n",
    "print('-'*100)\n"
   ]
  },
  {
   "cell_type": "markdown",
   "id": "73cbb837",
   "metadata": {
    "heading_collapsed": true
   },
   "source": [
    "# complex dataframe"
   ]
  },
  {
   "cell_type": "code",
   "execution_count": 8,
   "id": "68cf96df",
   "metadata": {
    "hidden": true
   },
   "outputs": [
    {
     "name": "stdout",
     "output_type": "stream",
     "text": [
      "Provided Dataframes\n",
      "----------------------------------------------------------------------------------------------------\n"
     ]
    },
    {
     "data": {
      "text/html": [
       "<div>\n",
       "<style scoped>\n",
       "    .dataframe tbody tr th:only-of-type {\n",
       "        vertical-align: middle;\n",
       "    }\n",
       "\n",
       "    .dataframe tbody tr th {\n",
       "        vertical-align: top;\n",
       "    }\n",
       "\n",
       "    .dataframe thead th {\n",
       "        text-align: right;\n",
       "    }\n",
       "</style>\n",
       "<table border=\"1\" class=\"dataframe\">\n",
       "  <thead>\n",
       "    <tr style=\"text-align: right;\">\n",
       "      <th></th>\n",
       "      <th>E</th>\n",
       "      <th>nodes</th>\n",
       "      <th>color</th>\n",
       "      <th>other_properties</th>\n",
       "    </tr>\n",
       "  </thead>\n",
       "  <tbody>\n",
       "    <tr>\n",
       "      <th>0</th>\n",
       "      <td>a</td>\n",
       "      <td>1</td>\n",
       "      <td>red</td>\n",
       "      <td>{}</td>\n",
       "    </tr>\n",
       "    <tr>\n",
       "      <th>1</th>\n",
       "      <td>a</td>\n",
       "      <td>1</td>\n",
       "      <td>red</td>\n",
       "      <td>{}</td>\n",
       "    </tr>\n",
       "    <tr>\n",
       "      <th>2</th>\n",
       "      <td>a</td>\n",
       "      <td>2</td>\n",
       "      <td>red</td>\n",
       "      <td>{'weight': 5}</td>\n",
       "    </tr>\n",
       "    <tr>\n",
       "      <th>3</th>\n",
       "      <td>b</td>\n",
       "      <td>3</td>\n",
       "      <td>red</td>\n",
       "      <td>{'time': 3}</td>\n",
       "    </tr>\n",
       "    <tr>\n",
       "      <th>4</th>\n",
       "      <td>c</td>\n",
       "      <td>2</td>\n",
       "      <td>red</td>\n",
       "      <td>{}</td>\n",
       "    </tr>\n",
       "    <tr>\n",
       "      <th>5</th>\n",
       "      <td>c</td>\n",
       "      <td>3</td>\n",
       "      <td>blue</td>\n",
       "      <td>{}</td>\n",
       "    </tr>\n",
       "  </tbody>\n",
       "</table>\n",
       "</div>"
      ],
      "text/plain": [
       "   E  nodes color other_properties\n",
       "0  a      1   red               {}\n",
       "1  a      1   red               {}\n",
       "2  a      2   red    {'weight': 5}\n",
       "3  b      3   red      {'time': 3}\n",
       "4  c      2   red               {}\n",
       "5  c      3  blue               {}"
      ]
     },
     "metadata": {},
     "output_type": "display_data"
    },
    {
     "data": {
      "text/html": [
       "<div>\n",
       "<style scoped>\n",
       "    .dataframe tbody tr th:only-of-type {\n",
       "        vertical-align: middle;\n",
       "    }\n",
       "\n",
       "    .dataframe tbody tr th {\n",
       "        vertical-align: top;\n",
       "    }\n",
       "\n",
       "    .dataframe thead th {\n",
       "        text-align: right;\n",
       "    }\n",
       "</style>\n",
       "<table border=\"1\" class=\"dataframe\">\n",
       "  <thead>\n",
       "    <tr style=\"text-align: right;\">\n",
       "      <th></th>\n",
       "      <th>edges</th>\n",
       "      <th>strength</th>\n",
       "    </tr>\n",
       "  </thead>\n",
       "  <tbody>\n",
       "    <tr>\n",
       "      <th>0</th>\n",
       "      <td>a</td>\n",
       "      <td>2.0</td>\n",
       "    </tr>\n",
       "    <tr>\n",
       "      <th>1</th>\n",
       "      <td>b</td>\n",
       "      <td>NaN</td>\n",
       "    </tr>\n",
       "    <tr>\n",
       "      <th>2</th>\n",
       "      <td>c</td>\n",
       "      <td>3.0</td>\n",
       "    </tr>\n",
       "  </tbody>\n",
       "</table>\n",
       "</div>"
      ],
      "text/plain": [
       "  edges  strength\n",
       "0     a       2.0\n",
       "1     b       NaN\n",
       "2     c       3.0"
      ]
     },
     "metadata": {},
     "output_type": "display_data"
    },
    {
     "data": {
      "text/html": [
       "<div>\n",
       "<style scoped>\n",
       "    .dataframe tbody tr th:only-of-type {\n",
       "        vertical-align: middle;\n",
       "    }\n",
       "\n",
       "    .dataframe tbody tr th {\n",
       "        vertical-align: top;\n",
       "    }\n",
       "\n",
       "    .dataframe thead th {\n",
       "        text-align: right;\n",
       "    }\n",
       "</style>\n",
       "<table border=\"1\" class=\"dataframe\">\n",
       "  <thead>\n",
       "    <tr style=\"text-align: right;\">\n",
       "      <th></th>\n",
       "      <th>N</th>\n",
       "      <th>temperature</th>\n",
       "    </tr>\n",
       "  </thead>\n",
       "  <tbody>\n",
       "    <tr>\n",
       "      <th>0</th>\n",
       "      <td>1</td>\n",
       "      <td>60</td>\n",
       "    </tr>\n",
       "  </tbody>\n",
       "</table>\n",
       "</div>"
      ],
      "text/plain": [
       "   N  temperature\n",
       "0  1           60"
      ]
     },
     "metadata": {},
     "output_type": "display_data"
    },
    {
     "name": "stdout",
     "output_type": "stream",
     "text": [
      "\n",
      " \n",
      "Restructured Dataframes using single factory method for property store repeated\n",
      "----------------------------------------------------------------------------------------------------\n"
     ]
    },
    {
     "data": {
      "text/plain": [
       "MultiIndex([('a', 1),\n",
       "            ('a', 2),\n",
       "            ('b', 3),\n",
       "            ('c', 2),\n",
       "            ('c', 3)],\n",
       "           names=['E', 'nodes'])"
      ]
     },
     "metadata": {},
     "output_type": "display_data"
    },
    {
     "data": {
      "text/html": [
       "<div>\n",
       "<style scoped>\n",
       "    .dataframe tbody tr th:only-of-type {\n",
       "        vertical-align: middle;\n",
       "    }\n",
       "\n",
       "    .dataframe tbody tr th {\n",
       "        vertical-align: top;\n",
       "    }\n",
       "\n",
       "    .dataframe thead th {\n",
       "        text-align: right;\n",
       "    }\n",
       "</style>\n",
       "<table border=\"1\" class=\"dataframe\">\n",
       "  <thead>\n",
       "    <tr style=\"text-align: right;\">\n",
       "      <th></th>\n",
       "      <th></th>\n",
       "      <th>weight</th>\n",
       "      <th>color</th>\n",
       "      <th>misc_properties</th>\n",
       "    </tr>\n",
       "    <tr>\n",
       "      <th>E</th>\n",
       "      <th>nodes</th>\n",
       "      <th></th>\n",
       "      <th></th>\n",
       "      <th></th>\n",
       "    </tr>\n",
       "  </thead>\n",
       "  <tbody>\n",
       "    <tr>\n",
       "      <th rowspan=\"2\" valign=\"top\">a</th>\n",
       "      <th>1</th>\n",
       "      <td>1.0</td>\n",
       "      <td>red</td>\n",
       "      <td>{}</td>\n",
       "    </tr>\n",
       "    <tr>\n",
       "      <th>2</th>\n",
       "      <td>5.0</td>\n",
       "      <td>red</td>\n",
       "      <td>{'weight': 5}</td>\n",
       "    </tr>\n",
       "    <tr>\n",
       "      <th>b</th>\n",
       "      <th>3</th>\n",
       "      <td>1.0</td>\n",
       "      <td>red</td>\n",
       "      <td>{'time': 3}</td>\n",
       "    </tr>\n",
       "    <tr>\n",
       "      <th rowspan=\"2\" valign=\"top\">c</th>\n",
       "      <th>2</th>\n",
       "      <td>1.0</td>\n",
       "      <td>red</td>\n",
       "      <td>{}</td>\n",
       "    </tr>\n",
       "    <tr>\n",
       "      <th>3</th>\n",
       "      <td>1.0</td>\n",
       "      <td>blue</td>\n",
       "      <td>{}</td>\n",
       "    </tr>\n",
       "  </tbody>\n",
       "</table>\n",
       "</div>"
      ],
      "text/plain": [
       "         weight color misc_properties\n",
       "E nodes                              \n",
       "a 1         1.0   red              {}\n",
       "  2         5.0   red   {'weight': 5}\n",
       "b 3         1.0   red     {'time': 3}\n",
       "c 2         1.0   red              {}\n",
       "  3         1.0  blue              {}"
      ]
     },
     "metadata": {},
     "output_type": "display_data"
    },
    {
     "data": {
      "text/html": [
       "<div>\n",
       "<style scoped>\n",
       "    .dataframe tbody tr th:only-of-type {\n",
       "        vertical-align: middle;\n",
       "    }\n",
       "\n",
       "    .dataframe tbody tr th {\n",
       "        vertical-align: top;\n",
       "    }\n",
       "\n",
       "    .dataframe thead th {\n",
       "        text-align: right;\n",
       "    }\n",
       "</style>\n",
       "<table border=\"1\" class=\"dataframe\">\n",
       "  <thead>\n",
       "    <tr style=\"text-align: right;\">\n",
       "      <th></th>\n",
       "      <th>weight</th>\n",
       "      <th>strength</th>\n",
       "      <th>misc_properties</th>\n",
       "    </tr>\n",
       "    <tr>\n",
       "      <th>edges</th>\n",
       "      <th></th>\n",
       "      <th></th>\n",
       "      <th></th>\n",
       "    </tr>\n",
       "  </thead>\n",
       "  <tbody>\n",
       "    <tr>\n",
       "      <th>a</th>\n",
       "      <td>1.0</td>\n",
       "      <td>2.0</td>\n",
       "      <td>{}</td>\n",
       "    </tr>\n",
       "    <tr>\n",
       "      <th>b</th>\n",
       "      <td>1.0</td>\n",
       "      <td>NaN</td>\n",
       "      <td>{}</td>\n",
       "    </tr>\n",
       "    <tr>\n",
       "      <th>c</th>\n",
       "      <td>1.0</td>\n",
       "      <td>3.0</td>\n",
       "      <td>{}</td>\n",
       "    </tr>\n",
       "  </tbody>\n",
       "</table>\n",
       "</div>"
      ],
      "text/plain": [
       "       weight  strength misc_properties\n",
       "edges                                  \n",
       "a         1.0       2.0              {}\n",
       "b         1.0       NaN              {}\n",
       "c         1.0       3.0              {}"
      ]
     },
     "metadata": {},
     "output_type": "display_data"
    },
    {
     "data": {
      "text/plain": [
       "None"
      ]
     },
     "metadata": {},
     "output_type": "display_data"
    },
    {
     "name": "stdout",
     "output_type": "stream",
     "text": [
      "----------------------------------------------------------------------------------------------------\n"
     ]
    }
   ],
   "source": [
    "cell_prop_dataframe = pd.DataFrame({'E': ['a', 'a', 'a', 'b', 'c', 'c'], 'nodes': [1, 1, 2, 3, 2, 3],\n",
    "                                    'color': ['red', 'red', 'red', 'red', 'red', 'blue'],\n",
    "                                    'other_properties': [{}, {}, {'weight': 5}, {'time': 3}, {}, {}]})\n",
    "\n",
    "edge_prop_dataframe = pd.DataFrame({'edges': ['a', 'b', 'c'],\n",
    "                                    'strength': [2, np.nan, 3]})\n",
    "\n",
    "node_prop_dataframe = pd.DataFrame({'N': [1],\n",
    "                                    'temperature': [60]})\n",
    "\n",
    "print('Provided Dataframes')\n",
    "print('-'*100)\n",
    "display(cell_prop_dataframe)\n",
    "display(edge_prop_dataframe)\n",
    "display(node_prop_dataframe)\n",
    "\n",
    "print('\\n \\nRestructured Dataframes using single factory method for property store repeated')\n",
    "print('-'*100)\n",
    "\n",
    "\n",
    "IPS = dataframe_factory_method(cell_prop_dataframe, level = 2,\n",
    "                               uid_cols = ['E', 'nodes'],\n",
    "                               misc_properties_col = 'other_properties',\n",
    "                               aggregate_by = {'weight': 'sum'},)\n",
    "IS = IPS.index\n",
    "\n",
    "display(IS)\n",
    "\n",
    "display(IPS)\n",
    "\n",
    "\n",
    "EPS = dataframe_factory_method(edge_prop_dataframe, level = 0,\n",
    "                               weight_col = 1, uid_cols = [0])\n",
    "display(EPS)\n",
    "\n",
    "\n",
    "NPS = dataframe_factory_method(None, level = 1,)\n",
    "display(NPS)\n",
    "print('-'*100)\n"
   ]
  },
  {
   "cell_type": "markdown",
   "id": "944095a5",
   "metadata": {
    "heading_collapsed": true
   },
   "source": [
    "# meetings dictionary "
   ]
  },
  {
   "cell_type": "code",
   "execution_count": 10,
   "id": "7e429de7",
   "metadata": {
    "hidden": true
   },
   "outputs": [
    {
     "name": "stdout",
     "output_type": "stream",
     "text": [
      "Provided Dataframes\n",
      "----------------------------------------------------------------------------------------------------\n"
     ]
    },
    {
     "data": {
      "text/plain": [
       "{'M1': {'P4': {'topics': ['A, B']}, 'P5': {'topics': ['A', 'C']}},\n",
       " 'M2': {'P5': {'topics': ['E', 'F']}, 'P6': {'topics': ['F']}},\n",
       " 'M3': {'P2': {'topics': ['C', 'D']},\n",
       "  'P3': {'topics': ['B', 'C', 'D']},\n",
       "  'P4': {'topics': ['D']}},\n",
       " 'M4': {'P1': {'topics': ['C']},\n",
       "  'P2': {'topics': ['C']},\n",
       "  'P3': {'topics': ['C']}},\n",
       " 'M5': {'P1'}}"
      ]
     },
     "metadata": {},
     "output_type": "display_data"
    },
    {
     "data": {
      "text/plain": [
       "{'M1': {'interval': [0, 1]},\n",
       " 'M2': {'interval': [2, 6]},\n",
       " 'M3': {'interval': [3, 5]},\n",
       " 'M4': {'interval': [7, 9]}}"
      ]
     },
     "metadata": {},
     "output_type": "display_data"
    },
    {
     "name": "stdout",
     "output_type": "stream",
     "text": [
      "\n",
      " \n",
      "Restructured Dataframes using single factory method for property store repeated\n",
      "----------------------------------------------------------------------------------------------------\n"
     ]
    },
    {
     "data": {
      "text/html": [
       "<div>\n",
       "<style scoped>\n",
       "    .dataframe tbody tr th:only-of-type {\n",
       "        vertical-align: middle;\n",
       "    }\n",
       "\n",
       "    .dataframe tbody tr th {\n",
       "        vertical-align: top;\n",
       "    }\n",
       "\n",
       "    .dataframe thead th {\n",
       "        text-align: right;\n",
       "    }\n",
       "</style>\n",
       "<table border=\"1\" class=\"dataframe\">\n",
       "  <thead>\n",
       "    <tr style=\"text-align: right;\">\n",
       "      <th></th>\n",
       "      <th></th>\n",
       "      <th>weight</th>\n",
       "      <th>misc_properties</th>\n",
       "    </tr>\n",
       "    <tr>\n",
       "      <th>edges</th>\n",
       "      <th>nodes</th>\n",
       "      <th></th>\n",
       "      <th></th>\n",
       "    </tr>\n",
       "  </thead>\n",
       "  <tbody>\n",
       "    <tr>\n",
       "      <th rowspan=\"2\" valign=\"top\">M1</th>\n",
       "      <th>P4</th>\n",
       "      <td>1.0</td>\n",
       "      <td>{'topics': ['A, B']}</td>\n",
       "    </tr>\n",
       "    <tr>\n",
       "      <th>P5</th>\n",
       "      <td>1.0</td>\n",
       "      <td>{'topics': ['A', 'C']}</td>\n",
       "    </tr>\n",
       "    <tr>\n",
       "      <th rowspan=\"2\" valign=\"top\">M2</th>\n",
       "      <th>P5</th>\n",
       "      <td>1.0</td>\n",
       "      <td>{'topics': ['E', 'F']}</td>\n",
       "    </tr>\n",
       "    <tr>\n",
       "      <th>P6</th>\n",
       "      <td>1.0</td>\n",
       "      <td>{'topics': ['F']}</td>\n",
       "    </tr>\n",
       "    <tr>\n",
       "      <th rowspan=\"3\" valign=\"top\">M3</th>\n",
       "      <th>P2</th>\n",
       "      <td>1.0</td>\n",
       "      <td>{'topics': ['C', 'D']}</td>\n",
       "    </tr>\n",
       "    <tr>\n",
       "      <th>P3</th>\n",
       "      <td>1.0</td>\n",
       "      <td>{'topics': ['B', 'C', 'D']}</td>\n",
       "    </tr>\n",
       "    <tr>\n",
       "      <th>P4</th>\n",
       "      <td>1.0</td>\n",
       "      <td>{'topics': ['D']}</td>\n",
       "    </tr>\n",
       "    <tr>\n",
       "      <th rowspan=\"3\" valign=\"top\">M4</th>\n",
       "      <th>P1</th>\n",
       "      <td>1.0</td>\n",
       "      <td>{'topics': ['C']}</td>\n",
       "    </tr>\n",
       "    <tr>\n",
       "      <th>P2</th>\n",
       "      <td>1.0</td>\n",
       "      <td>{'topics': ['C']}</td>\n",
       "    </tr>\n",
       "    <tr>\n",
       "      <th>P3</th>\n",
       "      <td>1.0</td>\n",
       "      <td>{'topics': ['C']}</td>\n",
       "    </tr>\n",
       "    <tr>\n",
       "      <th>M5</th>\n",
       "      <th>P1</th>\n",
       "      <td>1.0</td>\n",
       "      <td>{}</td>\n",
       "    </tr>\n",
       "  </tbody>\n",
       "</table>\n",
       "</div>"
      ],
      "text/plain": [
       "             weight              misc_properties\n",
       "edges nodes                                     \n",
       "M1    P4        1.0         {'topics': ['A, B']}\n",
       "      P5        1.0       {'topics': ['A', 'C']}\n",
       "M2    P5        1.0       {'topics': ['E', 'F']}\n",
       "      P6        1.0            {'topics': ['F']}\n",
       "M3    P2        1.0       {'topics': ['C', 'D']}\n",
       "      P3        1.0  {'topics': ['B', 'C', 'D']}\n",
       "      P4        1.0            {'topics': ['D']}\n",
       "M4    P1        1.0            {'topics': ['C']}\n",
       "      P2        1.0            {'topics': ['C']}\n",
       "      P3        1.0            {'topics': ['C']}\n",
       "M5    P1        1.0                           {}"
      ]
     },
     "metadata": {},
     "output_type": "display_data"
    },
    {
     "name": "stdout",
     "output_type": "stream",
     "text": [
      "----------------------------------------------------------------------------------------------------\n"
     ]
    }
   ],
   "source": [
    "NS = 'P'\n",
    "ES = 'M'\n",
    "\n",
    "cell_props = {\n",
    "       ES+'1': {NS+'4': {'topics': ['A, B']}, \n",
    "                NS+'5': {'topics': ['A', 'C']}},       \n",
    "       ES+'2': {NS+'5': {'topics': ['E', 'F']}, \n",
    "                NS+'6': {'topics': ['F']}},          \n",
    "       ES+'3': {NS+'2': {'topics': ['C', 'D']}, \n",
    "                NS+'3': {'topics': ['B', 'C', 'D']}, \n",
    "                NS+'4': {'topics': ['D']}},                         \n",
    "       ES+'4': {NS+'1': {'topics': ['C']}, \n",
    "                NS+'2': {'topics': ['C']}, \n",
    "                NS+'3': {'topics': ['C']}},   \n",
    "       ES+'5': {NS+'1'}\n",
    "      }\n",
    "    \n",
    "edge_props = {\n",
    "       ES+'1': {'interval': [0, 1]},  \n",
    "       ES+'2': {'interval': [2, 6]},  \n",
    "       ES+'3': {'interval': [3, 5]},  \n",
    "       ES+'4': {'interval': [7, 9]},  \n",
    "      }\n",
    "\n",
    "print('Provided Dataframes')\n",
    "print('-'*100)\n",
    "display(cell_props)\n",
    "display(edge_props)\n",
    "\n",
    "print('\\n \\nRestructured Dataframes using single factory method for property store repeated')\n",
    "print('-'*100)\n",
    "\n",
    "\n",
    "IPS = dict_factory_method(cell_props, level = 2)\n",
    "\n",
    "display(IPS)\n",
    "\n",
    "print('-'*100)\n"
   ]
  },
  {
   "cell_type": "code",
   "execution_count": null,
   "id": "a39142a0",
   "metadata": {
    "hidden": true
   },
   "outputs": [],
   "source": []
  },
  {
   "cell_type": "code",
   "execution_count": null,
   "id": "985ae9fd",
   "metadata": {
    "hidden": true
   },
   "outputs": [],
   "source": []
  }
 ],
 "metadata": {
  "kernelspec": {
   "display_name": "Python 3 (ipykernel)",
   "language": "python",
   "name": "python3"
  },
  "language_info": {
   "codemirror_mode": {
    "name": "ipython",
    "version": 3
   },
   "file_extension": ".py",
   "mimetype": "text/x-python",
   "name": "python",
   "nbconvert_exporter": "python",
   "pygments_lexer": "ipython3",
   "version": "3.11.5"
  },
  "toc": {
   "base_numbering": 1,
   "nav_menu": {},
   "number_sections": true,
   "sideBar": false,
   "skip_h1_title": false,
   "title_cell": "Table of Contents",
   "title_sidebar": "Contents",
   "toc_cell": true,
   "toc_position": {},
   "toc_section_display": true,
   "toc_window_display": true
  },
  "varInspector": {
   "cols": {
    "lenName": 16,
    "lenType": 16,
    "lenVar": 40
   },
   "kernels_config": {
    "python": {
     "delete_cmd_postfix": "",
     "delete_cmd_prefix": "del ",
     "library": "var_list.py",
     "varRefreshCmd": "print(var_dic_list())"
    },
    "r": {
     "delete_cmd_postfix": ") ",
     "delete_cmd_prefix": "rm(",
     "library": "var_list.r",
     "varRefreshCmd": "cat(var_dic_list()) "
    }
   },
   "types_to_exclude": [
    "module",
    "function",
    "builtin_function_or_method",
    "instance",
    "_Feature"
   ],
   "window_display": false
  }
 },
 "nbformat": 4,
 "nbformat_minor": 5
}
