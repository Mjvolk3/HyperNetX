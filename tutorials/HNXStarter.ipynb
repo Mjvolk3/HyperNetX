{
 "cells": [
  {
   "cell_type": "code",
   "execution_count": null,
   "id": "initial_id",
   "metadata": {
    "collapsed": true
   },
   "outputs": [],
   "source": [
    "import hypernetx as hnx\n",
    "from hnxwidget import HypernetxWidget\n",
    "import matplotlib.pyplot as plt\n",
    "\n",
    "import warnings \n",
    "warnings.simplefilter('ignore')"
   ]
  },
  {
   "metadata": {},
   "cell_type": "markdown",
   "source": [
    "# Construct and visualize your first HNX hypergraphs\n",
    "\n",
    "##  The Hypergraph constructor\n",
    "\n",
    "`hnx.Hypergraph` accepts multiple types of setsystems to create a hypergraph:\n",
    "\n",
    "- lists of lists,\n",
    "- dictionaries,\n",
    "- nested dictionaries,\n",
    "- numpy arrays\n",
    "- pandas DataFrames.\n",
    "\n",
    "**Note:** The data in several of our notebooks are taken from the jean.dat dataset available from the Stanford GraphBase at https://www-cs-faculty.stanford.edu/~knuth/sgb.html. For example, the scenes data gives character scene incidence information from the novel Les Mis&eacuterables by Victor Hugo."
   ],
   "id": "d2311ea72b83c88e"
  },
  {
   "metadata": {},
   "cell_type": "markdown",
   "source": "### List of Lists",
   "id": "85bb2ad169e20b2c"
  },
  {
   "metadata": {},
   "cell_type": "code",
   "outputs": [],
   "execution_count": null,
   "source": [
    "list_of_lists = [['book','candle','cat'],['book','coffee cup'],['coffee cup','radio']]\n",
    "\n",
    "H = hnx.Hypergraph(list_of_lists)\n",
    "\n",
    "plt.subplots(figsize=(4,4))\n",
    "hnx.draw(H)"
   ],
   "id": "a91c6340f59d755e"
  }
 ],
 "metadata": {
  "kernelspec": {
   "display_name": "Python 3",
   "language": "python",
   "name": "python3"
  },
  "language_info": {
   "codemirror_mode": {
    "name": "ipython",
    "version": 2
   },
   "file_extension": ".py",
   "mimetype": "text/x-python",
   "name": "python",
   "nbconvert_exporter": "python",
   "pygments_lexer": "ipython2",
   "version": "2.7.6"
  }
 },
 "nbformat": 4,
 "nbformat_minor": 5
}
