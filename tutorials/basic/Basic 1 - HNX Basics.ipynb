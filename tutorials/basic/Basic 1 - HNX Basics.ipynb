{
 "cells": [
  {
   "cell_type": "code",
   "execution_count": 1,
   "metadata": {
    "ExecuteTime": {
     "end_time": "2024-05-16T05:39:17.891685Z",
     "start_time": "2024-05-16T05:39:17.889857Z"
    }
   },
   "outputs": [],
   "source": [
    "#!pip install hypernetx ## uncomment to run in Colab"
   ]
  },
  {
   "cell_type": "code",
   "execution_count": 2,
   "metadata": {
    "ExecuteTime": {
     "end_time": "2024-05-16T05:39:20.354638Z",
     "start_time": "2024-05-16T05:39:17.892970Z"
    },
    "execution": {
     "iopub.execute_input": "2024-04-18T16:29:51.279437Z",
     "iopub.status.busy": "2024-04-18T16:29:51.279314Z",
     "iopub.status.idle": "2024-04-18T16:29:53.117448Z",
     "shell.execute_reply": "2024-04-18T16:29:53.117055Z",
     "shell.execute_reply.started": "2024-04-18T16:29:51.279420Z"
    }
   },
   "outputs": [],
   "source": [
    "import hypernetx as hnx\n",
    "import numpy as np\n",
    "import pandas as pd\n",
    "import matplotlib.pyplot as plt\n",
    "import networkx as nx\n",
    "import warnings \n",
    "warnings.simplefilter('ignore')"
   ]
  },
  {
   "cell_type": "markdown",
   "metadata": {},
   "source": [
    "# Construct and visualize your first HNX hypergraphs\n",
    "\n",
    "##  The Hypergraph constructor\n",
    "\n",
    "`hnx.Hypergraph` accepts multiple types of setsystems to create a hypergraph:\n",
    "\n",
    "- lists of lists,\n",
    "- dictionaries,\n",
    "- nested dictionaries,\n",
    "- numpy arrays\n",
    "- pandas DataFrames.\n",
    "\n",
    "**Note:** The data in several of our notebooks are taken from the jean.dat dataset available from the Stanford GraphBase at https://www-cs-faculty.stanford.edu/~knuth/sgb.html. For example, the scenes data gives character scene incidence information from the novel Les Mis&eacuterables by Victor Hugo."
   ]
  },
  {
   "cell_type": "markdown",
   "metadata": {},
   "source": [
    "### List of Lists"
   ]
  },
  {
   "cell_type": "code",
   "execution_count": 3,
   "metadata": {
    "ExecuteTime": {
     "end_time": "2024-05-16T05:39:20.442339Z",
     "start_time": "2024-05-16T05:39:20.356127Z"
    }
   },
   "outputs": [
    {
     "data": {
      "image/png": "[encoded data removed]",
      "text/plain": [
       "<Figure size 400x400 with 1 Axes>"
      ]
     },
     "metadata": {},
     "output_type": "display_data"
    }
   ],
   "source": [
    "list_of_lists = [['book','candle','cat'],['book','coffee cup'],['coffee cup','radio']]\n",
    "\n",
    "H = hnx.Hypergraph(list_of_lists)\n",
    "\n",
    "plt.subplots(figsize=(4,4))\n",
    "hnx.draw(H)"
   ]
  },
  {
   "cell_type": "markdown",
   "metadata": {},
   "source": [
    "### Dictionary"
   ]
  },
  {
   "cell_type": "code",
   "execution_count": null,
   "metadata": {
    "ExecuteTime": {
     "start_time": "2024-05-16T05:39:17.872Z"
    },
    "execution": {
     "iopub.execute_input": "2024-04-18T16:29:53.118175Z",
     "iopub.status.busy": "2024-04-18T16:29:53.117998Z",
     "iopub.status.idle": "2024-04-18T16:29:53.131987Z",
     "shell.execute_reply": "2024-04-18T16:29:53.131644Z",
     "shell.execute_reply.started": "2024-04-18T16:29:53.118166Z"
    },
    "scrolled": true
   },
   "outputs": [],
   "source": [
    "scenes_dictionary = {\n",
    "    0: ('FN', 'TH'),\n",
    "    1: ('TH', 'JV'),\n",
    "    2: ('BM', 'FN', 'JA'),\n",
    "    3: ('JV', 'JU', 'CH', 'BM'),\n",
    "    4: ('JU', 'CH', 'BR', 'CN', 'CC', 'JV', 'BM'),\n",
    "    5: ('TH', 'GP'),\n",
    "    6: ('GP', 'MP'),\n",
    "    7: ('MA', 'GP'),\n",
    "    8: ('FN', 'TH')\n",
    "}\n",
    "\n",
    "H = hnx.Hypergraph(scenes_dictionary)\n",
    "\n",
    "## HNX has a built in draw function - more information may be found in tutorial Basic 2\n",
    "plt.subplots(figsize=(5,5))\n",
    "hnx.draw(H)"
   ]
  },
  {
   "cell_type": "markdown",
   "metadata": {},
   "source": [
    "### Nested Dictionary (adding metadata to incidences)"
   ]
  },
  {
   "cell_type": "code",
   "execution_count": null,
   "metadata": {
    "ExecuteTime": {
     "start_time": "2024-05-16T05:39:17.874Z"
    },
    "scrolled": true
   },
   "outputs": [],
   "source": [
    "## nested dictionaries allow you to associate data with the relationships\n",
    "\n",
    "nested_dictionary =  {\n",
    "    0: {'FN':{'time':'early', 'weight': 7}, 'TH':{'time':'late'}},\n",
    "    1: {'TH':{'subject':'war'}, 'JV':{'observed_by':'someone'}},\n",
    "    2: {'BM':{}, 'FN':{}, 'JA':{'role':'policeman'}},\n",
    "    3: {'JV':{'was_carrying':'stick'}, 'JU':{}, 'CH':{}, 'BM':{'state':'intoxicated', 'color':'pinkish'}},\n",
    "    4: {'JU':{'weight':15}, 'CH':{}, 'BR':{'state':'worried'}, 'CN':{}, 'CC':{}, 'JV':{}, 'BM':{}},\n",
    "    5: {'TH':{}, 'GP':{}},\n",
    "    6: {'GP':{}, 'MP':{}},\n",
    "    7: {'MA':{}, 'GP':{'accompanied_by':'dog', 'weight':15, 'was_singing': 'Frère Jacques'}}\n",
    "}\n",
    "        \n",
    "H = hnx.Hypergraph(nested_dictionary)\n",
    "\n",
    "## The data associated with each incidence may be viewed from the hypergraph's dataframe\n",
    "H.dataframe"
   ]
  },
  {
   "cell_type": "markdown",
   "metadata": {},
   "source": [
    "### Numpy Arrays"
   ]
  },
  {
   "cell_type": "code",
   "execution_count": null,
   "metadata": {
    "ExecuteTime": {
     "start_time": "2024-05-16T05:39:17.877Z"
    },
    "scrolled": true
   },
   "outputs": [],
   "source": [
    "## Numpy arrays must have shape (N,2) where N = the number of desired incidences. \n",
    "np_array = np.array([['A','a'],['A','b'],['A','c'],['B','a'],['B','d'],['C','c'],['C','d']])\n",
    "\n",
    "H = hnx.Hypergraph(np_array)\n",
    "\n",
    "plt.subplots(figsize=(5,5))\n",
    "hnx.draw(H)"
   ]
  },
  {
   "cell_type": "markdown",
   "metadata": {},
   "source": [
    "### Pandas DataFrames"
   ]
  },
  {
   "cell_type": "code",
   "execution_count": null,
   "metadata": {
    "ExecuteTime": {
     "start_time": "2024-05-16T05:39:17.879Z"
    }
   },
   "outputs": [],
   "source": [
    "## Data for large hypergraphs are often stored in a csv file\n",
    "## These can be read into a Pandas DataFrame for insertion into an HNX hypergraph\n",
    "df = pd.read_csv('../data/dogsAndcats.csv')\n",
    "df"
   ]
  },
  {
   "cell_type": "code",
   "execution_count": null,
   "metadata": {
    "ExecuteTime": {
     "start_time": "2024-05-16T05:39:17.880Z"
    }
   },
   "outputs": [],
   "source": [
    "## The first two columns are treated as edges and nodes by default (this my be changed in the constructor)\n",
    "## and the 'weight' column is treated as weights for the incidences\n",
    "## misc_properties can be user defined or generated by HNX for storing properties unique to individual\n",
    "## incidences\n",
    "\n",
    "H = hnx.Hypergraph(df)\n",
    "\n",
    "print(H.dataframe)\n",
    "plt.subplots(figsize=(5,5))\n",
    "hnx.draw(H)\n"
   ]
  },
  {
   "cell_type": "markdown",
   "metadata": {},
   "source": [
    "## Additional Constructors\n",
    "\n",
    "In addition HNX has constructors for\n",
    "\n",
    "- NetworkX bipartite graphs\n",
    "- Incidence Dataframes\n",
    "- Incidence Matrices\n"
   ]
  },
  {
   "cell_type": "markdown",
   "metadata": {
    "ExecuteTime": {
     "end_time": "2024-05-16T04:25:30.239328Z",
     "start_time": "2024-05-16T04:25:30.232725Z"
    }
   },
   "source": [
    "### Bipartite Graphs"
   ]
  },
  {
   "cell_type": "code",
   "execution_count": null,
   "metadata": {
    "ExecuteTime": {
     "start_time": "2024-05-16T05:39:17.882Z"
    },
    "execution": {
     "iopub.execute_input": "2024-04-18T16:29:53.254324Z",
     "iopub.status.busy": "2024-04-18T16:29:53.254010Z",
     "iopub.status.idle": "2024-04-18T16:29:53.303938Z",
     "shell.execute_reply": "2024-04-18T16:29:53.292829Z",
     "shell.execute_reply.started": "2024-04-18T16:29:53.254302Z"
    }
   },
   "outputs": [],
   "source": [
    "B = nx.Graph()\n",
    "B.add_nodes_from([1, 2, 3, 4], bipartite=0)\n",
    "B.add_nodes_from(['a', 'b', 'c'], bipartite=1)\n",
    "# Add edges only between nodes of opposite node sets\n",
    "B.add_edges_from([(1, 'a'), (1, 'b'),(2, 'a'), (2, 'b'), (2, 'c'), (3, 'c'), (4, 'a')])\n",
    "\n",
    "HB = hnx.Hypergraph.from_bipartite(B)\n"
   ]
  },
  {
   "cell_type": "code",
   "execution_count": null,
   "metadata": {
    "ExecuteTime": {
     "start_time": "2024-05-16T05:39:17.883Z"
    },
    "execution": {
     "iopub.execute_input": "2024-04-18T16:29:53.305657Z",
     "iopub.status.busy": "2024-04-18T16:29:53.305197Z",
     "iopub.status.idle": "2024-04-18T16:29:53.448759Z",
     "shell.execute_reply": "2024-04-18T16:29:53.437300Z",
     "shell.execute_reply.started": "2024-04-18T16:29:53.305575Z"
    },
    "scrolled": true
   },
   "outputs": [],
   "source": [
    "plt.subplots(figsize=(4,4))\n",
    "hnx.draw(HB)"
   ]
  },
  {
   "cell_type": "markdown",
   "metadata": {},
   "source": [
    "### Incidence Dataframes"
   ]
  },
  {
   "cell_type": "code",
   "execution_count": null,
   "metadata": {
    "ExecuteTime": {
     "start_time": "2024-05-16T05:39:17.884Z"
    }
   },
   "outputs": [],
   "source": [
    "df = pd.read_csv(\"../data/incidence_dataframe.csv\",index_col='index')\n",
    "df"
   ]
  },
  {
   "cell_type": "code",
   "execution_count": null,
   "metadata": {
    "ExecuteTime": {
     "start_time": "2024-05-16T05:39:17.885Z"
    },
    "scrolled": false
   },
   "outputs": [],
   "source": [
    "H = hnx.Hypergraph.from_incidence_dataframe(df)\n",
    "\n",
    "print(H.dataframe)\n",
    "plt.subplots(figsize=(5,5))\n",
    "hnx.draw(H)"
   ]
  },
  {
   "cell_type": "markdown",
   "metadata": {},
   "source": [
    "### Incidence Matrix"
   ]
  },
  {
   "cell_type": "code",
   "execution_count": null,
   "metadata": {
    "ExecuteTime": {
     "start_time": "2024-05-16T05:39:17.887Z"
    },
    "scrolled": true
   },
   "outputs": [],
   "source": [
    "M = df.values #from the last example\n",
    "M"
   ]
  },
  {
   "cell_type": "code",
   "execution_count": null,
   "metadata": {
    "ExecuteTime": {
     "start_time": "2024-05-16T05:39:17.889Z"
    }
   },
   "outputs": [],
   "source": [
    "## Names of edges and nodes correspond to index of columns(edges) and rows(nodes)\n",
    "H = hnx.Hypergraph.from_incidence_matrix(M)\n",
    "\n",
    "print(H.dataframe)\n",
    "plt.subplots(figsize=(5,5))\n",
    "hnx.draw(H)"
   ]
  },
  {
   "cell_type": "markdown",
   "metadata": {},
   "source": [
    "# HNX Hypergraph methods"
   ]
  },
  {
   "cell_type": "code",
   "execution_count": null,
   "metadata": {
    "ExecuteTime": {
     "start_time": "2024-05-16T05:39:17.890Z"
    }
   },
   "outputs": [],
   "source": [
    "scenes_dictionary = {\n",
    "    0: ('FN', 'TH'),\n",
    "    1: ('TH', 'JV'),\n",
    "    2: ('BM', 'FN', 'JA'),\n",
    "    3: ('JV', 'JU', 'CH', 'BM'),\n",
    "    4: ('JU', 'CH', 'BR', 'CN', 'CC', 'JV', 'BM'),\n",
    "    5: ('TH', 'GP'),\n",
    "    6: ('GP', 'MP'),\n",
    "    7: ('MA', 'GP'),\n",
    "    8: ('FN', 'TH')\n",
    "}\n",
    "\n",
    "H = hnx.Hypergraph(scenes_dictionary)"
   ]
  },
  {
   "cell_type": "markdown",
   "metadata": {},
   "source": [
    "## Dual Hypergraphs"
   ]
  },
  {
   "cell_type": "markdown",
   "metadata": {},
   "source": [
    "All hypergraphs have a natural dual structure where the edges and nodes switch roles. Edges become nodes and nodes become edges. This can be constructed by calling the `dual` method for a given hypergraph."
   ]
  },
  {
   "cell_type": "code",
   "execution_count": null,
   "metadata": {
    "ExecuteTime": {
     "start_time": "2024-05-16T05:39:17.892Z"
    },
    "execution": {
     "iopub.execute_input": "2024-04-18T16:29:53.454181Z",
     "iopub.status.busy": "2024-04-18T16:29:53.453959Z",
     "iopub.status.idle": "2024-04-18T16:29:53.631216Z",
     "shell.execute_reply": "2024-04-18T16:29:53.630827Z",
     "shell.execute_reply.started": "2024-04-18T16:29:53.454172Z"
    }
   },
   "outputs": [],
   "source": [
    "fig,ax = plt.subplots(1,2,figsize=(15,5))\n",
    "HD = H.dual()\n",
    "hnx.draw(H,ax=ax[0])\n",
    "ax[0].set_title(\"H\",fontsize=15)\n",
    "hnx.draw(HD,ax=ax[1])\n",
    "ax[1].set_title(\"H-dual\",fontsize=15);"
   ]
  },
  {
   "cell_type": "markdown",
   "metadata": {},
   "source": [
    "## Access the objects in the hypergraph"
   ]
  },
  {
   "cell_type": "code",
   "execution_count": null,
   "metadata": {
    "ExecuteTime": {
     "start_time": "2024-05-16T05:39:17.893Z"
    },
    "execution": {
     "iopub.execute_input": "2024-04-18T16:29:53.631748Z",
     "iopub.status.busy": "2024-04-18T16:29:53.631669Z",
     "iopub.status.idle": "2024-04-18T16:29:53.634243Z",
     "shell.execute_reply": "2024-04-18T16:29:53.633951Z",
     "shell.execute_reply.started": "2024-04-18T16:29:53.631740Z"
    }
   },
   "outputs": [],
   "source": [
    "# There are 3 hypergraph view objects: Edges, Nodes, Incidences.\n",
    "H.nodes.items"
   ]
  },
  {
   "cell_type": "code",
   "execution_count": null,
   "metadata": {
    "ExecuteTime": {
     "start_time": "2024-05-16T05:39:17.894Z"
    },
    "execution": {
     "iopub.execute_input": "2024-04-18T16:29:53.634745Z",
     "iopub.status.busy": "2024-04-18T16:29:53.634668Z",
     "iopub.status.idle": "2024-04-18T16:29:53.639379Z",
     "shell.execute_reply": "2024-04-18T16:29:53.638854Z",
     "shell.execute_reply.started": "2024-04-18T16:29:53.634739Z"
    }
   },
   "outputs": [],
   "source": [
    "H.edges.items"
   ]
  },
  {
   "cell_type": "code",
   "execution_count": null,
   "metadata": {
    "ExecuteTime": {
     "start_time": "2024-05-16T05:39:17.895Z"
    },
    "execution": {
     "iopub.execute_input": "2024-04-18T16:29:53.640210Z",
     "iopub.status.busy": "2024-04-18T16:29:53.640049Z",
     "iopub.status.idle": "2024-04-18T16:29:53.642370Z",
     "shell.execute_reply": "2024-04-18T16:29:53.642106Z",
     "shell.execute_reply.started": "2024-04-18T16:29:53.640197Z"
    }
   },
   "outputs": [],
   "source": [
    "# The number of nodes and edges is returned by the shape property\n",
    "H.incidences.items"
   ]
  },
  {
   "cell_type": "code",
   "execution_count": null,
   "metadata": {
    "ExecuteTime": {
     "start_time": "2024-05-16T05:39:17.897Z"
    }
   },
   "outputs": [],
   "source": [
    "## basic information about the hypergraph\n",
    "\n",
    "hnx.info_dict(H)"
   ]
  },
  {
   "cell_type": "code",
   "execution_count": null,
   "metadata": {
    "ExecuteTime": {
     "start_time": "2024-05-16T05:39:17.898Z"
    }
   },
   "outputs": [],
   "source": [
    "H.shape"
   ]
  },
  {
   "cell_type": "markdown",
   "metadata": {},
   "source": [
    "The degree of a node is the number of edges it is contained within. The optional `s` parameter places a restriction on the size of the edges you consider (default `s=1`). The degree function looks for all edges of size $\\geq s$.\n",
    "\n",
    "Note: `H.s_degree(node)` is a wrapper for the degree method and returns the same thing."
   ]
  },
  {
   "cell_type": "code",
   "execution_count": null,
   "metadata": {
    "ExecuteTime": {
     "start_time": "2024-05-16T05:39:17.899Z"
    },
    "execution": {
     "iopub.execute_input": "2024-04-18T16:29:53.643047Z",
     "iopub.status.busy": "2024-04-18T16:29:53.642900Z",
     "iopub.status.idle": "2024-04-18T16:29:53.645587Z",
     "shell.execute_reply": "2024-04-18T16:29:53.645149Z",
     "shell.execute_reply.started": "2024-04-18T16:29:53.643039Z"
    }
   },
   "outputs": [],
   "source": [
    "H.degree('JV', s=1)"
   ]
  },
  {
   "cell_type": "markdown",
   "metadata": {},
   "source": [
    "The `dim` (dimension) and `size` methods return information about an edge. The size is the number of nodes contained in an edge and the dimension is one less than the size. The dimension is so named because if we consider a hypergraph as a [simplicial complex](https://en.wikipedia.org/wiki/Simplicial_complex), then each edge is a simplex. The dimension of a simplex is one less than its number of nodes."
   ]
  },
  {
   "cell_type": "code",
   "execution_count": null,
   "metadata": {
    "ExecuteTime": {
     "start_time": "2024-05-16T05:39:17.900Z"
    },
    "execution": {
     "iopub.execute_input": "2024-04-18T16:29:53.646427Z",
     "iopub.status.busy": "2024-04-18T16:29:53.646272Z",
     "iopub.status.idle": "2024-04-18T16:29:53.649000Z",
     "shell.execute_reply": "2024-04-18T16:29:53.648645Z",
     "shell.execute_reply.started": "2024-04-18T16:29:53.646411Z"
    }
   },
   "outputs": [],
   "source": [
    "H.dim(3), H.size(3)"
   ]
  },
  {
   "cell_type": "markdown",
   "metadata": {},
   "source": [
    "The `neighbors` method for hypergraphs works similarly as for networkx graphs. It returns an iterator that goes through all nodes which share s edges with the given node. By default s=1."
   ]
  },
  {
   "cell_type": "code",
   "execution_count": null,
   "metadata": {
    "ExecuteTime": {
     "start_time": "2024-05-16T05:39:17.902Z"
    },
    "execution": {
     "iopub.execute_input": "2024-04-18T16:29:53.649809Z",
     "iopub.status.busy": "2024-04-18T16:29:53.649677Z",
     "iopub.status.idle": "2024-04-18T16:29:53.653436Z",
     "shell.execute_reply": "2024-04-18T16:29:53.653055Z",
     "shell.execute_reply.started": "2024-04-18T16:29:53.649800Z"
    }
   },
   "outputs": [],
   "source": [
    "list(H.neighbors('JV'))"
   ]
  },
  {
   "cell_type": "markdown",
   "metadata": {},
   "source": [
    "`edge_neighbors` returns the same thing on the dual"
   ]
  },
  {
   "cell_type": "code",
   "execution_count": null,
   "metadata": {
    "ExecuteTime": {
     "start_time": "2024-05-16T05:39:17.903Z"
    }
   },
   "outputs": [],
   "source": [
    "list(H.edge_neighbors(1))"
   ]
  },
  {
   "cell_type": "markdown",
   "metadata": {},
   "source": [
    "# Hypergraph representations\n",
    "There are different ways to represent the data contained within the hypergraph. `H.incidence_dict` returns a dictionary whereas `H.incidence_matrix()` returns a scipy sparse matrix in Compressed Sparse Row format. `H.incidence_dataframe()` places the matrix in a dataframe and indexed by nodes and edges. `H.bipartite()` returns a networkx bipartite `Graph()` object."
   ]
  },
  {
   "cell_type": "code",
   "execution_count": null,
   "metadata": {
    "ExecuteTime": {
     "start_time": "2024-05-16T05:39:17.904Z"
    },
    "execution": {
     "iopub.execute_input": "2024-04-18T16:29:53.654126Z",
     "iopub.status.busy": "2024-04-18T16:29:53.653983Z",
     "iopub.status.idle": "2024-04-18T16:29:53.657107Z",
     "shell.execute_reply": "2024-04-18T16:29:53.656735Z",
     "shell.execute_reply.started": "2024-04-18T16:29:53.654114Z"
    }
   },
   "outputs": [],
   "source": [
    "H.incidence_dict"
   ]
  },
  {
   "cell_type": "code",
   "execution_count": null,
   "metadata": {
    "ExecuteTime": {
     "start_time": "2024-05-16T05:39:17.905Z"
    },
    "execution": {
     "iopub.execute_input": "2024-04-18T16:29:53.658213Z",
     "iopub.status.busy": "2024-04-18T16:29:53.658026Z",
     "iopub.status.idle": "2024-04-18T16:29:53.666389Z",
     "shell.execute_reply": "2024-04-18T16:29:53.666066Z",
     "shell.execute_reply.started": "2024-04-18T16:29:53.658198Z"
    }
   },
   "outputs": [],
   "source": [
    "H.incidence_dataframe()"
   ]
  },
  {
   "cell_type": "code",
   "execution_count": null,
   "metadata": {
    "ExecuteTime": {
     "start_time": "2024-05-16T05:39:17.905Z"
    },
    "execution": {
     "iopub.execute_input": "2024-04-18T16:29:53.667064Z",
     "iopub.status.busy": "2024-04-18T16:29:53.666931Z",
     "iopub.status.idle": "2024-04-18T16:29:53.669880Z",
     "shell.execute_reply": "2024-04-18T16:29:53.669611Z",
     "shell.execute_reply.started": "2024-04-18T16:29:53.667053Z"
    }
   },
   "outputs": [],
   "source": [
    "M_incidence = H.incidence_matrix()\n",
    "M_incidence.toarray()"
   ]
  },
  {
   "cell_type": "code",
   "execution_count": null,
   "metadata": {
    "ExecuteTime": {
     "start_time": "2024-05-16T05:39:17.906Z"
    },
    "execution": {
     "iopub.execute_input": "2024-04-18T16:29:53.670487Z",
     "iopub.status.busy": "2024-04-18T16:29:53.670362Z",
     "iopub.status.idle": "2024-04-18T16:29:53.827426Z",
     "shell.execute_reply": "2024-04-18T16:29:53.827089Z",
     "shell.execute_reply.started": "2024-04-18T16:29:53.670476Z"
    }
   },
   "outputs": [],
   "source": [
    "## Networkx and HyperNetX visualizations of the bipartite representation of the hypergraph\n",
    "fig,ax = plt.subplots(1,2,figsize=(15,6))\n",
    "BH = H.bipartite()\n",
    "top = nx.bipartite.sets(BH)[0]\n",
    "pos = nx.bipartite_layout(BH, top)\n",
    "nx.draw(BH, with_labels=True,pos=pos,ax=ax[0], node_color='lightgrey')\n",
    "hnx.drawing.two_column.draw(H,ax=ax[1])"
   ]
  },
  {
   "cell_type": "markdown",
   "metadata": {},
   "source": [
    "# Connected components\n",
    "\n",
    "<img src=\"../images/s-width.png\" width=\"600\" align=\"left\" style=\"margin-right:10px\">\n",
    "\n",
    "Hypergraph metrics generalize traditional graph metrics by including parameters for edge size and edge intersection size, also called the *width* of the intersection. In the figure there are two hypergraphs. Each illustrates an (edge) path of length 2, connecting Blue, Orange, and Green. The path in hypergraph I has *width* 1, while the path in hypergraph II has *width* 3. The width of an edge path is the size of the smallest intersection. An $s$-connected component is one where between any two edges in the component there is a path of width $s$ connecting them.\n",
    "\n",
    "More details can be found in `/tutorials/advanced/Advanced 5 - s-centrality.ipynb` \n",
    "To learn more about some of our research in this area,  check out our paper, [Hypernetwork science via high order hypergraph walks](https://epjdatascience.springeropen.com/articles/10.1140/epjds/s13688-020-00231-0)\n",
    "\n",
    "`s_components` and `s_component_subgraphs` return a generators which iterates through the edge sets and subgraphs for each s-connected component."
   ]
  },
  {
   "cell_type": "code",
   "execution_count": null,
   "metadata": {
    "ExecuteTime": {
     "start_time": "2024-05-16T05:39:17.907Z"
    },
    "execution": {
     "iopub.execute_input": "2024-04-18T16:29:53.828133Z",
     "iopub.status.busy": "2024-04-18T16:29:53.827942Z",
     "iopub.status.idle": "2024-04-18T16:29:53.831384Z",
     "shell.execute_reply": "2024-04-18T16:29:53.831050Z",
     "shell.execute_reply.started": "2024-04-18T16:29:53.828117Z"
    }
   },
   "outputs": [],
   "source": [
    "print('1-component edge sets:')\n",
    "for comp in H.s_components(s=1):\n",
    "    print(comp)\n",
    "\n",
    "print('\\n2-component edge sets:')\n",
    "for comp in H.s_components(s=2):\n",
    "    print(comp)\n",
    "    "
   ]
  },
  {
   "cell_type": "markdown",
   "metadata": {},
   "source": [
    "`s_component_subgraphs` returns a generator object which iterates through the sub-hypergraph for each s-connected component.  "
   ]
  },
  {
   "cell_type": "code",
   "execution_count": null,
   "metadata": {
    "ExecuteTime": {
     "start_time": "2024-05-16T05:39:17.909Z"
    },
    "execution": {
     "iopub.execute_input": "2024-04-18T16:29:53.832013Z",
     "iopub.status.busy": "2024-04-18T16:29:53.831913Z",
     "iopub.status.idle": "2024-04-18T16:29:53.860352Z",
     "shell.execute_reply": "2024-04-18T16:29:53.860003Z",
     "shell.execute_reply.started": "2024-04-18T16:29:53.832006Z"
    }
   },
   "outputs": [],
   "source": [
    "print('1-component sub-hypergraph incidence dictionaries:')\n",
    "for comp in H.s_component_subgraphs(s=1):\n",
    "    print(comp.incidence_dict)\n",
    "\n",
    "print('\\n2-component sub-hypergraph incidence dictionaries:')\n",
    "for comp in H.s_component_subgraphs(s=2):\n",
    "    print(comp.incidence_dict)\n",
    "    "
   ]
  },
  {
   "cell_type": "code",
   "execution_count": null,
   "metadata": {
    "ExecuteTime": {
     "start_time": "2024-05-16T05:39:17.909Z"
    },
    "execution": {
     "iopub.execute_input": "2024-04-18T16:29:53.861140Z",
     "iopub.status.busy": "2024-04-18T16:29:53.861032Z",
     "iopub.status.idle": "2024-04-18T16:29:53.946600Z",
     "shell.execute_reply": "2024-04-18T16:29:53.946233Z",
     "shell.execute_reply.started": "2024-04-18T16:29:53.861133Z"
    }
   },
   "outputs": [],
   "source": [
    "fig,ax = plt.subplots(1,2,figsize=(10,5))\n",
    "for idx,sh in enumerate(H.s_component_subgraphs(s=2)):\n",
    "    hnx.draw(sh, ax=ax[idx])\n",
    "    ax[idx].set_title(f\"component {idx}\")"
   ]
  },
  {
   "cell_type": "markdown",
   "metadata": {},
   "source": [
    "The methods `component_subgraphs` and `connected_component_subgraphs` are wrappers for `s_component_subgraphs`. The methods `components` and `connected_components` are wrappers for `s_connected_components`.\n",
    "\n",
    "The `is_connected` method with optional parameter `s` (default `s=1`) returns `True` or `False` depending on whether the hypergraph is s-connected."
   ]
  },
  {
   "cell_type": "code",
   "execution_count": null,
   "metadata": {
    "ExecuteTime": {
     "start_time": "2024-05-16T05:39:17.910Z"
    },
    "execution": {
     "iopub.execute_input": "2024-04-18T16:29:53.947289Z",
     "iopub.status.busy": "2024-04-18T16:29:53.947191Z",
     "iopub.status.idle": "2024-04-18T16:29:53.951554Z",
     "shell.execute_reply": "2024-04-18T16:29:53.951194Z",
     "shell.execute_reply.started": "2024-04-18T16:29:53.947280Z"
    }
   },
   "outputs": [],
   "source": [
    "# The Les Mis example hypergraph is 1-connected but not 2-connected\n",
    "\n",
    "H.is_connected(s=1), H.is_connected(s=2)"
   ]
  },
  {
   "cell_type": "markdown",
   "metadata": {},
   "source": [
    "# s-Line Graphs and s-Adjacency matrices\n",
    "\n",
    "In graphs, two nodes are considered **s-adjacent** if they share s edges. In hypergraphs, two nodes are **s-adjacent** if they are co-incident with at least s hyperedges. Similarly, two hyperedges are considered **s-adjacent** if they  are co-incident with at least s nodes.\n",
    "\n",
    "An **s-linegraph on the nodes** of a hypergraph is a graph on the nodes of the hypergraph where graph edges connect s-neighbors.\n",
    "An **s-linegraph on the hyperedges** of a hypergraph is a graph using the hyperedges as nodes where graph edges connect s-adjacent hyperedges.\n",
    "\n",
    "The corresponding adjacency matrices are the **s-adjacency** and **s-edge adjacency matrices**.\n",
    "An s-adjacency matrix with the zero rows and columns removed is called an **s-auxiliary matrix**.\n",
    "\n",
    "**Note**: At present these matrices are unweighted, we will introduce weighting in a near future release."
   ]
  },
  {
   "cell_type": "code",
   "execution_count": null,
   "metadata": {
    "ExecuteTime": {
     "start_time": "2024-05-16T05:39:17.911Z"
    },
    "execution": {
     "iopub.execute_input": "2024-04-18T16:29:53.955850Z",
     "iopub.status.busy": "2024-04-18T16:29:53.955684Z",
     "iopub.status.idle": "2024-04-18T16:29:53.958755Z",
     "shell.execute_reply": "2024-04-18T16:29:53.958449Z",
     "shell.execute_reply.started": "2024-04-18T16:29:53.955835Z"
    }
   },
   "outputs": [],
   "source": [
    "## the adjacency and auxiliary methods return a matrix and has an optional keyword argument to return an\n",
    "## index of the row and columns ids\n",
    "\n",
    "mat, rindex = H.adjacency_matrix(s=2,index=True)\n",
    "mat.todense(),rindex"
   ]
  },
  {
   "cell_type": "code",
   "execution_count": null,
   "metadata": {
    "ExecuteTime": {
     "start_time": "2024-05-16T05:39:17.912Z"
    },
    "execution": {
     "iopub.execute_input": "2024-04-18T16:29:53.959400Z",
     "iopub.status.busy": "2024-04-18T16:29:53.959303Z",
     "iopub.status.idle": "2024-04-18T16:29:53.962573Z",
     "shell.execute_reply": "2024-04-18T16:29:53.962125Z",
     "shell.execute_reply.started": "2024-04-18T16:29:53.959393Z"
    },
    "scrolled": true
   },
   "outputs": [],
   "source": [
    "mat, rindex = H.auxiliary_matrix(s=2,index=True)\n",
    "mat.todense(),rindex"
   ]
  },
  {
   "cell_type": "code",
   "execution_count": null,
   "metadata": {
    "ExecuteTime": {
     "start_time": "2024-05-16T05:39:17.913Z"
    },
    "execution": {
     "iopub.execute_input": "2024-04-18T16:29:53.963351Z",
     "iopub.status.busy": "2024-04-18T16:29:53.963244Z",
     "iopub.status.idle": "2024-04-18T16:29:53.978227Z",
     "shell.execute_reply": "2024-04-18T16:29:53.977864Z",
     "shell.execute_reply.started": "2024-04-18T16:29:53.963344Z"
    },
    "scrolled": true
   },
   "outputs": [],
   "source": [
    "H.auxiliary_matrix(s=2,index=True)"
   ]
  },
  {
   "cell_type": "markdown",
   "metadata": {},
   "source": [
    "# Distances and diameters\n",
    "Just as connected components of graphs can be generalized to s-connected components in hypergraphs, the distance and diameter can be generalized to s-distance and s-diameter in hypergraphs.\n",
    "\n",
    "We can compute s-distance between edges using `edge_distance` and between nodes using `distance`. See the glossary in the documentation for detailed definitions of distance between edges and between nodes.\n",
    "\n",
    "Exercise:  \n",
    "\n",
    "1. What is the 1-distance between 'FN' and 'MA' in the hypergraph below? Hint: create a *path* between them by linking $s$-adjacent nodes, then count the number of nodes visited.\n",
    "2. What is the 1-edge distance between hyperedge 4 and hyperedge 6 in the hypergraph? Hint: create a *path* between them by linking $s$-edge-adjacent edges and count the number of edges visited."
   ]
  },
  {
   "cell_type": "code",
   "execution_count": null,
   "metadata": {
    "ExecuteTime": {
     "start_time": "2024-05-16T05:39:17.914Z"
    },
    "execution": {
     "iopub.execute_input": "2024-04-18T16:29:53.978907Z",
     "iopub.status.busy": "2024-04-18T16:29:53.978805Z",
     "iopub.status.idle": "2024-04-18T16:29:54.039313Z",
     "shell.execute_reply": "2024-04-18T16:29:54.039033Z",
     "shell.execute_reply.started": "2024-04-18T16:29:53.978899Z"
    }
   },
   "outputs": [],
   "source": [
    "plt.subplots(figsize=(4,4))\n",
    "hnx.draw(H)"
   ]
  },
  {
   "cell_type": "code",
   "execution_count": null,
   "metadata": {
    "ExecuteTime": {
     "start_time": "2024-05-16T05:39:17.914Z"
    },
    "execution": {
     "iopub.execute_input": "2024-04-18T16:29:54.040087Z",
     "iopub.status.busy": "2024-04-18T16:29:54.039973Z",
     "iopub.status.idle": "2024-04-18T16:29:54.042722Z",
     "shell.execute_reply": "2024-04-18T16:29:54.042377Z",
     "shell.execute_reply.started": "2024-04-18T16:29:54.040079Z"
    }
   },
   "outputs": [],
   "source": [
    "# Optional parameter s is not shown, defaults to s=1\n",
    "H.distance('MA', 'FN')"
   ]
  },
  {
   "cell_type": "code",
   "execution_count": null,
   "metadata": {
    "ExecuteTime": {
     "start_time": "2024-05-16T05:39:17.915Z"
    },
    "execution": {
     "iopub.execute_input": "2024-04-18T16:29:54.043204Z",
     "iopub.status.busy": "2024-04-18T16:29:54.043118Z",
     "iopub.status.idle": "2024-04-18T16:29:54.046076Z",
     "shell.execute_reply": "2024-04-18T16:29:54.045773Z",
     "shell.execute_reply.started": "2024-04-18T16:29:54.043197Z"
    }
   },
   "outputs": [],
   "source": [
    "# Optional parameter s is not shown, defaults to s=1\n",
    "H.edge_distance(4, 6)"
   ]
  },
  {
   "cell_type": "markdown",
   "metadata": {},
   "source": [
    "If the edges or nodes are not $s$-connected then the $s$-distance displays a warning and returns `inf`."
   ]
  },
  {
   "cell_type": "code",
   "execution_count": null,
   "metadata": {
    "ExecuteTime": {
     "start_time": "2024-05-16T05:39:17.916Z"
    },
    "execution": {
     "iopub.execute_input": "2024-04-18T16:29:54.046608Z",
     "iopub.status.busy": "2024-04-18T16:29:54.046516Z",
     "iopub.status.idle": "2024-04-18T16:29:54.049182Z",
     "shell.execute_reply": "2024-04-18T16:29:54.048879Z",
     "shell.execute_reply.started": "2024-04-18T16:29:54.046600Z"
    }
   },
   "outputs": [],
   "source": [
    "H.edge_distance(4, 6, s=2)"
   ]
  },
  {
   "cell_type": "markdown",
   "metadata": {},
   "source": [
    "The $s$-diameter (`diameter`) is the longest s-distance between any two nodes and the $s$-edge diameter (`edge_diameter`) is the longest s-distance between any two edges."
   ]
  },
  {
   "cell_type": "code",
   "execution_count": null,
   "metadata": {
    "ExecuteTime": {
     "start_time": "2024-05-16T05:39:17.917Z"
    },
    "execution": {
     "iopub.execute_input": "2024-04-18T16:29:54.050023Z",
     "iopub.status.busy": "2024-04-18T16:29:54.049805Z",
     "iopub.status.idle": "2024-04-18T16:29:54.053360Z",
     "shell.execute_reply": "2024-04-18T16:29:54.053050Z",
     "shell.execute_reply.started": "2024-04-18T16:29:54.050012Z"
    }
   },
   "outputs": [],
   "source": [
    "# Optional parameter s is not shown, default is s=1\n",
    "\n",
    "H.diameter(), H.edge_diameter()"
   ]
  },
  {
   "cell_type": "markdown",
   "metadata": {},
   "source": [
    "Below is a drawing of the hypergraph to help confirm the outputs:\n",
    "\n",
    "<img src='../images/tutorial_1_hypergraph.png' width='500px' style=\"float:left;margin-right:10pt\"></img>"
   ]
  },
  {
   "cell_type": "markdown",
   "metadata": {},
   "source": [
    "If the hypergraph is not $s$-connected then the diameter methods throw a `HyperNetXError`."
   ]
  },
  {
   "cell_type": "code",
   "execution_count": null,
   "metadata": {
    "ExecuteTime": {
     "start_time": "2024-05-16T05:39:17.918Z"
    },
    "execution": {
     "iopub.execute_input": "2024-04-18T16:29:54.054053Z",
     "iopub.status.busy": "2024-04-18T16:29:54.053907Z",
     "iopub.status.idle": "2024-04-18T16:29:54.056239Z",
     "shell.execute_reply": "2024-04-18T16:29:54.055775Z",
     "shell.execute_reply.started": "2024-04-18T16:29:54.054041Z"
    }
   },
   "outputs": [],
   "source": [
    "# ## Uncomment this cell to test the error message\n",
    "# H.diameter(s=2)"
   ]
  },
  {
   "cell_type": "markdown",
   "metadata": {},
   "source": [
    "If your hypergraph is not s-connected but you want to explore the s-diameters of all of the s-connected components (edge or node), use `node_diameters` and `edge_diameters`. These methods return a tuple where the first element is the maximum diameter over all s-components, the second element is the list of all s-diameters, and the third is the list of the s-components (edges or nodes)."
   ]
  },
  {
   "cell_type": "code",
   "execution_count": null,
   "metadata": {
    "ExecuteTime": {
     "start_time": "2024-05-16T05:39:17.919Z"
    },
    "execution": {
     "iopub.execute_input": "2024-04-18T16:29:54.056742Z",
     "iopub.status.busy": "2024-04-18T16:29:54.056646Z",
     "iopub.status.idle": "2024-04-18T16:29:54.059640Z",
     "shell.execute_reply": "2024-04-18T16:29:54.059278Z",
     "shell.execute_reply.started": "2024-04-18T16:29:54.056735Z"
    }
   },
   "outputs": [],
   "source": [
    "H.node_diameters(s=2)"
   ]
  },
  {
   "cell_type": "code",
   "execution_count": null,
   "metadata": {
    "ExecuteTime": {
     "start_time": "2024-05-16T05:39:17.919Z"
    },
    "execution": {
     "iopub.execute_input": "2024-04-18T16:29:54.060295Z",
     "iopub.status.busy": "2024-04-18T16:29:54.060202Z",
     "iopub.status.idle": "2024-04-18T16:29:54.063273Z",
     "shell.execute_reply": "2024-04-18T16:29:54.062953Z",
     "shell.execute_reply.started": "2024-04-18T16:29:54.060288Z"
    }
   },
   "outputs": [],
   "source": [
    "H.edge_diameters(s=2)"
   ]
  },
  {
   "cell_type": "markdown",
   "metadata": {},
   "source": [
    "# Collapsing nodes and edges\n",
    "Sometimes a set of nodes are in the exact same set of edges, or more than one edge encloses the exact same set of nodes. We call these duplicate nodes and duplicate edges. We group the duplicates into equivalence classes and choose one node or edge from each class as a representative. The collection of nodes and edges in the same class are replaced by the single representative of the class, making the hypergraph less noisy. Use the methods `collapse_nodes`, `collapse_edges`, and `collapse_nodes_and_edges`. \n",
    "\n",
    "There are some parameters that can be used:\n",
    "* use_uids = list : allows you to choose which representatives you want to use for the classes\n",
    "* use_counts = True/False : If True then number of elements in each equivalence class will be added to the name of each representative. \n",
    "* return_counts = True/False : If True and the count is added to the properties of the representative.\n",
    "* return_equivalence_classes : returns a dictionary of equivalence classes along with the hypergraph.\n"
   ]
  },
  {
   "cell_type": "code",
   "execution_count": null,
   "metadata": {
    "ExecuteTime": {
     "start_time": "2024-05-16T05:39:17.920Z"
    }
   },
   "outputs": [],
   "source": [
    "H_node_collapse_counts,eclass_counts = H.collapse_nodes(use_counts=True, return_equivalence_classes=True)\n",
    "eclass_counts"
   ]
  },
  {
   "cell_type": "code",
   "execution_count": null,
   "metadata": {
    "ExecuteTime": {
     "start_time": "2024-05-16T05:39:17.921Z"
    },
    "execution": {
     "iopub.execute_input": "2024-04-18T16:29:54.063944Z",
     "iopub.status.busy": "2024-04-18T16:29:54.063860Z",
     "iopub.status.idle": "2024-04-18T16:29:54.097775Z",
     "shell.execute_reply": "2024-04-18T16:29:54.097441Z",
     "shell.execute_reply.started": "2024-04-18T16:29:54.063937Z"
    }
   },
   "outputs": [],
   "source": [
    "H_node_collapse,eclasses = H.collapse_nodes(use_counts=False, return_equivalence_classes=True)\n",
    "eclasses"
   ]
  },
  {
   "cell_type": "markdown",
   "metadata": {
    "execution": {
     "iopub.execute_input": "2024-04-18T03:53:54.902837Z",
     "iopub.status.busy": "2024-04-18T03:53:54.901997Z",
     "iopub.status.idle": "2024-04-18T03:53:54.914724Z",
     "shell.execute_reply": "2024-04-18T03:53:54.912627Z",
     "shell.execute_reply.started": "2024-04-18T03:53:54.902804Z"
    }
   },
   "source": [
    "If use_counts == True, the collapsed nodes will be enlarged according to the size of the equivalence class"
   ]
  },
  {
   "cell_type": "code",
   "execution_count": null,
   "metadata": {
    "ExecuteTime": {
     "start_time": "2024-05-16T05:39:17.922Z"
    },
    "execution": {
     "iopub.execute_input": "2024-04-18T16:29:54.098441Z",
     "iopub.status.busy": "2024-04-18T16:29:54.098349Z",
     "iopub.status.idle": "2024-04-18T16:29:54.231191Z",
     "shell.execute_reply": "2024-04-18T16:29:54.230892Z",
     "shell.execute_reply.started": "2024-04-18T16:29:54.098434Z"
    }
   },
   "outputs": [],
   "source": [
    "fig,ax = plt.subplots(1,3,figsize=(15,10))\n",
    "\n",
    "pos = hnx.draw(H,ax=ax[0],return_pos=True)\n",
    "pose = {nd:pos[nd.split(\":\")[0]] for nd in H_node_collapse_counts}\n",
    "\n",
    "hnx.draw(H_node_collapse,ax=ax[1],pos=pos)\n",
    "hnx.draw(H_node_collapse_counts, ax=ax[2],pos=pose) ## note the node size reflects the counts"
   ]
  },
  {
   "cell_type": "code",
   "execution_count": null,
   "metadata": {
    "ExecuteTime": {
     "start_time": "2024-05-16T05:39:17.922Z"
    },
    "execution": {
     "iopub.execute_input": "2024-04-18T16:29:54.231859Z",
     "iopub.status.busy": "2024-04-18T16:29:54.231767Z",
     "iopub.status.idle": "2024-04-18T16:29:54.247415Z",
     "shell.execute_reply": "2024-04-18T16:29:54.247052Z",
     "shell.execute_reply.started": "2024-04-18T16:29:54.231852Z"
    }
   },
   "outputs": [],
   "source": [
    "HD_edge_collapse = HD.collapse_edges()"
   ]
  },
  {
   "cell_type": "code",
   "execution_count": null,
   "metadata": {
    "ExecuteTime": {
     "start_time": "2024-05-16T05:39:17.923Z"
    },
    "execution": {
     "iopub.execute_input": "2024-04-18T16:29:54.248001Z",
     "iopub.status.busy": "2024-04-18T16:29:54.247865Z",
     "iopub.status.idle": "2024-04-18T16:29:54.424836Z",
     "shell.execute_reply": "2024-04-18T16:29:54.424402Z",
     "shell.execute_reply.started": "2024-04-18T16:29:54.247986Z"
    }
   },
   "outputs": [],
   "source": [
    "fig,ax = plt.subplots(1,2,figsize=(10,5))\n",
    "hnx.draw(HD,ax=ax[0])\n",
    "hnx.draw(HD.collapse_nodes(use_counts=True),ax=ax[1])\n",
    "# hnx.draw(HD_edge_collapse, with_edge_counts=True)"
   ]
  },
  {
   "cell_type": "markdown",
   "metadata": {},
   "source": [
    "`collapse_nodes_and_edges` simply runs both of the above collapsing commands."
   ]
  },
  {
   "cell_type": "markdown",
   "metadata": {},
   "source": [
    "# Updating the Hypergraph\n"
   ]
  },
  {
   "cell_type": "code",
   "execution_count": null,
   "metadata": {
    "ExecuteTime": {
     "start_time": "2024-05-16T05:39:17.924Z"
    },
    "execution": {
     "iopub.execute_input": "2024-04-18T16:29:54.425670Z",
     "iopub.status.busy": "2024-04-18T16:29:54.425515Z",
     "iopub.status.idle": "2024-04-18T16:29:54.499753Z",
     "shell.execute_reply": "2024-04-18T16:29:54.499341Z",
     "shell.execute_reply.started": "2024-04-18T16:29:54.425661Z"
    },
    "scrolled": true
   },
   "outputs": [],
   "source": [
    "np_array = np.array([['A','a'],['A','b'],['A','c'],['B','a'],['B','d'],['C','c'],['C','d']])\n",
    "\n",
    "H = hnx.Hypergraph(np_array)\n",
    "\n",
    "plt.subplots(figsize=(5,5))\n",
    "hnx.draw(H)"
   ]
  },
  {
   "cell_type": "code",
   "execution_count": null,
   "metadata": {
    "ExecuteTime": {
     "start_time": "2024-05-16T05:39:17.924Z"
    }
   },
   "outputs": [],
   "source": [
    "H.add_incidence('A','g')\n",
    "plt.subplots(figsize=(5,5))\n",
    "hnx.draw(H)"
   ]
  },
  {
   "cell_type": "code",
   "execution_count": null,
   "metadata": {
    "ExecuteTime": {
     "start_time": "2024-05-16T05:39:17.925Z"
    },
    "execution": {
     "iopub.execute_input": "2024-04-18T16:29:54.500707Z",
     "iopub.status.busy": "2024-04-18T16:29:54.500478Z",
     "iopub.status.idle": "2024-04-18T16:29:54.513127Z",
     "shell.execute_reply": "2024-04-18T16:29:54.512827Z",
     "shell.execute_reply.started": "2024-04-18T16:29:54.500690Z"
    }
   },
   "outputs": [],
   "source": [
    "plt.subplots(figsize=(4,4))\n",
    "hnx.draw(H.remove_edges(['B','C']))\n"
   ]
  },
  {
   "cell_type": "markdown",
   "metadata": {},
   "source": [
    "# Building sub-hypergraphs\n",
    "There are two methods that can be used to look at different kinds of sub-hypergraphs: `restrict_to_nodes` and `restrict_to_edges`. The method, `restrict_to_nodes`, builds a sub-hypergraph from a specific subset of nodes and all edges that they are included in. The method, `restict_to_edges`, builds a sub-hypergraph from a subset of edges and all nodes contained in the edges."
   ]
  },
  {
   "cell_type": "code",
   "execution_count": null,
   "metadata": {
    "ExecuteTime": {
     "start_time": "2024-05-16T05:39:17.926Z"
    },
    "execution": {
     "iopub.execute_input": "2024-04-18T16:29:54.579781Z",
     "iopub.status.busy": "2024-04-18T16:29:54.579686Z",
     "iopub.status.idle": "2024-04-18T16:29:54.712454Z",
     "shell.execute_reply": "2024-04-18T16:29:54.711909Z",
     "shell.execute_reply.started": "2024-04-18T16:29:54.579774Z"
    }
   },
   "outputs": [],
   "source": [
    "scenes_dictionary = {\n",
    "    0: ('FN', 'TH'),\n",
    "    1: ('TH', 'JV'),\n",
    "    2: ('BM', 'FN', 'JA'),\n",
    "    3: ('JV', 'JU', 'CH', 'BM'),\n",
    "    4: ('JU', 'CH', 'BR', 'CN', 'CC', 'JV', 'BM'),\n",
    "    5: ('TH', 'GP'),\n",
    "    6: ('GP', 'MP'),\n",
    "    7: ('MA', 'GP'),\n",
    "    8: ('FN', 'TH')\n",
    "}\n",
    "\n",
    "H = hnx.Hypergraph(scenes_dictionary)\n",
    "\n",
    "fig,ax = plt.subplots(1,2,figsize=(10,5))\n",
    "hnx.draw(H,ax=ax[0])\n",
    "hnx.draw(H.restrict_to_edges([0, 1, 2, 3]),ax=ax[1])"
   ]
  },
  {
   "cell_type": "code",
   "execution_count": null,
   "metadata": {
    "ExecuteTime": {
     "start_time": "2024-05-16T05:39:17.926Z"
    },
    "execution": {
     "iopub.execute_input": "2024-04-18T16:29:54.713543Z",
     "iopub.status.busy": "2024-04-18T16:29:54.713349Z",
     "iopub.status.idle": "2024-04-18T16:29:54.790156Z",
     "shell.execute_reply": "2024-04-18T16:29:54.789857Z",
     "shell.execute_reply.started": "2024-04-18T16:29:54.713532Z"
    }
   },
   "outputs": [],
   "source": [
    "plt.subplots(figsize=(15,5))\n",
    "H_restrict_nodes = H.restrict_to_nodes(['JA', 'FN', 'JV', 'MA', 'BM', 'TH'])\n",
    "hnx.draw(H_restrict_nodes)"
   ]
  },
  {
   "cell_type": "code",
   "execution_count": null,
   "metadata": {
    "ExecuteTime": {
     "start_time": "2024-05-16T05:39:17.928Z"
    },
    "execution": {
     "iopub.execute_input": "2024-04-18T16:29:54.790839Z",
     "iopub.status.busy": "2024-04-18T16:29:54.790747Z",
     "iopub.status.idle": "2024-04-18T16:29:54.794214Z",
     "shell.execute_reply": "2024-04-18T16:29:54.793923Z",
     "shell.execute_reply.started": "2024-04-18T16:29:54.790831Z"
    },
    "scrolled": true
   },
   "outputs": [],
   "source": [
    "H_restrict_nodes.incidence_dict"
   ]
  },
  {
   "cell_type": "markdown",
   "metadata": {},
   "source": [
    "When hypergraphs are very large and disconnected, often it is beneficial to isolate those components made of a single node and a single edge.\n",
    "As in the above example we identify these **singleton** components using the `singletons` method and remove them with the `remove_singletons` method."
   ]
  },
  {
   "cell_type": "code",
   "execution_count": null,
   "metadata": {
    "ExecuteTime": {
     "start_time": "2024-05-16T05:39:17.929Z"
    },
    "execution": {
     "iopub.execute_input": "2024-04-18T16:29:54.794914Z",
     "iopub.status.busy": "2024-04-18T16:29:54.794769Z",
     "iopub.status.idle": "2024-04-18T16:29:54.802104Z",
     "shell.execute_reply": "2024-04-18T16:29:54.801797Z",
     "shell.execute_reply.started": "2024-04-18T16:29:54.794904Z"
    }
   },
   "outputs": [],
   "source": [
    "H_restrict_nodes.singletons()"
   ]
  },
  {
   "cell_type": "code",
   "execution_count": null,
   "metadata": {
    "ExecuteTime": {
     "start_time": "2024-05-16T05:39:17.930Z"
    },
    "execution": {
     "iopub.execute_input": "2024-04-18T16:33:17.598273Z",
     "iopub.status.busy": "2024-04-18T16:33:17.597231Z",
     "iopub.status.idle": "2024-04-18T16:33:17.687406Z",
     "shell.execute_reply": "2024-04-18T16:33:17.687090Z",
     "shell.execute_reply.started": "2024-04-18T16:33:17.598244Z"
    }
   },
   "outputs": [],
   "source": [
    "plt.subplots(figsize=(5,5))\n",
    "H2 = H_restrict_nodes_remove_singletons = H_restrict_nodes.remove_singletons()\n",
    "pos = hnx.draw(H2,return_pos=True)"
   ]
  },
  {
   "cell_type": "markdown",
   "metadata": {},
   "source": [
    "Finally, sometimes we care only about top level hyperedges that are not contained in any other hyperedge, although they may intersect others. These top level hyperedges are called \"toplexes\" and can be found using the `toplexes` method, which returns a new hypergraph consisting only of the toplex hyperedges, note the toplex hypergraph we obtain need not be uniquely defined."
   ]
  },
  {
   "cell_type": "markdown",
   "metadata": {},
   "source": [
    "The `toplexes` method on the above hypergraph removes 3 hyperedges. While HNX will pretty consistently remove the same two edges,the hypergraph gotten by restricting to a single set of toplexes is not unique."
   ]
  },
  {
   "cell_type": "code",
   "execution_count": null,
   "metadata": {
    "ExecuteTime": {
     "start_time": "2024-05-16T05:39:17.931Z"
    },
    "execution": {
     "iopub.execute_input": "2024-04-18T16:38:37.111111Z",
     "iopub.status.busy": "2024-04-18T16:38:37.108693Z",
     "iopub.status.idle": "2024-04-18T16:38:37.278619Z",
     "shell.execute_reply": "2024-04-18T16:38:37.278144Z",
     "shell.execute_reply.started": "2024-04-18T16:38:37.111047Z"
    }
   },
   "outputs": [],
   "source": [
    "fig,ax = plt.subplots(2,2,figsize=(10,10))\n",
    "hnx.draw(H2,ax=ax[0,0],pos=pos)\n",
    "ax[0,0].set_title('Original hypergraph')\n",
    "\n",
    "hnx.draw(H2.toplexes(return_hyp=True),ax=ax[0,1],pos=pos)\n",
    "ax[0,1].set_title('Toplexes from toplex method')\n",
    "\n",
    "## remove different toplex edges to get new toplex representations of the hypergraph\n",
    "hnx.draw(H2.remove_edges([4,5,0],inplace=False),ax=ax[1,0],pos=pos)\n",
    "ax[1,0].set_title('Toplexes: Look at edges 0 and 8')\n",
    "\n",
    "hnx.draw(H2.remove_edges([3,5,8],inplace=False),ax=ax[1,1],pos=pos)\n",
    "ax[1,1].set_title('Toplexes: Look at edges 3 and 4')\n",
    "\n",
    "fig.suptitle('3 Toplex representations of H, can you see the differences?',fontsize=15);"
   ]
  },
  {
   "cell_type": "code",
   "execution_count": null,
   "metadata": {},
   "outputs": [],
   "source": []
  }
 ],
 "metadata": {
  "kernelspec": {
   "display_name": "hnx",
   "language": "python",
   "name": "hnx"
  },
  "language_info": {
   "codemirror_mode": {
    "name": "ipython",
    "version": 3
   },
   "file_extension": ".py",
   "mimetype": "text/x-python",
   "name": "python",
   "nbconvert_exporter": "python",
   "pygments_lexer": "ipython3",
   "version": "3.10.14"
  },
  "toc": {
   "base_numbering": 1,
   "nav_menu": {},
   "number_sections": true,
   "sideBar": true,
   "skip_h1_title": false,
   "title_cell": "Table of Contents",
   "title_sidebar": "Contents",
   "toc_cell": false,
   "toc_position": {},
   "toc_section_display": true,
   "toc_window_display": false
  }
 },
 "nbformat": 4,
 "nbformat_minor": 4
}
