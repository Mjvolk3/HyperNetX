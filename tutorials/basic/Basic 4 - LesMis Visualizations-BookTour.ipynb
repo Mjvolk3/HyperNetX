{
 "cells": [
  {
   "cell_type": "code",
   "execution_count": 1,
   "metadata": {
    "ExecuteTime": {
     "end_time": "2024-05-16T05:22:01.745513Z",
     "start_time": "2024-05-16T05:22:01.743260Z"
    }
   },
   "outputs": [],
   "source": [
    "# !pip install hypernetx ## uncomment to run in Colab"
   ]
  },
  {
   "cell_type": "code",
   "execution_count": 12,
   "metadata": {
    "ExecuteTime": {
     "end_time": "2024-05-16T05:24:31.181722Z",
     "start_time": "2024-05-16T05:24:31.169500Z"
    },
    "execution": {
     "iopub.execute_input": "2024-04-03T17:20:14.730797Z",
     "iopub.status.busy": "2024-04-03T17:20:14.730676Z",
     "iopub.status.idle": "2024-04-03T17:20:17.575119Z",
     "shell.execute_reply": "2024-04-03T17:20:17.574804Z",
     "shell.execute_reply.started": "2024-04-03T17:20:14.730788Z"
    }
   },
   "outputs": [],
   "source": [
    "import hypernetx as hnx\n",
    "import matplotlib.pyplot as plt\n",
    "import warnings \n",
    "warnings.simplefilter('ignore')\n",
    "\n",
    "from networkx.drawing import spring_layout"
   ]
  },
  {
   "cell_type": "markdown",
   "metadata": {},
   "source": [
    "# Construction\n",
    "We start with a list of scenes, and construct a hypergraph by converting this to a dictionary."
   ]
  },
  {
   "cell_type": "code",
   "execution_count": 16,
   "metadata": {
    "ExecuteTime": {
     "end_time": "2024-05-16T05:24:48.843439Z",
     "start_time": "2024-05-16T05:24:48.807321Z"
    },
    "execution": {
     "iopub.execute_input": "2024-04-03T17:20:17.576453Z",
     "iopub.status.busy": "2024-04-03T17:20:17.576317Z",
     "iopub.status.idle": "2024-04-03T17:20:17.587471Z",
     "shell.execute_reply": "2024-04-03T17:20:17.587178Z",
     "shell.execute_reply.started": "2024-04-03T17:20:17.576446Z"
    }
   },
   "outputs": [],
   "source": [
    "scenes = [\n",
    "    ('FN', 'TH'),\n",
    "    ('TH', 'JV'),\n",
    "    ('BM', 'FN', 'JA'),\n",
    "    ('JV', 'JU', 'CH', 'BM'),\n",
    "    ('JU', 'CH', 'BR', 'CN', 'CC', 'JV', 'BM'),\n",
    "    ('TH', 'GP'),\n",
    "    ('GP', 'MP'),\n",
    "    ('MA', 'GP')\n",
    "]\n",
    "\n",
    "H = hnx.Hypergraph(dict(enumerate(scenes)))\n",
    "H.edges.incidence_dict"
   ]
  },
  {
   "cell_type": "code",
   "execution_count": 17,
   "metadata": {
    "ExecuteTime": {
     "end_time": "2024-05-16T05:24:49.763565Z",
     "start_time": "2024-05-16T05:24:49.728109Z"
    },
    "execution": {
     "iopub.execute_input": "2024-04-03T17:20:17.588721Z",
     "iopub.status.busy": "2024-04-03T17:20:17.588653Z",
     "iopub.status.idle": "2024-04-03T17:20:17.599092Z",
     "shell.execute_reply": "2024-04-03T17:20:17.598850Z",
     "shell.execute_reply.started": "2024-04-03T17:20:17.588713Z"
    }
   },
   "outputs": [],
   "source": [
    "H.dual().edges.incidence_dict"
   ]
  },
  {
   "cell_type": "markdown",
   "metadata": {},
   "source": [
    "# Visualization\n",
    "Use the default drawing tool to visualize `H` and its dual."
   ]
  },
  {
   "cell_type": "code",
   "execution_count": 15,
   "metadata": {
    "ExecuteTime": {
     "end_time": "2024-05-16T05:24:34.653853Z",
     "start_time": "2024-05-16T05:24:34.431604Z"
    },
    "execution": {
     "iopub.execute_input": "2024-04-03T17:20:17.599551Z",
     "iopub.status.busy": "2024-04-03T17:20:17.599470Z",
     "iopub.status.idle": "2024-04-03T17:20:17.813173Z",
     "shell.execute_reply": "2024-04-03T17:20:17.808932Z",
     "shell.execute_reply.started": "2024-04-03T17:20:17.599542Z"
    }
   },
   "outputs": [],
   "source": [
    "plt.figure(figsize=(16, 8))\n",
    "hnx.draw(H, ax=plt.subplot(121))\n",
    "hnx.draw(H.dual(), ax=plt.subplot(122))\n",
    "plt.title('Dual');"
   ]
  },
  {
   "cell_type": "markdown",
   "metadata": {},
   "source": [
    "# Book Tours\n",
    "A book tour is a `Series` of `Hypergraph`'s from Les Miserables indexed hierarchically by Volume and Book."
   ]
  },
  {
   "cell_type": "code",
   "execution_count": 6,
   "metadata": {
    "ExecuteTime": {
     "end_time": "2024-05-16T05:22:18.531483Z",
     "start_time": "2024-05-16T05:22:18.275025Z"
    },
    "execution": {
     "iopub.execute_input": "2024-04-03T17:20:17.817277Z",
     "iopub.status.busy": "2024-04-03T17:20:17.816613Z",
     "iopub.status.idle": "2024-04-03T17:20:18.029081Z",
     "shell.execute_reply": "2024-04-03T17:20:18.028830Z",
     "shell.execute_reply.started": "2024-04-03T17:20:17.817239Z"
    }
   },
   "outputs": [],
   "source": [
    "lesmis = hnx.LesMis()\n",
    "lesmis.df_scenes"
   ]
  },
  {
   "cell_type": "code",
   "execution_count": 7,
   "metadata": {
    "ExecuteTime": {
     "end_time": "2024-05-16T05:22:18.538652Z",
     "start_time": "2024-05-16T05:22:18.532685Z"
    },
    "execution": {
     "iopub.execute_input": "2024-04-03T17:20:18.029621Z",
     "iopub.status.busy": "2024-04-03T17:20:18.029543Z",
     "iopub.status.idle": "2024-04-03T17:20:18.034648Z",
     "shell.execute_reply": "2024-04-03T17:20:18.034188Z",
     "shell.execute_reply.started": "2024-04-03T17:20:18.029613Z"
    }
   },
   "outputs": [],
   "source": [
    "lesmis.df_scenes.set_index(['Volume','Book'])[['Chapter','Characters']]"
   ]
  },
  {
   "cell_type": "code",
   "execution_count": 8,
   "metadata": {
    "ExecuteTime": {
     "end_time": "2024-05-16T05:22:18.542157Z",
     "start_time": "2024-05-16T05:22:18.539479Z"
    },
    "execution": {
     "iopub.execute_input": "2024-04-03T17:20:18.035318Z",
     "iopub.status.busy": "2024-04-03T17:20:18.035206Z",
     "iopub.status.idle": "2024-04-03T17:20:18.038314Z",
     "shell.execute_reply": "2024-04-03T17:20:18.038011Z",
     "shell.execute_reply.started": "2024-04-03T17:20:18.035310Z"
    }
   },
   "outputs": [],
   "source": [
    "book_tour_data = lesmis.book_tour_data\n",
    "book_tour_data.head()"
   ]
  },
  {
   "cell_type": "markdown",
   "metadata": {},
   "source": [
    "# Book Tour Visualization (small multiples)\n",
    "Draw one hypergraph for each of the `{Volume x Book}` pairs in Les Miserables. Volumes are rows and books are columns. Note an empty square in the grid indicates the volume either didn't contain the book with that index or the book was purely expository with no character interactions. \n"
   ]
  },
  {
   "cell_type": "code",
   "execution_count": 11,
   "metadata": {
    "ExecuteTime": {
     "end_time": "2024-05-16T05:24:27.296835Z",
     "start_time": "2024-05-16T05:24:25.830353Z"
    },
    "execution": {
     "iopub.execute_input": "2024-04-03T17:20:18.039039Z",
     "iopub.status.busy": "2024-04-03T17:20:18.038919Z",
     "iopub.status.idle": "2024-04-03T17:20:19.222546Z",
     "shell.execute_reply": "2024-04-03T17:20:19.222257Z",
     "shell.execute_reply.started": "2024-04-03T17:20:18.039029Z"
    }
   },
   "outputs": [],
   "source": [
    "for t, Ht, ax in hnx.book_tour(book_tour_data):\n",
    "    hnx.draw(Ht, layout=spring_layout, ax=ax, with_edge_counts=True)\n",
    "    ax.axis('on')"
   ]
  },
  {
   "cell_type": "code",
   "execution_count": 10,
   "metadata": {
    "ExecuteTime": {
     "end_time": "2024-05-16T05:22:22.458394Z",
     "start_time": "2024-05-16T05:22:20.095797Z"
    },
    "execution": {
     "iopub.execute_input": "2024-04-03T17:20:19.224478Z",
     "iopub.status.busy": "2024-04-03T17:20:19.224370Z",
     "iopub.status.idle": "2024-04-03T17:20:20.778073Z",
     "shell.execute_reply": "2024-04-03T17:20:20.777716Z",
     "shell.execute_reply.started": "2024-04-03T17:20:19.224470Z"
    }
   },
   "outputs": [],
   "source": [
    "for t, Ht, ax in hnx.book_tour(book_tour_data):\n",
    "    Ht = Ht.collapse_nodes_and_edges()\n",
    "    hnx.draw(Ht, layout=spring_layout, ax=ax, with_edge_counts=True)\n",
    "    ax.axis('on')"
   ]
  }
 ],
 "metadata": {
  "kernelspec": {
   "display_name": "hnx",
   "language": "python",
   "name": "hnx"
  },
  "language_info": {
   "codemirror_mode": {
    "name": "ipython",
    "version": 3
   },
   "file_extension": ".py",
   "mimetype": "text/x-python",
   "name": "python",
   "nbconvert_exporter": "python",
   "pygments_lexer": "ipython3",
   "version": "3.10.14"
  },
  "toc": {
   "base_numbering": 1,
   "nav_menu": {},
   "number_sections": true,
   "sideBar": true,
   "skip_h1_title": false,
   "title_cell": "Table of Contents",
   "title_sidebar": "Contents",
   "toc_cell": false,
   "toc_position": {},
   "toc_section_display": true,
   "toc_window_display": false
  }
 },
 "nbformat": 4,
 "nbformat_minor": 4
}
