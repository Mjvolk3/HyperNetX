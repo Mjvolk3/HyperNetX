{
 "cells": [
  {
   "cell_type": "markdown",
   "metadata": {},
   "source": [
    "# A Hypergraph Analysis of the novel Les Miserables  by Victor Hugo  "
   ]
  },
  {
   "cell_type": "markdown",
   "metadata": {},
   "source": [
    "<img src=\"../images/LesMisStudyOpeningGraphic.png\" >"
   ]
  },
  {
   "cell_type": "markdown",
   "metadata": {},
   "source": [
    "As readers, we are mesmerized by the prose and drama and are horrified by the meanness of the time. But as mathematicians, we delight in the opportunity to study the relationships among the characters and discover what the hypergraphs they generate tell us about the story. We use the data available from the [Stanford GraphBase]( https://www-cs-faculty.stanford.edu/~knuth/sgb.html)."
   ]
  },
  {
   "cell_type": "code",
   "execution_count": null,
   "metadata": {},
   "outputs": [],
   "source": [
    "import pandas as pd\n",
    "import itertools as itt\n",
    "from collections import defaultdict\n",
    "import matplotlib.pyplot as plt\n",
    "\n",
    "try:\n",
    "    import hypernetx as hnx\n",
    "except ImportError:\n",
    "    print(\"Installing HyperNetX.........\")\n",
    "    !pip install hypernetx --quiet 2> /dev/null\n",
    "    print(\"Installation complete; please rerun this cell in order for the rest of the cells to use HyperNetX.\")\n",
    "    exit()\n",
    "\n",
    "import shutup\n",
    "shutup.mute_warnings()"
   ]
  },
  {
   "cell_type": "code",
   "execution_count": null,
   "metadata": {},
   "outputs": [],
   "source": [
    "lm = hnx.LesMis()"
   ]
  },
  {
   "cell_type": "markdown",
   "metadata": {},
   "source": [
    "### Basic Structure of the Novel\n",
    "The novel is broken into five parts, which we will here reference as volumes: **Fantine**, **Cosette**, **Marius**, **St. Denis**, and **Jean Valjean**. Each volume is subdivided into books, each book into chapters, and each chapter into scenes. By shifting the level of subdivision, we are able to construct multiple hypergraphs modeling character interactions and relationships."
   ]
  },
  {
   "cell_type": "code",
   "execution_count": null,
   "metadata": {},
   "outputs": [],
   "source": [
    "volumes = lm.volumes\n",
    "volumes"
   ]
  },
  {
   "cell_type": "code",
   "execution_count": null,
   "metadata": {
    "scrolled": true
   },
   "outputs": [],
   "source": [
    "### List of Characters\n",
    "names = lm.df_names.set_index('Symbol')\n",
    "names"
   ]
  },
  {
   "cell_type": "code",
   "execution_count": null,
   "metadata": {},
   "outputs": [],
   "source": [
    "### Who are the characters?\n",
    "lm.df_names"
   ]
  },
  {
   "cell_type": "code",
   "execution_count": null,
   "metadata": {
    "scrolled": true
   },
   "outputs": [],
   "source": [
    "### List of Characters as they appear in each scene\n",
    "scenes = lm.df_scenes;scenes"
   ]
  },
  {
   "cell_type": "code",
   "execution_count": null,
   "metadata": {},
   "outputs": [],
   "source": [
    "h = hnx.Hypergraph(scenes,\n",
    "                  edge_col='Volume',\n",
    "                  node_col = 'Characters',\n",
    "                  node_properties = lm.df_names)"
   ]
  },
  {
   "cell_type": "code",
   "execution_count": null,
   "metadata": {
    "scrolled": true
   },
   "outputs": [],
   "source": [
    "h.properties"
   ]
  },
  {
   "cell_type": "markdown",
   "metadata": {},
   "source": [
    "## Hypergraph with each Volume as an Edge\n",
    "\n",
    "We first generate a hypergraph studying the relationship between volumes.  The edges are the volumes and the characters who appear in each volume are the nodes. "
   ]
  },
  {
   "cell_type": "code",
   "execution_count": null,
   "metadata": {},
   "outputs": [],
   "source": [
    "### Construct the edges as a dictionary named by the name of the Volume\n",
    "volume_edges = {v : set(scenes.loc[scenes.Volume == v]['Characters']) for v in range(1, 6)}\n",
    "\n",
    "### Construct a hypergraph made up of volume_edges\n",
    "HV = hnx.Hypergraph(volume_edges,name='Volumes')\n",
    "for node in HV.nodes:\n",
    "    HV.nodes[node].name = names.loc[node]['FullName']\n",
    "    HV.nodes[node].description = names.loc[node]['Description']"
   ]
  },
  {
   "cell_type": "code",
   "execution_count": null,
   "metadata": {
    "scrolled": true
   },
   "outputs": [],
   "source": [
    "## What is in an edge?\n",
    "HV.edges[1]"
   ]
  },
  {
   "cell_type": "code",
   "execution_count": null,
   "metadata": {},
   "outputs": [],
   "source": [
    "plt.figure(figsize=[10,10])\n",
    "hnx.draw(HV)"
   ]
  },
  {
   "cell_type": "code",
   "execution_count": null,
   "metadata": {},
   "outputs": [],
   "source": [
    "### Collapse the nodes to understand the relationships (same as diagram in title)\n",
    "plt.figure(figsize=[10,10])\n",
    "hnx.draw(HV.collapse_nodes(),with_node_counts=True)"
   ]
  },
  {
   "cell_type": "markdown",
   "metadata": {},
   "source": [
    "Noting the characters in the intersections between edges gives a sense of their importance. Which characters are central to the novel?"
   ]
  },
  {
   "cell_type": "code",
   "execution_count": null,
   "metadata": {},
   "outputs": [],
   "source": [
    "### Who are the four characters belonging to all five volumes?\n",
    "volume_char_sets = list(set(HV.edges[idx]) for idx in range(1,6))\n",
    "core_characters = list(set.intersection(*volume_char_sets))\n",
    "names.loc[core_characters]"
   ]
  },
  {
   "cell_type": "code",
   "execution_count": null,
   "metadata": {
    "scrolled": true
   },
   "outputs": [],
   "source": [
    "### Who are the characters belonging to the different intersections? \n",
    "## Replace the values in the array with the volumes of interest.\n",
    "vols = [3,4]\n",
    "volume_char_sets = list(set(HV.edges[idx]) for idx in vols)\n",
    "chars_of_interest = list(set.intersection(*volume_char_sets))\n",
    "names.loc[chars_of_interest]\n"
   ]
  },
  {
   "cell_type": "code",
   "execution_count": null,
   "metadata": {},
   "outputs": [],
   "source": [
    "## What are the intersection sizes:\n",
    "volume_intersections = dict()\n",
    "for pair in itt.combinations(range(1,6),2):\n",
    "    volume_char_sets = list(set(HV.edges[idx]) for idx in pair)\n",
    "    titlepair = (volumes.title[pair[0]],volumes.title[pair[1]])\n",
    "    volume_intersections[tuple(pair)] = len(set.intersection(*volume_char_sets))\n",
    "print(\"Number of Characters shared by pairs of volumes:\")\n",
    "pd.DataFrame.from_dict(volume_intersections,orient=\"index\")"
   ]
  },
  {
   "cell_type": "markdown",
   "metadata": {},
   "source": [
    "### Highlights from each Volume (A very very very short description...)\n",
    "\n",
    "Fantine: Volume 1 Lays the foundation for the novel. Most of the characters do not appear in subsequent volumes. Most important of these is Fantine. As mother of Cosette, she sacrifices her life in the support of her daughter and lays the charge on Jean Valjean to care for Cosette when she dies.  In contrast to Fantine, Jean Valjean and Cosette appear in all the volumes. A central story to the novel follows their travels as they flee from the relentless pursuit by Javert and the dogged and often comical abuses of Thenardier. Jean Valjean, originally convicted for stealing bread, begins as a hardened convict but through the mercy of a bishop is transformed into a philanthropist.\n",
    "\n",
    "Cosette: Volume 2 follows Cosette's liberation from her caretakers, the Thenardiers, by Jean Valjean. They flee into hiding from Javert and find refuge in a convent, where Valjean works as a gardener and Cosette is educated. Much character development is done, including a long description of Waterloo ending with the singular way in which M. Thenardier obtained a silver cross of the Legion of Honour while saving the life of one Pontmercy.\n",
    "\n",
    "Marius: Marius Pontmercy, son of an officer in Napoleon's army and grandson of a Royalist, experiences conflicting loyalties and ultimately turns his back on friends and family and lives among the poor. He sees and eventually falls in love with Cosette. In honor of his father, he attempts to help M. Thenardier but discovers his treachery when M. Thenardier attempts to murder the person he takes to be Cosette's father.\n",
    "\n",
    "St. Denis: With his love for Cosette thwarted, Marius joins a group of students to participate in an uprising known as the June rebellion. They construct a barricade near the Rue Saint-Denis.\n",
    "\n",
    "Jean Valjean: Jean Valjean saves Marius's life when soldiers overwhelm the barricades. Marius discovers Jean Valjean's true identity from Thenardier. Jean Valjean dies at peace with Cosette and Marius.\n",
    "\n"
   ]
  },
  {
   "cell_type": "markdown",
   "metadata": {},
   "source": [
    "## Hypergraph of each Volume using Books as edges. \n"
   ]
  },
  {
   "cell_type": "code",
   "execution_count": null,
   "metadata": {
    "scrolled": true
   },
   "outputs": [],
   "source": [
    "### Construct a hypergraph for each volume\n",
    "### The edges will be the books and the nodes the characters.\n",
    "fantine = scenes.loc[scenes.Volume == 1]\n",
    "cosette = scenes.loc[scenes.Volume == 2]\n",
    "marius = scenes.loc[scenes.Volume == 3]\n",
    "stdenis = scenes.loc[scenes.Volume == 4]\n",
    "jeanvaljean = scenes.loc[scenes.Volume == 5]"
   ]
  },
  {
   "cell_type": "code",
   "execution_count": null,
   "metadata": {},
   "outputs": [],
   "source": [
    "### Construct the edges as a dictionaries\n",
    "vols = [0,fantine, cosette, marius, stdenis, jeanvaljean]\n",
    "HB = dict()\n",
    "for idx in range(1,6):\n",
    "    book_edges = dict()\n",
    "    for book in vols[idx].Book:\n",
    "        book_edges[book] = set(vols[idx].loc[vols[idx].Book == book]['Characters'])\n",
    "    ### Construct a hypergraph made up of volume_edges\n",
    "    HB[idx] = hnx.Hypergraph(book_edges,name=f\"{volumes.title[idx]}-Books\")\n",
    "    for node in HB[idx].nodes:\n",
    "        HB[idx].nodes[node].name = names.loc[node]['FullName']\n",
    "        HB[idx].nodes[node].description = names.loc[node]['Description']"
   ]
  },
  {
   "cell_type": "code",
   "execution_count": null,
   "metadata": {},
   "outputs": [],
   "source": [
    "plt.figure(figsize=[10,10])\n",
    "hnx.draw(HB[1].collapse_nodes(),with_node_counts=True)"
   ]
  },
  {
   "cell_type": "code",
   "execution_count": null,
   "metadata": {},
   "outputs": [],
   "source": [
    "### In the final book there is a long section on the Paris Sewers. \n",
    "### The only character in that section was the creator of the sewers.\n",
    "plt.figure(figsize=[10,10])\n",
    "hnx.draw(HB[5])"
   ]
  },
  {
   "cell_type": "code",
   "execution_count": null,
   "metadata": {},
   "outputs": [],
   "source": [
    "HB[5].nodes['BS']"
   ]
  },
  {
   "cell_type": "code",
   "execution_count": null,
   "metadata": {},
   "outputs": [],
   "source": [
    "HB[5].nodes['BS'].memberships ## Bruneseau belongs to the 2nd book in volume 5"
   ]
  },
  {
   "cell_type": "code",
   "execution_count": null,
   "metadata": {},
   "outputs": [],
   "source": [
    "### Separate the components and consider the large one\n",
    "c1,c2 = list(HB[5].component_subgraphs(return_singletons=True))\n",
    "hnx.draw(c1)"
   ]
  },
  {
   "cell_type": "code",
   "execution_count": null,
   "metadata": {},
   "outputs": [],
   "source": [
    "### Note in the first book of this volume the soldiers confront the students at the barricades\n",
    "### Most of the students are killed\n",
    "### In the 4th book Javert dies alone\n",
    "### At the center, in the last scene (8), there is only JV and CO\n",
    "plt.figure(figsize=[10,10])\n",
    "hnx.draw(c1)"
   ]
  },
  {
   "cell_type": "code",
   "execution_count": null,
   "metadata": {},
   "outputs": [],
   "source": [
    "HB[5].edges[8]"
   ]
  },
  {
   "cell_type": "markdown",
   "metadata": {},
   "source": [
    "## Who knew who?\n",
    "\n",
    "We can examine the interactions between certain characters by studying their neighborhoods and induced subgraphs.\n"
   ]
  },
  {
   "cell_type": "code",
   "execution_count": null,
   "metadata": {},
   "outputs": [],
   "source": [
    "## In Volume 1, Restrict to the nodes in a neighborhood of Fantine \n",
    "## and construct the subhypergraph of HB[1] restricted to these nodes \n",
    "\n",
    "FNnodes = list(HB[1]['FN'])\n",
    "FNnodes.append('FN')\n",
    "FNNeighborhood = HB[1].restrict_to_nodes(FNnodes)"
   ]
  },
  {
   "cell_type": "code",
   "execution_count": null,
   "metadata": {},
   "outputs": [],
   "source": [
    "FNNeighborhood.incidence_dict"
   ]
  },
  {
   "cell_type": "code",
   "execution_count": null,
   "metadata": {},
   "outputs": [],
   "source": [
    "plt.figure(figsize=[10,10])\n",
    "hnx.draw(FNNeighborhood)"
   ]
  },
  {
   "cell_type": "code",
   "execution_count": null,
   "metadata": {},
   "outputs": [],
   "source": [
    "## In Volume 1, Restrict to a neighborhood of Jean Valjean\n",
    "JVnodes = list(HB[1]['JV'])\n",
    "JVnodes.append('JV')\n",
    "JVNeighborhood = HB[1].restrict_to_nodes(JVnodes)\n",
    "JVNeighborhood.incidence_dict"
   ]
  },
  {
   "cell_type": "code",
   "execution_count": null,
   "metadata": {},
   "outputs": [],
   "source": [
    "plt.figure(figsize=[10,10])\n",
    "hnx.draw(JVNeighborhood)"
   ]
  },
  {
   "cell_type": "code",
   "execution_count": null,
   "metadata": {},
   "outputs": [],
   "source": [
    "## Combine the subgraphs\n",
    "Fantine_edges = list(FNNeighborhood.edges.elements.values())\n",
    "JVFNHypergraph = HB[1].restrict_to_nodes(JVnodes)"
   ]
  },
  {
   "cell_type": "code",
   "execution_count": null,
   "metadata": {},
   "outputs": [],
   "source": [
    "plt.figure(figsize=[10,10])\n",
    "hnx.draw(JVFNHypergraph)"
   ]
  },
  {
   "cell_type": "markdown",
   "metadata": {},
   "source": [
    "## Hypergraph of each Volume using scenes as edges"
   ]
  },
  {
   "cell_type": "code",
   "execution_count": null,
   "metadata": {},
   "outputs": [],
   "source": [
    "## Scene hypergraphs for each Volume indexed by Book,Chapter,Scene.\n",
    "vols = [0,fantine, cosette, marius, stdenis, jeanvaljean]\n",
    "scene_edges = defaultdict(list)\n",
    "HS = dict()\n",
    "for idx in range(1,6):\n",
    "    scene_edges = defaultdict(list)\n",
    "    for row in vols[idx].itertuples():\n",
    "        scene_edges[f\"{row.Book}.{row.Chapter}.{row.Scene}\"].append(row.Characters)\n",
    "    ### Construct a hypergraph made up of scene_edges\n",
    "    HS[idx] = hnx.Hypergraph(scene_edges,name=f\"{volumes.title[idx]}-Scenes\")\n",
    "    for node in HS[idx].nodes:\n",
    "        HS[idx].nodes[node].name = names.loc[node]['FullName']\n",
    "        HS[idx].nodes[node].description = names.loc[node]['Description']    "
   ]
  },
  {
   "cell_type": "code",
   "execution_count": null,
   "metadata": {
    "scrolled": true
   },
   "outputs": [],
   "source": [
    "HS[1].edges.incidence_dict"
   ]
  },
  {
   "cell_type": "markdown",
   "metadata": {},
   "source": [
    "## Who knew who by Scenes?"
   ]
  },
  {
   "cell_type": "markdown",
   "metadata": {},
   "source": [
    "### Difference in relationships when drilling down into hierarchy of sets\n",
    "\n",
    "We consider the neighborhoods of Fantine and Jean Valjean in the Scenes hypergraph. \n",
    "Starting with the subgraph generated by the neighbors of Fantine, we restrict to neighbors of Jean Valjean."
   ]
  },
  {
   "cell_type": "code",
   "execution_count": null,
   "metadata": {
    "scrolled": true
   },
   "outputs": [],
   "source": [
    "## In Volume 1, Restrict to a neighborhood of Fantine\n",
    "FNnodes = list(HS[1]['FN'])\n",
    "FNnodes.append('FN')\n",
    "FNNeighborhood = HS[1].restrict_to_nodes(FNnodes)\n",
    "jvfn = list(FNNeighborhood['JV'])\n",
    "jvfn.append('JV')\n",
    "FNJVNeighborhood = FNNeighborhood.restrict_to_nodes(jvfn)"
   ]
  },
  {
   "cell_type": "code",
   "execution_count": null,
   "metadata": {},
   "outputs": [],
   "source": [
    "plt.figure(figsize=[25,15])\n",
    "hnx.draw(FNJVNeighborhood)"
   ]
  },
  {
   "cell_type": "markdown",
   "metadata": {},
   "source": [
    "While the graph shows FN and JV as central points we can more clearly visualize the core relationships by collapsing the edges"
   ]
  },
  {
   "cell_type": "code",
   "execution_count": null,
   "metadata": {},
   "outputs": [],
   "source": [
    "plt.figure(figsize=[10,10])\n",
    "hnx.draw(FNJVNeighborhood.collapse_edges(),with_edge_labels=False)"
   ]
  },
  {
   "cell_type": "markdown",
   "metadata": {},
   "source": [
    "While the Books Hypergraph indicated many relationships shared by FN and JV it does not indicate if FN and JV actually encountered each other alone or who they were with. The Scenes Hypergraph drills down in the hierarchy of relationships to those core scenes where actual meetings took place and who else was involved."
   ]
  },
  {
   "cell_type": "markdown",
   "metadata": {},
   "source": [
    "## Hypergraph of Scenes in Volume 1 Book 1"
   ]
  },
  {
   "cell_type": "code",
   "execution_count": null,
   "metadata": {},
   "outputs": [],
   "source": [
    "df = scenes.loc[scenes.Volume==1].loc[scenes.Book == 1]\n",
    "edges = defaultdict(list)\n",
    "for row in df.itertuples():\n",
    "    edges[row.Chapter].append(row.Characters)\n",
    "Hdf = hnx.Hypergraph(edges)"
   ]
  },
  {
   "cell_type": "code",
   "execution_count": null,
   "metadata": {},
   "outputs": [],
   "source": [
    "plt.figure(figsize=[10,10])\n",
    "hnx.draw(Hdf)"
   ]
  },
  {
   "cell_type": "code",
   "execution_count": null,
   "metadata": {},
   "outputs": [],
   "source": [
    "plt.figure(figsize=[10,10])\n",
    "hnx.draw(Hdf.collapse_nodes_and_edges(),with_node_counts=True,with_edge_counts=True)"
   ]
  },
  {
   "cell_type": "code",
   "execution_count": null,
   "metadata": {},
   "outputs": [],
   "source": []
  }
 ],
 "metadata": {
  "kernelspec": {
   "display_name": "Python 3 (ipykernel)",
   "language": "python",
   "name": "python3"
  },
  "language_info": {
   "codemirror_mode": {
    "name": "ipython",
    "version": 3
   },
   "file_extension": ".py",
   "mimetype": "text/x-python",
   "name": "python",
   "nbconvert_exporter": "python",
   "pygments_lexer": "ipython3",
   "version": "3.8.17"
  }
 },
 "nbformat": 4,
 "nbformat_minor": 4
}
