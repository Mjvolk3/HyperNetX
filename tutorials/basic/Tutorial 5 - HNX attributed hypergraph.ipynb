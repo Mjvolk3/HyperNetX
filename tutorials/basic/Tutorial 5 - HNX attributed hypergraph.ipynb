{
 "cells": [
  {
   "cell_type": "markdown",
   "id": "9d435968",
   "metadata": {
    "toc": true
   },
   "source": [
    "<h1>Table of Contents<span class=\"tocSkip\"></span></h1>\n",
    "<div class=\"toc\"><ul class=\"toc-item\"><li><span><a href=\"#Adding-attributes-on-creation\" data-toc-modified-id=\"Adding-attributes-on-creation-1\"><span class=\"toc-item-num\">1&nbsp;&nbsp;</span>Adding attributes on creation</a></span></li><li><span><a href=\"#Adding-attributes-post-hypergraph-creation\" data-toc-modified-id=\"Adding-attributes-post-hypergraph-creation-2\"><span class=\"toc-item-num\">2&nbsp;&nbsp;</span>Adding attributes post hypergraph creation</a></span></li></ul></div>"
   ]
  },
  {
   "cell_type": "code",
   "execution_count": 28,
   "id": "7c78d854-302c-4632-bc28-02fe7441e943",
   "metadata": {},
   "outputs": [],
   "source": [
    "#importing and installing packages\n",
    "%pip install hypernetx \n",
    "import matplotlib.pyplot as plt\n",
    "import matplotlib.gridspec as gridspec\n",
    "import hypernetx as hnx\n",
    "import warnings\n",
    "warnings.simplefilter('ignore')\n",
    "warnings.filterwarnings(\"ignore\", category=DeprecationWarning)\n",
    "#set plotting parameters\n",
    "TextSize = 15"
   ]
  },
  {
   "cell_type": "markdown",
   "id": "a848673d",
   "metadata": {},
   "source": [
    "# Adding attributes on creation\n",
    "\n",
    "An attributed hypergraph can be constructed from creation using many common data structures for representing hypergraphs. To name a few you can use:\n",
    "* Dictionary of dictionaries\n",
    "* Dictionary of iterables\n",
    "* List of lists\n",
    "* Pandas Dataframe\n",
    "\n",
    "HNX will automatically detect the datastructure used and create the hypergraph object. \n",
    "\n",
    "We will now do a demo using the dictionary object that represents a set of 4 meetings involving 6 people with topics discussed by individuals during meetings as incidences attributes and intervals representing when meetings occured. Details on this example are provided in https://arxiv.org/abs/2405.04559."
   ]
  },
  {
   "cell_type": "code",
   "execution_count": 7,
   "id": "346ddbe9",
   "metadata": {
    "code_folding": [
     32
    ]
   },
   "outputs": [
    {
     "data": {
      "image/png": "[encoded data removed]",
      "text/plain": [
       "<Figure size 400x400 with 1 Axes>"
      ]
     },
     "metadata": {},
     "output_type": "display_data"
    }
   ],
   "source": [
    "#node as people and hyperedges as meetings with topic and interval attributes.\n",
    "\n",
    "NS = 'P' # P = Person\n",
    "ES = 'M' # M = Meeting\n",
    "\n",
    "HG = {\n",
    "       ES+'1': {NS+'4': {'topics': ['A', 'B']}, \n",
    "                NS+'5': {'topics': ['A', 'C']}},\n",
    "       \n",
    "       ES+'2': {NS+'5':{'topics':['E', 'F']}, \n",
    "                NS+'6':{'topics':['F']}},\n",
    "    \n",
    "       ES+'3': {NS+'2':{'topics':['C', 'D']}, \n",
    "                NS+'3':{'topics':['B', 'C', 'D']}, \n",
    "                NS+'4':{'topics':['D']}},\n",
    "    \n",
    "       ES+'4': {NS+'1': {'topics':['C']}, \n",
    "                NS+'2': {'topics':['C']}, \n",
    "                NS+'3': {'topics':['C']}}\n",
    "      }\n",
    "\n",
    "edge_attributes = {\n",
    "       ES+'1': {'interval': [0, 1]},\n",
    "       ES+'2': {'interval': [2, 6]},\n",
    "       ES+'3': {'interval': [3, 5]},\n",
    "       ES+'4': {'interval': [7, 9]},\n",
    "        }\n",
    "\n",
    "node_attributes = {\n",
    "       NS+'1': {'color': 'blue'},\n",
    "       NS+'2': {'color': 'red'},\n",
    "       NS+'3': {'color': 'green'},\n",
    "        }\n",
    "\n",
    "\n",
    "H = hnx.Hypergraph(HG, edge_properties = edge_attributes, node_properties = node_attributes)\n",
    "\n",
    "HG_pos = {\n",
    "         NS+'1': (0.0, 0.5),\n",
    "         NS+'2': (0.0, 0.0),\n",
    "         NS+'3': (0.5, 0.0),\n",
    "         NS+'4': (1.0, 0.0),\n",
    "         NS+'5': (1.0, 0.5),\n",
    "         NS+'6': (0.5, 0.5)}\n",
    "\n",
    "plt.figure(figsize = (4,4))\n",
    "hnx.draw(H, pos = HG_pos)\n",
    "plt.show()"
   ]
  },
  {
   "cell_type": "code",
   "execution_count": 11,
   "id": "07d3c2cd",
   "metadata": {},
   "outputs": [
    {
     "data": {
      "text/html": [
       "<div>\n",
       "<style scoped>\n",
       "    .dataframe tbody tr th:only-of-type {\n",
       "        vertical-align: middle;\n",
       "    }\n",
       "\n",
       "    .dataframe tbody tr th {\n",
       "        vertical-align: top;\n",
       "    }\n",
       "\n",
       "    .dataframe thead th {\n",
       "        text-align: right;\n",
       "    }\n",
       "</style>\n",
       "<table border=\"1\" class=\"dataframe\">\n",
       "  <thead>\n",
       "    <tr style=\"text-align: right;\">\n",
       "      <th></th>\n",
       "      <th>weight</th>\n",
       "      <th>misc_properties</th>\n",
       "    </tr>\n",
       "    <tr>\n",
       "      <th>uid</th>\n",
       "      <th></th>\n",
       "      <th></th>\n",
       "    </tr>\n",
       "  </thead>\n",
       "  <tbody>\n",
       "    <tr>\n",
       "      <th>M1</th>\n",
       "      <td>1</td>\n",
       "      <td>{'interval': [0, 1]}</td>\n",
       "    </tr>\n",
       "    <tr>\n",
       "      <th>M2</th>\n",
       "      <td>1</td>\n",
       "      <td>{'interval': [2, 6]}</td>\n",
       "    </tr>\n",
       "    <tr>\n",
       "      <th>M3</th>\n",
       "      <td>1</td>\n",
       "      <td>{'interval': [3, 5]}</td>\n",
       "    </tr>\n",
       "    <tr>\n",
       "      <th>M4</th>\n",
       "      <td>1</td>\n",
       "      <td>{'interval': [7, 9]}</td>\n",
       "    </tr>\n",
       "  </tbody>\n",
       "</table>\n",
       "</div>"
      ],
      "text/plain": [
       "     weight       misc_properties\n",
       "uid                              \n",
       "M1        1  {'interval': [0, 1]}\n",
       "M2        1  {'interval': [2, 6]}\n",
       "M3        1  {'interval': [3, 5]}\n",
       "M4        1  {'interval': [7, 9]}"
      ]
     },
     "execution_count": 11,
     "metadata": {},
     "output_type": "execute_result"
    }
   ],
   "source": [
    "#Accessing edges dataframe for hyperedge properties\n",
    "H.edges.dataframe"
   ]
  },
  {
   "cell_type": "code",
   "execution_count": 12,
   "id": "302ffb73",
   "metadata": {},
   "outputs": [
    {
     "data": {
      "text/html": [
       "<div>\n",
       "<style scoped>\n",
       "    .dataframe tbody tr th:only-of-type {\n",
       "        vertical-align: middle;\n",
       "    }\n",
       "\n",
       "    .dataframe tbody tr th {\n",
       "        vertical-align: top;\n",
       "    }\n",
       "\n",
       "    .dataframe thead th {\n",
       "        text-align: right;\n",
       "    }\n",
       "</style>\n",
       "<table border=\"1\" class=\"dataframe\">\n",
       "  <thead>\n",
       "    <tr style=\"text-align: right;\">\n",
       "      <th></th>\n",
       "      <th>weight</th>\n",
       "      <th>misc_properties</th>\n",
       "    </tr>\n",
       "    <tr>\n",
       "      <th>uid</th>\n",
       "      <th></th>\n",
       "      <th></th>\n",
       "    </tr>\n",
       "  </thead>\n",
       "  <tbody>\n",
       "    <tr>\n",
       "      <th>P1</th>\n",
       "      <td>1</td>\n",
       "      <td>{'color': 'blue'}</td>\n",
       "    </tr>\n",
       "    <tr>\n",
       "      <th>P2</th>\n",
       "      <td>1</td>\n",
       "      <td>{'color': 'red'}</td>\n",
       "    </tr>\n",
       "    <tr>\n",
       "      <th>P3</th>\n",
       "      <td>1</td>\n",
       "      <td>{'color': 'green'}</td>\n",
       "    </tr>\n",
       "  </tbody>\n",
       "</table>\n",
       "</div>"
      ],
      "text/plain": [
       "     weight     misc_properties\n",
       "uid                            \n",
       "P1        1   {'color': 'blue'}\n",
       "P2        1    {'color': 'red'}\n",
       "P3        1  {'color': 'green'}"
      ]
     },
     "execution_count": 12,
     "metadata": {},
     "output_type": "execute_result"
    }
   ],
   "source": [
    "#Accessing nodes dataframe for node properties\n",
    "H.nodes.dataframe"
   ]
  },
  {
   "cell_type": "code",
   "execution_count": 13,
   "id": "ceba582e",
   "metadata": {},
   "outputs": [
    {
     "data": {
      "text/html": [
       "<div>\n",
       "<style scoped>\n",
       "    .dataframe tbody tr th:only-of-type {\n",
       "        vertical-align: middle;\n",
       "    }\n",
       "\n",
       "    .dataframe tbody tr th {\n",
       "        vertical-align: top;\n",
       "    }\n",
       "\n",
       "    .dataframe thead th {\n",
       "        text-align: right;\n",
       "    }\n",
       "</style>\n",
       "<table border=\"1\" class=\"dataframe\">\n",
       "  <thead>\n",
       "    <tr style=\"text-align: right;\">\n",
       "      <th></th>\n",
       "      <th></th>\n",
       "      <th>weight</th>\n",
       "      <th>misc_properties</th>\n",
       "    </tr>\n",
       "    <tr>\n",
       "      <th>edges</th>\n",
       "      <th>nodes</th>\n",
       "      <th></th>\n",
       "      <th></th>\n",
       "    </tr>\n",
       "  </thead>\n",
       "  <tbody>\n",
       "    <tr>\n",
       "      <th rowspan=\"2\" valign=\"top\">M1</th>\n",
       "      <th>P4</th>\n",
       "      <td>1</td>\n",
       "      <td>{'topics': ['A', 'B']}</td>\n",
       "    </tr>\n",
       "    <tr>\n",
       "      <th>P5</th>\n",
       "      <td>1</td>\n",
       "      <td>{'topics': ['A', 'C']}</td>\n",
       "    </tr>\n",
       "    <tr>\n",
       "      <th rowspan=\"2\" valign=\"top\">M2</th>\n",
       "      <th>P5</th>\n",
       "      <td>1</td>\n",
       "      <td>{'topics': ['E', 'F']}</td>\n",
       "    </tr>\n",
       "    <tr>\n",
       "      <th>P6</th>\n",
       "      <td>1</td>\n",
       "      <td>{'topics': ['F']}</td>\n",
       "    </tr>\n",
       "    <tr>\n",
       "      <th rowspan=\"3\" valign=\"top\">M3</th>\n",
       "      <th>P2</th>\n",
       "      <td>1</td>\n",
       "      <td>{'topics': ['C', 'D']}</td>\n",
       "    </tr>\n",
       "    <tr>\n",
       "      <th>P3</th>\n",
       "      <td>1</td>\n",
       "      <td>{'topics': ['B', 'C', 'D']}</td>\n",
       "    </tr>\n",
       "    <tr>\n",
       "      <th>P4</th>\n",
       "      <td>1</td>\n",
       "      <td>{'topics': ['D']}</td>\n",
       "    </tr>\n",
       "    <tr>\n",
       "      <th rowspan=\"3\" valign=\"top\">M4</th>\n",
       "      <th>P1</th>\n",
       "      <td>1</td>\n",
       "      <td>{'topics': ['C']}</td>\n",
       "    </tr>\n",
       "    <tr>\n",
       "      <th>P2</th>\n",
       "      <td>1</td>\n",
       "      <td>{'topics': ['C']}</td>\n",
       "    </tr>\n",
       "    <tr>\n",
       "      <th>P3</th>\n",
       "      <td>1</td>\n",
       "      <td>{'topics': ['C']}</td>\n",
       "    </tr>\n",
       "  </tbody>\n",
       "</table>\n",
       "</div>"
      ],
      "text/plain": [
       "             weight              misc_properties\n",
       "edges nodes                                     \n",
       "M1    P4          1       {'topics': ['A', 'B']}\n",
       "      P5          1       {'topics': ['A', 'C']}\n",
       "M2    P5          1       {'topics': ['E', 'F']}\n",
       "      P6          1            {'topics': ['F']}\n",
       "M3    P2          1       {'topics': ['C', 'D']}\n",
       "      P3          1  {'topics': ['B', 'C', 'D']}\n",
       "      P4          1            {'topics': ['D']}\n",
       "M4    P1          1            {'topics': ['C']}\n",
       "      P2          1            {'topics': ['C']}\n",
       "      P3          1            {'topics': ['C']}"
      ]
     },
     "execution_count": 13,
     "metadata": {},
     "output_type": "execute_result"
    }
   ],
   "source": [
    "#Accessing incidence dataframe for incidence properties\n",
    "H.incidences.dataframe"
   ]
  },
  {
   "cell_type": "code",
   "execution_count": 16,
   "id": "0ec3b015",
   "metadata": {},
   "outputs": [
    {
     "data": {
      "text/plain": [
       "['A', 'B']"
      ]
     },
     "execution_count": 16,
     "metadata": {},
     "output_type": "execute_result"
    }
   ],
   "source": [
    "#Accessing the attributes directly\n",
    "incidence = ('M1', 'P4') #choose, for example, an incidence\n",
    "H.incidences[incidence].topics #grab the topics attribute on that incidence"
   ]
  },
  {
   "cell_type": "code",
   "execution_count": 17,
   "id": "24373a81",
   "metadata": {},
   "outputs": [
    {
     "data": {
      "text/plain": [
       "{'topics': ['A', 'B'], 'weight': 1}"
      ]
     },
     "execution_count": 17,
     "metadata": {},
     "output_type": "execute_result"
    }
   ],
   "source": [
    "H.get_properties(incidence, level = 2) #grab all properties for that incidence. Level = 2 is for incidences"
   ]
  },
  {
   "cell_type": "code",
   "execution_count": 19,
   "id": "a9008617",
   "metadata": {},
   "outputs": [
    {
     "data": {
      "text/plain": [
       "{'topics': ['A', 'B'], 'weight': 1}"
      ]
     },
     "execution_count": 19,
     "metadata": {},
     "output_type": "execute_result"
    }
   ],
   "source": [
    "H.incidences[incidence].properties #alternative use the properties key to grab all properties"
   ]
  },
  {
   "cell_type": "code",
   "execution_count": 20,
   "id": "68df3bfb",
   "metadata": {},
   "outputs": [
    {
     "data": {
      "text/plain": [
       "[0, 1]"
      ]
     },
     "execution_count": 20,
     "metadata": {},
     "output_type": "execute_result"
    }
   ],
   "source": [
    "H.edges['M1'].interval #another example for edges grabbing the interval property"
   ]
  },
  {
   "cell_type": "markdown",
   "id": "caf8f5b5",
   "metadata": {},
   "source": [
    "# Adding attributes post hypergraph creation \n",
    "\n",
    "Similar to NetworkX, we can also construct hypergraphs from \"scratch\" by starting with an empty hypergraph and adding incidences/hyperedges/nodes as well as attributes on them.\n",
    "\n",
    "Here we again create the same hypergraph as before modeling the meetings, but building it up from an empty hypergraph"
   ]
  },
  {
   "cell_type": "code",
   "execution_count": 22,
   "id": "96d3260a",
   "metadata": {},
   "outputs": [
    {
     "data": {
      "image/png": "[encoded data removed]",
      "text/plain": [
       "<Figure size 400x400 with 1 Axes>"
      ]
     },
     "metadata": {},
     "output_type": "display_data"
    },
    {
     "data": {
      "text/html": [
       "<div>\n",
       "<style scoped>\n",
       "    .dataframe tbody tr th:only-of-type {\n",
       "        vertical-align: middle;\n",
       "    }\n",
       "\n",
       "    .dataframe tbody tr th {\n",
       "        vertical-align: top;\n",
       "    }\n",
       "\n",
       "    .dataframe thead th {\n",
       "        text-align: right;\n",
       "    }\n",
       "</style>\n",
       "<table border=\"1\" class=\"dataframe\">\n",
       "  <thead>\n",
       "    <tr style=\"text-align: right;\">\n",
       "      <th></th>\n",
       "      <th></th>\n",
       "      <th>weight</th>\n",
       "      <th>misc_properties</th>\n",
       "    </tr>\n",
       "    <tr>\n",
       "      <th>edges</th>\n",
       "      <th>nodes</th>\n",
       "      <th></th>\n",
       "      <th></th>\n",
       "    </tr>\n",
       "  </thead>\n",
       "  <tbody>\n",
       "  </tbody>\n",
       "</table>\n",
       "</div>"
      ],
      "text/plain": [
       "Empty DataFrame\n",
       "Columns: [weight, misc_properties]\n",
       "Index: []"
      ]
     },
     "execution_count": 22,
     "metadata": {},
     "output_type": "execute_result"
    }
   ],
   "source": [
    "#starting with an empty hyperhraph\n",
    "HG = {}\n",
    "H = hnx.Hypergraph(HG)\n",
    "\n",
    "plt.figure(figsize = (4,4))\n",
    "hnx.draw(H, pos = HG_pos)\n",
    "plt.show()\n",
    "\n",
    "#empty incidence store\n",
    "H.incidences.dataframe"
   ]
  },
  {
   "cell_type": "code",
   "execution_count": 23,
   "id": "02516d3d",
   "metadata": {},
   "outputs": [
    {
     "data": {
      "image/png": "[encoded data removed]",
      "text/plain": [
       "<Figure size 400x400 with 1 Axes>"
      ]
     },
     "metadata": {},
     "output_type": "display_data"
    },
    {
     "data": {
      "text/html": [
       "<div>\n",
       "<style scoped>\n",
       "    .dataframe tbody tr th:only-of-type {\n",
       "        vertical-align: middle;\n",
       "    }\n",
       "\n",
       "    .dataframe tbody tr th {\n",
       "        vertical-align: top;\n",
       "    }\n",
       "\n",
       "    .dataframe thead th {\n",
       "        text-align: right;\n",
       "    }\n",
       "</style>\n",
       "<table border=\"1\" class=\"dataframe\">\n",
       "  <thead>\n",
       "    <tr style=\"text-align: right;\">\n",
       "      <th></th>\n",
       "      <th></th>\n",
       "      <th>weight</th>\n",
       "      <th>misc_properties</th>\n",
       "    </tr>\n",
       "    <tr>\n",
       "      <th>edges</th>\n",
       "      <th>nodes</th>\n",
       "      <th></th>\n",
       "      <th></th>\n",
       "    </tr>\n",
       "  </thead>\n",
       "  <tbody>\n",
       "    <tr>\n",
       "      <th>M1</th>\n",
       "      <th>P4</th>\n",
       "      <td>2.0</td>\n",
       "      <td>{'topics': {'A', 'B'}}</td>\n",
       "    </tr>\n",
       "  </tbody>\n",
       "</table>\n",
       "</div>"
      ],
      "text/plain": [
       "             weight         misc_properties\n",
       "edges nodes                                \n",
       "M1    P4        2.0  {'topics': {'A', 'B'}}"
      ]
     },
     "execution_count": 23,
     "metadata": {},
     "output_type": "execute_result"
    }
   ],
   "source": [
    "#add a single incidence with attributes\n",
    "H.add_incidence('M1', 'P4', weight = 2, topics = {'B', 'A'})\n",
    "\n",
    "plt.figure(figsize = (4,4))\n",
    "hnx.draw(H, pos = HG_pos)\n",
    "plt.show()\n",
    "H.incidences.dataframe"
   ]
  },
  {
   "cell_type": "code",
   "execution_count": 24,
   "id": "6ec1c229",
   "metadata": {},
   "outputs": [
    {
     "data": {
      "image/png": "[encoded data removed]",
      "text/plain": [
       "<Figure size 400x400 with 1 Axes>"
      ]
     },
     "metadata": {},
     "output_type": "display_data"
    },
    {
     "data": {
      "text/html": [
       "<div>\n",
       "<style scoped>\n",
       "    .dataframe tbody tr th:only-of-type {\n",
       "        vertical-align: middle;\n",
       "    }\n",
       "\n",
       "    .dataframe tbody tr th {\n",
       "        vertical-align: top;\n",
       "    }\n",
       "\n",
       "    .dataframe thead th {\n",
       "        text-align: right;\n",
       "    }\n",
       "</style>\n",
       "<table border=\"1\" class=\"dataframe\">\n",
       "  <thead>\n",
       "    <tr style=\"text-align: right;\">\n",
       "      <th></th>\n",
       "      <th></th>\n",
       "      <th>weight</th>\n",
       "      <th>misc_properties</th>\n",
       "    </tr>\n",
       "    <tr>\n",
       "      <th>edges</th>\n",
       "      <th>nodes</th>\n",
       "      <th></th>\n",
       "      <th></th>\n",
       "    </tr>\n",
       "  </thead>\n",
       "  <tbody>\n",
       "    <tr>\n",
       "      <th rowspan=\"2\" valign=\"top\">M1</th>\n",
       "      <th>P4</th>\n",
       "      <td>2.0</td>\n",
       "      <td>{'topics': {'A', 'B'}}</td>\n",
       "    </tr>\n",
       "    <tr>\n",
       "      <th>P5</th>\n",
       "      <td>1.0</td>\n",
       "      <td>{'topics': {'C', 'B'}}</td>\n",
       "    </tr>\n",
       "    <tr>\n",
       "      <th rowspan=\"2\" valign=\"top\">M2</th>\n",
       "      <th>P5</th>\n",
       "      <td>1.0</td>\n",
       "      <td>{}</td>\n",
       "    </tr>\n",
       "    <tr>\n",
       "      <th>P6</th>\n",
       "      <td>1.0</td>\n",
       "      <td>{}</td>\n",
       "    </tr>\n",
       "  </tbody>\n",
       "</table>\n",
       "</div>"
      ],
      "text/plain": [
       "             weight         misc_properties\n",
       "edges nodes                                \n",
       "M1    P4        2.0  {'topics': {'A', 'B'}}\n",
       "      P5        1.0  {'topics': {'C', 'B'}}\n",
       "M2    P5        1.0                      {}\n",
       "      P6        1.0                      {}"
      ]
     },
     "execution_count": 24,
     "metadata": {},
     "output_type": "execute_result"
    }
   ],
   "source": [
    "#addinging multiple incidences and then setting attributes after\n",
    "H.add_incidences_from([('M1', 'P5'), ('M2', 'P5'), ('M2', 'P6')])\n",
    "H.incidences[('M1', 'P5')].topics = {'B', 'C'}\n",
    "\n",
    "plt.figure(figsize = (4,4))\n",
    "hnx.draw(H, pos = HG_pos)\n",
    "plt.show()\n",
    "H.incidences.dataframe"
   ]
  },
  {
   "cell_type": "code",
   "execution_count": 25,
   "id": "016e985c",
   "metadata": {},
   "outputs": [
    {
     "data": {
      "image/png": "[encoded data removed]",
      "text/plain": [
       "<Figure size 400x400 with 1 Axes>"
      ]
     },
     "metadata": {},
     "output_type": "display_data"
    },
    {
     "data": {
      "text/html": [
       "<div>\n",
       "<style scoped>\n",
       "    .dataframe tbody tr th:only-of-type {\n",
       "        vertical-align: middle;\n",
       "    }\n",
       "\n",
       "    .dataframe tbody tr th {\n",
       "        vertical-align: top;\n",
       "    }\n",
       "\n",
       "    .dataframe thead th {\n",
       "        text-align: right;\n",
       "    }\n",
       "</style>\n",
       "<table border=\"1\" class=\"dataframe\">\n",
       "  <thead>\n",
       "    <tr style=\"text-align: right;\">\n",
       "      <th></th>\n",
       "      <th></th>\n",
       "      <th>weight</th>\n",
       "      <th>misc_properties</th>\n",
       "    </tr>\n",
       "    <tr>\n",
       "      <th>edges</th>\n",
       "      <th>nodes</th>\n",
       "      <th></th>\n",
       "      <th></th>\n",
       "    </tr>\n",
       "  </thead>\n",
       "  <tbody>\n",
       "    <tr>\n",
       "      <th rowspan=\"2\" valign=\"top\">M1</th>\n",
       "      <th>P4</th>\n",
       "      <td>2.0</td>\n",
       "      <td>{'topics': {'A', 'B'}}</td>\n",
       "    </tr>\n",
       "    <tr>\n",
       "      <th>P5</th>\n",
       "      <td>1.0</td>\n",
       "      <td>{'topics': {'C', 'B'}}</td>\n",
       "    </tr>\n",
       "    <tr>\n",
       "      <th rowspan=\"2\" valign=\"top\">M2</th>\n",
       "      <th>P5</th>\n",
       "      <td>1.0</td>\n",
       "      <td>{}</td>\n",
       "    </tr>\n",
       "    <tr>\n",
       "      <th>P6</th>\n",
       "      <td>1.0</td>\n",
       "      <td>{}</td>\n",
       "    </tr>\n",
       "    <tr>\n",
       "      <th rowspan=\"3\" valign=\"top\">M3</th>\n",
       "      <th>P2</th>\n",
       "      <td>1.0</td>\n",
       "      <td>{'topics': ['C', 'D']}</td>\n",
       "    </tr>\n",
       "    <tr>\n",
       "      <th>P3</th>\n",
       "      <td>1.0</td>\n",
       "      <td>{'topics': ['B', 'C', 'D']}</td>\n",
       "    </tr>\n",
       "    <tr>\n",
       "      <th>P4</th>\n",
       "      <td>1.0</td>\n",
       "      <td>{'topics': ['D']}</td>\n",
       "    </tr>\n",
       "    <tr>\n",
       "      <th rowspan=\"4\" valign=\"top\">M4</th>\n",
       "      <th>P1</th>\n",
       "      <td>1.0</td>\n",
       "      <td>{'topics': ['C']}</td>\n",
       "    </tr>\n",
       "    <tr>\n",
       "      <th>P2</th>\n",
       "      <td>1.0</td>\n",
       "      <td>{'topics': ['C']}</td>\n",
       "    </tr>\n",
       "    <tr>\n",
       "      <th>P3</th>\n",
       "      <td>1.0</td>\n",
       "      <td>{'topics': ['C']}</td>\n",
       "    </tr>\n",
       "    <tr>\n",
       "      <th>P6</th>\n",
       "      <td>1.0</td>\n",
       "      <td>{}</td>\n",
       "    </tr>\n",
       "  </tbody>\n",
       "</table>\n",
       "</div>"
      ],
      "text/plain": [
       "             weight              misc_properties\n",
       "edges nodes                                     \n",
       "M1    P4        2.0       {'topics': {'A', 'B'}}\n",
       "      P5        1.0       {'topics': {'C', 'B'}}\n",
       "M2    P5        1.0                           {}\n",
       "      P6        1.0                           {}\n",
       "M3    P2        1.0       {'topics': ['C', 'D']}\n",
       "      P3        1.0  {'topics': ['B', 'C', 'D']}\n",
       "      P4        1.0            {'topics': ['D']}\n",
       "M4    P1        1.0            {'topics': ['C']}\n",
       "      P2        1.0            {'topics': ['C']}\n",
       "      P3        1.0            {'topics': ['C']}\n",
       "      P6        1.0                           {}"
      ]
     },
     "execution_count": 25,
     "metadata": {},
     "output_type": "execute_result"
    }
   ],
   "source": [
    "#adding hyperedges and nodes using a dictionary.\n",
    "H.add_nodes_to_edges(    {'M3': {'P2':{'topics':['C', 'D']}, \n",
    "                                 'P3':{'topics':['B', 'C', 'D']}, \n",
    "                                 'P4':{'topics':['D']}},\n",
    "                          'M4': {'P1': {'topics':['C']}, \n",
    "                                 'P2': {'topics':['C']}, \n",
    "                                 'P3': {'topics':['C']},\n",
    "                                 'P6': {}}})\n",
    "plt.figure(figsize = (4,4))\n",
    "hnx.draw(H, pos = HG_pos)\n",
    "plt.show()\n",
    "H.incidences.dataframe"
   ]
  },
  {
   "cell_type": "code",
   "execution_count": 26,
   "id": "09ddb49d",
   "metadata": {},
   "outputs": [
    {
     "data": {
      "image/png": "[encoded data removed]",
      "text/plain": [
       "<Figure size 400x400 with 1 Axes>"
      ]
     },
     "metadata": {},
     "output_type": "display_data"
    },
    {
     "data": {
      "text/html": [
       "<div>\n",
       "<style scoped>\n",
       "    .dataframe tbody tr th:only-of-type {\n",
       "        vertical-align: middle;\n",
       "    }\n",
       "\n",
       "    .dataframe tbody tr th {\n",
       "        vertical-align: top;\n",
       "    }\n",
       "\n",
       "    .dataframe thead th {\n",
       "        text-align: right;\n",
       "    }\n",
       "</style>\n",
       "<table border=\"1\" class=\"dataframe\">\n",
       "  <thead>\n",
       "    <tr style=\"text-align: right;\">\n",
       "      <th></th>\n",
       "      <th></th>\n",
       "      <th>weight</th>\n",
       "      <th>misc_properties</th>\n",
       "    </tr>\n",
       "    <tr>\n",
       "      <th>edges</th>\n",
       "      <th>nodes</th>\n",
       "      <th></th>\n",
       "      <th></th>\n",
       "    </tr>\n",
       "  </thead>\n",
       "  <tbody>\n",
       "    <tr>\n",
       "      <th rowspan=\"2\" valign=\"top\">M1</th>\n",
       "      <th>P4</th>\n",
       "      <td>2.0</td>\n",
       "      <td>{'topics': {'A', 'B'}}</td>\n",
       "    </tr>\n",
       "    <tr>\n",
       "      <th>P5</th>\n",
       "      <td>1.0</td>\n",
       "      <td>{'topics': {'C', 'B'}}</td>\n",
       "    </tr>\n",
       "    <tr>\n",
       "      <th rowspan=\"2\" valign=\"top\">M2</th>\n",
       "      <th>P5</th>\n",
       "      <td>1.0</td>\n",
       "      <td>{}</td>\n",
       "    </tr>\n",
       "    <tr>\n",
       "      <th>P6</th>\n",
       "      <td>1.0</td>\n",
       "      <td>{}</td>\n",
       "    </tr>\n",
       "    <tr>\n",
       "      <th rowspan=\"3\" valign=\"top\">M3</th>\n",
       "      <th>P2</th>\n",
       "      <td>1.0</td>\n",
       "      <td>{'topics': ['C', 'D']}</td>\n",
       "    </tr>\n",
       "    <tr>\n",
       "      <th>P3</th>\n",
       "      <td>1.0</td>\n",
       "      <td>{'topics': ['B', 'C', 'D']}</td>\n",
       "    </tr>\n",
       "    <tr>\n",
       "      <th>P4</th>\n",
       "      <td>1.0</td>\n",
       "      <td>{'topics': ['D']}</td>\n",
       "    </tr>\n",
       "    <tr>\n",
       "      <th rowspan=\"3\" valign=\"top\">M4</th>\n",
       "      <th>P1</th>\n",
       "      <td>1.0</td>\n",
       "      <td>{'topics': ['C']}</td>\n",
       "    </tr>\n",
       "    <tr>\n",
       "      <th>P2</th>\n",
       "      <td>1.0</td>\n",
       "      <td>{'topics': ['C']}</td>\n",
       "    </tr>\n",
       "    <tr>\n",
       "      <th>P3</th>\n",
       "      <td>1.0</td>\n",
       "      <td>{'topics': ['C']}</td>\n",
       "    </tr>\n",
       "  </tbody>\n",
       "</table>\n",
       "</div>"
      ],
      "text/plain": [
       "             weight              misc_properties\n",
       "edges nodes                                     \n",
       "M1    P4        2.0       {'topics': {'A', 'B'}}\n",
       "      P5        1.0       {'topics': {'C', 'B'}}\n",
       "M2    P5        1.0                           {}\n",
       "      P6        1.0                           {}\n",
       "M3    P2        1.0       {'topics': ['C', 'D']}\n",
       "      P3        1.0  {'topics': ['B', 'C', 'D']}\n",
       "      P4        1.0            {'topics': ['D']}\n",
       "M4    P1        1.0            {'topics': ['C']}\n",
       "      P2        1.0            {'topics': ['C']}\n",
       "      P3        1.0            {'topics': ['C']}"
      ]
     },
     "execution_count": 26,
     "metadata": {},
     "output_type": "execute_result"
    }
   ],
   "source": [
    "#removing an incidence apir. This can also be done for edges and nodes.\n",
    "H = H.remove_incidences(('M4', 'P6'))\n",
    "\n",
    "plt.figure(figsize = (4,4))\n",
    "hnx.draw(H, pos = HG_pos)\n",
    "plt.show()\n",
    "H.incidences.dataframe"
   ]
  },
  {
   "cell_type": "code",
   "execution_count": 27,
   "id": "2f88b63c",
   "metadata": {},
   "outputs": [
    {
     "data": {
      "text/html": [
       "<div>\n",
       "<style scoped>\n",
       "    .dataframe tbody tr th:only-of-type {\n",
       "        vertical-align: middle;\n",
       "    }\n",
       "\n",
       "    .dataframe tbody tr th {\n",
       "        vertical-align: top;\n",
       "    }\n",
       "\n",
       "    .dataframe thead th {\n",
       "        text-align: right;\n",
       "    }\n",
       "</style>\n",
       "<table border=\"1\" class=\"dataframe\">\n",
       "  <thead>\n",
       "    <tr style=\"text-align: right;\">\n",
       "      <th></th>\n",
       "      <th>weight</th>\n",
       "      <th>misc_properties</th>\n",
       "    </tr>\n",
       "    <tr>\n",
       "      <th>uid</th>\n",
       "      <th></th>\n",
       "      <th></th>\n",
       "    </tr>\n",
       "  </thead>\n",
       "  <tbody>\n",
       "    <tr>\n",
       "      <th>M1</th>\n",
       "      <td>1</td>\n",
       "      <td>{'interval': [0, 1]}</td>\n",
       "    </tr>\n",
       "  </tbody>\n",
       "</table>\n",
       "</div>"
      ],
      "text/plain": [
       "    weight       misc_properties\n",
       "uid                             \n",
       "M1       1  {'interval': [0, 1]}"
      ]
     },
     "execution_count": 27,
     "metadata": {},
     "output_type": "execute_result"
    }
   ],
   "source": [
    "#again setting attributes to edges (can be done for nodes as well).\n",
    "H.edges['M1'].interval = [0,1]\n",
    "H.edges.dataframe"
   ]
  }
 ],
 "metadata": {
  "kernelspec": {
   "display_name": "Python 3 (ipykernel)",
   "language": "python",
   "name": "python3"
  },
  "language_info": {
   "codemirror_mode": {
    "name": "ipython",
    "version": 3
   },
   "file_extension": ".py",
   "mimetype": "text/x-python",
   "name": "python",
   "nbconvert_exporter": "python",
   "pygments_lexer": "ipython3",
   "version": "3.10.14"
  },
  "toc": {
   "base_numbering": 1,
   "nav_menu": {},
   "number_sections": true,
   "sideBar": false,
   "skip_h1_title": false,
   "title_cell": "Table of Contents",
   "title_sidebar": "Contents",
   "toc_cell": true,
   "toc_position": {},
   "toc_section_display": true,
   "toc_window_display": false
  },
  "varInspector": {
   "cols": {
    "lenName": 16,
    "lenType": 16,
    "lenVar": 40
   },
   "kernels_config": {
    "python": {
     "delete_cmd_postfix": "",
     "delete_cmd_prefix": "del ",
     "library": "var_list.py",
     "varRefreshCmd": "print(var_dic_list())"
    },
    "r": {
     "delete_cmd_postfix": ") ",
     "delete_cmd_prefix": "rm(",
     "library": "var_list.r",
     "varRefreshCmd": "cat(var_dic_list()) "
    }
   },
   "types_to_exclude": [
    "module",
    "function",
    "builtin_function_or_method",
    "instance",
    "_Feature"
   ],
   "window_display": false
  }
 },
 "nbformat": 4,
 "nbformat_minor": 5
}
