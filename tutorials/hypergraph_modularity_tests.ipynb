{
 "cells": [
  {
   "cell_type": "markdown",
   "metadata": {},
   "source": [
    "# Testing modularity code for HyperNetX\n",
    "\n",
    "Testing new code taking advantage of the data structure in HNX2 for the hypergraph_modularity module.\n",
    "The code can be installed from the following forked repo (branch = modularity):\n",
    "\n",
    "```\n",
    "pip install git+https://github.com/ftheberge/HyperNetX.git@modularity#egg=hypernetx \n",
    "```\n"
   ]
  },
  {
   "cell_type": "markdown",
   "metadata": {},
   "source": [
    "# Updates to HNX2.0 modularity module\n",
    "\n",
    "### Unchanged functions:\n",
    "\n",
    "- dict2part(D)\n",
    "- part2dict(A)\n",
    "- linear(d, c)\n",
    "- majority(d, c)\n",
    "- strict(d, c)\n",
    "- two_section(HG)\n",
    "- kumar(HG, delta=0.01, verbose=False)\n",
    "\n",
    "### No longer required\n",
    "\n",
    "- precompute_attributes(H)\n",
    "- _compute_partition_probas(HG, A)\n",
    "- _degree_tax(HG, Pr, wdc)\n",
    "- _edge_contribution(HG, A, wdc)\n",
    "- _delta_ec(HG, P, v, a, b, wdc)\n",
    "- _bin_ppmf(d, c, p)\n",
    "- _delta_dt(HG, P, v, a, b, wdc)\n",
    "\n",
    "### New version \n",
    "\n",
    "- modularity(HG, A, wdc=linear)\n",
    "- last_step(HG, L, wdc=linear, delta=0.01, verbose=False)\n",
    "\n",
    "### New (hidden) functions\n",
    "\n",
    "- _last_step_unweighted\n",
    "- _last_step_weighted\n"
   ]
  },
  {
   "cell_type": "code",
   "execution_count": 9,
   "metadata": {
    "ExecuteTime": {
     "end_time": "2023-11-09T00:28:24.033817Z",
     "start_time": "2023-11-09T00:28:24.026231Z"
    }
   },
   "outputs": [
    {
     "name": "stdout",
     "output_type": "stream",
     "text": [
      "HNX version: 2.0.4\n"
     ]
    }
   ],
   "source": [
    "import pandas as pd\n",
    "import numpy as np\n",
    "import igraph as ig\n",
    "import hypernetx as hnx\n",
    "import hypernetx.algorithms.hypergraph_modularity as hmod ## we re-wrote some of those functions\n",
    "import pickle\n",
    "import matplotlib.pyplot as plt\n",
    "%matplotlib inline\n",
    "from collections import Counter\n",
    "import shutup\n",
    "shutup.mute_warnings()\n",
    "print('HNX version:',hnx.__version__)\n",
    "Datadir = \"data/\""
   ]
  },
  {
   "cell_type": "markdown",
   "metadata": {},
   "source": [
    "# Experiment with h-ABCD hypergraphs\n",
    "\n",
    "We generated 4 h-ABCD hypergraphs with parameters:\n",
    "\n",
    "* -n 1000 -d 2.5,5,50 -c 1.5,50,200 -x 0.5 -q 0.0,0.4,0.3,0.2,0.1 -w :**linear** -s 1234 -o linear_1000\n",
    "* same as above with **strict**, **majority**\n",
    "* -n 1000 -d 2.5,5,50 -c 1.5,50,200 -x 0.5 -q 0.0,0.1,0.1,0.1,0.1,0.1,0.1,0.1,0.1,0.1,0.1 -w :linear -s 1234 -o linear_large_edges_1000\n"
   ]
  },
  {
   "cell_type": "code",
   "execution_count": 12,
   "metadata": {
    "ExecuteTime": {
     "end_time": "2023-11-09T00:28:43.195781Z",
     "start_time": "2023-11-09T00:28:43.149930Z"
    }
   },
   "outputs": [],
   "source": [
    "## pick one on the 4 examples\n",
    "file_vertex_labels = Datadir+'linear_1000_assign.txt'\n",
    "file_hyperedges = Datadir+'linear_1000_he.txt'"
   ]
  },
  {
   "cell_type": "code",
   "execution_count": 13,
   "outputs": [
    {
     "data": {
      "text/plain": "(1000, 3385)"
     },
     "execution_count": 13,
     "metadata": {},
     "output_type": "execute_result"
    }
   ],
   "source": [
    "## read data, build hypergraph\n",
    "with open(file_hyperedges, 'r') as file:\n",
    "    # Read all the lines of the file into a list\n",
    "    lines = file.readlines()\n",
    "hyperedges = [[y for y in x.replace('\\n','').split(',')] for x in lines]\n",
    "\n",
    "## for test purpose - add edges of size 1, multi-edges\n",
    "#hyperedges.extend([['1'],['2'],['3']])\n",
    "#hyperedges.extend([['1','1'],['2'],['3','3']])\n",
    "\n",
    "with open(file_vertex_labels, 'r') as file:\n",
    "    # Read all the lines of the file into a list\n",
    "    vertex_labels = np.array([int(y) for y in file.read().splitlines()])\n",
    "\n",
    "H = hnx.Hypergraph(hyperedges)\n",
    "## optional - add random edge weights for test purpose\n",
    "#for e in H.edges:\n",
    "#    H.edges[e].weight = np.random.choice(10)+1\n",
    "H.shape    "
   ],
   "metadata": {
    "collapsed": false,
    "ExecuteTime": {
     "end_time": "2023-11-09T00:28:46.922021Z",
     "start_time": "2023-11-09T00:28:45.974463Z"
    }
   }
  },
  {
   "cell_type": "code",
   "execution_count": 16,
   "outputs": [
    {
     "name": "stdout",
     "output_type": "stream",
     "text": [
      "CPU times: user 399 ms, sys: 6.47 ms, total: 406 ms\n",
      "Wall time: 435 ms\n"
     ]
    }
   ],
   "source": [
    "%%time\n",
    "## Cluster the 2-section graph (with Louvain)\n",
    "G = hmod.two_section(H)\n",
    "G.vs['louvain'] = G.community_multilevel(weights='weight').membership\n",
    "ML = hmod.dict2part({v['name']:v['louvain'] for v in G.vs})\n"
   ],
   "metadata": {
    "collapsed": false,
    "ExecuteTime": {
     "end_time": "2023-11-09T00:29:20.510734Z",
     "start_time": "2023-11-09T00:29:20.080466Z"
    }
   }
  },
  {
   "cell_type": "code",
   "execution_count": 17,
   "metadata": {
    "ExecuteTime": {
     "end_time": "2023-11-09T00:29:23.139492Z",
     "start_time": "2023-11-09T00:29:23.054207Z"
    }
   },
   "outputs": [
    {
     "name": "stdout",
     "output_type": "stream",
     "text": [
      "qH-linear: 0.3709337930881103\n",
      "qH-majority: 0.3833705858261428\n",
      "qH-strict: 0.3384402033530553\n",
      "CPU times: user 105 ms, sys: 6.93 ms, total: 112 ms\n",
      "Wall time: 106 ms\n"
     ]
    }
   ],
   "source": [
    "%%time\n",
    "## Compute qH's\n",
    "print('qH-linear:',hmod.modularity(H, ML, wdc=hmod.linear))\n",
    "print('qH-majority:',hmod.modularity(H, ML, wdc=hmod.majority))\n",
    "print('qH-strict:',hmod.modularity(H, ML, wdc=hmod.strict))\n"
   ]
  },
  {
   "cell_type": "code",
   "execution_count": 18,
   "metadata": {
    "ExecuteTime": {
     "end_time": "2023-11-09T00:29:47.130431Z",
     "start_time": "2023-11-09T00:29:33.745556Z"
    }
   },
   "outputs": [
    {
     "name": "stdout",
     "output_type": "stream",
     "text": [
      "pass completed, max edge weight difference: 0.4896602658788774\n",
      "pass completed, max edge weight difference: 0.2458714918759232\n",
      "pass completed, max edge weight difference: 0.12054098966026587\n",
      "pass completed, max edge weight difference: 0.06374076809453472\n",
      "pass completed, max edge weight difference: 0.03346057976366322\n",
      "pass completed, max edge weight difference: 0.017357367060561298\n",
      "pass completed, max edge weight difference: 0.00992660635155096\n",
      "CPU times: user 13.2 s, sys: 64.4 ms, total: 13.3 s\n",
      "Wall time: 13.4 s\n"
     ]
    }
   ],
   "source": [
    "%%time\n",
    "## Cluster the hypergraph (with Kumar's)\n",
    "KU = hmod.kumar(H, verbose=True)\n"
   ]
  },
  {
   "cell_type": "code",
   "execution_count": 6,
   "metadata": {
    "ExecuteTime": {
     "end_time": "2023-11-09T00:27:38.420141Z",
     "start_time": "2023-11-09T00:27:38.364670Z"
    }
   },
   "outputs": [
    {
     "name": "stdout",
     "output_type": "stream",
     "text": [
      "qH-linear: 0.3818650183516174\n",
      "qH-majority: 0.39332336234821413\n",
      "qH-strict: 0.3517127330702746\n",
      "CPU times: user 93.5 ms, sys: 6.18 ms, total: 99.7 ms\n",
      "Wall time: 94.9 ms\n"
     ]
    }
   ],
   "source": [
    "%%time\n",
    "## Compute qH's\n",
    "print('qH-linear:',hmod.modularity(H, KU, wdc=hmod.linear))\n",
    "print('qH-majority:',hmod.modularity(H, KU, wdc=hmod.majority))\n",
    "print('qH-strict:',hmod.modularity(H, KU, wdc=hmod.strict))\n"
   ]
  },
  {
   "cell_type": "code",
   "execution_count": 7,
   "metadata": {
    "scrolled": false,
    "ExecuteTime": {
     "end_time": "2023-11-09T00:28:21.210931Z",
     "start_time": "2023-11-09T00:27:38.457234Z"
    }
   },
   "outputs": [
    {
     "name": "stdout",
     "output_type": "stream",
     "text": [
      "initial qH: 0.3818650183516174\n",
      "94 moves, new qH: 0.39606423386553097\n",
      "29 moves, new qH: 0.39903083601492056\n",
      "CPU times: user 42 s, sys: 511 ms, total: 42.5 s\n",
      "Wall time: 42.8 s\n"
     ]
    }
   ],
   "source": [
    "%%time\n",
    "## try improving selected qH via simple heuristic\n",
    "KU_ls = hmod.last_step(H, KU, wdc=hmod.linear, verbose=True)"
   ]
  },
  {
   "cell_type": "code",
   "execution_count": 8,
   "metadata": {
    "ExecuteTime": {
     "end_time": "2023-11-09T00:28:21.327170Z",
     "start_time": "2023-11-09T00:28:21.213235Z"
    }
   },
   "outputs": [
    {
     "name": "stdout",
     "output_type": "stream",
     "text": [
      "qH-linear: 0.39903083601492056\n",
      "qH-majority: 0.42453589938853936\n",
      "qH-strict: 0.3384679383387232\n",
      "CPU times: user 108 ms, sys: 4.6 ms, total: 113 ms\n",
      "Wall time: 110 ms\n"
     ]
    }
   ],
   "source": [
    "%%time\n",
    "## Compute qH with current HNX function\n",
    "print('qH-linear:',hmod.modularity(H, KU_ls, wdc=hmod.linear))\n",
    "print('qH-majority:',hmod.modularity(H, KU_ls, wdc=hmod.majority))\n",
    "print('qH-strict:',hmod.modularity(H, KU_ls, wdc=hmod.strict))"
   ]
  }
 ],
 "metadata": {
  "kernelspec": {
   "name": "python3",
   "language": "python",
   "display_name": "Python 3 (ipykernel)"
  },
  "language_info": {
   "codemirror_mode": {
    "name": "ipython",
    "version": 3
   },
   "file_extension": ".py",
   "mimetype": "text/x-python",
   "name": "python",
   "nbconvert_exporter": "python",
   "pygments_lexer": "ipython3",
   "version": "3.11.4"
  }
 },
 "nbformat": 4,
 "nbformat_minor": 4
}
