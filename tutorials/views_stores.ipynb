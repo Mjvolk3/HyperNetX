{
 "cells": [
  {
   "cell_type": "markdown",
   "metadata": {
    "heading_collapsed": true,
    "jp-MarkdownHeadingCollapsed": true
   },
   "source": [
    "### Imports"
   ]
  },
  {
   "cell_type": "code",
   "execution_count": 1,
   "metadata": {
    "ExecuteTime": {
     "end_time": "2024-01-12T18:49:51.297784Z",
     "start_time": "2024-01-12T18:49:24.842910Z"
    },
    "execution": {
     "iopub.execute_input": "2024-02-21T19:38:22.211642Z",
     "iopub.status.busy": "2024-02-21T19:38:22.210270Z",
     "iopub.status.idle": "2024-02-21T19:38:24.204348Z",
     "shell.execute_reply": "2024-02-21T19:38:24.203825Z",
     "shell.execute_reply.started": "2024-02-21T19:38:22.211553Z"
    },
    "hidden": true
   },
   "outputs": [],
   "source": [
    "import matplotlib.pyplot as plt\n",
    "import pandas as pd\n",
    "import numpy as np\n",
    "import networkx as nx\n",
    "import hypernetx as hnx\n",
    "from hypernetx.utils import toys\n",
    "\n",
    "import warnings\n",
    "import importlib as imp\n",
    "from collections import defaultdict\n",
    "from copy import deepcopy\n",
    "warnings.simplefilter('ignore')"
   ]
  },
  {
   "cell_type": "code",
   "execution_count": 2,
   "metadata": {
    "ExecuteTime": {
     "end_time": "2024-01-12T18:49:51.339341Z",
     "start_time": "2024-01-12T18:49:51.308046Z"
    },
    "execution": {
     "iopub.execute_input": "2024-02-21T19:38:24.205476Z",
     "iopub.status.busy": "2024-02-21T19:38:24.205271Z",
     "iopub.status.idle": "2024-02-21T19:38:24.210947Z",
     "shell.execute_reply": "2024-02-21T19:38:24.210316Z",
     "shell.execute_reply.started": "2024-02-21T19:38:24.205462Z"
    },
    "hidden": true
   },
   "outputs": [
    {
     "data": {
      "text/plain": [
       "<module 'hypernetx' from '/Users/prag717/Library/CloudStorage/OneDrive-PNNL/Documents/tdm/hnx/hypernetx/__init__.py'>"
      ]
     },
     "execution_count": 2,
     "metadata": {},
     "output_type": "execute_result"
    }
   ],
   "source": [
    "imp.reload(hnx)"
   ]
  },
  {
   "cell_type": "markdown",
   "metadata": {},
   "source": [
    "## Props2DFP"
   ]
  },
  {
   "cell_type": "code",
   "execution_count": 9,
   "metadata": {
    "execution": {
     "iopub.execute_input": "2024-02-21T19:44:05.094352Z",
     "iopub.status.busy": "2024-02-21T19:44:05.093137Z",
     "iopub.status.idle": "2024-02-21T19:44:05.116959Z",
     "shell.execute_reply": "2024-02-21T19:44:05.116245Z",
     "shell.execute_reply.started": "2024-02-21T19:44:05.094275Z"
    }
   },
   "outputs": [],
   "source": [
    "### test props\n",
    "import ast,json\n",
    "from hypernetx import HyperNetXError\n",
    "\n",
    "def mkdict(x):\n",
    "    if isinstance(x,dict):\n",
    "        return x\n",
    "    else:\n",
    "        try:\n",
    "            temp = json.loads(x)\n",
    "        except:\n",
    "            try:\n",
    "                temp = literal_eval(x)\n",
    "            except:\n",
    "                temp = {}\n",
    "        if isinstance(temp,dict):\n",
    "            return temp\n",
    "        else:\n",
    "            return {}\n",
    "            # raise HyperNetXError('input not convertible to a dictionary')\n",
    "    \n",
    "def props2dfp(properties,\n",
    "                weight_prop,\n",
    "                default_weight,\n",
    "                misc_properties_col=None,):\n",
    "    \"\"\"\n",
    "    Changes properties input into standard dfp format: id,weight,...<other shared properties>...,misc properties dict\n",
    "    Used for single level (edges or nodes or combined) \n",
    "\n",
    "    Parameters\n",
    "    ----------\n",
    "    properties: dict | pd.Dataframe\n",
    "        if dict, must be of the form {id:properties, ...}\n",
    "        if dataframe, index must be single identifier (id)\n",
    "    weight_prop: Optional[str] = None\n",
    "    default_weight: int|float|Sequence[int|float] = 1\n",
    "    misc_properties_col: Optional[str] = None\n",
    "\n",
    "    Returns\n",
    "    -------\n",
    "    pd.Dataframe\n",
    "\n",
    "    \"\"\"\n",
    "    if isinstance(properties, dict):\n",
    "        dp = deepcopy(properties)\n",
    "        dfp = pd.DataFrame(pd.Series(dp))\n",
    "        dfp = dfp.reset_index().rename(columns={\"index\":'uid',0:'properties'}) \n",
    "        dfp['weight'] = default_weight \n",
    "        prop_flag = 1\n",
    "\n",
    "    elif isinstance(properties, pd.DataFrame):\n",
    "        dfp = deepcopy(properties)\n",
    "        if weight_prop is not None and weight_prop in dfp.columns:\n",
    "            dfp = dfp.rename(columns={weight_prop: 'weight'})\n",
    "            dfp = dfp.fillna(\n",
    "                {'weight': default_weight}\n",
    "            ) \n",
    "        else:\n",
    "            dfp['weight'] = default_weight \n",
    "        if  misc_properties_col is not None:\n",
    "            dfp = dfp.rename(columns={misc_properties_col: 'properties'}) \n",
    "            prop_flag = 1\n",
    "            dfp.properties.fillna({})\n",
    "        else:\n",
    "            dfp['properties'] = [{} for row in dfp]\n",
    "            prop_flag = 0\n",
    "    else:\n",
    "        raise ValueError('properties must be a dictionary or a Pandas dataframe')\n",
    "    \n",
    "    cols = [c for c in dfp.columns if c not in ['uid','weight','properties'] ] \n",
    "    dfp = dfp[['uid','weight'] + cols + ['properties']] \n",
    "    \n",
    "    if prop_flag == 0:\n",
    "        return dfp\n",
    "    else:\n",
    "        props = dfp.properties\n",
    "        # raise\n",
    "        dfp.properties = dfp.properties.map(mkdict)\n",
    "\n",
    "        for idx,row in enumerate(dfp.itertuples()):\n",
    "            wt = row.properties.get(weight_prop,None)\n",
    "\n",
    "            if wt is not None:\n",
    "                dfp.weight.iloc[idx] = wt\n",
    "                del dfp.properties.iloc[idx][weight_prop]\n",
    "        return dfp"
   ]
  },
  {
   "cell_type": "code",
   "execution_count": 10,
   "metadata": {
    "ExecuteTime": {
     "end_time": "2024-01-12T18:49:51.367794Z",
     "start_time": "2024-01-12T18:49:51.360131Z"
    },
    "execution": {
     "iopub.execute_input": "2024-02-21T19:44:05.540197Z",
     "iopub.status.busy": "2024-02-21T19:44:05.539060Z",
     "iopub.status.idle": "2024-02-21T19:44:05.558146Z",
     "shell.execute_reply": "2024-02-21T19:44:05.557502Z",
     "shell.execute_reply.started": "2024-02-21T19:44:05.540146Z"
    },
    "hidden": true
   },
   "outputs": [
    {
     "name": "stderr",
     "output_type": "stream",
     "text": [
      "/Users/prag717/Library/CloudStorage/OneDrive-PNNL/Documents/tdm/hnx/hypernetx/classes/hypergraph.py:334: FutureWarning: This method or function will be deprecated in a future release. Public references to this method or function will be removed from the Hypergraph API in a future release.\n",
      "  self._nodes = self.E.restrict_to_levels([1]) ##Nodes(self.E) ##\n"
     ]
    }
   ],
   "source": [
    "h = hnx.Hypergraph()"
   ]
  },
  {
   "cell_type": "code",
   "execution_count": 11,
   "metadata": {
    "ExecuteTime": {
     "end_time": "2024-01-12T18:49:51.379766Z",
     "start_time": "2024-01-12T18:49:51.368950Z"
    },
    "execution": {
     "iopub.execute_input": "2024-02-21T19:44:05.819907Z",
     "iopub.status.busy": "2024-02-21T19:44:05.818846Z",
     "iopub.status.idle": "2024-02-21T19:44:05.835226Z",
     "shell.execute_reply": "2024-02-21T19:44:05.833899Z",
     "shell.execute_reply.started": "2024-02-21T19:44:05.819839Z"
    },
    "hidden": true
   },
   "outputs": [
    {
     "data": {
      "text/plain": [
       "{'dataframe': Empty DataFrame\n",
       " Columns: [edges, nodes, cell_weights]\n",
       " Index: [],\n",
       " 'labels': {'edges': array([], dtype=float64),\n",
       "  'nodes': array([], dtype=float64)},\n",
       " 'data': array([], shape=(2, 0), dtype=float64),\n",
       " 'snodelg': {},\n",
       " 'sedgelg': {},\n",
       " 'neighbors': defaultdict(dict, {}),\n",
       " 'edge_neighbors': defaultdict(dict, {}),\n",
       " 'adjacency_matrix': {},\n",
       " 'edge_adjacency_matrix': {}}"
      ]
     },
     "execution_count": 11,
     "metadata": {},
     "output_type": "execute_result"
    }
   ],
   "source": [
    "h._state_dict"
   ]
  },
  {
   "cell_type": "code",
   "execution_count": 12,
   "metadata": {
    "ExecuteTime": {
     "end_time": "2024-01-12T18:49:51.405750Z",
     "start_time": "2024-01-12T18:49:51.381033Z"
    },
    "execution": {
     "iopub.execute_input": "2024-02-21T19:44:06.511047Z",
     "iopub.status.busy": "2024-02-21T19:44:06.509270Z",
     "iopub.status.idle": "2024-02-21T19:44:06.528084Z",
     "shell.execute_reply": "2024-02-21T19:44:06.527361Z",
     "shell.execute_reply.started": "2024-02-21T19:44:06.510966Z"
    },
    "hidden": true
   },
   "outputs": [
    {
     "data": {
      "text/html": [
       "<div>\n",
       "<style scoped>\n",
       "    .dataframe tbody tr th:only-of-type {\n",
       "        vertical-align: middle;\n",
       "    }\n",
       "\n",
       "    .dataframe tbody tr th {\n",
       "        vertical-align: top;\n",
       "    }\n",
       "\n",
       "    .dataframe thead th {\n",
       "        text-align: right;\n",
       "    }\n",
       "</style>\n",
       "<table border=\"1\" class=\"dataframe\">\n",
       "  <thead>\n",
       "    <tr style=\"text-align: right;\">\n",
       "      <th></th>\n",
       "      <th>edges</th>\n",
       "      <th>nodes</th>\n",
       "      <th>cell_weights</th>\n",
       "    </tr>\n",
       "  </thead>\n",
       "  <tbody>\n",
       "  </tbody>\n",
       "</table>\n",
       "</div>"
      ],
      "text/plain": [
       "Empty DataFrame\n",
       "Columns: [edges, nodes, cell_weights]\n",
       "Index: []"
      ]
     },
     "execution_count": 12,
     "metadata": {},
     "output_type": "execute_result"
    }
   ],
   "source": [
    "h.E._dataframe"
   ]
  },
  {
   "cell_type": "code",
   "execution_count": 13,
   "metadata": {
    "ExecuteTime": {
     "end_time": "2024-01-12T18:49:51.410383Z",
     "start_time": "2024-01-12T18:49:51.406924Z"
    },
    "execution": {
     "iopub.execute_input": "2024-02-21T19:44:07.149037Z",
     "iopub.status.busy": "2024-02-21T19:44:07.148074Z",
     "iopub.status.idle": "2024-02-21T19:44:07.167516Z",
     "shell.execute_reply": "2024-02-21T19:44:07.166517Z",
     "shell.execute_reply.started": "2024-02-21T19:44:07.148985Z"
    },
    "hidden": true
   },
   "outputs": [
    {
     "data": {
      "text/html": [
       "<div>\n",
       "<style scoped>\n",
       "    .dataframe tbody tr th:only-of-type {\n",
       "        vertical-align: middle;\n",
       "    }\n",
       "\n",
       "    .dataframe tbody tr th {\n",
       "        vertical-align: top;\n",
       "    }\n",
       "\n",
       "    .dataframe thead th {\n",
       "        text-align: right;\n",
       "    }\n",
       "</style>\n",
       "<table border=\"1\" class=\"dataframe\">\n",
       "  <thead>\n",
       "    <tr style=\"text-align: right;\">\n",
       "      <th></th>\n",
       "      <th></th>\n",
       "      <th>uid</th>\n",
       "      <th>weight</th>\n",
       "      <th>properties</th>\n",
       "    </tr>\n",
       "    <tr>\n",
       "      <th>level</th>\n",
       "      <th>id</th>\n",
       "      <th></th>\n",
       "      <th></th>\n",
       "      <th></th>\n",
       "    </tr>\n",
       "  </thead>\n",
       "  <tbody>\n",
       "  </tbody>\n",
       "</table>\n",
       "</div>"
      ],
      "text/plain": [
       "Empty DataFrame\n",
       "Columns: [uid, weight, properties]\n",
       "Index: []"
      ]
     },
     "execution_count": 13,
     "metadata": {},
     "output_type": "execute_result"
    }
   ],
   "source": [
    "h.nodes.properties"
   ]
  },
  {
   "cell_type": "code",
   "execution_count": 14,
   "metadata": {
    "ExecuteTime": {
     "end_time": "2024-01-12T18:49:51.417037Z",
     "start_time": "2024-01-12T18:49:51.414298Z"
    },
    "execution": {
     "iopub.execute_input": "2024-02-21T19:44:07.723766Z",
     "iopub.status.busy": "2024-02-21T19:44:07.721362Z",
     "iopub.status.idle": "2024-02-21T19:44:07.735270Z",
     "shell.execute_reply": "2024-02-21T19:44:07.732937Z",
     "shell.execute_reply.started": "2024-02-21T19:44:07.723683Z"
    },
    "hidden": true
   },
   "outputs": [
    {
     "name": "stderr",
     "output_type": "stream",
     "text": [
      "/var/folders/93/nv43byrs4jv_qsn68r4fdjmr0000gn/T/ipykernel_40706/2351284712.py:1: FutureWarning: This method or function will be deprecated in a future release. Public references to this method or function will be removed from the Hypergraph API in a future release.\n",
      "  E = h.E.restrict_to_levels(1)\n"
     ]
    }
   ],
   "source": [
    "E = h.E.restrict_to_levels(1)"
   ]
  },
  {
   "cell_type": "code",
   "execution_count": 15,
   "metadata": {
    "ExecuteTime": {
     "end_time": "2024-01-12T18:49:51.421759Z",
     "start_time": "2024-01-12T18:49:51.418484Z"
    },
    "execution": {
     "iopub.execute_input": "2024-02-21T19:44:08.791547Z",
     "iopub.status.busy": "2024-02-21T19:44:08.790361Z",
     "iopub.status.idle": "2024-02-21T19:44:08.805323Z",
     "shell.execute_reply": "2024-02-21T19:44:08.804135Z",
     "shell.execute_reply.started": "2024-02-21T19:44:08.791473Z"
    },
    "hidden": true
   },
   "outputs": [
    {
     "data": {
      "text/html": [
       "<div>\n",
       "<style scoped>\n",
       "    .dataframe tbody tr th:only-of-type {\n",
       "        vertical-align: middle;\n",
       "    }\n",
       "\n",
       "    .dataframe tbody tr th {\n",
       "        vertical-align: top;\n",
       "    }\n",
       "\n",
       "    .dataframe thead th {\n",
       "        text-align: right;\n",
       "    }\n",
       "</style>\n",
       "<table border=\"1\" class=\"dataframe\">\n",
       "  <thead>\n",
       "    <tr style=\"text-align: right;\">\n",
       "      <th></th>\n",
       "      <th>edges</th>\n",
       "      <th>nodes</th>\n",
       "      <th>cell_weights</th>\n",
       "    </tr>\n",
       "  </thead>\n",
       "  <tbody>\n",
       "  </tbody>\n",
       "</table>\n",
       "</div>"
      ],
      "text/plain": [
       "Empty DataFrame\n",
       "Columns: [edges, nodes, cell_weights]\n",
       "Index: []"
      ]
     },
     "execution_count": 15,
     "metadata": {},
     "output_type": "execute_result"
    }
   ],
   "source": [
    "E.dataframe"
   ]
  },
  {
   "cell_type": "markdown",
   "metadata": {
    "heading_collapsed": true
   },
   "source": [
    "## Dataframes"
   ]
  },
  {
   "cell_type": "markdown",
   "metadata": {
    "hidden": true
   },
   "source": [
    "### Dogs and Cats"
   ]
  },
  {
   "cell_type": "code",
   "execution_count": 16,
   "metadata": {
    "ExecuteTime": {
     "end_time": "2024-01-12T18:49:51.561639Z",
     "start_time": "2024-01-12T18:49:51.524442Z"
    },
    "execution": {
     "iopub.execute_input": "2024-02-21T19:44:10.732044Z",
     "iopub.status.busy": "2024-02-21T19:44:10.730718Z",
     "iopub.status.idle": "2024-02-21T19:44:10.763586Z",
     "shell.execute_reply": "2024-02-21T19:44:10.762905Z",
     "shell.execute_reply.started": "2024-02-21T19:44:10.731969Z"
    },
    "hidden": true
   },
   "outputs": [
    {
     "data": {
      "text/html": [
       "<div>\n",
       "<style scoped>\n",
       "    .dataframe tbody tr th:only-of-type {\n",
       "        vertical-align: middle;\n",
       "    }\n",
       "\n",
       "    .dataframe tbody tr th {\n",
       "        vertical-align: top;\n",
       "    }\n",
       "\n",
       "    .dataframe thead th {\n",
       "        text-align: right;\n",
       "    }\n",
       "</style>\n",
       "<table border=\"1\" class=\"dataframe\">\n",
       "  <thead>\n",
       "    <tr style=\"text-align: right;\">\n",
       "      <th></th>\n",
       "      <th>breed</th>\n",
       "      <th>weight</th>\n",
       "      <th>misc_properties</th>\n",
       "    </tr>\n",
       "    <tr>\n",
       "      <th>uid</th>\n",
       "      <th></th>\n",
       "      <th></th>\n",
       "      <th></th>\n",
       "    </tr>\n",
       "  </thead>\n",
       "  <tbody>\n",
       "    <tr>\n",
       "      <th>Togo</th>\n",
       "      <td>husky</td>\n",
       "      <td>90</td>\n",
       "      <td>{\"weight\":92,\"color\":\"white\"}</td>\n",
       "    </tr>\n",
       "    <tr>\n",
       "      <th>Balto</th>\n",
       "      <td>husky</td>\n",
       "      <td>70</td>\n",
       "      <td>NaN</td>\n",
       "    </tr>\n",
       "    <tr>\n",
       "      <th>Willow</th>\n",
       "      <td>sibercaan</td>\n",
       "      <td>90</td>\n",
       "      <td>{\"died\":2020}</td>\n",
       "    </tr>\n",
       "    <tr>\n",
       "      <th>Tux</th>\n",
       "      <td>ausie</td>\n",
       "      <td>50</td>\n",
       "      <td>{\"died\":2006}</td>\n",
       "    </tr>\n",
       "    <tr>\n",
       "      <th>Buddy</th>\n",
       "      <td>lab</td>\n",
       "      <td>80</td>\n",
       "      <td>{\"died\":2001}</td>\n",
       "    </tr>\n",
       "    <tr>\n",
       "      <th>Bandit</th>\n",
       "      <td>golden</td>\n",
       "      <td>80</td>\n",
       "      <td>{\"died\":2003}</td>\n",
       "    </tr>\n",
       "  </tbody>\n",
       "</table>\n",
       "</div>"
      ],
      "text/plain": [
       "            breed  weight                misc_properties\n",
       "uid                                                     \n",
       "Togo        husky      90  {\"weight\":92,\"color\":\"white\"}\n",
       "Balto       husky      70                            NaN\n",
       "Willow  sibercaan      90                  {\"died\":2020}\n",
       "Tux         ausie      50                  {\"died\":2006}\n",
       "Buddy         lab      80                  {\"died\":2001}\n",
       "Bandit     golden      80                  {\"died\":2003}"
      ]
     },
     "execution_count": 16,
     "metadata": {},
     "output_type": "execute_result"
    }
   ],
   "source": [
    "dogs =  pd.read_excel('dogsAndcats.xls',sheet_name='dogs').set_index('uid')\n",
    "cats = pd.read_excel('dogsAndcats.xls',sheet_name='cats')\n",
    "pairs = pd.read_excel('dogsAndcats.xls',sheet_name='pairs')\n",
    "\n",
    "\n",
    "dogs"
   ]
  },
  {
   "cell_type": "code",
   "execution_count": 17,
   "metadata": {
    "ExecuteTime": {
     "end_time": "2024-01-12T18:49:51.576235Z",
     "start_time": "2024-01-12T18:49:51.563050Z"
    },
    "execution": {
     "iopub.execute_input": "2024-02-21T19:44:11.361281Z",
     "iopub.status.busy": "2024-02-21T19:44:11.359740Z",
     "iopub.status.idle": "2024-02-21T19:44:11.386887Z",
     "shell.execute_reply": "2024-02-21T19:44:11.386342Z",
     "shell.execute_reply.started": "2024-02-21T19:44:11.361204Z"
    },
    "hidden": true
   },
   "outputs": [
    {
     "data": {
      "text/html": [
       "<div>\n",
       "<style scoped>\n",
       "    .dataframe tbody tr th:only-of-type {\n",
       "        vertical-align: middle;\n",
       "    }\n",
       "\n",
       "    .dataframe tbody tr th {\n",
       "        vertical-align: top;\n",
       "    }\n",
       "\n",
       "    .dataframe thead th {\n",
       "        text-align: right;\n",
       "    }\n",
       "</style>\n",
       "<table border=\"1\" class=\"dataframe\">\n",
       "  <thead>\n",
       "    <tr style=\"text-align: right;\">\n",
       "      <th></th>\n",
       "      <th>uid</th>\n",
       "      <th>weight</th>\n",
       "      <th>properties</th>\n",
       "    </tr>\n",
       "  </thead>\n",
       "  <tbody>\n",
       "    <tr>\n",
       "      <th>0</th>\n",
       "      <td>Amber</td>\n",
       "      <td>20</td>\n",
       "      <td>{}</td>\n",
       "    </tr>\n",
       "    <tr>\n",
       "      <th>1</th>\n",
       "      <td>Bill</td>\n",
       "      <td>20</td>\n",
       "      <td>{}</td>\n",
       "    </tr>\n",
       "    <tr>\n",
       "      <th>2</th>\n",
       "      <td>Cozy</td>\n",
       "      <td>20</td>\n",
       "      <td>{}</td>\n",
       "    </tr>\n",
       "    <tr>\n",
       "      <th>3</th>\n",
       "      <td>Daisy</td>\n",
       "      <td>20</td>\n",
       "      <td>{}</td>\n",
       "    </tr>\n",
       "  </tbody>\n",
       "</table>\n",
       "</div>"
      ],
      "text/plain": [
       "     uid  weight properties\n",
       "0  Amber      20         {}\n",
       "1   Bill      20         {}\n",
       "2   Cozy      20         {}\n",
       "3  Daisy      20         {}"
      ]
     },
     "execution_count": 17,
     "metadata": {},
     "output_type": "execute_result"
    }
   ],
   "source": [
    "cats = pd.read_csv('cats_alt.csv').set_index('id').to_dict()\n",
    "cats = list(cats.values())[0]\n",
    "dfp = props2dfp(cats,'weight',20)\n",
    "weight_prop = \"weight\"\n",
    "default_weight = 20\n",
    "misc_properties_col = None\n",
    "# dfp = props2dfp(cats,\"weight\",\n",
    "#                 20,\n",
    "#                 )\n",
    "props = dfp.properties\n",
    "# def mkdict(x):\n",
    "#     try:\n",
    "#         temp = ast.literal_eval(x)\n",
    "#         if not isinstance(temp,dict):\n",
    "#             temp = {}\n",
    "#     except:\n",
    "#         temp = {}\n",
    "#     return temp\n",
    "\n",
    "dfp.properties = dfp.properties.map(mkdict)\n",
    "\n",
    "for idx,row in enumerate(dfp.itertuples()):\n",
    "    wt = row.properties.get(weight_prop,None)\n",
    "\n",
    "    if wt is not None:\n",
    "        dfp.weight.iloc[idx] = wt\n",
    "        del dfp.properties.iloc[idx][weight_prop]\n",
    "dfp\n",
    "        \n",
    "# for idx in props.index :\n",
    "#     if not isinstance(props.loc[idx],dict):\n",
    "#         try:\n",
    "#             temp = ast.literal_eval(props.iloc[idx])\n",
    "\n",
    "#             print(18,temp)\n",
    "#         except:\n",
    "#             temp = {}\n",
    "#             print(21,temp)\n",
    "#     wt = temp.get(weight_prop,None)\n",
    "#     if wt is not None:\n",
    "#         dfp.iloc[idx].weight = wt\n",
    "#         print(25,dfp)\n",
    "# #         del temp[weight_prop]\n",
    "#         print(27,temp)\n",
    "#     dfp.properties.iloc[idx] = temp\n",
    "#     print(29,dfp)\n",
    "\n",
    "# wt = ast.literal_eval(dfp.properties.loc[1]).get('weight',None)\n",
    "# wt"
   ]
  },
  {
   "cell_type": "code",
   "execution_count": 18,
   "metadata": {
    "ExecuteTime": {
     "end_time": "2024-01-12T18:49:51.601789Z",
     "start_time": "2024-01-12T18:49:51.583704Z"
    },
    "execution": {
     "iopub.execute_input": "2024-02-21T19:44:12.120992Z",
     "iopub.status.busy": "2024-02-21T19:44:12.120245Z",
     "iopub.status.idle": "2024-02-21T19:44:12.145853Z",
     "shell.execute_reply": "2024-02-21T19:44:12.145263Z",
     "shell.execute_reply.started": "2024-02-21T19:44:12.120952Z"
    },
    "hidden": true
   },
   "outputs": [
    {
     "data": {
      "text/html": [
       "<div>\n",
       "<style scoped>\n",
       "    .dataframe tbody tr th:only-of-type {\n",
       "        vertical-align: middle;\n",
       "    }\n",
       "\n",
       "    .dataframe tbody tr th {\n",
       "        vertical-align: top;\n",
       "    }\n",
       "\n",
       "    .dataframe thead th {\n",
       "        text-align: right;\n",
       "    }\n",
       "</style>\n",
       "<table border=\"1\" class=\"dataframe\">\n",
       "  <thead>\n",
       "    <tr style=\"text-align: right;\">\n",
       "      <th></th>\n",
       "      <th>uid</th>\n",
       "      <th>weight</th>\n",
       "      <th>breed</th>\n",
       "      <th>properties</th>\n",
       "    </tr>\n",
       "  </thead>\n",
       "  <tbody>\n",
       "    <tr>\n",
       "      <th>0</th>\n",
       "      <td>Togo</td>\n",
       "      <td>92</td>\n",
       "      <td>husky</td>\n",
       "      <td>{'color': 'white'}</td>\n",
       "    </tr>\n",
       "    <tr>\n",
       "      <th>1</th>\n",
       "      <td>Balto</td>\n",
       "      <td>70</td>\n",
       "      <td>husky</td>\n",
       "      <td>{}</td>\n",
       "    </tr>\n",
       "    <tr>\n",
       "      <th>2</th>\n",
       "      <td>Willow</td>\n",
       "      <td>90</td>\n",
       "      <td>sibercaan</td>\n",
       "      <td>{'died': 2020}</td>\n",
       "    </tr>\n",
       "    <tr>\n",
       "      <th>3</th>\n",
       "      <td>Tux</td>\n",
       "      <td>50</td>\n",
       "      <td>ausie</td>\n",
       "      <td>{'died': 2006}</td>\n",
       "    </tr>\n",
       "    <tr>\n",
       "      <th>4</th>\n",
       "      <td>Buddy</td>\n",
       "      <td>80</td>\n",
       "      <td>lab</td>\n",
       "      <td>{'died': 2001}</td>\n",
       "    </tr>\n",
       "    <tr>\n",
       "      <th>5</th>\n",
       "      <td>Bandit</td>\n",
       "      <td>80</td>\n",
       "      <td>golden</td>\n",
       "      <td>{'died': 2003}</td>\n",
       "    </tr>\n",
       "  </tbody>\n",
       "</table>\n",
       "</div>"
      ],
      "text/plain": [
       "      uid  weight      breed          properties\n",
       "0    Togo      92      husky  {'color': 'white'}\n",
       "1   Balto      70      husky                  {}\n",
       "2  Willow      90  sibercaan      {'died': 2020}\n",
       "3     Tux      50      ausie      {'died': 2006}\n",
       "4   Buddy      80        lab      {'died': 2001}\n",
       "5  Bandit      80     golden      {'died': 2003}"
      ]
     },
     "execution_count": 18,
     "metadata": {},
     "output_type": "execute_result"
    }
   ],
   "source": [
    "dogs =  pd.read_excel('dogsAndcats.xls',sheet_name='dogs')\n",
    "# print(dogs)\n",
    "# print(type(dogs.misc_properties.loc[0]))\n",
    "props2dfp(dogs,\"weight\",\n",
    "                100,\n",
    "                \"misc_properties\")"
   ]
  },
  {
   "cell_type": "code",
   "execution_count": 20,
   "metadata": {
    "execution": {
     "iopub.execute_input": "2024-02-21T19:44:25.125186Z",
     "iopub.status.busy": "2024-02-21T19:44:25.123195Z",
     "iopub.status.idle": "2024-02-21T19:44:25.139822Z",
     "shell.execute_reply": "2024-02-21T19:44:25.138965Z",
     "shell.execute_reply.started": "2024-02-21T19:44:25.125084Z"
    }
   },
   "outputs": [
    {
     "data": {
      "text/plain": [
       "0      Togo\n",
       "1     Balto\n",
       "2    Willow\n",
       "3       Tux\n",
       "4     Buddy\n",
       "5    Bandit\n",
       "Name: uid, dtype: category\n",
       "Categories (6, object): ['Balto', 'Bandit', 'Buddy', 'Togo', 'Tux', 'Willow']"
      ]
     },
     "execution_count": 20,
     "metadata": {},
     "output_type": "execute_result"
    }
   ],
   "source": [
    "dogs.uid = dogs.uid.astype('category')\n",
    "dogs.uid"
   ]
  },
  {
   "cell_type": "code",
   "execution_count": null,
   "metadata": {},
   "outputs": [],
   "source": []
  },
  {
   "cell_type": "code",
   "execution_count": 9,
   "metadata": {
    "ExecuteTime": {
     "end_time": "2024-01-12T18:49:51.608432Z",
     "start_time": "2024-01-12T18:49:51.602980Z"
    },
    "execution": {
     "iopub.execute_input": "2024-02-21T17:38:07.389571Z",
     "iopub.status.busy": "2024-02-21T17:38:07.388185Z",
     "iopub.status.idle": "2024-02-21T17:38:07.406855Z",
     "shell.execute_reply": "2024-02-21T17:38:07.405647Z",
     "shell.execute_reply.started": "2024-02-21T17:38:07.389492Z"
    },
    "hidden": true
   },
   "outputs": [
    {
     "data": {
      "text/html": [
       "<div>\n",
       "<style scoped>\n",
       "    .dataframe tbody tr th:only-of-type {\n",
       "        vertical-align: middle;\n",
       "    }\n",
       "\n",
       "    .dataframe tbody tr th {\n",
       "        vertical-align: top;\n",
       "    }\n",
       "\n",
       "    .dataframe thead th {\n",
       "        text-align: right;\n",
       "    }\n",
       "</style>\n",
       "<table border=\"1\" class=\"dataframe\">\n",
       "  <thead>\n",
       "    <tr style=\"text-align: right;\">\n",
       "      <th></th>\n",
       "      <th>id</th>\n",
       "      <th>breed</th>\n",
       "      <th>weight</th>\n",
       "      <th>misc_properties</th>\n",
       "    </tr>\n",
       "  </thead>\n",
       "  <tbody>\n",
       "    <tr>\n",
       "      <th>0</th>\n",
       "      <td>Togo</td>\n",
       "      <td>husky</td>\n",
       "      <td>90</td>\n",
       "      <td>{\"weight\":92,\"color\":\"white\"}</td>\n",
       "    </tr>\n",
       "    <tr>\n",
       "      <th>1</th>\n",
       "      <td>Balto</td>\n",
       "      <td>husky</td>\n",
       "      <td>70</td>\n",
       "      <td>NaN</td>\n",
       "    </tr>\n",
       "    <tr>\n",
       "      <th>2</th>\n",
       "      <td>Willow</td>\n",
       "      <td>sibercaan</td>\n",
       "      <td>90</td>\n",
       "      <td>{\"died\":2020}</td>\n",
       "    </tr>\n",
       "    <tr>\n",
       "      <th>3</th>\n",
       "      <td>Tux</td>\n",
       "      <td>ausie</td>\n",
       "      <td>50</td>\n",
       "      <td>{\"died\":2006}</td>\n",
       "    </tr>\n",
       "    <tr>\n",
       "      <th>4</th>\n",
       "      <td>Buddy</td>\n",
       "      <td>lab</td>\n",
       "      <td>80</td>\n",
       "      <td>{\"died\":2001}</td>\n",
       "    </tr>\n",
       "    <tr>\n",
       "      <th>5</th>\n",
       "      <td>Bandit</td>\n",
       "      <td>golden</td>\n",
       "      <td>80</td>\n",
       "      <td>{\"died\":2003}</td>\n",
       "    </tr>\n",
       "  </tbody>\n",
       "</table>\n",
       "</div>"
      ],
      "text/plain": [
       "       id      breed  weight                misc_properties\n",
       "0    Togo      husky      90  {\"weight\":92,\"color\":\"white\"}\n",
       "1   Balto      husky      70                            NaN\n",
       "2  Willow  sibercaan      90                  {\"died\":2020}\n",
       "3     Tux      ausie      50                  {\"died\":2006}\n",
       "4   Buddy        lab      80                  {\"died\":2001}\n",
       "5  Bandit     golden      80                  {\"died\":2003}"
      ]
     },
     "execution_count": 9,
     "metadata": {},
     "output_type": "execute_result"
    }
   ],
   "source": [
    "dogs"
   ]
  },
  {
   "cell_type": "code",
   "execution_count": 27,
   "metadata": {
    "ExecuteTime": {
     "end_time": "2024-01-12T18:49:51.621972Z",
     "start_time": "2024-01-12T18:49:51.609855Z"
    },
    "execution": {
     "iopub.execute_input": "2024-02-21T17:47:57.382968Z",
     "iopub.status.busy": "2024-02-21T17:47:57.381444Z",
     "iopub.status.idle": "2024-02-21T17:47:57.409746Z",
     "shell.execute_reply": "2024-02-21T17:47:57.409181Z",
     "shell.execute_reply.started": "2024-02-21T17:47:57.382801Z"
    },
    "hidden": true,
    "scrolled": true
   },
   "outputs": [
    {
     "name": "stdout",
     "output_type": "stream",
     "text": [
      "{'Amber': \"{'breed':'Persian'}\", 'Bill': \"{'weight':10,'name':'Tiger'}\", 'Cozy': \"{'weight':35}\", 'Daisy': \"{'breed':'Siamese'}\", 'Fred': '{}', 'George': '{}', 'Henry': '{}'}\n",
      "<class 'str'>\n"
     ]
    },
    {
     "data": {
      "text/html": [
       "<div>\n",
       "<style scoped>\n",
       "    .dataframe tbody tr th:only-of-type {\n",
       "        vertical-align: middle;\n",
       "    }\n",
       "\n",
       "    .dataframe tbody tr th {\n",
       "        vertical-align: top;\n",
       "    }\n",
       "\n",
       "    .dataframe thead th {\n",
       "        text-align: right;\n",
       "    }\n",
       "</style>\n",
       "<table border=\"1\" class=\"dataframe\">\n",
       "  <thead>\n",
       "    <tr style=\"text-align: right;\">\n",
       "      <th></th>\n",
       "      <th>id</th>\n",
       "      <th>weight</th>\n",
       "      <th>properties</th>\n",
       "    </tr>\n",
       "  </thead>\n",
       "  <tbody>\n",
       "    <tr>\n",
       "      <th>0</th>\n",
       "      <td>Amber</td>\n",
       "      <td>25</td>\n",
       "      <td>{}</td>\n",
       "    </tr>\n",
       "    <tr>\n",
       "      <th>1</th>\n",
       "      <td>Bill</td>\n",
       "      <td>25</td>\n",
       "      <td>{}</td>\n",
       "    </tr>\n",
       "    <tr>\n",
       "      <th>2</th>\n",
       "      <td>Cozy</td>\n",
       "      <td>25</td>\n",
       "      <td>{}</td>\n",
       "    </tr>\n",
       "    <tr>\n",
       "      <th>3</th>\n",
       "      <td>Daisy</td>\n",
       "      <td>25</td>\n",
       "      <td>{}</td>\n",
       "    </tr>\n",
       "    <tr>\n",
       "      <th>4</th>\n",
       "      <td>Fred</td>\n",
       "      <td>25</td>\n",
       "      <td>{}</td>\n",
       "    </tr>\n",
       "    <tr>\n",
       "      <th>5</th>\n",
       "      <td>George</td>\n",
       "      <td>25</td>\n",
       "      <td>{}</td>\n",
       "    </tr>\n",
       "    <tr>\n",
       "      <th>6</th>\n",
       "      <td>Henry</td>\n",
       "      <td>25</td>\n",
       "      <td>{}</td>\n",
       "    </tr>\n",
       "  </tbody>\n",
       "</table>\n",
       "</div>"
      ],
      "text/plain": [
       "       id  weight properties\n",
       "0   Amber      25         {}\n",
       "1    Bill      25         {}\n",
       "2    Cozy      25         {}\n",
       "3   Daisy      25         {}\n",
       "4    Fred      25         {}\n",
       "5  George      25         {}\n",
       "6   Henry      25         {}"
      ]
     },
     "execution_count": 27,
     "metadata": {},
     "output_type": "execute_result"
    }
   ],
   "source": [
    "cats =  pd.read_excel('dogsAndcats.xls',sheet_name='cats').set_index('uid').to_dict()\n",
    "cats = list(cats.values())[0]\n",
    "print(cats)\n",
    "print(type(cats[\"Amber\"]))\n",
    "cats = props2dfp(cats,\"weight\",25)\n",
    "cats"
   ]
  },
  {
   "cell_type": "code",
   "execution_count": 11,
   "metadata": {
    "ExecuteTime": {
     "end_time": "2024-01-12T18:49:51.630843Z",
     "start_time": "2024-01-12T18:49:51.622921Z"
    },
    "execution": {
     "iopub.execute_input": "2024-02-21T17:38:08.519836Z",
     "iopub.status.busy": "2024-02-21T17:38:08.518637Z",
     "iopub.status.idle": "2024-02-21T17:38:08.540059Z",
     "shell.execute_reply": "2024-02-21T17:38:08.539201Z",
     "shell.execute_reply.started": "2024-02-21T17:38:08.519788Z"
    },
    "hidden": true
   },
   "outputs": [
    {
     "data": {
      "text/html": [
       "<div>\n",
       "<style scoped>\n",
       "    .dataframe tbody tr th:only-of-type {\n",
       "        vertical-align: middle;\n",
       "    }\n",
       "\n",
       "    .dataframe tbody tr th {\n",
       "        vertical-align: top;\n",
       "    }\n",
       "\n",
       "    .dataframe thead th {\n",
       "        text-align: right;\n",
       "    }\n",
       "</style>\n",
       "<table border=\"1\" class=\"dataframe\">\n",
       "  <thead>\n",
       "    <tr style=\"text-align: right;\">\n",
       "      <th></th>\n",
       "      <th>id</th>\n",
       "      <th>weight</th>\n",
       "      <th>properties</th>\n",
       "    </tr>\n",
       "  </thead>\n",
       "  <tbody>\n",
       "    <tr>\n",
       "      <th>0</th>\n",
       "      <td>Amber</td>\n",
       "      <td>25</td>\n",
       "      <td>{}</td>\n",
       "    </tr>\n",
       "    <tr>\n",
       "      <th>1</th>\n",
       "      <td>Bill</td>\n",
       "      <td>25</td>\n",
       "      <td>{}</td>\n",
       "    </tr>\n",
       "    <tr>\n",
       "      <th>2</th>\n",
       "      <td>Cozy</td>\n",
       "      <td>25</td>\n",
       "      <td>{}</td>\n",
       "    </tr>\n",
       "    <tr>\n",
       "      <th>3</th>\n",
       "      <td>Daisy</td>\n",
       "      <td>25</td>\n",
       "      <td>{}</td>\n",
       "    </tr>\n",
       "    <tr>\n",
       "      <th>4</th>\n",
       "      <td>Fred</td>\n",
       "      <td>25</td>\n",
       "      <td>{}</td>\n",
       "    </tr>\n",
       "    <tr>\n",
       "      <th>5</th>\n",
       "      <td>George</td>\n",
       "      <td>25</td>\n",
       "      <td>{}</td>\n",
       "    </tr>\n",
       "    <tr>\n",
       "      <th>6</th>\n",
       "      <td>Henry</td>\n",
       "      <td>25</td>\n",
       "      <td>{}</td>\n",
       "    </tr>\n",
       "  </tbody>\n",
       "</table>\n",
       "</div>"
      ],
      "text/plain": [
       "       id  weight properties\n",
       "0   Amber      25         {}\n",
       "1    Bill      25         {}\n",
       "2    Cozy      25         {}\n",
       "3   Daisy      25         {}\n",
       "4    Fred      25         {}\n",
       "5  George      25         {}\n",
       "6   Henry      25         {}"
      ]
     },
     "execution_count": 11,
     "metadata": {},
     "output_type": "execute_result"
    }
   ],
   "source": [
    "cats"
   ]
  },
  {
   "cell_type": "code",
   "execution_count": 12,
   "metadata": {
    "ExecuteTime": {
     "end_time": "2024-01-12T18:49:51.640451Z",
     "start_time": "2024-01-12T18:49:51.632208Z"
    },
    "execution": {
     "iopub.execute_input": "2024-02-21T17:38:09.021836Z",
     "iopub.status.busy": "2024-02-21T17:38:09.020882Z",
     "iopub.status.idle": "2024-02-21T17:38:09.043616Z",
     "shell.execute_reply": "2024-02-21T17:38:09.043057Z",
     "shell.execute_reply.started": "2024-02-21T17:38:09.021766Z"
    },
    "hidden": true
   },
   "outputs": [
    {
     "data": {
      "text/html": [
       "<div>\n",
       "<style scoped>\n",
       "    .dataframe tbody tr th:only-of-type {\n",
       "        vertical-align: middle;\n",
       "    }\n",
       "\n",
       "    .dataframe tbody tr th {\n",
       "        vertical-align: top;\n",
       "    }\n",
       "\n",
       "    .dataframe thead th {\n",
       "        text-align: right;\n",
       "    }\n",
       "</style>\n",
       "<table border=\"1\" class=\"dataframe\">\n",
       "  <thead>\n",
       "    <tr style=\"text-align: right;\">\n",
       "      <th></th>\n",
       "      <th>id</th>\n",
       "      <th>weight</th>\n",
       "      <th>properties</th>\n",
       "    </tr>\n",
       "  </thead>\n",
       "  <tbody>\n",
       "    <tr>\n",
       "      <th>0</th>\n",
       "      <td>id</td>\n",
       "      <td>45</td>\n",
       "      <td>{}</td>\n",
       "    </tr>\n",
       "    <tr>\n",
       "      <th>1</th>\n",
       "      <td>weight</td>\n",
       "      <td>45</td>\n",
       "      <td>{}</td>\n",
       "    </tr>\n",
       "    <tr>\n",
       "      <th>2</th>\n",
       "      <td>properties</td>\n",
       "      <td>45</td>\n",
       "      <td>{}</td>\n",
       "    </tr>\n",
       "  </tbody>\n",
       "</table>\n",
       "</div>"
      ],
      "text/plain": [
       "           id  weight properties\n",
       "0          id      45         {}\n",
       "1      weight      45         {}\n",
       "2  properties      45         {}"
      ]
     },
     "execution_count": 12,
     "metadata": {},
     "output_type": "execute_result"
    }
   ],
   "source": [
    "jsoncats = {k:json.dumps(mkdict(v)) for k,v in cats.items()}\n",
    "\n",
    "props2dfp(jsoncats,'weight',45)"
   ]
  },
  {
   "cell_type": "code",
   "execution_count": 13,
   "metadata": {
    "execution": {
     "iopub.execute_input": "2024-02-21T17:38:09.492832Z",
     "iopub.status.busy": "2024-02-21T17:38:09.492228Z",
     "iopub.status.idle": "2024-02-21T17:38:09.823162Z",
     "shell.execute_reply": "2024-02-21T17:38:09.822570Z",
     "shell.execute_reply.started": "2024-02-21T17:38:09.492795Z"
    }
   },
   "outputs": [
    {
     "ename": "NameError",
     "evalue": "name 'dogs_cats' is not defined",
     "output_type": "error",
     "traceback": [
      "\u001b[0;31m---------------------------------------------------------------------------\u001b[0m",
      "\u001b[0;31mNameError\u001b[0m                                 Traceback (most recent call last)",
      "Cell \u001b[0;32mIn[13], line 1\u001b[0m\n\u001b[0;32m----> 1\u001b[0m \u001b[43mdogs_cats\u001b[49m\n",
      "\u001b[0;31mNameError\u001b[0m: name 'dogs_cats' is not defined"
     ]
    }
   ],
   "source": [
    "dogs_cats"
   ]
  },
  {
   "cell_type": "code",
   "execution_count": 14,
   "metadata": {
    "execution": {
     "iopub.execute_input": "2024-02-21T17:38:09.938108Z",
     "iopub.status.busy": "2024-02-21T17:38:09.937579Z",
     "iopub.status.idle": "2024-02-21T17:38:09.949325Z",
     "shell.execute_reply": "2024-02-21T17:38:09.948429Z",
     "shell.execute_reply.started": "2024-02-21T17:38:09.938061Z"
    },
    "scrolled": true
   },
   "outputs": [
    {
     "data": {
      "text/html": [
       "<div>\n",
       "<style scoped>\n",
       "    .dataframe tbody tr th:only-of-type {\n",
       "        vertical-align: middle;\n",
       "    }\n",
       "\n",
       "    .dataframe tbody tr th {\n",
       "        vertical-align: top;\n",
       "    }\n",
       "\n",
       "    .dataframe thead th {\n",
       "        text-align: right;\n",
       "    }\n",
       "</style>\n",
       "<table border=\"1\" class=\"dataframe\">\n",
       "  <thead>\n",
       "    <tr style=\"text-align: right;\">\n",
       "      <th></th>\n",
       "      <th>id</th>\n",
       "      <th>weight</th>\n",
       "      <th>properties</th>\n",
       "    </tr>\n",
       "  </thead>\n",
       "  <tbody>\n",
       "    <tr>\n",
       "      <th>0</th>\n",
       "      <td>Amber</td>\n",
       "      <td>25</td>\n",
       "      <td>{}</td>\n",
       "    </tr>\n",
       "    <tr>\n",
       "      <th>1</th>\n",
       "      <td>Bill</td>\n",
       "      <td>25</td>\n",
       "      <td>{}</td>\n",
       "    </tr>\n",
       "    <tr>\n",
       "      <th>2</th>\n",
       "      <td>Cozy</td>\n",
       "      <td>25</td>\n",
       "      <td>{}</td>\n",
       "    </tr>\n",
       "    <tr>\n",
       "      <th>3</th>\n",
       "      <td>Daisy</td>\n",
       "      <td>25</td>\n",
       "      <td>{}</td>\n",
       "    </tr>\n",
       "    <tr>\n",
       "      <th>4</th>\n",
       "      <td>Fred</td>\n",
       "      <td>25</td>\n",
       "      <td>{}</td>\n",
       "    </tr>\n",
       "    <tr>\n",
       "      <th>5</th>\n",
       "      <td>George</td>\n",
       "      <td>25</td>\n",
       "      <td>{}</td>\n",
       "    </tr>\n",
       "    <tr>\n",
       "      <th>6</th>\n",
       "      <td>Henry</td>\n",
       "      <td>25</td>\n",
       "      <td>{}</td>\n",
       "    </tr>\n",
       "  </tbody>\n",
       "</table>\n",
       "</div>"
      ],
      "text/plain": [
       "       id  weight properties\n",
       "0   Amber      25         {}\n",
       "1    Bill      25         {}\n",
       "2    Cozy      25         {}\n",
       "3   Daisy      25         {}\n",
       "4    Fred      25         {}\n",
       "5  George      25         {}\n",
       "6   Henry      25         {}"
      ]
     },
     "execution_count": 14,
     "metadata": {},
     "output_type": "execute_result"
    }
   ],
   "source": [
    "\n",
    "# dogs = dogs.set_index('id')\n",
    "# cats = cats.set_index('id')\n",
    "cats"
   ]
  },
  {
   "cell_type": "code",
   "execution_count": 45,
   "metadata": {
    "execution": {
     "iopub.execute_input": "2024-02-21T19:53:30.504429Z",
     "iopub.status.busy": "2024-02-21T19:53:30.503299Z",
     "iopub.status.idle": "2024-02-21T19:53:30.528908Z",
     "shell.execute_reply": "2024-02-21T19:53:30.528425Z",
     "shell.execute_reply.started": "2024-02-21T19:53:30.504350Z"
    },
    "scrolled": true
   },
   "outputs": [
    {
     "data": {
      "text/plain": [
       "MultiIndex([(  'Togo',  'Amber'),\n",
       "            (  'Togo', 'George'),\n",
       "            ( 'Balto',   'Bill'),\n",
       "            ( 'Balto',   'Fred'),\n",
       "            (   'Tux',  'Daisy'),\n",
       "            (   'Tux',   'Fred'),\n",
       "            (   'Tux',  'Henry'),\n",
       "            ( 'Buddy',   'Bill'),\n",
       "            ('Bandit',   'Cozy'),\n",
       "            ('Bandit',  'Amber'),\n",
       "            ('Bandit',   'Fred'),\n",
       "            ('Bandit',   'Bill')],\n",
       "           names=['edges', 'nodes'])"
      ]
     },
     "execution_count": 45,
     "metadata": {},
     "output_type": "execute_result"
    }
   ],
   "source": [
    "dogs_cats =  pd.read_excel('dogsAndcats.xls',sheet_name='pairs')\n",
    "dogs_cats.edges = dogs_cats.edges.astype('category')\n",
    "dogs_cats.nodes = dogs_cats.nodes.astype('category')\n",
    "dogs_cats = dogs_cats.set_index(['edges','nodes'])\n",
    "\n",
    "dogs_cats.index"
   ]
  },
  {
   "cell_type": "code",
   "execution_count": 102,
   "metadata": {
    "execution": {
     "iopub.execute_input": "2024-02-14T21:42:22.279134Z",
     "iopub.status.busy": "2024-02-14T21:42:22.278065Z",
     "iopub.status.idle": "2024-02-14T21:42:22.292096Z",
     "shell.execute_reply": "2024-02-14T21:42:22.291152Z",
     "shell.execute_reply.started": "2024-02-14T21:42:22.279069Z"
    }
   },
   "outputs": [
    {
     "data": {
      "text/plain": [
       "(CategoricalIndex(['Togo', 'Balto', 'Willow', 'Tux', 'Buddy', 'Bandit'], categories=['Balto', 'Bandit', 'Buddy', 'Togo', 'Tux', 'Willow'], ordered=False, dtype='category', name='id'),\n",
       " CategoricalIndex(['Amber', 'Bill', 'Cozy', 'Daisy', 'Fred', 'George', 'Henry'], categories=['Amber', 'Bill', 'Cozy', 'Daisy', 'Fred', 'George', 'Henry'], ordered=False, dtype='category', name='id'),\n",
       " MultiIndex([(  'Togo',  'Amber'),\n",
       "             (  'Togo', 'George'),\n",
       "             ( 'Balto',   'Bill'),\n",
       "             ( 'Balto',   'Fred'),\n",
       "             (   'Tux',  'Daisy'),\n",
       "             (   'Tux',   'Fred'),\n",
       "             (   'Tux',  'Henry'),\n",
       "             ( 'Buddy',   'Bill'),\n",
       "             ('Bandit',   'Cozy'),\n",
       "             ('Bandit',  'Amber'),\n",
       "             ('Bandit',   'Fred'),\n",
       "             ('Bandit',   'Bill')],\n",
       "            names=['edge', 'node']))"
      ]
     },
     "execution_count": 102,
     "metadata": {},
     "output_type": "execute_result"
    }
   ],
   "source": [
    "dogs.index,cats.index,dogs_cats.index"
   ]
  }
 ],
 "metadata": {
  "kernelspec": {
   "display_name": "Python 3 (ipykernel)",
   "language": "python",
   "name": "python3"
  },
  "language_info": {
   "codemirror_mode": {
    "name": "ipython",
    "version": 3
   },
   "file_extension": ".py",
   "mimetype": "text/x-python",
   "name": "python",
   "nbconvert_exporter": "python",
   "pygments_lexer": "ipython3",
   "version": "3.8.17"
  },
  "toc": {
   "base_numbering": 1,
   "nav_menu": {},
   "number_sections": true,
   "sideBar": true,
   "skip_h1_title": false,
   "title_cell": "Table of Contents",
   "title_sidebar": "Contents",
   "toc_cell": false,
   "toc_position": {},
   "toc_section_display": true,
   "toc_window_display": false
  }
 },
 "nbformat": 4,
 "nbformat_minor": 4
}
